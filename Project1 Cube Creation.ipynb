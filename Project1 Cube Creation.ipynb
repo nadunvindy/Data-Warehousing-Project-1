{
 "cells": [
  {
   "cell_type": "code",
   "execution_count": 197,
   "id": "e3250406-7dc5-4889-bfec-fd13700da2ff",
   "metadata": {},
   "outputs": [],
   "source": [
    "import atoti as tt"
   ]
  },
  {
   "cell_type": "code",
   "execution_count": 198,
   "id": "5baab508-0f7f-498d-92d6-82f85cfdfb5a",
   "metadata": {},
   "outputs": [
    {
     "name": "stderr",
     "output_type": "stream",
     "text": [
      "Closing existing \"Unnamed\" session to create the new one.\n"
     ]
    }
   ],
   "source": [
    "session = tt.Session(\n",
    "    user_content_storage=\".content\",\n",
    "    port=9095,\n",
    "    java_options=[\"-Xms1G\", \"-Xmx10G\"]\n",
    ")"
   ]
  },
  {
   "cell_type": "code",
   "execution_count": 199,
   "id": "42db0455-3217-44f3-8957-eb6e98bbe662",
   "metadata": {},
   "outputs": [],
   "source": [
    "db_name = \"Olympic\"\n",
    "db_user = \"postgres\"\n",
    "db_password = \"postgres\"  \n",
    "db_host = \"localhost\"  \n",
    "db_port = \"5432\""
   ]
  },
  {
   "cell_type": "code",
   "execution_count": 200,
   "id": "0827c8bd-7294-492f-841b-6c3840e1b3c1",
   "metadata": {},
   "outputs": [],
   "source": [
    "jdbc_url = f\"jdbc:postgresql://{db_host}:{db_port}/{db_name}?user={db_user}&password={db_password}\""
   ]
  },
  {
   "cell_type": "code",
   "execution_count": 201,
   "id": "f6517067-5b30-4559-8178-b5c0b73adbed",
   "metadata": {},
   "outputs": [
    {
     "data": {
      "text/plain": [
       "'jdbc:postgresql://localhost:5432/Olympic?user=postgres&password=postgres'"
      ]
     },
     "execution_count": 201,
     "metadata": {},
     "output_type": "execute_result"
    }
   ],
   "source": [
    "jdbc_url"
   ]
  },
  {
   "cell_type": "code",
   "execution_count": 202,
   "id": "0e3273fb-18f1-47a1-affd-8da19cd4e59a",
   "metadata": {},
   "outputs": [],
   "source": [
    "facttest = session.read_sql(\n",
    "    \"SELECT * FROM factolympic\",\n",
    "    keys=[\"year\",\"country\"],\n",
    "    table_name=\"factTable\",\n",
    "    url=jdbc_url,\n",
    ")"
   ]
  },
  {
   "cell_type": "code",
   "execution_count": 203,
   "id": "7efa3dd7-855c-4584-891c-63724cc3f43a",
   "metadata": {},
   "outputs": [
    {
     "data": {
      "text/html": [
       "<div>\n",
       "<style scoped>\n",
       "    .dataframe tbody tr th:only-of-type {\n",
       "        vertical-align: middle;\n",
       "    }\n",
       "\n",
       "    .dataframe tbody tr th {\n",
       "        vertical-align: top;\n",
       "    }\n",
       "\n",
       "    .dataframe thead th {\n",
       "        text-align: right;\n",
       "    }\n",
       "</style>\n",
       "<table border=\"1\" class=\"dataframe\">\n",
       "  <thead>\n",
       "    <tr style=\"text-align: right;\">\n",
       "      <th></th>\n",
       "      <th></th>\n",
       "      <th>bronze</th>\n",
       "      <th>silver</th>\n",
       "      <th>gold</th>\n",
       "      <th>total</th>\n",
       "      <th>depression</th>\n",
       "      <th>schizophrenia</th>\n",
       "      <th>bipolar</th>\n",
       "      <th>eatingdisorder</th>\n",
       "      <th>anxiety</th>\n",
       "    </tr>\n",
       "    <tr>\n",
       "      <th>year</th>\n",
       "      <th>country</th>\n",
       "      <th></th>\n",
       "      <th></th>\n",
       "      <th></th>\n",
       "      <th></th>\n",
       "      <th></th>\n",
       "      <th></th>\n",
       "      <th></th>\n",
       "      <th></th>\n",
       "      <th></th>\n",
       "    </tr>\n",
       "  </thead>\n",
       "  <tbody>\n",
       "    <tr>\n",
       "      <th rowspan=\"5\" valign=\"top\">2018</th>\n",
       "      <th>China</th>\n",
       "      <td>2</td>\n",
       "      <td>7</td>\n",
       "      <td>1</td>\n",
       "      <td>10</td>\n",
       "      <td>419.2856</td>\n",
       "      <td>202.93486</td>\n",
       "      <td>39.638176</td>\n",
       "      <td>24.338549</td>\n",
       "      <td>310.26324</td>\n",
       "    </tr>\n",
       "    <tr>\n",
       "      <th>Indonesia</th>\n",
       "      <td>0</td>\n",
       "      <td>0</td>\n",
       "      <td>0</td>\n",
       "      <td>0</td>\n",
       "      <td>343.55807</td>\n",
       "      <td>188.28181</td>\n",
       "      <td>71.28629</td>\n",
       "      <td>23.671894</td>\n",
       "      <td>338.28217</td>\n",
       "    </tr>\n",
       "    <tr>\n",
       "      <th>Venezuela</th>\n",
       "      <td>0</td>\n",
       "      <td>0</td>\n",
       "      <td>0</td>\n",
       "      <td>0</td>\n",
       "      <td>567.8035</td>\n",
       "      <td>178.34537</td>\n",
       "      <td>180.265</td>\n",
       "      <td>46.752934</td>\n",
       "      <td>383.29855</td>\n",
       "    </tr>\n",
       "    <tr>\n",
       "      <th>Peru</th>\n",
       "      <td>0</td>\n",
       "      <td>0</td>\n",
       "      <td>0</td>\n",
       "      <td>0</td>\n",
       "      <td>353.81754</td>\n",
       "      <td>179.93779</td>\n",
       "      <td>200.16165</td>\n",
       "      <td>62.59088</td>\n",
       "      <td>532.4991</td>\n",
       "    </tr>\n",
       "    <tr>\n",
       "      <th>Niger</th>\n",
       "      <td>0</td>\n",
       "      <td>0</td>\n",
       "      <td>0</td>\n",
       "      <td>0</td>\n",
       "      <td>726.03235</td>\n",
       "      <td>133.28583</td>\n",
       "      <td>117.636185</td>\n",
       "      <td>16.902071</td>\n",
       "      <td>285.88818</td>\n",
       "    </tr>\n",
       "  </tbody>\n",
       "</table>\n",
       "</div>"
      ],
      "text/plain": [
       "                bronze  silver  gold  total  depression  schizophrenia  \\\n",
       "year country                                                             \n",
       "2018 China           2       7     1     10    419.2856      202.93486   \n",
       "     Indonesia       0       0     0      0   343.55807      188.28181   \n",
       "     Venezuela       0       0     0      0    567.8035      178.34537   \n",
       "     Peru            0       0     0      0   353.81754      179.93779   \n",
       "     Niger           0       0     0      0   726.03235      133.28583   \n",
       "\n",
       "                   bipolar  eatingdisorder    anxiety  \n",
       "year country                                           \n",
       "2018 China       39.638176       24.338549  310.26324  \n",
       "     Indonesia    71.28629       23.671894  338.28217  \n",
       "     Venezuela     180.265       46.752934  383.29855  \n",
       "     Peru        200.16165        62.59088   532.4991  \n",
       "     Niger      117.636185       16.902071  285.88818  "
      ]
     },
     "execution_count": 203,
     "metadata": {},
     "output_type": "execute_result"
    }
   ],
   "source": [
    "facttest.head()"
   ]
  },
  {
   "cell_type": "code",
   "execution_count": 176,
   "id": "a8bdf743-64f6-480c-8d1c-a8dc047da837",
   "metadata": {},
   "outputs": [],
   "source": [
    "# medals = session.read_sql(\n",
    "#     \"SELECT * FROM medalsnew\",\n",
    "#     keys=[\"id\"],\n",
    "#     table_name=\"Medals\",\n",
    "#     url=jdbc_url)"
   ]
  },
  {
   "cell_type": "code",
   "execution_count": 204,
   "id": "cae93443-5fb4-4579-8960-98883518ab4c",
   "metadata": {},
   "outputs": [],
   "source": [
    "countries = session.read_sql(\n",
    "    \"SELECT * FROM countries\",\n",
    "    keys=[\"country\"],\n",
    "    table_name=\"Countries\",\n",
    "    url=jdbc_url)"
   ]
  },
  {
   "cell_type": "code",
   "execution_count": 205,
   "id": "efc6f584-fb36-4d51-b59b-5e88e5f692bc",
   "metadata": {},
   "outputs": [],
   "source": [
    "economic = session.read_sql(\n",
    "    \"SELECT * FROM economic\",\n",
    "    keys=[\"country\"],\n",
    "    table_name=\"Economic\",\n",
    "    url=jdbc_url)"
   ]
  },
  {
   "cell_type": "code",
   "execution_count": 206,
   "id": "0f054f27-207b-422a-885d-76e35834d64e",
   "metadata": {},
   "outputs": [],
   "source": [
    "time = session.read_sql(\n",
    "    \"SELECT * FROM time\",\n",
    "    keys=[\"year\"],\n",
    "    table_name=\"Time\",\n",
    "    url=jdbc_url)"
   ]
  },
  {
   "cell_type": "code",
   "execution_count": 207,
   "id": "9bbdbf36-c2e6-4c03-89a7-e7f57b28ba8d",
   "metadata": {},
   "outputs": [],
   "source": [
    "lifeexp = session.read_sql(\n",
    "    \"SELECT * FROM lifeexp\",\n",
    "    keys=[\"year\",\"country\"],\n",
    "    table_name=\"LifeExp\",\n",
    "    url=jdbc_url)"
   ]
  },
  {
   "cell_type": "code",
   "execution_count": 208,
   "id": "89612d1e-0b70-40ac-807d-40d4381a420a",
   "metadata": {},
   "outputs": [],
   "source": [
    "facttest.join(countries, facttest[\"country\"] == countries[\"country\"])"
   ]
  },
  {
   "cell_type": "code",
   "execution_count": 182,
   "id": "3cb62449-c5b1-4822-aea0-8bc729813214",
   "metadata": {},
   "outputs": [],
   "source": [
    "facttest.join(economic, facttest[\"year\"] == economic[\"year\"])"
   ]
  },
  {
   "cell_type": "code",
   "execution_count": 209,
   "id": "c24d7969-02e1-4d84-8c24-877e8ef78fd5",
   "metadata": {},
   "outputs": [],
   "source": [
    "facttest.join(time, facttest[\"year\"] == time[\"year\"])"
   ]
  },
  {
   "cell_type": "code",
   "execution_count": 184,
   "id": "b8563c3f-7a97-4015-8c95-3558c82b7284",
   "metadata": {},
   "outputs": [],
   "source": [
    "facttest.join(lifeexp, (facttest[\"year\"] == lifeexp[\"year\"] )& (facttest[\"country\"] == lifeexp[\"country\"]))"
   ]
  },
  {
   "cell_type": "code",
   "execution_count": 210,
   "id": "42d9d7e5-47fb-4492-ac2e-27aec91890c1",
   "metadata": {},
   "outputs": [
    {
     "data": {
      "text/markdown": [
       "```mermaid\n",
       "erDiagram\n",
       "  \"Economic\" {\n",
       "    nullable int \"year\"\n",
       "    _ String \"yearcode\"\n",
       "    _ String PK \"country\"\n",
       "    _ String \"code\"\n",
       "    nullable double \"poverty\"\n",
       "    nullable double \"gdpcap\"\n",
       "    nullable double \"gdpgrowth\"\n",
       "    nullable double \"intsrv\"\n",
       "    nullable double \"mort\"\n",
       "    nullable double \"hlthexp\"\n",
       "    nullable double \"govhlthcap\"\n",
       "    nullable double \"prvhlthcap\"\n",
       "    nullable double \"exthlthcap\"\n",
       "  }\n",
       "  \"LifeExp\" {\n",
       "    _ String PK \"country\"\n",
       "    _ String \"code\"\n",
       "    _ int PK \"year\"\n",
       "    nullable double \"lifeexpectancy\"\n",
       "  }\n",
       "  \"Countries\" {\n",
       "    _ String PK \"country\"\n",
       "    _ String \"continent\"\n",
       "  }\n",
       "  \"Time\" {\n",
       "    _ int PK \"year\"\n",
       "  }\n",
       "  \"factTable\" {\n",
       "    _ int PK \"year\"\n",
       "    _ String PK \"country\"\n",
       "    nullable int \"bronze\"\n",
       "    nullable int \"silver\"\n",
       "    nullable int \"gold\"\n",
       "    nullable int \"total\"\n",
       "    nullable double \"depression\"\n",
       "    nullable double \"schizophrenia\"\n",
       "    nullable double \"bipolar\"\n",
       "    nullable double \"eatingdisorder\"\n",
       "    nullable double \"anxiety\"\n",
       "  }\n",
       "  \"factTable\" }o--o| \"Countries\" : \"`country` == `country`\"\n",
       "  \"factTable\" }o--o| \"Time\" : \"`year` == `year`\"\n",
       "```\n"
      ],
      "text/plain": [
       "erDiagram\n",
       "  \"Economic\" {\n",
       "    nullable int \"year\"\n",
       "    _ String \"yearcode\"\n",
       "    _ String PK \"country\"\n",
       "    _ String \"code\"\n",
       "    nullable double \"poverty\"\n",
       "    nullable double \"gdpcap\"\n",
       "    nullable double \"gdpgrowth\"\n",
       "    nullable double \"intsrv\"\n",
       "    nullable double \"mort\"\n",
       "    nullable double \"hlthexp\"\n",
       "    nullable double \"govhlthcap\"\n",
       "    nullable double \"prvhlthcap\"\n",
       "    nullable double \"exthlthcap\"\n",
       "  }\n",
       "  \"LifeExp\" {\n",
       "    _ String PK \"country\"\n",
       "    _ String \"code\"\n",
       "    _ int PK \"year\"\n",
       "    nullable double \"lifeexpectancy\"\n",
       "  }\n",
       "  \"Countries\" {\n",
       "    _ String PK \"country\"\n",
       "    _ String \"continent\"\n",
       "  }\n",
       "  \"Time\" {\n",
       "    _ int PK \"year\"\n",
       "  }\n",
       "  \"factTable\" {\n",
       "    _ int PK \"year\"\n",
       "    _ String PK \"country\"\n",
       "    nullable int \"bronze\"\n",
       "    nullable int \"silver\"\n",
       "    nullable int \"gold\"\n",
       "    nullable int \"total\"\n",
       "    nullable double \"depression\"\n",
       "    nullable double \"schizophrenia\"\n",
       "    nullable double \"bipolar\"\n",
       "    nullable double \"eatingdisorder\"\n",
       "    nullable double \"anxiety\"\n",
       "  }\n",
       "  \"factTable\" }o--o| \"Countries\" : \"`country` == `country`\"\n",
       "  \"factTable\" }o--o| \"Time\" : \"`year` == `year`\""
      ]
     },
     "execution_count": 210,
     "metadata": {},
     "output_type": "execute_result"
    }
   ],
   "source": [
    "session.tables.schema"
   ]
  },
  {
   "cell_type": "code",
   "execution_count": 211,
   "id": "860a487d-8e0e-4637-92f3-ef9d6269b62e",
   "metadata": {},
   "outputs": [],
   "source": [
    "testcube = session.create_cube(facttest)"
   ]
  },
  {
   "cell_type": "code",
   "execution_count": 216,
   "id": "56262118-9490-4f59-8642-fd26bbaf1c72",
   "metadata": {
    "scrolled": true
   },
   "outputs": [
    {
     "data": {
      "application/json": {
       "Dimensions": {
        "Countries": {
         "continent": [
          "continent"
         ]
        },
        "factTable": {
         "country": [
          "country"
         ],
         "year": [
          "year"
         ]
        }
       },
       "Measures": {
        "anxiety.MEAN": {
         "formatter": "DOUBLE[#,###.00]"
        },
        "anxiety.SUM": {
         "formatter": "DOUBLE[#,###.00]"
        },
        "bipolar.MEAN": {
         "formatter": "DOUBLE[#,###.00]"
        },
        "bipolar.SUM": {
         "formatter": "DOUBLE[#,###.00]"
        },
        "bronze.MEAN": {
         "formatter": "DOUBLE[#,###.00]"
        },
        "bronze.SUM": {
         "formatter": "INT[#,###]"
        },
        "contributors.COUNT": {
         "formatter": "INT[#,###]"
        },
        "depression.MEAN": {
         "formatter": "DOUBLE[#,###.00]"
        },
        "depression.SUM": {
         "formatter": "DOUBLE[#,###.00]"
        },
        "eatingdisorder.MEAN": {
         "formatter": "DOUBLE[#,###.00]"
        },
        "eatingdisorder.SUM": {
         "formatter": "DOUBLE[#,###.00]"
        },
        "gold.MEAN": {
         "formatter": "DOUBLE[#,###.00]"
        },
        "gold.SUM": {
         "formatter": "INT[#,###]"
        },
        "schizophrenia.MEAN": {
         "formatter": "DOUBLE[#,###.00]"
        },
        "schizophrenia.SUM": {
         "formatter": "DOUBLE[#,###.00]"
        },
        "silver.MEAN": {
         "formatter": "DOUBLE[#,###.00]"
        },
        "silver.SUM": {
         "formatter": "INT[#,###]"
        },
        "total.MEAN": {
         "formatter": "DOUBLE[#,###.00]"
        },
        "total.SUM": {
         "formatter": "INT[#,###]"
        }
       }
      },
      "text/html": [
       "<ul>\n",
       "<li>factTable\n",
       "  <ul>\n",
       "  <li>Dimensions\n",
       "    <ul>\n",
       "    <li>Countries\n",
       "      <ul>\n",
       "      <li>continent\n",
       "        <ol>\n",
       "        <li>continent</li>\n",
       "        </ol>      </li>\n",
       "      </ul>\n",
       "    </li>\n",
       "    <li>factTable\n",
       "      <ul>\n",
       "      <li>country\n",
       "        <ol>\n",
       "        <li>country</li>\n",
       "        </ol>      </li>\n",
       "      <li>year\n",
       "        <ol>\n",
       "        <li>year</li>\n",
       "        </ol>      </li>\n",
       "      </ul>\n",
       "    </li>\n",
       "    </ul>\n",
       "  </li>\n",
       "  <li>Measures\n",
       "    <ul>\n",
       "    <li>anxiety.MEAN\n",
       "      <ul>\n",
       "      <li>formatter: DOUBLE[#,###.00]</li>\n",
       "      </ul>\n",
       "    </li>\n",
       "    <li>anxiety.SUM\n",
       "      <ul>\n",
       "      <li>formatter: DOUBLE[#,###.00]</li>\n",
       "      </ul>\n",
       "    </li>\n",
       "    <li>bipolar.MEAN\n",
       "      <ul>\n",
       "      <li>formatter: DOUBLE[#,###.00]</li>\n",
       "      </ul>\n",
       "    </li>\n",
       "    <li>bipolar.SUM\n",
       "      <ul>\n",
       "      <li>formatter: DOUBLE[#,###.00]</li>\n",
       "      </ul>\n",
       "    </li>\n",
       "    <li>bronze.MEAN\n",
       "      <ul>\n",
       "      <li>formatter: DOUBLE[#,###.00]</li>\n",
       "      </ul>\n",
       "    </li>\n",
       "    <li>bronze.SUM\n",
       "      <ul>\n",
       "      <li>formatter: INT[#,###]</li>\n",
       "      </ul>\n",
       "    </li>\n",
       "    <li>contributors.COUNT\n",
       "      <ul>\n",
       "      <li>formatter: INT[#,###]</li>\n",
       "      </ul>\n",
       "    </li>\n",
       "    <li>depression.MEAN\n",
       "      <ul>\n",
       "      <li>formatter: DOUBLE[#,###.00]</li>\n",
       "      </ul>\n",
       "    </li>\n",
       "    <li>depression.SUM\n",
       "      <ul>\n",
       "      <li>formatter: DOUBLE[#,###.00]</li>\n",
       "      </ul>\n",
       "    </li>\n",
       "    <li>eatingdisorder.MEAN\n",
       "      <ul>\n",
       "      <li>formatter: DOUBLE[#,###.00]</li>\n",
       "      </ul>\n",
       "    </li>\n",
       "    <li>eatingdisorder.SUM\n",
       "      <ul>\n",
       "      <li>formatter: DOUBLE[#,###.00]</li>\n",
       "      </ul>\n",
       "    </li>\n",
       "    <li>gold.MEAN\n",
       "      <ul>\n",
       "      <li>formatter: DOUBLE[#,###.00]</li>\n",
       "      </ul>\n",
       "    </li>\n",
       "    <li>gold.SUM\n",
       "      <ul>\n",
       "      <li>formatter: INT[#,###]</li>\n",
       "      </ul>\n",
       "    </li>\n",
       "    <li>schizophrenia.MEAN\n",
       "      <ul>\n",
       "      <li>formatter: DOUBLE[#,###.00]</li>\n",
       "      </ul>\n",
       "    </li>\n",
       "    <li>schizophrenia.SUM\n",
       "      <ul>\n",
       "      <li>formatter: DOUBLE[#,###.00]</li>\n",
       "      </ul>\n",
       "    </li>\n",
       "    <li>silver.MEAN\n",
       "      <ul>\n",
       "      <li>formatter: DOUBLE[#,###.00]</li>\n",
       "      </ul>\n",
       "    </li>\n",
       "    <li>silver.SUM\n",
       "      <ul>\n",
       "      <li>formatter: INT[#,###]</li>\n",
       "      </ul>\n",
       "    </li>\n",
       "    <li>total.MEAN\n",
       "      <ul>\n",
       "      <li>formatter: DOUBLE[#,###.00]</li>\n",
       "      </ul>\n",
       "    </li>\n",
       "    <li>total.SUM\n",
       "      <ul>\n",
       "      <li>formatter: INT[#,###]</li>\n",
       "      </ul>\n",
       "    </li>\n",
       "    </ul>\n",
       "  </li>\n",
       "  </ul>\n",
       "</li>\n",
       "</ul>\n"
      ],
      "text/plain": [
       "<atoti.cube.Cube at 0x7bfef173aa70>"
      ]
     },
     "execution_count": 216,
     "metadata": {
      "application/json": {
       "expanded": false,
       "root": "factTable"
      }
     },
     "output_type": "execute_result"
    }
   ],
   "source": [
    "testcube"
   ]
  },
  {
   "cell_type": "code",
   "execution_count": 213,
   "id": "ad272527-67cd-4785-b77f-f7bb45bef4f8",
   "metadata": {},
   "outputs": [],
   "source": [
    "hierarchies, levels, measures = testcube.hierarchies, testcube.levels, testcube.measures"
   ]
  },
  {
   "cell_type": "code",
   "execution_count": 214,
   "id": "c9d6c08f-9247-46ea-a535-74527fda3c9d",
   "metadata": {},
   "outputs": [
    {
     "name": "stdout",
     "output_type": "stream",
     "text": [
      "[('Countries', 'continent', 'continent'), ('factTable', 'year', 'year'), ('factTable', 'country', 'country')]\n"
     ]
    }
   ],
   "source": [
    "print(list(testcube.levels))"
   ]
  },
  {
   "cell_type": "code",
   "execution_count": 226,
   "id": "df93ed09-8f59-4d50-9c1c-0a336cc78995",
   "metadata": {
    "scrolled": true
   },
   "outputs": [
    {
     "data": {
      "text/plain": [
       "[('Countries', 'continent', 'continent'),\n",
       " ('factTable', 'year', 'year'),\n",
       " ('Continent', 'continent', 'continent'),\n",
       " ('Continent', 'continent', 'country'),\n",
       " ('factTable', 'country', 'country')]"
      ]
     },
     "execution_count": 226,
     "metadata": {},
     "output_type": "execute_result"
    }
   ],
   "source": [
    "list(levels)"
   ]
  },
  {
   "cell_type": "code",
   "execution_count": 241,
   "id": "6cbfab1d-52e8-4a00-a222-f25561915a9b",
   "metadata": {},
   "outputs": [],
   "source": [
    "del hierarchies[\"factTable\",\"country\"]"
   ]
  },
  {
   "cell_type": "code",
   "execution_count": 242,
   "id": "a37cce50-f22f-407e-8ec3-0c048a695447",
   "metadata": {},
   "outputs": [
    {
     "data": {
      "application/json": {
       "Continent": {
        "continent": [
         "continent",
         "country"
        ]
       },
       "Time": {
        "year": [
         "year"
        ]
       }
      },
      "text/html": [
       "<ul>\n",
       "<li>Dimensions\n",
       "  <ul>\n",
       "  <li>Continent\n",
       "    <ul>\n",
       "    <li>continent\n",
       "      <ol>\n",
       "      <li>continent</li>\n",
       "      <li>country</li>\n",
       "      </ol>    </li>\n",
       "    </ul>\n",
       "  </li>\n",
       "  <li>Time\n",
       "    <ul>\n",
       "    <li>year\n",
       "      <ol>\n",
       "      <li>year</li>\n",
       "      </ol>    </li>\n",
       "    </ul>\n",
       "  </li>\n",
       "  </ul>\n",
       "</li>\n",
       "</ul>\n"
      ],
      "text/plain": [
       "{('Time', 'year'): <atoti.hierarchy.Hierarchy object at 0x7bfef17e9660>, ('Continent', 'continent'): <atoti.hierarchy.Hierarchy object at 0x7bfef17ea680>}"
      ]
     },
     "execution_count": 242,
     "metadata": {
      "application/json": {
       "expanded": true,
       "root": "Dimensions"
      }
     },
     "output_type": "execute_result"
    }
   ],
   "source": [
    "testcube.hierarchies"
   ]
  },
  {
   "cell_type": "code",
   "execution_count": 118,
   "id": "f1fa2d3f-0e13-47e1-96a2-bce0c6d8c481",
   "metadata": {},
   "outputs": [],
   "source": [
    "testcube.hierarchies[\"Countries\",\"country\"]= [countries[\"country\"]]"
   ]
  },
  {
   "cell_type": "code",
   "execution_count": 243,
   "id": "c947c29a-164f-4d4e-80ad-557f47100ff7",
   "metadata": {},
   "outputs": [
    {
     "data": {
      "text/html": [
       "<div>\n",
       "<style scoped>\n",
       "    .dataframe tbody tr th:only-of-type {\n",
       "        vertical-align: middle;\n",
       "    }\n",
       "\n",
       "    .dataframe tbody tr th {\n",
       "        vertical-align: top;\n",
       "    }\n",
       "\n",
       "    .dataframe thead th {\n",
       "        text-align: right;\n",
       "    }\n",
       "</style>\n",
       "<table border=\"1\" class=\"dataframe\">\n",
       "  <thead>\n",
       "    <tr style=\"text-align: right;\">\n",
       "      <th></th>\n",
       "      <th>bronze.SUM</th>\n",
       "      <th>silver.SUM</th>\n",
       "      <th>gold.SUM</th>\n",
       "      <th>depression.MEAN</th>\n",
       "    </tr>\n",
       "    <tr>\n",
       "      <th>continent</th>\n",
       "      <th></th>\n",
       "      <th></th>\n",
       "      <th></th>\n",
       "      <th></th>\n",
       "    </tr>\n",
       "  </thead>\n",
       "  <tbody>\n",
       "    <tr>\n",
       "      <th>Africa</th>\n",
       "      <td>96</td>\n",
       "      <td>91</td>\n",
       "      <td>70</td>\n",
       "      <td>800.73</td>\n",
       "    </tr>\n",
       "    <tr>\n",
       "      <th>Asia</th>\n",
       "      <td>594</td>\n",
       "      <td>526</td>\n",
       "      <td>555</td>\n",
       "      <td>607.14</td>\n",
       "    </tr>\n",
       "    <tr>\n",
       "      <th>Europe</th>\n",
       "      <td>1,636</td>\n",
       "      <td>1,479</td>\n",
       "      <td>1,481</td>\n",
       "      <td>609.86</td>\n",
       "    </tr>\n",
       "    <tr>\n",
       "      <th>North America</th>\n",
       "      <td>524</td>\n",
       "      <td>522</td>\n",
       "      <td>555</td>\n",
       "      <td>618.71</td>\n",
       "    </tr>\n",
       "    <tr>\n",
       "      <th>Oceania</th>\n",
       "      <td>157</td>\n",
       "      <td>149</td>\n",
       "      <td>128</td>\n",
       "      <td>495.91</td>\n",
       "    </tr>\n",
       "    <tr>\n",
       "      <th>South America</th>\n",
       "      <td>89</td>\n",
       "      <td>56</td>\n",
       "      <td>49</td>\n",
       "      <td>616.67</td>\n",
       "    </tr>\n",
       "  </tbody>\n",
       "</table>\n",
       "</div>"
      ],
      "text/plain": [
       "              bronze.SUM silver.SUM gold.SUM depression.MEAN\n",
       "continent                                                   \n",
       "Africa                96         91       70          800.73\n",
       "Asia                 594        526      555          607.14\n",
       "Europe             1,636      1,479    1,481          609.86\n",
       "North America        524        522      555          618.71\n",
       "Oceania              157        149      128          495.91\n",
       "South America         89         56       49          616.67"
      ]
     },
     "execution_count": 243,
     "metadata": {},
     "output_type": "execute_result"
    }
   ],
   "source": [
    "testcube.query(measures[\"bronze.SUM\"],measures[\"silver.SUM\"],measures[\"gold.SUM\"],measures[\"depression.MEAN\"], levels=[levels['Continent', 'continent', 'continent']])"
   ]
  },
  {
   "cell_type": "code",
   "execution_count": 136,
   "id": "5cd00b3f-17d0-4082-b09b-fd1234ca8f91",
   "metadata": {},
   "outputs": [
    {
     "data": {
      "text/html": [
       "<div>\n",
       "<style scoped>\n",
       "    .dataframe tbody tr th:only-of-type {\n",
       "        vertical-align: middle;\n",
       "    }\n",
       "\n",
       "    .dataframe tbody tr th {\n",
       "        vertical-align: top;\n",
       "    }\n",
       "\n",
       "    .dataframe thead th {\n",
       "        text-align: right;\n",
       "    }\n",
       "</style>\n",
       "<table border=\"1\" class=\"dataframe\">\n",
       "  <thead>\n",
       "    <tr style=\"text-align: right;\">\n",
       "      <th></th>\n",
       "      <th>total.SUM</th>\n",
       "      <th>depression.MEAN</th>\n",
       "    </tr>\n",
       "    <tr>\n",
       "      <th>country</th>\n",
       "      <th></th>\n",
       "      <th></th>\n",
       "    </tr>\n",
       "  </thead>\n",
       "  <tbody>\n",
       "    <tr>\n",
       "      <th>Afghanistan</th>\n",
       "      <td>2</td>\n",
       "      <td>891.18</td>\n",
       "    </tr>\n",
       "    <tr>\n",
       "      <th>Albania</th>\n",
       "      <td>0</td>\n",
       "      <td>381.48</td>\n",
       "    </tr>\n",
       "    <tr>\n",
       "      <th>Algeria</th>\n",
       "      <td>15</td>\n",
       "      <td>736.32</td>\n",
       "    </tr>\n",
       "    <tr>\n",
       "      <th>American Samoa</th>\n",
       "      <td>0</td>\n",
       "      <td>391.00</td>\n",
       "    </tr>\n",
       "    <tr>\n",
       "      <th>Andorra</th>\n",
       "      <td>0</td>\n",
       "      <td>621.74</td>\n",
       "    </tr>\n",
       "    <tr>\n",
       "      <th>...</th>\n",
       "      <td>...</td>\n",
       "      <td>...</td>\n",
       "    </tr>\n",
       "    <tr>\n",
       "      <th>Venezuela</th>\n",
       "      <td>7</td>\n",
       "      <td>566.37</td>\n",
       "    </tr>\n",
       "    <tr>\n",
       "      <th>Vietnam</th>\n",
       "      <td>4</td>\n",
       "      <td>372.64</td>\n",
       "    </tr>\n",
       "    <tr>\n",
       "      <th>Yemen</th>\n",
       "      <td>0</td>\n",
       "      <td>892.93</td>\n",
       "    </tr>\n",
       "    <tr>\n",
       "      <th>Zambia</th>\n",
       "      <td>1</td>\n",
       "      <td>700.20</td>\n",
       "    </tr>\n",
       "    <tr>\n",
       "      <th>Zimbabwe</th>\n",
       "      <td>7</td>\n",
       "      <td>533.57</td>\n",
       "    </tr>\n",
       "  </tbody>\n",
       "</table>\n",
       "<p>198 rows × 2 columns</p>\n",
       "</div>"
      ],
      "text/plain": [
       "               total.SUM depression.MEAN\n",
       "country                                 \n",
       "Afghanistan            2          891.18\n",
       "Albania                0          381.48\n",
       "Algeria               15          736.32\n",
       "American Samoa         0          391.00\n",
       "Andorra                0          621.74\n",
       "...                  ...             ...\n",
       "Venezuela              7          566.37\n",
       "Vietnam                4          372.64\n",
       "Yemen                  0          892.93\n",
       "Zambia                 1          700.20\n",
       "Zimbabwe               7          533.57\n",
       "\n",
       "[198 rows x 2 columns]"
      ]
     },
     "execution_count": 136,
     "metadata": {},
     "output_type": "execute_result"
    }
   ],
   "source": [
    "testcube.query(measures[\"total.SUM\"],measures[\"depression.MEAN\"], levels = [levels[\"Countries\",'country','country']])"
   ]
  },
  {
   "cell_type": "code",
   "execution_count": 244,
   "id": "1abcaa36-0b97-4d8a-a7ac-a955c257743c",
   "metadata": {
    "atoti": {
     "widget": {
      "columnWidths": {
       "[Measures].[total.SUM]": 146
      },
      "mapping": {
       "columns": [
        "ALL_MEASURES"
       ],
       "measures": [
        "[Measures].[gold.SUM]",
        "[Measures].[silver.SUM]",
        "[Measures].[bronze.SUM]",
        "[Measures].[total.SUM]",
        "[Measures].[depression.SUM]"
       ],
       "rows": [
        "[Continent].[continent].[continent]"
       ]
      },
      "query": {
       "mdx": "SELECT NON EMPTY Hierarchize(Descendants({[Continent].[continent].[ALL].[AllMember]}, 1, SELF_AND_BEFORE)) DIMENSION PROPERTIES CHILDREN_CARDINALITY ON ROWS, NON EMPTY {[Measures].[gold.SUM], [Measures].[silver.SUM], [Measures].[bronze.SUM], [Measures].[total.SUM], [Measures].[depression.SUM]} ON COLUMNS FROM [factTable] CELL PROPERTIES VALUE, FORMATTED_VALUE, BACK_COLOR, FORE_COLOR, FONT_FLAGS",
       "updateMode": "once"
      },
      "serverKey": "default",
      "switchedTo": "plotly-line-chart",
      "widgetKey": "pivot-table"
     }
    }
   },
   "outputs": [
    {
     "data": {
      "application/vnd.atoti.widget.v0+json": {
       "sessionId": "1712744293_AG79QS",
       "sessionLocation": {
        "https": false,
        "port": 9095
       },
       "widgetCreationCode": "session.widget"
      },
      "text/html": [
       "<img height=\"352\" width=\"1473\" src=\"data:image/png;base64,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\" />"
      ],
      "text/plain": [
       "Open the notebook in JupyterLab with the Atoti JupyterLab extension enabled to build this widget."
      ]
     },
     "metadata": {},
     "output_type": "display_data"
    }
   ],
   "source": [
    "session.widget"
   ]
  },
  {
   "cell_type": "code",
   "execution_count": 245,
   "id": "a4bdb42d-f2d5-428a-b9ae-b08b8e0972af",
   "metadata": {
    "atoti": {
     "widget": {
      "mapping": {
       "horizontalSubplots": [],
       "secondaryValues": [],
       "splitBy": [
        "ALL_MEASURES"
       ],
       "values": [
        "[Measures].[depression.SUM]",
        "[Measures].[anxiety.SUM]"
       ],
       "verticalSubplots": [],
       "xAxis": [
        "[Continent].[continent].[country]"
       ]
      },
      "query": {
       "mdx": "SELECT NON EMPTY Hierarchize(Descendants({[Continent].[continent].[ALL].[AllMember]}, 2, SELF_AND_BEFORE)) DIMENSION PROPERTIES CHILDREN_CARDINALITY ON ROWS, NON EMPTY {[Measures].[depression.SUM], [Measures].[anxiety.SUM]} ON COLUMNS FROM [factTable] CELL PROPERTIES VALUE, FORMATTED_VALUE, BACK_COLOR, FORE_COLOR, FONT_FLAGS",
       "updateMode": "once"
      },
      "serverKey": "default",
      "switchedTo": "pivot-table",
      "widgetKey": "plotly-line-chart"
     }
    }
   },
   "outputs": [
    {
     "data": {
      "application/vnd.atoti.widget.v0+json": {
       "sessionId": "1712744293_AG79QS",
       "sessionLocation": {
        "https": false,
        "port": 9095
       },
       "widgetCreationCode": "session.widget"
      },
      "text/html": [
       "<img height=\"352\" width=\"1473\" src=\"data:image/png;base64,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\" />"
      ],
      "text/plain": [
       "Open the notebook in JupyterLab with the Atoti JupyterLab extension enabled to build this widget."
      ]
     },
     "metadata": {},
     "output_type": "display_data"
    }
   ],
   "source": [
    "session.widget"
   ]
  }
 ],
 "metadata": {
  "kernelspec": {
   "display_name": "Python 3 (ipykernel)",
   "language": "python",
   "name": "python3"
  },
  "language_info": {
   "codemirror_mode": {
    "name": "ipython",
    "version": 3
   },
   "file_extension": ".py",
   "mimetype": "text/x-python",
   "name": "python",
   "nbconvert_exporter": "python",
   "pygments_lexer": "ipython3",
   "version": "3.10.12"
  }
 },
 "nbformat": 4,
 "nbformat_minor": 5
}
