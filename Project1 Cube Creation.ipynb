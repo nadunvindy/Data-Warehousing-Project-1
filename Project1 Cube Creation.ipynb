{
 "cells": [
  {
   "cell_type": "code",
   "execution_count": 60,
   "id": "e3250406-7dc5-4889-bfec-fd13700da2ff",
   "metadata": {},
   "outputs": [],
   "source": [
    "import atoti as tt"
   ]
  },
  {
   "cell_type": "code",
   "execution_count": 61,
   "id": "5baab508-0f7f-498d-92d6-82f85cfdfb5a",
   "metadata": {},
   "outputs": [
    {
     "name": "stderr",
     "output_type": "stream",
     "text": [
      "Closing existing \"Unnamed\" session to create the new one.\n"
     ]
    }
   ],
   "source": [
    "session = tt.Session(\n",
    "    user_content_storage=\".content\",\n",
    "    port=9095,\n",
    "    java_options=[\"-Xms1G\", \"-Xmx10G\"]\n",
    ")"
   ]
  },
  {
   "cell_type": "code",
   "execution_count": 32,
   "id": "42db0455-3217-44f3-8957-eb6e98bbe662",
   "metadata": {},
   "outputs": [],
   "source": [
    "db_name = \"Project1\"\n",
    "db_user = \"postgres\"\n",
    "db_password = \"postgres\"  \n",
    "db_host = \"localhost\"  \n",
    "db_port = \"5432\""
   ]
  },
  {
   "cell_type": "code",
   "execution_count": 33,
   "id": "0827c8bd-7294-492f-841b-6c3840e1b3c1",
   "metadata": {},
   "outputs": [],
   "source": [
    "jdbc_url = f\"jdbc:postgresql://{db_host}:{db_port}/{db_name}?user={db_user}&password={db_password}\""
   ]
  },
  {
   "cell_type": "code",
   "execution_count": 34,
   "id": "f6517067-5b30-4559-8178-b5c0b73adbed",
   "metadata": {},
   "outputs": [
    {
     "data": {
      "text/plain": [
       "'jdbc:postgresql://localhost:5432/Project1?user=postgres&password=postgres'"
      ]
     },
     "execution_count": 34,
     "metadata": {},
     "output_type": "execute_result"
    }
   ],
   "source": [
    "jdbc_url"
   ]
  },
  {
   "cell_type": "code",
   "execution_count": 62,
   "id": "0e3273fb-18f1-47a1-affd-8da19cd4e59a",
   "metadata": {},
   "outputs": [],
   "source": [
    "facttest = session.read_sql(\n",
    "    \"SELECT * FROM olympics\",\n",
    "    keys=[\"factid\"],\n",
    "    table_name=\"factTable\",\n",
    "    url=jdbc_url,\n",
    ")"
   ]
  },
  {
   "cell_type": "code",
   "execution_count": 64,
   "id": "7efa3dd7-855c-4584-891c-63724cc3f43a",
   "metadata": {},
   "outputs": [
    {
     "data": {
      "text/html": [
       "<div>\n",
       "<style scoped>\n",
       "    .dataframe tbody tr th:only-of-type {\n",
       "        vertical-align: middle;\n",
       "    }\n",
       "\n",
       "    .dataframe tbody tr th {\n",
       "        vertical-align: top;\n",
       "    }\n",
       "\n",
       "    .dataframe thead th {\n",
       "        text-align: right;\n",
       "    }\n",
       "</style>\n",
       "<table border=\"1\" class=\"dataframe\">\n",
       "  <thead>\n",
       "    <tr style=\"text-align: right;\">\n",
       "      <th></th>\n",
       "      <th>year</th>\n",
       "      <th>country</th>\n",
       "      <th>bronze</th>\n",
       "      <th>gold</th>\n",
       "      <th>silver</th>\n",
       "      <th>code</th>\n",
       "      <th>depression</th>\n",
       "      <th>schizophrenia</th>\n",
       "      <th>bipolar</th>\n",
       "      <th>eatingdisorder</th>\n",
       "      <th>anxiety</th>\n",
       "    </tr>\n",
       "    <tr>\n",
       "      <th>factid</th>\n",
       "      <th></th>\n",
       "      <th></th>\n",
       "      <th></th>\n",
       "      <th></th>\n",
       "      <th></th>\n",
       "      <th></th>\n",
       "      <th></th>\n",
       "      <th></th>\n",
       "      <th></th>\n",
       "      <th></th>\n",
       "      <th></th>\n",
       "    </tr>\n",
       "  </thead>\n",
       "  <tbody>\n",
       "    <tr>\n",
       "      <th>13</th>\n",
       "      <td>1992</td>\n",
       "      <td>Denmark</td>\n",
       "      <td>5</td>\n",
       "      <td>1</td>\n",
       "      <td>2</td>\n",
       "      <td>DNK</td>\n",
       "      <td>774.02527</td>\n",
       "      <td>136.84724</td>\n",
       "      <td>203.96803</td>\n",
       "      <td>87.71734</td>\n",
       "      <td>460.94922</td>\n",
       "    </tr>\n",
       "    <tr>\n",
       "      <th>5</th>\n",
       "      <td>1992</td>\n",
       "      <td>Bahamas</td>\n",
       "      <td>1</td>\n",
       "      <td>0</td>\n",
       "      <td>0</td>\n",
       "      <td>BHS</td>\n",
       "      <td>527.91235</td>\n",
       "      <td>182.78604</td>\n",
       "      <td>195.25314</td>\n",
       "      <td>60.941833</td>\n",
       "      <td>406.74252</td>\n",
       "    </tr>\n",
       "    <tr>\n",
       "      <th>25</th>\n",
       "      <td>1992</td>\n",
       "      <td>Italy</td>\n",
       "      <td>14</td>\n",
       "      <td>10</td>\n",
       "      <td>11</td>\n",
       "      <td>ITA</td>\n",
       "      <td>676.9239</td>\n",
       "      <td>189.44333</td>\n",
       "      <td>185.89877</td>\n",
       "      <td>111.49093</td>\n",
       "      <td>534.1591</td>\n",
       "    </tr>\n",
       "    <tr>\n",
       "      <th>33</th>\n",
       "      <td>1992</td>\n",
       "      <td>Mexico</td>\n",
       "      <td>0</td>\n",
       "      <td>0</td>\n",
       "      <td>1</td>\n",
       "      <td>MEX</td>\n",
       "      <td>533.24414</td>\n",
       "      <td>180.24562</td>\n",
       "      <td>198.24474</td>\n",
       "      <td>48.886414</td>\n",
       "      <td>274.3233</td>\n",
       "    </tr>\n",
       "    <tr>\n",
       "      <th>41</th>\n",
       "      <td>1992</td>\n",
       "      <td>Pakistan</td>\n",
       "      <td>1</td>\n",
       "      <td>0</td>\n",
       "      <td>0</td>\n",
       "      <td>PAK</td>\n",
       "      <td>688.96924</td>\n",
       "      <td>181.0899</td>\n",
       "      <td>83.053276</td>\n",
       "      <td>21.568497</td>\n",
       "      <td>315.66284</td>\n",
       "    </tr>\n",
       "  </tbody>\n",
       "</table>\n",
       "</div>"
      ],
      "text/plain": [
       "        year   country  bronze  gold  silver code  depression  schizophrenia  \\\n",
       "factid                                                                         \n",
       "13      1992   Denmark       5     1       2  DNK   774.02527      136.84724   \n",
       "5       1992   Bahamas       1     0       0  BHS   527.91235      182.78604   \n",
       "25      1992     Italy      14    10      11  ITA    676.9239      189.44333   \n",
       "33      1992    Mexico       0     0       1  MEX   533.24414      180.24562   \n",
       "41      1992  Pakistan       1     0       0  PAK   688.96924       181.0899   \n",
       "\n",
       "          bipolar  eatingdisorder    anxiety  \n",
       "factid                                        \n",
       "13      203.96803        87.71734  460.94922  \n",
       "5       195.25314       60.941833  406.74252  \n",
       "25      185.89877       111.49093   534.1591  \n",
       "33      198.24474       48.886414   274.3233  \n",
       "41      83.053276       21.568497  315.66284  "
      ]
     },
     "execution_count": 64,
     "metadata": {},
     "output_type": "execute_result"
    }
   ],
   "source": [
    "facttest.head()"
   ]
  },
  {
   "cell_type": "code",
   "execution_count": 65,
   "id": "a8bdf743-64f6-480c-8d1c-a8dc047da837",
   "metadata": {},
   "outputs": [],
   "source": [
    "medals = session.read_sql(\n",
    "    \"SELECT * FROM medalsnew\",\n",
    "    keys=[\"id\"],\n",
    "    table_name=\"Medals\",\n",
    "    url=jdbc_url)"
   ]
  },
  {
   "cell_type": "code",
   "execution_count": 66,
   "id": "cae93443-5fb4-4579-8960-98883518ab4c",
   "metadata": {},
   "outputs": [],
   "source": [
    "countries = session.read_sql(\n",
    "    \"SELECT * FROM countries\",\n",
    "    keys=[\"country\"],\n",
    "    table_name=\"Countries\",\n",
    "    url=jdbc_url)"
   ]
  },
  {
   "cell_type": "code",
   "execution_count": 67,
   "id": "efc6f584-fb36-4d51-b59b-5e88e5f692bc",
   "metadata": {},
   "outputs": [],
   "source": [
    "illness = session.read_sql(\n",
    "    \"SELECT * FROM mentalillness\",\n",
    "    keys=[\"code\",\"year\"],\n",
    "    table_name=\"Illness\",\n",
    "    url=jdbc_url)"
   ]
  },
  {
   "cell_type": "code",
   "execution_count": 68,
   "id": "89612d1e-0b70-40ac-807d-40d4381a420a",
   "metadata": {},
   "outputs": [],
   "source": [
    "facttest.join(countries, facttest[\"country\"] == countries[\"country\"])"
   ]
  },
  {
   "cell_type": "code",
   "execution_count": 69,
   "id": "3cb62449-c5b1-4822-aea0-8bc729813214",
   "metadata": {},
   "outputs": [],
   "source": [
    "facttest.join(medals, facttest[\"country\"] == medals[\"country\"])"
   ]
  },
  {
   "cell_type": "code",
   "execution_count": 70,
   "id": "c24d7969-02e1-4d84-8c24-877e8ef78fd5",
   "metadata": {},
   "outputs": [],
   "source": [
    "facttest.join(illness, (facttest[\"code\"] == illness[\"code\"]) & (facttest[\"year\"] == illness[\"year\"]))"
   ]
  },
  {
   "cell_type": "code",
   "execution_count": 71,
   "id": "42d9d7e5-47fb-4492-ac2e-27aec91890c1",
   "metadata": {},
   "outputs": [
    {
     "data": {
      "text/markdown": [
       "```mermaid\n",
       "erDiagram\n",
       "  \"Countries\" {\n",
       "    _ String PK \"country\"\n",
       "    _ String \"continent\"\n",
       "  }\n",
       "  \"Illness\" {\n",
       "    _ String \"country\"\n",
       "    _ String PK \"code\"\n",
       "    _ int PK \"year\"\n",
       "    nullable double \"depression\"\n",
       "    nullable double \"schizophrenia\"\n",
       "    nullable double \"bipolar\"\n",
       "    nullable double \"eatingdisorder\"\n",
       "    nullable double \"anxiety\"\n",
       "  }\n",
       "  \"factTable\" {\n",
       "    _ int PK \"factid\"\n",
       "    nullable int \"year\"\n",
       "    _ String \"country\"\n",
       "    nullable int \"bronze\"\n",
       "    nullable int \"gold\"\n",
       "    nullable int \"silver\"\n",
       "    _ String \"code\"\n",
       "    nullable double \"depression\"\n",
       "    nullable double \"schizophrenia\"\n",
       "    nullable double \"bipolar\"\n",
       "    nullable double \"eatingdisorder\"\n",
       "    nullable double \"anxiety\"\n",
       "  }\n",
       "  \"Medals\" {\n",
       "    nullable int \"year\"\n",
       "    _ String \"medal\"\n",
       "    _ String \"country\"\n",
       "    _ String \"code\"\n",
       "    _ int PK \"id\"\n",
       "  }\n",
       "  \"factTable\" }o--o| \"Illness\" : \"(`year` == `year`) & (`code` == `code`)\"\n",
       "  \"factTable\" }o--o| \"Countries\" : \"`country` == `country`\"\n",
       "  \"factTable\" }o..o{ \"Medals\" : \"`country` == `country`\"\n",
       "```\n"
      ],
      "text/plain": [
       "erDiagram\n",
       "  \"Countries\" {\n",
       "    _ String PK \"country\"\n",
       "    _ String \"continent\"\n",
       "  }\n",
       "  \"Illness\" {\n",
       "    _ String \"country\"\n",
       "    _ String PK \"code\"\n",
       "    _ int PK \"year\"\n",
       "    nullable double \"depression\"\n",
       "    nullable double \"schizophrenia\"\n",
       "    nullable double \"bipolar\"\n",
       "    nullable double \"eatingdisorder\"\n",
       "    nullable double \"anxiety\"\n",
       "  }\n",
       "  \"factTable\" {\n",
       "    _ int PK \"factid\"\n",
       "    nullable int \"year\"\n",
       "    _ String \"country\"\n",
       "    nullable int \"bronze\"\n",
       "    nullable int \"gold\"\n",
       "    nullable int \"silver\"\n",
       "    _ String \"code\"\n",
       "    nullable double \"depression\"\n",
       "    nullable double \"schizophrenia\"\n",
       "    nullable double \"bipolar\"\n",
       "    nullable double \"eatingdisorder\"\n",
       "    nullable double \"anxiety\"\n",
       "  }\n",
       "  \"Medals\" {\n",
       "    nullable int \"year\"\n",
       "    _ String \"medal\"\n",
       "    _ String \"country\"\n",
       "    _ String \"code\"\n",
       "    _ int PK \"id\"\n",
       "  }\n",
       "  \"factTable\" }o--o| \"Illness\" : \"(`year` == `year`) & (`code` == `code`)\"\n",
       "  \"factTable\" }o--o| \"Countries\" : \"`country` == `country`\"\n",
       "  \"factTable\" }o..o{ \"Medals\" : \"`country` == `country`\""
      ]
     },
     "execution_count": 71,
     "metadata": {},
     "output_type": "execute_result"
    }
   ],
   "source": [
    "session.tables.schema"
   ]
  },
  {
   "cell_type": "code",
   "execution_count": 72,
   "id": "860a487d-8e0e-4637-92f3-ef9d6269b62e",
   "metadata": {},
   "outputs": [],
   "source": [
    "testcube = session.create_cube(facttest)"
   ]
  },
  {
   "cell_type": "code",
   "execution_count": 89,
   "id": "655b83f6-7d9f-48d3-bed5-5d5c3c8c8140",
   "metadata": {},
   "outputs": [],
   "source": [
    "testcube.measures['total.SUM'] = testcube.measures['gold.SUM'] + testcube.measures['silver.SUM'] + testcube.measures['bronze.SUM']"
   ]
  },
  {
   "cell_type": "code",
   "execution_count": 129,
   "id": "56262118-9490-4f59-8642-fd26bbaf1c72",
   "metadata": {},
   "outputs": [
    {
     "data": {
      "application/json": {
       "Dimensions": {
        "Countries": {
         "continent": [
          "continent"
         ]
        },
        "Illness": {
         "country": [
          "country"
         ]
        },
        "Medals": {
         "code": [
          "code"
         ],
         "id": [
          "id"
         ],
         "medal": [
          "medal"
         ]
        },
        "factTable": {
         "code": [
          "code"
         ],
         "country": [
          "country"
         ],
         "factid": [
          "factid"
         ]
        }
       },
       "Measures": {
        "anxiety.MEAN": {
         "formatter": "DOUBLE[#,###.00]"
        },
        "anxiety.SUM": {
         "formatter": "DOUBLE[#,###.00]"
        },
        "bipolar.MEAN": {
         "formatter": "DOUBLE[#,###.00]"
        },
        "bipolar.SUM": {
         "formatter": "DOUBLE[#,###.00]"
        },
        "bronze.MEAN": {
         "formatter": "DOUBLE[#,###.00]"
        },
        "bronze.SUM": {
         "formatter": "INT[#,###]"
        },
        "contributors.COUNT": {
         "formatter": "INT[#,###]"
        },
        "depression.MEAN": {
         "formatter": "DOUBLE[#,###.00]"
        },
        "depression.SUM": {
         "formatter": "DOUBLE[#,###.00]"
        },
        "eatingdisorder.MEAN": {
         "formatter": "DOUBLE[#,###.00]"
        },
        "eatingdisorder.SUM": {
         "formatter": "DOUBLE[#,###.00]"
        },
        "gold.MEAN": {
         "formatter": "DOUBLE[#,###.00]"
        },
        "gold.SUM": {
         "formatter": "INT[#,###]"
        },
        "schizophrenia.MEAN": {
         "formatter": "DOUBLE[#,###.00]"
        },
        "schizophrenia.SUM": {
         "formatter": "DOUBLE[#,###.00]"
        },
        "silver.MEAN": {
         "formatter": "DOUBLE[#,###.00]"
        },
        "silver.SUM": {
         "formatter": "INT[#,###]"
        },
        "total.SUM": {
         "formatter": "INT[#,###]"
        },
        "year.MEAN": {
         "formatter": "DOUBLE[#,###.00]"
        },
        "year.SUM": {
         "formatter": "INT[#,###]"
        }
       }
      },
      "text/html": [
       "<ul>\n",
       "<li>factTable\n",
       "  <ul>\n",
       "  <li>Dimensions\n",
       "    <ul>\n",
       "    <li>Countries\n",
       "      <ul>\n",
       "      <li>continent\n",
       "        <ol>\n",
       "        <li>continent</li>\n",
       "        </ol>      </li>\n",
       "      </ul>\n",
       "    </li>\n",
       "    <li>Illness\n",
       "      <ul>\n",
       "      <li>country\n",
       "        <ol>\n",
       "        <li>country</li>\n",
       "        </ol>      </li>\n",
       "      </ul>\n",
       "    </li>\n",
       "    <li>Medals\n",
       "      <ul>\n",
       "      <li>code\n",
       "        <ol>\n",
       "        <li>code</li>\n",
       "        </ol>      </li>\n",
       "      <li>id\n",
       "        <ol>\n",
       "        <li>id</li>\n",
       "        </ol>      </li>\n",
       "      <li>medal\n",
       "        <ol>\n",
       "        <li>medal</li>\n",
       "        </ol>      </li>\n",
       "      </ul>\n",
       "    </li>\n",
       "    <li>factTable\n",
       "      <ul>\n",
       "      <li>code\n",
       "        <ol>\n",
       "        <li>code</li>\n",
       "        </ol>      </li>\n",
       "      <li>country\n",
       "        <ol>\n",
       "        <li>country</li>\n",
       "        </ol>      </li>\n",
       "      <li>factid\n",
       "        <ol>\n",
       "        <li>factid</li>\n",
       "        </ol>      </li>\n",
       "      </ul>\n",
       "    </li>\n",
       "    </ul>\n",
       "  </li>\n",
       "  <li>Measures\n",
       "    <ul>\n",
       "    <li>anxiety.MEAN\n",
       "      <ul>\n",
       "      <li>formatter: DOUBLE[#,###.00]</li>\n",
       "      </ul>\n",
       "    </li>\n",
       "    <li>anxiety.SUM\n",
       "      <ul>\n",
       "      <li>formatter: DOUBLE[#,###.00]</li>\n",
       "      </ul>\n",
       "    </li>\n",
       "    <li>bipolar.MEAN\n",
       "      <ul>\n",
       "      <li>formatter: DOUBLE[#,###.00]</li>\n",
       "      </ul>\n",
       "    </li>\n",
       "    <li>bipolar.SUM\n",
       "      <ul>\n",
       "      <li>formatter: DOUBLE[#,###.00]</li>\n",
       "      </ul>\n",
       "    </li>\n",
       "    <li>bronze.MEAN\n",
       "      <ul>\n",
       "      <li>formatter: DOUBLE[#,###.00]</li>\n",
       "      </ul>\n",
       "    </li>\n",
       "    <li>bronze.SUM\n",
       "      <ul>\n",
       "      <li>formatter: INT[#,###]</li>\n",
       "      </ul>\n",
       "    </li>\n",
       "    <li>contributors.COUNT\n",
       "      <ul>\n",
       "      <li>formatter: INT[#,###]</li>\n",
       "      </ul>\n",
       "    </li>\n",
       "    <li>depression.MEAN\n",
       "      <ul>\n",
       "      <li>formatter: DOUBLE[#,###.00]</li>\n",
       "      </ul>\n",
       "    </li>\n",
       "    <li>depression.SUM\n",
       "      <ul>\n",
       "      <li>formatter: DOUBLE[#,###.00]</li>\n",
       "      </ul>\n",
       "    </li>\n",
       "    <li>eatingdisorder.MEAN\n",
       "      <ul>\n",
       "      <li>formatter: DOUBLE[#,###.00]</li>\n",
       "      </ul>\n",
       "    </li>\n",
       "    <li>eatingdisorder.SUM\n",
       "      <ul>\n",
       "      <li>formatter: DOUBLE[#,###.00]</li>\n",
       "      </ul>\n",
       "    </li>\n",
       "    <li>gold.MEAN\n",
       "      <ul>\n",
       "      <li>formatter: DOUBLE[#,###.00]</li>\n",
       "      </ul>\n",
       "    </li>\n",
       "    <li>gold.SUM\n",
       "      <ul>\n",
       "      <li>formatter: INT[#,###]</li>\n",
       "      </ul>\n",
       "    </li>\n",
       "    <li>schizophrenia.MEAN\n",
       "      <ul>\n",
       "      <li>formatter: DOUBLE[#,###.00]</li>\n",
       "      </ul>\n",
       "    </li>\n",
       "    <li>schizophrenia.SUM\n",
       "      <ul>\n",
       "      <li>formatter: DOUBLE[#,###.00]</li>\n",
       "      </ul>\n",
       "    </li>\n",
       "    <li>silver.MEAN\n",
       "      <ul>\n",
       "      <li>formatter: DOUBLE[#,###.00]</li>\n",
       "      </ul>\n",
       "    </li>\n",
       "    <li>silver.SUM\n",
       "      <ul>\n",
       "      <li>formatter: INT[#,###]</li>\n",
       "      </ul>\n",
       "    </li>\n",
       "    <li>total.SUM\n",
       "      <ul>\n",
       "      <li>formatter: INT[#,###]</li>\n",
       "      </ul>\n",
       "    </li>\n",
       "    <li>year.MEAN\n",
       "      <ul>\n",
       "      <li>formatter: DOUBLE[#,###.00]</li>\n",
       "      </ul>\n",
       "    </li>\n",
       "    <li>year.SUM\n",
       "      <ul>\n",
       "      <li>formatter: INT[#,###]</li>\n",
       "      </ul>\n",
       "    </li>\n",
       "    </ul>\n",
       "  </li>\n",
       "  </ul>\n",
       "</li>\n",
       "</ul>\n"
      ],
      "text/plain": [
       "<atoti.cube.Cube at 0x7efe962cba90>"
      ]
     },
     "execution_count": 129,
     "metadata": {
      "application/json": {
       "expanded": false,
       "root": "factTable"
      }
     },
     "output_type": "execute_result"
    }
   ],
   "source": [
    "testcube"
   ]
  },
  {
   "cell_type": "code",
   "execution_count": 130,
   "id": "ad272527-67cd-4785-b77f-f7bb45bef4f8",
   "metadata": {},
   "outputs": [],
   "source": [
    "hierarchies, levels, measures = testcube.hierarchies, testcube.levels, testcube.measures"
   ]
  },
  {
   "cell_type": "code",
   "execution_count": 131,
   "id": "c9d6c08f-9247-46ea-a535-74527fda3c9d",
   "metadata": {},
   "outputs": [
    {
     "name": "stdout",
     "output_type": "stream",
     "text": [
      "[('factTable', 'code'), ('Medals', 'code'), ('Countries', 'continent'), ('Medals', 'id'), ('Medals', 'medal'), ('Illness', 'country'), ('factTable', 'factid'), ('factTable', 'country')]\n"
     ]
    }
   ],
   "source": [
    "print(list(testcube.hierarchies))"
   ]
  },
  {
   "cell_type": "code",
   "execution_count": 133,
   "id": "88b12bbc-5914-470d-abd2-5b4d3a88fc73",
   "metadata": {},
   "outputs": [
    {
     "ename": "KeyError",
     "evalue": "'year'",
     "output_type": "error",
     "traceback": [
      "\u001b[0;31m---------------------------------------------------------------------------\u001b[0m",
      "\u001b[0;31mKeyError\u001b[0m                                  Traceback (most recent call last)",
      "Cell \u001b[0;32mIn[133], line 1\u001b[0m\n\u001b[0;32m----> 1\u001b[0m \u001b[43mhierarchies\u001b[49m\u001b[43m[\u001b[49m\u001b[38;5;124;43m\"\u001b[39;49m\u001b[38;5;124;43mIllness\u001b[39;49m\u001b[38;5;124;43m\"\u001b[39;49m\u001b[43m,\u001b[49m\u001b[38;5;124;43m\"\u001b[39;49m\u001b[38;5;124;43myear\u001b[39;49m\u001b[38;5;124;43m\"\u001b[39;49m\u001b[43m]\u001b[49m\n",
      "File \u001b[0;32m~/.local/lib/python3.10/site-packages/pydantic/validate_call_decorator.py:58\u001b[0m, in \u001b[0;36mvalidate_call.<locals>.validate.<locals>.wrapper_function\u001b[0;34m(*args, **kwargs)\u001b[0m\n\u001b[1;32m     56\u001b[0m \u001b[38;5;129m@functools\u001b[39m\u001b[38;5;241m.\u001b[39mwraps(function)\n\u001b[1;32m     57\u001b[0m \u001b[38;5;28;01mdef\u001b[39;00m \u001b[38;5;21mwrapper_function\u001b[39m(\u001b[38;5;241m*\u001b[39margs, \u001b[38;5;241m*\u001b[39m\u001b[38;5;241m*\u001b[39mkwargs):\n\u001b[0;32m---> 58\u001b[0m     \u001b[38;5;28;01mreturn\u001b[39;00m \u001b[43mvalidate_call_wrapper\u001b[49m\u001b[43m(\u001b[49m\u001b[38;5;241;43m*\u001b[39;49m\u001b[43margs\u001b[49m\u001b[43m,\u001b[49m\u001b[43m \u001b[49m\u001b[38;5;241;43m*\u001b[39;49m\u001b[38;5;241;43m*\u001b[39;49m\u001b[43mkwargs\u001b[49m\u001b[43m)\u001b[49m\n",
      "File \u001b[0;32m~/.local/lib/python3.10/site-packages/pydantic/_internal/_validate_call.py:81\u001b[0m, in \u001b[0;36mValidateCallWrapper.__call__\u001b[0;34m(self, *args, **kwargs)\u001b[0m\n\u001b[1;32m     80\u001b[0m \u001b[38;5;28;01mdef\u001b[39;00m \u001b[38;5;21m__call__\u001b[39m(\u001b[38;5;28mself\u001b[39m, \u001b[38;5;241m*\u001b[39margs: Any, \u001b[38;5;241m*\u001b[39m\u001b[38;5;241m*\u001b[39mkwargs: Any) \u001b[38;5;241m-\u001b[39m\u001b[38;5;241m>\u001b[39m Any:\n\u001b[0;32m---> 81\u001b[0m     res \u001b[38;5;241m=\u001b[39m \u001b[38;5;28;43mself\u001b[39;49m\u001b[38;5;241;43m.\u001b[39;49m\u001b[43m__pydantic_validator__\u001b[49m\u001b[38;5;241;43m.\u001b[39;49m\u001b[43mvalidate_python\u001b[49m\u001b[43m(\u001b[49m\u001b[43mpydantic_core\u001b[49m\u001b[38;5;241;43m.\u001b[39;49m\u001b[43mArgsKwargs\u001b[49m\u001b[43m(\u001b[49m\u001b[43margs\u001b[49m\u001b[43m,\u001b[49m\u001b[43m \u001b[49m\u001b[43mkwargs\u001b[49m\u001b[43m)\u001b[49m\u001b[43m)\u001b[49m\n\u001b[1;32m     82\u001b[0m     \u001b[38;5;28;01mif\u001b[39;00m \u001b[38;5;28mself\u001b[39m\u001b[38;5;241m.\u001b[39m__return_pydantic_validator__:\n\u001b[1;32m     83\u001b[0m         \u001b[38;5;28;01mreturn\u001b[39;00m \u001b[38;5;28mself\u001b[39m\u001b[38;5;241m.\u001b[39m__return_pydantic_validator__(res)\n",
      "File \u001b[0;32m~/.local/lib/python3.10/site-packages/atoti/hierarchies.py:92\u001b[0m, in \u001b[0;36mHierarchies.__getitem__\u001b[0;34m(self, key)\u001b[0m\n\u001b[1;32m     90\u001b[0m (dimension_name, hierarchy_name) \u001b[38;5;241m=\u001b[39m \u001b[38;5;28mself\u001b[39m\u001b[38;5;241m.\u001b[39m_convert_key(key)\n\u001b[1;32m     91\u001b[0m \u001b[38;5;28;01mtry\u001b[39;00m:\n\u001b[0;32m---> 92\u001b[0m     hierarchy_argument \u001b[38;5;241m=\u001b[39m \u001b[38;5;28;43mself\u001b[39;49m\u001b[38;5;241;43m.\u001b[39;49m\u001b[43m_java_api\u001b[49m\u001b[38;5;241;43m.\u001b[39;49m\u001b[43mget_hierarchy\u001b[49m\u001b[43m(\u001b[49m\n\u001b[1;32m     93\u001b[0m \u001b[43m        \u001b[49m\u001b[43mhierarchy_name\u001b[49m\u001b[43m,\u001b[49m\n\u001b[1;32m     94\u001b[0m \u001b[43m        \u001b[49m\u001b[43mcube_name\u001b[49m\u001b[38;5;241;43m=\u001b[39;49m\u001b[38;5;28;43mself\u001b[39;49m\u001b[38;5;241;43m.\u001b[39;49m\u001b[43m_cube_name\u001b[49m\u001b[43m,\u001b[49m\n\u001b[1;32m     95\u001b[0m \u001b[43m        \u001b[49m\u001b[43mdimension_name\u001b[49m\u001b[38;5;241;43m=\u001b[39;49m\u001b[43mdimension_name\u001b[49m\u001b[43m,\u001b[49m\n\u001b[1;32m     96\u001b[0m \u001b[43m    \u001b[49m\u001b[43m)\u001b[49m\n\u001b[1;32m     97\u001b[0m \u001b[38;5;28;01mexcept\u001b[39;00m Py4JError \u001b[38;5;28;01mas\u001b[39;00m error:\n\u001b[1;32m     98\u001b[0m     \u001b[38;5;28;01mraise\u001b[39;00m \u001b[38;5;167;01mKeyError\u001b[39;00m(\u001b[38;5;28mstr\u001b[39m(error)) \u001b[38;5;28;01mfrom\u001b[39;00m \u001b[38;5;28;01mNone\u001b[39;00m\n",
      "File \u001b[0;32m~/.local/lib/python3.10/site-packages/atoti/_java_api.py:1345\u001b[0m, in \u001b[0;36mJavaApi.get_hierarchy\u001b[0;34m(self, name, cube_name, dimension_name)\u001b[0m\n\u001b[1;32m   1341\u001b[0m java_hierarchy \u001b[38;5;241m=\u001b[39m \u001b[38;5;28mself\u001b[39m\u001b[38;5;241m.\u001b[39m_outside_transaction_api()\u001b[38;5;241m.\u001b[39mgetHierarchy(\n\u001b[1;32m   1342\u001b[0m     cube_name, dimension_name, name\n\u001b[1;32m   1343\u001b[0m )\n\u001b[1;32m   1344\u001b[0m \u001b[38;5;28;01mif\u001b[39;00m java_hierarchy\u001b[38;5;241m.\u001b[39misEmpty():\n\u001b[0;32m-> 1345\u001b[0m     \u001b[38;5;28;01mraise\u001b[39;00m \u001b[38;5;167;01mKeyError\u001b[39;00m(name)\n\u001b[1;32m   1346\u001b[0m \u001b[38;5;28;01mreturn\u001b[39;00m _convert_java_hierarchy_to_python_hierarchy_arguments(\n\u001b[1;32m   1347\u001b[0m     java_hierarchy\u001b[38;5;241m.\u001b[39morElseThrow()\n\u001b[1;32m   1348\u001b[0m )\n",
      "\u001b[0;31mKeyError\u001b[0m: 'year'"
     ]
    }
   ],
   "source": [
    "hierarchies[\"Illness\",\"year\"]"
   ]
  },
  {
   "cell_type": "code",
   "execution_count": 128,
   "id": "502b60af-401d-4cad-9de6-e1864b222c9c",
   "metadata": {},
   "outputs": [
    {
     "data": {
      "application/json": {
       "code (Medals/code/code)": {
        "dimension": "Medals",
        "hierarchy": "code",
        "order": "NaturalOrder",
        "type": "String"
       },
       "code (factTable/code/code)": {
        "dimension": "factTable",
        "hierarchy": "code",
        "order": "NaturalOrder",
        "type": "String"
       },
       "continent (Countries/continent/continent)": {
        "dimension": "Countries",
        "hierarchy": "continent",
        "order": "NaturalOrder",
        "type": "String"
       },
       "country (Illness/country/country)": {
        "dimension": "Illness",
        "hierarchy": "country",
        "order": "NaturalOrder",
        "type": "String"
       },
       "country (factTable/country/country)": {
        "dimension": "factTable",
        "hierarchy": "country",
        "order": "NaturalOrder",
        "type": "String"
       },
       "factid (factTable/factid/factid)": {
        "dimension": "factTable",
        "hierarchy": "factid",
        "order": "NaturalOrder",
        "type": "int"
       },
       "id (Medals/id/id)": {
        "dimension": "Medals",
        "hierarchy": "id",
        "order": "NaturalOrder",
        "type": "int"
       },
       "medal (Medals/medal/medal)": {
        "dimension": "Medals",
        "hierarchy": "medal",
        "order": "NaturalOrder",
        "type": "String"
       }
      },
      "text/html": [
       "<ul>\n",
       "<li>Levels\n",
       "  <ul>\n",
       "  <li>code (Medals/code/code)\n",
       "    <ul>\n",
       "    <li>dimension: Medals</li>\n",
       "    <li>hierarchy: code</li>\n",
       "    <li>type: String</li>\n",
       "    <li>order: NaturalOrder</li>\n",
       "    </ul>\n",
       "  </li>\n",
       "  <li>code (factTable/code/code)\n",
       "    <ul>\n",
       "    <li>dimension: factTable</li>\n",
       "    <li>hierarchy: code</li>\n",
       "    <li>type: String</li>\n",
       "    <li>order: NaturalOrder</li>\n",
       "    </ul>\n",
       "  </li>\n",
       "  <li>continent (Countries/continent/continent)\n",
       "    <ul>\n",
       "    <li>dimension: Countries</li>\n",
       "    <li>hierarchy: continent</li>\n",
       "    <li>type: String</li>\n",
       "    <li>order: NaturalOrder</li>\n",
       "    </ul>\n",
       "  </li>\n",
       "  <li>country (Illness/country/country)\n",
       "    <ul>\n",
       "    <li>dimension: Illness</li>\n",
       "    <li>hierarchy: country</li>\n",
       "    <li>type: String</li>\n",
       "    <li>order: NaturalOrder</li>\n",
       "    </ul>\n",
       "  </li>\n",
       "  <li>country (factTable/country/country)\n",
       "    <ul>\n",
       "    <li>dimension: factTable</li>\n",
       "    <li>hierarchy: country</li>\n",
       "    <li>type: String</li>\n",
       "    <li>order: NaturalOrder</li>\n",
       "    </ul>\n",
       "  </li>\n",
       "  <li>factid (factTable/factid/factid)\n",
       "    <ul>\n",
       "    <li>dimension: factTable</li>\n",
       "    <li>hierarchy: factid</li>\n",
       "    <li>type: int</li>\n",
       "    <li>order: NaturalOrder</li>\n",
       "    </ul>\n",
       "  </li>\n",
       "  <li>id (Medals/id/id)\n",
       "    <ul>\n",
       "    <li>dimension: Medals</li>\n",
       "    <li>hierarchy: id</li>\n",
       "    <li>type: int</li>\n",
       "    <li>order: NaturalOrder</li>\n",
       "    </ul>\n",
       "  </li>\n",
       "  <li>medal (Medals/medal/medal)\n",
       "    <ul>\n",
       "    <li>dimension: Medals</li>\n",
       "    <li>hierarchy: medal</li>\n",
       "    <li>type: String</li>\n",
       "    <li>order: NaturalOrder</li>\n",
       "    </ul>\n",
       "  </li>\n",
       "  </ul>\n",
       "</li>\n",
       "</ul>\n"
      ],
      "text/plain": [
       "<atoti.levels.Levels at 0x7efe962c98a0>"
      ]
     },
     "execution_count": 128,
     "metadata": {
      "application/json": {
       "expanded": true,
       "root": "Levels"
      }
     },
     "output_type": "execute_result"
    }
   ],
   "source": [
    "hi"
   ]
  },
  {
   "cell_type": "code",
   "execution_count": 99,
   "id": "df93ed09-8f59-4d50-9c1c-0a336cc78995",
   "metadata": {},
   "outputs": [
    {
     "data": {
      "application/json": {
       "Countries": {
        "continent": [
         "continent"
        ]
       },
       "Illness": {
        "country": [
         "country"
        ]
       },
       "Medals": {
        "code": [
         "code"
        ],
        "id": [
         "id"
        ],
        "medal": [
         "medal"
        ]
       },
       "factTable": {
        "code": [
         "code"
        ],
        "country": [
         "country"
        ],
        "factid": [
         "factid"
        ]
       }
      },
      "text/html": [
       "<ul>\n",
       "<li>Dimensions\n",
       "  <ul>\n",
       "  <li>Countries\n",
       "    <ul>\n",
       "    <li>continent\n",
       "      <ol>\n",
       "      <li>continent</li>\n",
       "      </ol>    </li>\n",
       "    </ul>\n",
       "  </li>\n",
       "  <li>Illness\n",
       "    <ul>\n",
       "    <li>country\n",
       "      <ol>\n",
       "      <li>country</li>\n",
       "      </ol>    </li>\n",
       "    </ul>\n",
       "  </li>\n",
       "  <li>Medals\n",
       "    <ul>\n",
       "    <li>code\n",
       "      <ol>\n",
       "      <li>code</li>\n",
       "      </ol>    </li>\n",
       "    <li>id\n",
       "      <ol>\n",
       "      <li>id</li>\n",
       "      </ol>    </li>\n",
       "    <li>medal\n",
       "      <ol>\n",
       "      <li>medal</li>\n",
       "      </ol>    </li>\n",
       "    </ul>\n",
       "  </li>\n",
       "  <li>factTable\n",
       "    <ul>\n",
       "    <li>code\n",
       "      <ol>\n",
       "      <li>code</li>\n",
       "      </ol>    </li>\n",
       "    <li>country\n",
       "      <ol>\n",
       "      <li>country</li>\n",
       "      </ol>    </li>\n",
       "    <li>factid\n",
       "      <ol>\n",
       "      <li>factid</li>\n",
       "      </ol>    </li>\n",
       "    </ul>\n",
       "  </li>\n",
       "  </ul>\n",
       "</li>\n",
       "</ul>\n"
      ],
      "text/plain": [
       "{('factTable', 'code'): <atoti.hierarchy.Hierarchy object at 0x7efe94cdbe20>, ('Medals', 'code'): <atoti.hierarchy.Hierarchy object at 0x7efe94cdbdf0>, ('Countries', 'continent'): <atoti.hierarchy.Hierarchy object at 0x7efe94cdbf40>, ('Medals', 'id'): <atoti.hierarchy.Hierarchy object at 0x7efe94cdbdc0>, ('Medals', 'medal'): <atoti.hierarchy.Hierarchy object at 0x7efe94e55f90>, ('Illness', 'country'): <atoti.hierarchy.Hierarchy object at 0x7efe94e55090>, ('factTable', 'factid'): <atoti.hierarchy.Hierarchy object at 0x7efe94e556f0>, ('factTable', 'country'): <atoti.hierarchy.Hierarchy object at 0x7efe94e563e0>}"
      ]
     },
     "execution_count": 99,
     "metadata": {
      "application/json": {
       "expanded": true,
       "root": "Dimensions"
      }
     },
     "output_type": "execute_result"
    }
   ],
   "source": [
    "hierarchies"
   ]
  },
  {
   "cell_type": "code",
   "execution_count": 93,
   "id": "c947c29a-164f-4d4e-80ad-557f47100ff7",
   "metadata": {},
   "outputs": [
    {
     "data": {
      "text/html": [
       "<div>\n",
       "<style scoped>\n",
       "    .dataframe tbody tr th:only-of-type {\n",
       "        vertical-align: middle;\n",
       "    }\n",
       "\n",
       "    .dataframe tbody tr th {\n",
       "        vertical-align: top;\n",
       "    }\n",
       "\n",
       "    .dataframe thead th {\n",
       "        text-align: right;\n",
       "    }\n",
       "</style>\n",
       "<table border=\"1\" class=\"dataframe\">\n",
       "  <thead>\n",
       "    <tr style=\"text-align: right;\">\n",
       "      <th></th>\n",
       "      <th>depression.SUM</th>\n",
       "    </tr>\n",
       "    <tr>\n",
       "      <th>country</th>\n",
       "      <th></th>\n",
       "    </tr>\n",
       "  </thead>\n",
       "  <tbody>\n",
       "    <tr>\n",
       "      <th>Algeria</th>\n",
       "      <td>4422.37734</td>\n",
       "    </tr>\n",
       "    <tr>\n",
       "      <th>Argentina</th>\n",
       "      <td>3154.68588</td>\n",
       "    </tr>\n",
       "    <tr>\n",
       "      <th>Armenia</th>\n",
       "      <td>2349.97071</td>\n",
       "    </tr>\n",
       "    <tr>\n",
       "      <th>Australia</th>\n",
       "      <td>11764.54423</td>\n",
       "    </tr>\n",
       "    <tr>\n",
       "      <th>Austria</th>\n",
       "      <td>7262.1224</td>\n",
       "    </tr>\n",
       "    <tr>\n",
       "      <th>Azerbaijan</th>\n",
       "      <td>2593.7585</td>\n",
       "    </tr>\n",
       "    <tr>\n",
       "      <th>Bahamas</th>\n",
       "      <td>3614.60047</td>\n",
       "    </tr>\n",
       "    <tr>\n",
       "      <th>Bahrain</th>\n",
       "      <td>1660.5003</td>\n",
       "    </tr>\n",
       "    <tr>\n",
       "      <th>Barbados</th>\n",
       "      <td>532.7569</td>\n",
       "    </tr>\n",
       "    <tr>\n",
       "      <th>Belarus</th>\n",
       "      <td>9125.38374</td>\n",
       "    </tr>\n",
       "    <tr>\n",
       "      <th>Belgium</th>\n",
       "      <td>5344.68869</td>\n",
       "    </tr>\n",
       "    <tr>\n",
       "      <th>Botswana</th>\n",
       "      <td>722.1253</td>\n",
       "    </tr>\n",
       "    <tr>\n",
       "      <th>Brazil</th>\n",
       "      <td>5270.0514</td>\n",
       "    </tr>\n",
       "    <tr>\n",
       "      <th>Bulgaria</th>\n",
       "      <td>4633.84506</td>\n",
       "    </tr>\n",
       "    <tr>\n",
       "      <th>Burundi</th>\n",
       "      <td>1777.4609</td>\n",
       "    </tr>\n",
       "    <tr>\n",
       "      <th>Cameroon</th>\n",
       "      <td>3206.06817</td>\n",
       "    </tr>\n",
       "    <tr>\n",
       "      <th>Canada</th>\n",
       "      <td>7842.62604</td>\n",
       "    </tr>\n",
       "    <tr>\n",
       "      <th>Chile</th>\n",
       "      <td>2252.34594</td>\n",
       "    </tr>\n",
       "    <tr>\n",
       "      <th>Colombia</th>\n",
       "      <td>2431.48714</td>\n",
       "    </tr>\n",
       "  </tbody>\n",
       "</table>\n",
       "</div>"
      ],
      "text/plain": [
       "            depression.SUM\n",
       "country                   \n",
       "Algeria         4422.37734\n",
       "Argentina       3154.68588\n",
       "Armenia         2349.97071\n",
       "Australia      11764.54423\n",
       "Austria          7262.1224\n",
       "Azerbaijan       2593.7585\n",
       "Bahamas         3614.60047\n",
       "Bahrain          1660.5003\n",
       "Barbados          532.7569\n",
       "Belarus         9125.38374\n",
       "Belgium         5344.68869\n",
       "Botswana          722.1253\n",
       "Brazil           5270.0514\n",
       "Bulgaria        4633.84506\n",
       "Burundi          1777.4609\n",
       "Cameroon        3206.06817\n",
       "Canada          7842.62604\n",
       "Chile           2252.34594\n",
       "Colombia        2431.48714"
      ]
     },
     "execution_count": 93,
     "metadata": {},
     "output_type": "execute_result"
    }
   ],
   "source": [
    "testcube.query(measures[\"depression.SUM\"], levels=[levels['Illness','country','country']])[1:20]"
   ]
  },
  {
   "cell_type": "code",
   "execution_count": 124,
   "id": "09f1d84d-b5f3-4f69-a0a0-7c8be6309e6b",
   "metadata": {
    "atoti": {
     "widget": {
      "mapping": {
       "horizontalSubplots": [],
       "sliceBy": [
        "[factTable].[country].[country]"
       ],
       "values": [
        "[Measures].[total.SUM]"
       ],
       "verticalSubplots": []
      },
      "query": {
       "mdx": "SELECT NON EMPTY Hierarchize(Descendants({[factTable].[country].[ALL].[AllMember]}, 1, SELF_AND_BEFORE)) ON ROWS, NON EMPTY {[Measures].[total.SUM]} ON COLUMNS FROM [factTable] CELL PROPERTIES VALUE, FORMATTED_VALUE, BACK_COLOR, FORE_COLOR, FONT_FLAGS",
       "updateMode": "once"
      },
      "serverKey": "default",
      "switchedTo": "plotly-line-chart",
      "widgetKey": "plotly-donut-chart"
     }
    }
   },
   "outputs": [
    {
     "data": {
      "application/vnd.atoti.widget.v0+json": {
       "sessionId": "1712471396_TJ8YIQ",
       "sessionLocation": {
        "https": false,
        "port": 9095
       },
       "widgetCreationCode": "session.widget"
      },
      "text/html": [
       "<img height=\"352\" width=\"1473\" src=\"data:image/png;base64,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\" />"
      ],
      "text/plain": [
       "Open the notebook in JupyterLab with the Atoti JupyterLab extension enabled to build this widget."
      ]
     },
     "metadata": {},
     "output_type": "display_data"
    }
   ],
   "source": [
    "session.widget"
   ]
  }
 ],
 "metadata": {
  "kernelspec": {
   "display_name": "Python 3 (ipykernel)",
   "language": "python",
   "name": "python3"
  },
  "language_info": {
   "codemirror_mode": {
    "name": "ipython",
    "version": 3
   },
   "file_extension": ".py",
   "mimetype": "text/x-python",
   "name": "python",
   "nbconvert_exporter": "python",
   "pygments_lexer": "ipython3",
   "version": "3.10.12"
  }
 },
 "nbformat": 4,
 "nbformat_minor": 5
}
