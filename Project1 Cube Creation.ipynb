{
 "cells": [
  {
   "cell_type": "code",
   "execution_count": 99,
   "id": "e3250406-7dc5-4889-bfec-fd13700da2ff",
   "metadata": {},
   "outputs": [],
   "source": [
    "import atoti as tt"
   ]
  },
  {
   "cell_type": "code",
   "execution_count": 100,
   "id": "5baab508-0f7f-498d-92d6-82f85cfdfb5a",
   "metadata": {},
   "outputs": [
    {
     "name": "stderr",
     "output_type": "stream",
     "text": [
      "Closing existing \"Unnamed\" session to create the new one.\n"
     ]
    }
   ],
   "source": [
    "session = tt.Session(\n",
    "    user_content_storage=\".content\",\n",
    "    port=9095,\n",
    "    java_options=[\"-Xms1G\", \"-Xmx10G\"]\n",
    ")"
   ]
  },
  {
   "cell_type": "code",
   "execution_count": 101,
   "id": "42db0455-3217-44f3-8957-eb6e98bbe662",
   "metadata": {},
   "outputs": [],
   "source": [
    "db_name = \"Olympic\"\n",
    "db_user = \"postgres\"\n",
    "db_password = \"postgres\"  \n",
    "db_host = \"localhost\"  \n",
    "db_port = \"5432\""
   ]
  },
  {
   "cell_type": "code",
   "execution_count": 102,
   "id": "0827c8bd-7294-492f-841b-6c3840e1b3c1",
   "metadata": {},
   "outputs": [],
   "source": [
    "jdbc_url = f\"jdbc:postgresql://{db_host}:{db_port}/{db_name}?user={db_user}&password={db_password}\""
   ]
  },
  {
   "cell_type": "code",
   "execution_count": 103,
   "id": "f6517067-5b30-4559-8178-b5c0b73adbed",
   "metadata": {},
   "outputs": [
    {
     "data": {
      "text/plain": [
       "'jdbc:postgresql://localhost:5432/Olympic?user=postgres&password=postgres'"
      ]
     },
     "execution_count": 103,
     "metadata": {},
     "output_type": "execute_result"
    }
   ],
   "source": [
    "jdbc_url"
   ]
  },
  {
   "cell_type": "code",
   "execution_count": 104,
   "id": "0e3273fb-18f1-47a1-affd-8da19cd4e59a",
   "metadata": {},
   "outputs": [],
   "source": [
    "facttest = session.read_sql(\n",
    "    \"SELECT * FROM factolympic\",\n",
    "    keys=[\"year\",\"country\"],\n",
    "    table_name=\"factTable\",\n",
    "    url=jdbc_url,\n",
    ")"
   ]
  },
  {
   "cell_type": "code",
   "execution_count": 160,
   "id": "7efa3dd7-855c-4584-891c-63724cc3f43a",
   "metadata": {},
   "outputs": [
    {
     "data": {
      "text/html": [
       "<div>\n",
       "<style scoped>\n",
       "    .dataframe tbody tr th:only-of-type {\n",
       "        vertical-align: middle;\n",
       "    }\n",
       "\n",
       "    .dataframe tbody tr th {\n",
       "        vertical-align: top;\n",
       "    }\n",
       "\n",
       "    .dataframe thead th {\n",
       "        text-align: right;\n",
       "    }\n",
       "</style>\n",
       "<table border=\"1\" class=\"dataframe\">\n",
       "  <thead>\n",
       "    <tr style=\"text-align: right;\">\n",
       "      <th></th>\n",
       "      <th>decade</th>\n",
       "      <th>season</th>\n",
       "    </tr>\n",
       "    <tr>\n",
       "      <th>year</th>\n",
       "      <th></th>\n",
       "      <th></th>\n",
       "    </tr>\n",
       "  </thead>\n",
       "  <tbody>\n",
       "    <tr>\n",
       "      <th>2020</th>\n",
       "      <td>2020 - 2029</td>\n",
       "      <td>Summer</td>\n",
       "    </tr>\n",
       "    <tr>\n",
       "      <th>2004</th>\n",
       "      <td>2000 - 2009</td>\n",
       "      <td>Summer</td>\n",
       "    </tr>\n",
       "    <tr>\n",
       "      <th>1984</th>\n",
       "      <td>1980 - 1989</td>\n",
       "      <td>Winter</td>\n",
       "    </tr>\n",
       "    <tr>\n",
       "      <th>1952</th>\n",
       "      <td>1950 - 1959</td>\n",
       "      <td>Winter</td>\n",
       "    </tr>\n",
       "    <tr>\n",
       "      <th>1908</th>\n",
       "      <td>1900 - 1909</td>\n",
       "      <td>Summer</td>\n",
       "    </tr>\n",
       "  </tbody>\n",
       "</table>\n",
       "</div>"
      ],
      "text/plain": [
       "           decade  season\n",
       "year                     \n",
       "2020  2020 - 2029  Summer\n",
       "2004  2000 - 2009  Summer\n",
       "1984  1980 - 1989  Winter\n",
       "1952  1950 - 1959  Winter\n",
       "1908  1900 - 1909  Summer"
      ]
     },
     "execution_count": 160,
     "metadata": {},
     "output_type": "execute_result"
    }
   ],
   "source": [
    "time.head()"
   ]
  },
  {
   "cell_type": "code",
   "execution_count": 106,
   "id": "a8bdf743-64f6-480c-8d1c-a8dc047da837",
   "metadata": {},
   "outputs": [],
   "source": [
    "# medals = session.read_sql(\n",
    "#     \"SELECT * FROM medalsnew\",\n",
    "#     keys=[\"id\"],\n",
    "#     table_name=\"Medals\",\n",
    "#     url=jdbc_url)"
   ]
  },
  {
   "cell_type": "code",
   "execution_count": 107,
   "id": "cae93443-5fb4-4579-8960-98883518ab4c",
   "metadata": {},
   "outputs": [],
   "source": [
    "countries = session.read_sql(\n",
    "    \"SELECT * FROM countries\",\n",
    "    keys=[\"country\"],\n",
    "    table_name=\"Countries\",\n",
    "    url=jdbc_url)"
   ]
  },
  {
   "cell_type": "code",
   "execution_count": 108,
   "id": "efc6f584-fb36-4d51-b59b-5e88e5f692bc",
   "metadata": {},
   "outputs": [],
   "source": [
    "economic = session.read_sql(\n",
    "    \"SELECT * FROM economic\",\n",
    "    keys=[\"country\"],\n",
    "    table_name=\"Economic\",\n",
    "    url=jdbc_url)"
   ]
  },
  {
   "cell_type": "code",
   "execution_count": 109,
   "id": "0f054f27-207b-422a-885d-76e35834d64e",
   "metadata": {},
   "outputs": [],
   "source": [
    "time = session.read_sql(\n",
    "    \"SELECT * FROM timenew\",\n",
    "    keys=[\"year\"],\n",
    "    table_name=\"Time\",\n",
    "    url=jdbc_url)"
   ]
  },
  {
   "cell_type": "code",
   "execution_count": 110,
   "id": "9bbdbf36-c2e6-4c03-89a7-e7f57b28ba8d",
   "metadata": {},
   "outputs": [],
   "source": [
    "lifeexp = session.read_sql(\n",
    "    \"SELECT * FROM lifeexp\",\n",
    "    keys=[\"year\",\"country\"],\n",
    "    table_name=\"LifeExp\",\n",
    "    url=jdbc_url)"
   ]
  },
  {
   "cell_type": "code",
   "execution_count": 111,
   "id": "89612d1e-0b70-40ac-807d-40d4381a420a",
   "metadata": {},
   "outputs": [],
   "source": [
    "facttest.join(countries, facttest[\"country\"] == countries[\"country\"])"
   ]
  },
  {
   "cell_type": "code",
   "execution_count": 112,
   "id": "3cb62449-c5b1-4822-aea0-8bc729813214",
   "metadata": {},
   "outputs": [],
   "source": [
    "facttest.join(economic, facttest[\"year\"] == economic[\"year\"])"
   ]
  },
  {
   "cell_type": "code",
   "execution_count": 113,
   "id": "c24d7969-02e1-4d84-8c24-877e8ef78fd5",
   "metadata": {},
   "outputs": [],
   "source": [
    "facttest.join(time, facttest[\"year\"] == time[\"year\"])"
   ]
  },
  {
   "cell_type": "code",
   "execution_count": 114,
   "id": "b8563c3f-7a97-4015-8c95-3558c82b7284",
   "metadata": {},
   "outputs": [],
   "source": [
    "facttest.join(lifeexp, (facttest[\"year\"] == lifeexp[\"year\"] )& (facttest[\"country\"] == lifeexp[\"country\"]))"
   ]
  },
  {
   "cell_type": "code",
   "execution_count": 115,
   "id": "42d9d7e5-47fb-4492-ac2e-27aec91890c1",
   "metadata": {},
   "outputs": [
    {
     "data": {
      "text/markdown": [
       "```mermaid\n",
       "erDiagram\n",
       "  \"Economic\" {\n",
       "    nullable int \"year\"\n",
       "    _ String \"yearcode\"\n",
       "    _ String PK \"country\"\n",
       "    _ String \"code\"\n",
       "    nullable double \"poverty\"\n",
       "    nullable double \"gdpcap\"\n",
       "    nullable double \"gdpgrowth\"\n",
       "    nullable double \"intsrv\"\n",
       "    nullable double \"mort\"\n",
       "    nullable double \"hlthexp\"\n",
       "    nullable double \"govhlthcap\"\n",
       "    nullable double \"prvhlthcap\"\n",
       "    nullable double \"exthlthcap\"\n",
       "  }\n",
       "  \"LifeExp\" {\n",
       "    _ String PK \"country\"\n",
       "    _ String \"code\"\n",
       "    _ int PK \"year\"\n",
       "    nullable double \"lifeexpectancy\"\n",
       "  }\n",
       "  \"Countries\" {\n",
       "    _ String PK \"country\"\n",
       "    _ String \"continent\"\n",
       "  }\n",
       "  \"Time\" {\n",
       "    _ int PK \"year\"\n",
       "    _ String \"decade\"\n",
       "    _ String \"season\"\n",
       "  }\n",
       "  \"factTable\" {\n",
       "    _ int PK \"year\"\n",
       "    _ String PK \"country\"\n",
       "    nullable int \"bronze\"\n",
       "    nullable int \"silver\"\n",
       "    nullable int \"gold\"\n",
       "    nullable int \"total\"\n",
       "    nullable double \"depression\"\n",
       "    nullable double \"schizophrenia\"\n",
       "    nullable double \"bipolar\"\n",
       "    nullable double \"eatingdisorder\"\n",
       "    nullable double \"anxiety\"\n",
       "  }\n",
       "  \"factTable\" }o--o| \"Countries\" : \"`country` == `country`\"\n",
       "  \"factTable\" }o--o| \"LifeExp\" : \"(`country` == `country`) & (`year` == `year`)\"\n",
       "  \"factTable\" }o--o| \"Time\" : \"`year` == `year`\"\n",
       "  \"factTable\" }o..o{ \"Economic\" : \"`year` == `year`\"\n",
       "```\n"
      ],
      "text/plain": [
       "erDiagram\n",
       "  \"Economic\" {\n",
       "    nullable int \"year\"\n",
       "    _ String \"yearcode\"\n",
       "    _ String PK \"country\"\n",
       "    _ String \"code\"\n",
       "    nullable double \"poverty\"\n",
       "    nullable double \"gdpcap\"\n",
       "    nullable double \"gdpgrowth\"\n",
       "    nullable double \"intsrv\"\n",
       "    nullable double \"mort\"\n",
       "    nullable double \"hlthexp\"\n",
       "    nullable double \"govhlthcap\"\n",
       "    nullable double \"prvhlthcap\"\n",
       "    nullable double \"exthlthcap\"\n",
       "  }\n",
       "  \"LifeExp\" {\n",
       "    _ String PK \"country\"\n",
       "    _ String \"code\"\n",
       "    _ int PK \"year\"\n",
       "    nullable double \"lifeexpectancy\"\n",
       "  }\n",
       "  \"Countries\" {\n",
       "    _ String PK \"country\"\n",
       "    _ String \"continent\"\n",
       "  }\n",
       "  \"Time\" {\n",
       "    _ int PK \"year\"\n",
       "    _ String \"decade\"\n",
       "    _ String \"season\"\n",
       "  }\n",
       "  \"factTable\" {\n",
       "    _ int PK \"year\"\n",
       "    _ String PK \"country\"\n",
       "    nullable int \"bronze\"\n",
       "    nullable int \"silver\"\n",
       "    nullable int \"gold\"\n",
       "    nullable int \"total\"\n",
       "    nullable double \"depression\"\n",
       "    nullable double \"schizophrenia\"\n",
       "    nullable double \"bipolar\"\n",
       "    nullable double \"eatingdisorder\"\n",
       "    nullable double \"anxiety\"\n",
       "  }\n",
       "  \"factTable\" }o--o| \"Countries\" : \"`country` == `country`\"\n",
       "  \"factTable\" }o--o| \"LifeExp\" : \"(`country` == `country`) & (`year` == `year`)\"\n",
       "  \"factTable\" }o--o| \"Time\" : \"`year` == `year`\"\n",
       "  \"factTable\" }o..o{ \"Economic\" : \"`year` == `year`\""
      ]
     },
     "execution_count": 115,
     "metadata": {},
     "output_type": "execute_result"
    }
   ],
   "source": [
    "session.tables.schema"
   ]
  },
  {
   "cell_type": "code",
   "execution_count": 116,
   "id": "860a487d-8e0e-4637-92f3-ef9d6269b62e",
   "metadata": {},
   "outputs": [],
   "source": [
    "testcube = session.create_cube(facttest)"
   ]
  },
  {
   "cell_type": "code",
   "execution_count": 117,
   "id": "56262118-9490-4f59-8642-fd26bbaf1c72",
   "metadata": {
    "scrolled": true
   },
   "outputs": [
    {
     "data": {
      "application/json": {
       "Dimensions": {
        "Countries": {
         "continent": [
          "continent"
         ]
        },
        "Economic": {
         "code": [
          "code"
         ],
         "country": [
          "country"
         ],
         "yearcode": [
          "yearcode"
         ]
        },
        "LifeExp": {
         "code": [
          "code"
         ]
        },
        "Time": {
         "decade": [
          "decade"
         ],
         "season": [
          "season"
         ]
        },
        "factTable": {
         "country": [
          "country"
         ],
         "year": [
          "year"
         ]
        }
       },
       "Measures": {
        "anxiety.MEAN": {
         "formatter": "DOUBLE[#,###.00]"
        },
        "anxiety.SUM": {
         "formatter": "DOUBLE[#,###.00]"
        },
        "bipolar.MEAN": {
         "formatter": "DOUBLE[#,###.00]"
        },
        "bipolar.SUM": {
         "formatter": "DOUBLE[#,###.00]"
        },
        "bronze.MEAN": {
         "formatter": "DOUBLE[#,###.00]"
        },
        "bronze.SUM": {
         "formatter": "INT[#,###]"
        },
        "contributors.COUNT": {
         "formatter": "INT[#,###]"
        },
        "depression.MEAN": {
         "formatter": "DOUBLE[#,###.00]"
        },
        "depression.SUM": {
         "formatter": "DOUBLE[#,###.00]"
        },
        "eatingdisorder.MEAN": {
         "formatter": "DOUBLE[#,###.00]"
        },
        "eatingdisorder.SUM": {
         "formatter": "DOUBLE[#,###.00]"
        },
        "gold.MEAN": {
         "formatter": "DOUBLE[#,###.00]"
        },
        "gold.SUM": {
         "formatter": "INT[#,###]"
        },
        "schizophrenia.MEAN": {
         "formatter": "DOUBLE[#,###.00]"
        },
        "schizophrenia.SUM": {
         "formatter": "DOUBLE[#,###.00]"
        },
        "silver.MEAN": {
         "formatter": "DOUBLE[#,###.00]"
        },
        "silver.SUM": {
         "formatter": "INT[#,###]"
        },
        "total.MEAN": {
         "formatter": "DOUBLE[#,###.00]"
        },
        "total.SUM": {
         "formatter": "INT[#,###]"
        }
       }
      },
      "text/html": [
       "<ul>\n",
       "<li>factTable\n",
       "  <ul>\n",
       "  <li>Dimensions\n",
       "    <ul>\n",
       "    <li>Countries\n",
       "      <ul>\n",
       "      <li>continent\n",
       "        <ol>\n",
       "        <li>continent</li>\n",
       "        </ol>      </li>\n",
       "      </ul>\n",
       "    </li>\n",
       "    <li>Economic\n",
       "      <ul>\n",
       "      <li>code\n",
       "        <ol>\n",
       "        <li>code</li>\n",
       "        </ol>      </li>\n",
       "      <li>country\n",
       "        <ol>\n",
       "        <li>country</li>\n",
       "        </ol>      </li>\n",
       "      <li>yearcode\n",
       "        <ol>\n",
       "        <li>yearcode</li>\n",
       "        </ol>      </li>\n",
       "      </ul>\n",
       "    </li>\n",
       "    <li>LifeExp\n",
       "      <ul>\n",
       "      <li>code\n",
       "        <ol>\n",
       "        <li>code</li>\n",
       "        </ol>      </li>\n",
       "      </ul>\n",
       "    </li>\n",
       "    <li>Time\n",
       "      <ul>\n",
       "      <li>decade\n",
       "        <ol>\n",
       "        <li>decade</li>\n",
       "        </ol>      </li>\n",
       "      <li>season\n",
       "        <ol>\n",
       "        <li>season</li>\n",
       "        </ol>      </li>\n",
       "      </ul>\n",
       "    </li>\n",
       "    <li>factTable\n",
       "      <ul>\n",
       "      <li>country\n",
       "        <ol>\n",
       "        <li>country</li>\n",
       "        </ol>      </li>\n",
       "      <li>year\n",
       "        <ol>\n",
       "        <li>year</li>\n",
       "        </ol>      </li>\n",
       "      </ul>\n",
       "    </li>\n",
       "    </ul>\n",
       "  </li>\n",
       "  <li>Measures\n",
       "    <ul>\n",
       "    <li>anxiety.MEAN\n",
       "      <ul>\n",
       "      <li>formatter: DOUBLE[#,###.00]</li>\n",
       "      </ul>\n",
       "    </li>\n",
       "    <li>anxiety.SUM\n",
       "      <ul>\n",
       "      <li>formatter: DOUBLE[#,###.00]</li>\n",
       "      </ul>\n",
       "    </li>\n",
       "    <li>bipolar.MEAN\n",
       "      <ul>\n",
       "      <li>formatter: DOUBLE[#,###.00]</li>\n",
       "      </ul>\n",
       "    </li>\n",
       "    <li>bipolar.SUM\n",
       "      <ul>\n",
       "      <li>formatter: DOUBLE[#,###.00]</li>\n",
       "      </ul>\n",
       "    </li>\n",
       "    <li>bronze.MEAN\n",
       "      <ul>\n",
       "      <li>formatter: DOUBLE[#,###.00]</li>\n",
       "      </ul>\n",
       "    </li>\n",
       "    <li>bronze.SUM\n",
       "      <ul>\n",
       "      <li>formatter: INT[#,###]</li>\n",
       "      </ul>\n",
       "    </li>\n",
       "    <li>contributors.COUNT\n",
       "      <ul>\n",
       "      <li>formatter: INT[#,###]</li>\n",
       "      </ul>\n",
       "    </li>\n",
       "    <li>depression.MEAN\n",
       "      <ul>\n",
       "      <li>formatter: DOUBLE[#,###.00]</li>\n",
       "      </ul>\n",
       "    </li>\n",
       "    <li>depression.SUM\n",
       "      <ul>\n",
       "      <li>formatter: DOUBLE[#,###.00]</li>\n",
       "      </ul>\n",
       "    </li>\n",
       "    <li>eatingdisorder.MEAN\n",
       "      <ul>\n",
       "      <li>formatter: DOUBLE[#,###.00]</li>\n",
       "      </ul>\n",
       "    </li>\n",
       "    <li>eatingdisorder.SUM\n",
       "      <ul>\n",
       "      <li>formatter: DOUBLE[#,###.00]</li>\n",
       "      </ul>\n",
       "    </li>\n",
       "    <li>gold.MEAN\n",
       "      <ul>\n",
       "      <li>formatter: DOUBLE[#,###.00]</li>\n",
       "      </ul>\n",
       "    </li>\n",
       "    <li>gold.SUM\n",
       "      <ul>\n",
       "      <li>formatter: INT[#,###]</li>\n",
       "      </ul>\n",
       "    </li>\n",
       "    <li>schizophrenia.MEAN\n",
       "      <ul>\n",
       "      <li>formatter: DOUBLE[#,###.00]</li>\n",
       "      </ul>\n",
       "    </li>\n",
       "    <li>schizophrenia.SUM\n",
       "      <ul>\n",
       "      <li>formatter: DOUBLE[#,###.00]</li>\n",
       "      </ul>\n",
       "    </li>\n",
       "    <li>silver.MEAN\n",
       "      <ul>\n",
       "      <li>formatter: DOUBLE[#,###.00]</li>\n",
       "      </ul>\n",
       "    </li>\n",
       "    <li>silver.SUM\n",
       "      <ul>\n",
       "      <li>formatter: INT[#,###]</li>\n",
       "      </ul>\n",
       "    </li>\n",
       "    <li>total.MEAN\n",
       "      <ul>\n",
       "      <li>formatter: DOUBLE[#,###.00]</li>\n",
       "      </ul>\n",
       "    </li>\n",
       "    <li>total.SUM\n",
       "      <ul>\n",
       "      <li>formatter: INT[#,###]</li>\n",
       "      </ul>\n",
       "    </li>\n",
       "    </ul>\n",
       "  </li>\n",
       "  </ul>\n",
       "</li>\n",
       "</ul>\n"
      ],
      "text/plain": [
       "<atoti.cube.Cube at 0x72b62c342c20>"
      ]
     },
     "execution_count": 117,
     "metadata": {
      "application/json": {
       "expanded": false,
       "root": "factTable"
      }
     },
     "output_type": "execute_result"
    }
   ],
   "source": [
    "testcube"
   ]
  },
  {
   "cell_type": "code",
   "execution_count": 118,
   "id": "ad272527-67cd-4785-b77f-f7bb45bef4f8",
   "metadata": {},
   "outputs": [],
   "source": [
    "hierarchies, levels, measures = testcube.hierarchies, testcube.levels, testcube.measures"
   ]
  },
  {
   "cell_type": "code",
   "execution_count": 127,
   "id": "c9d6c08f-9247-46ea-a535-74527fda3c9d",
   "metadata": {},
   "outputs": [
    {
     "data": {
      "application/json": {
       "Countries": {
        "continent": [
         "continent"
        ],
        "country": [
         "country",
         "continent"
        ]
       },
       "Economic": {
        "code": [
         "code"
        ],
        "country": [
         "country"
        ]
       },
       "LifeExp": {
        "code": [
         "code"
        ]
       },
       "Time": {
        "decade": [
         "decade"
        ],
        "season": [
         "season"
        ],
        "year": [
         "year",
         "decade",
         "season"
        ]
       },
       "factTable": {
        "country": [
         "country"
        ],
        "year": [
         "year"
        ]
       }
      },
      "text/html": [
       "<ul>\n",
       "<li>Dimensions\n",
       "  <ul>\n",
       "  <li>Countries\n",
       "    <ul>\n",
       "    <li>continent\n",
       "      <ol>\n",
       "      <li>continent</li>\n",
       "      </ol>    </li>\n",
       "    <li>country\n",
       "      <ol>\n",
       "      <li>country</li>\n",
       "      <li>continent</li>\n",
       "      </ol>    </li>\n",
       "    </ul>\n",
       "  </li>\n",
       "  <li>Economic\n",
       "    <ul>\n",
       "    <li>code\n",
       "      <ol>\n",
       "      <li>code</li>\n",
       "      </ol>    </li>\n",
       "    <li>country\n",
       "      <ol>\n",
       "      <li>country</li>\n",
       "      </ol>    </li>\n",
       "    </ul>\n",
       "  </li>\n",
       "  <li>LifeExp\n",
       "    <ul>\n",
       "    <li>code\n",
       "      <ol>\n",
       "      <li>code</li>\n",
       "      </ol>    </li>\n",
       "    </ul>\n",
       "  </li>\n",
       "  <li>Time\n",
       "    <ul>\n",
       "    <li>decade\n",
       "      <ol>\n",
       "      <li>decade</li>\n",
       "      </ol>    </li>\n",
       "    <li>season\n",
       "      <ol>\n",
       "      <li>season</li>\n",
       "      </ol>    </li>\n",
       "    <li>year\n",
       "      <ol>\n",
       "      <li>year</li>\n",
       "      <li>decade</li>\n",
       "      <li>season</li>\n",
       "      </ol>    </li>\n",
       "    </ul>\n",
       "  </li>\n",
       "  <li>factTable\n",
       "    <ul>\n",
       "    <li>country\n",
       "      <ol>\n",
       "      <li>country</li>\n",
       "      </ol>    </li>\n",
       "    <li>year\n",
       "      <ol>\n",
       "      <li>year</li>\n",
       "      </ol>    </li>\n",
       "    </ul>\n",
       "  </li>\n",
       "  </ul>\n",
       "</li>\n",
       "</ul>\n"
      ],
      "text/plain": [
       "{('Time', 'year'): <atoti.hierarchy.Hierarchy object at 0x72b62c205cf0>, ('Countries', 'continent'): <atoti.hierarchy.Hierarchy object at 0x72b62c2040a0>, ('Time', 'decade'): <atoti.hierarchy.Hierarchy object at 0x72b62c204310>, ('LifeExp', 'code'): <atoti.hierarchy.Hierarchy object at 0x72b62c2044c0>, ('factTable', 'year'): <atoti.hierarchy.Hierarchy object at 0x72b62c2045b0>, ('factTable', 'country'): <atoti.hierarchy.Hierarchy object at 0x72b62c2045e0>, ('Time', 'season'): <atoti.hierarchy.Hierarchy object at 0x72b62c2046d0>, ('Economic', 'code'): <atoti.hierarchy.Hierarchy object at 0x72b62c204880>, ('Economic', 'country'): <atoti.hierarchy.Hierarchy object at 0x72b62c3d7790>, ('Countries', 'country'): <atoti.hierarchy.Hierarchy object at 0x72b62c3d6140>}"
      ]
     },
     "execution_count": 127,
     "metadata": {
      "application/json": {
       "expanded": true,
       "root": "Dimensions"
      }
     },
     "output_type": "execute_result"
    }
   ],
   "source": [
    "hierarchies"
   ]
  },
  {
   "cell_type": "code",
   "execution_count": 140,
   "id": "df93ed09-8f59-4d50-9c1c-0a336cc78995",
   "metadata": {
    "scrolled": true
   },
   "outputs": [
    {
     "data": {
      "text/plain": [
       "[('Time', 'year', 'year'),\n",
       " ('Time', 'year', 'decade'),\n",
       " ('Time', 'year', 'season'),\n",
       " ('Countries', 'country', 'country'),\n",
       " ('Countries', 'country', 'continent')]"
      ]
     },
     "execution_count": 140,
     "metadata": {},
     "output_type": "execute_result"
    }
   ],
   "source": [
    "list(levels)"
   ]
  },
  {
   "cell_type": "code",
   "execution_count": 180,
   "id": "6cbfab1d-52e8-4a00-a222-f25561915a9b",
   "metadata": {},
   "outputs": [],
   "source": [
    "hierarchies[\"Time\",\"year\"] = [time[\"decade\"],time[\"season\"],time[\"year\"]]"
   ]
  },
  {
   "cell_type": "code",
   "execution_count": 139,
   "id": "c58044dc-345b-4c83-8525-7325ffe7365d",
   "metadata": {},
   "outputs": [],
   "source": [
    "del hierarchies[\"Economic\",\"country\"]"
   ]
  },
  {
   "cell_type": "code",
   "execution_count": 179,
   "id": "a37cce50-f22f-407e-8ec3-0c048a695447",
   "metadata": {},
   "outputs": [
    {
     "data": {
      "text/plain": [
       "[('Time', 'year', 'decade'),\n",
       " ('Time', 'year', 'year'),\n",
       " ('Time', 'year', 'season'),\n",
       " ('Countries', 'country', 'continent'),\n",
       " ('Countries', 'country', 'country')]"
      ]
     },
     "execution_count": 179,
     "metadata": {},
     "output_type": "execute_result"
    }
   ],
   "source": [
    "list(testcube.levels)"
   ]
  },
  {
   "cell_type": "code",
   "execution_count": 181,
   "id": "c947c29a-164f-4d4e-80ad-557f47100ff7",
   "metadata": {},
   "outputs": [
    {
     "data": {
      "text/html": [
       "<div>\n",
       "<style scoped>\n",
       "    .dataframe tbody tr th:only-of-type {\n",
       "        vertical-align: middle;\n",
       "    }\n",
       "\n",
       "    .dataframe tbody tr th {\n",
       "        vertical-align: top;\n",
       "    }\n",
       "\n",
       "    .dataframe thead th {\n",
       "        text-align: right;\n",
       "    }\n",
       "</style>\n",
       "<table border=\"1\" class=\"dataframe\">\n",
       "  <thead>\n",
       "    <tr style=\"text-align: right;\">\n",
       "      <th></th>\n",
       "      <th></th>\n",
       "      <th></th>\n",
       "      <th></th>\n",
       "      <th></th>\n",
       "      <th>bronze.SUM</th>\n",
       "      <th>silver.SUM</th>\n",
       "      <th>gold.SUM</th>\n",
       "      <th>depression.SUM</th>\n",
       "    </tr>\n",
       "    <tr>\n",
       "      <th>decade</th>\n",
       "      <th>season</th>\n",
       "      <th>year</th>\n",
       "      <th>continent</th>\n",
       "      <th>country</th>\n",
       "      <th></th>\n",
       "      <th></th>\n",
       "      <th></th>\n",
       "      <th></th>\n",
       "    </tr>\n",
       "  </thead>\n",
       "  <tbody>\n",
       "    <tr>\n",
       "      <th rowspan=\"5\" valign=\"top\">1990 - 1999</th>\n",
       "      <th rowspan=\"5\" valign=\"top\">Summer</th>\n",
       "      <th rowspan=\"5\" valign=\"top\">1996</th>\n",
       "      <th rowspan=\"5\" valign=\"top\">Africa</th>\n",
       "      <th>Algeria</th>\n",
       "      <td>1</td>\n",
       "      <td>0</td>\n",
       "      <td>2</td>\n",
       "      <td>749.54</td>\n",
       "    </tr>\n",
       "    <tr>\n",
       "      <th>Angola</th>\n",
       "      <td>0</td>\n",
       "      <td>0</td>\n",
       "      <td>0</td>\n",
       "      <td>1,087.57</td>\n",
       "    </tr>\n",
       "    <tr>\n",
       "      <th>Benin</th>\n",
       "      <td>0</td>\n",
       "      <td>0</td>\n",
       "      <td>0</td>\n",
       "      <td>750.43</td>\n",
       "    </tr>\n",
       "    <tr>\n",
       "      <th>Botswana</th>\n",
       "      <td>0</td>\n",
       "      <td>0</td>\n",
       "      <td>0</td>\n",
       "      <td>725.62</td>\n",
       "    </tr>\n",
       "    <tr>\n",
       "      <th>Burkina Faso</th>\n",
       "      <td>0</td>\n",
       "      <td>0</td>\n",
       "      <td>0</td>\n",
       "      <td>725.99</td>\n",
       "    </tr>\n",
       "    <tr>\n",
       "      <th>...</th>\n",
       "      <th>...</th>\n",
       "      <th>...</th>\n",
       "      <th>...</th>\n",
       "      <th>...</th>\n",
       "      <td>...</td>\n",
       "      <td>...</td>\n",
       "      <td>...</td>\n",
       "      <td>...</td>\n",
       "    </tr>\n",
       "    <tr>\n",
       "      <th rowspan=\"5\" valign=\"top\">2010 - 2019</th>\n",
       "      <th rowspan=\"5\" valign=\"top\">Winter</th>\n",
       "      <th rowspan=\"5\" valign=\"top\">2018</th>\n",
       "      <th rowspan=\"5\" valign=\"top\">South America</th>\n",
       "      <th>Paraguay</th>\n",
       "      <td>0</td>\n",
       "      <td>0</td>\n",
       "      <td>0</td>\n",
       "      <td>666.39</td>\n",
       "    </tr>\n",
       "    <tr>\n",
       "      <th>Peru</th>\n",
       "      <td>0</td>\n",
       "      <td>0</td>\n",
       "      <td>0</td>\n",
       "      <td>353.82</td>\n",
       "    </tr>\n",
       "    <tr>\n",
       "      <th>Suriname</th>\n",
       "      <td>0</td>\n",
       "      <td>0</td>\n",
       "      <td>0</td>\n",
       "      <td>876.10</td>\n",
       "    </tr>\n",
       "    <tr>\n",
       "      <th>Uruguay</th>\n",
       "      <td>0</td>\n",
       "      <td>0</td>\n",
       "      <td>0</td>\n",
       "      <td>511.06</td>\n",
       "    </tr>\n",
       "    <tr>\n",
       "      <th>Venezuela</th>\n",
       "      <td>0</td>\n",
       "      <td>0</td>\n",
       "      <td>0</td>\n",
       "      <td>567.80</td>\n",
       "    </tr>\n",
       "  </tbody>\n",
       "</table>\n",
       "<p>2772 rows × 4 columns</p>\n",
       "</div>"
      ],
      "text/plain": [
       "                                                   bronze.SUM silver.SUM  \\\n",
       "decade      season year continent     country                              \n",
       "1990 - 1999 Summer 1996 Africa        Algeria               1          0   \n",
       "                                      Angola                0          0   \n",
       "                                      Benin                 0          0   \n",
       "                                      Botswana              0          0   \n",
       "                                      Burkina Faso          0          0   \n",
       "...                                                       ...        ...   \n",
       "2010 - 2019 Winter 2018 South America Paraguay              0          0   \n",
       "                                      Peru                  0          0   \n",
       "                                      Suriname              0          0   \n",
       "                                      Uruguay               0          0   \n",
       "                                      Venezuela             0          0   \n",
       "\n",
       "                                                   gold.SUM depression.SUM  \n",
       "decade      season year continent     country                               \n",
       "1990 - 1999 Summer 1996 Africa        Algeria             2         749.54  \n",
       "                                      Angola              0       1,087.57  \n",
       "                                      Benin               0         750.43  \n",
       "                                      Botswana            0         725.62  \n",
       "                                      Burkina Faso        0         725.99  \n",
       "...                                                     ...            ...  \n",
       "2010 - 2019 Winter 2018 South America Paraguay            0         666.39  \n",
       "                                      Peru                0         353.82  \n",
       "                                      Suriname            0         876.10  \n",
       "                                      Uruguay             0         511.06  \n",
       "                                      Venezuela           0         567.80  \n",
       "\n",
       "[2772 rows x 4 columns]"
      ]
     },
     "execution_count": 181,
     "metadata": {},
     "output_type": "execute_result"
    }
   ],
   "source": [
    "testcube.query(measures[\"bronze.SUM\"],measures[\"silver.SUM\"],measures[\"gold.SUM\"],measures[\"depression.SUM\"], levels=[levels[\"Time\",\"year\",\"year\"],levels['Countries', 'country', 'country']])"
   ]
  },
  {
   "cell_type": "code",
   "execution_count": 124,
   "id": "5cd00b3f-17d0-4082-b09b-fd1234ca8f91",
   "metadata": {},
   "outputs": [
    {
     "data": {
      "text/html": [
       "<div>\n",
       "<style scoped>\n",
       "    .dataframe tbody tr th:only-of-type {\n",
       "        vertical-align: middle;\n",
       "    }\n",
       "\n",
       "    .dataframe tbody tr th {\n",
       "        vertical-align: top;\n",
       "    }\n",
       "\n",
       "    .dataframe thead th {\n",
       "        text-align: right;\n",
       "    }\n",
       "</style>\n",
       "<table border=\"1\" class=\"dataframe\">\n",
       "  <thead>\n",
       "    <tr style=\"text-align: right;\">\n",
       "      <th></th>\n",
       "      <th>total.SUM</th>\n",
       "      <th>depression.MEAN</th>\n",
       "    </tr>\n",
       "    <tr>\n",
       "      <th>country</th>\n",
       "      <th></th>\n",
       "      <th></th>\n",
       "    </tr>\n",
       "  </thead>\n",
       "  <tbody>\n",
       "    <tr>\n",
       "      <th>Afghanistan</th>\n",
       "      <td>2</td>\n",
       "      <td>891.18</td>\n",
       "    </tr>\n",
       "    <tr>\n",
       "      <th>Albania</th>\n",
       "      <td>0</td>\n",
       "      <td>381.48</td>\n",
       "    </tr>\n",
       "    <tr>\n",
       "      <th>Algeria</th>\n",
       "      <td>15</td>\n",
       "      <td>736.32</td>\n",
       "    </tr>\n",
       "    <tr>\n",
       "      <th>American Samoa</th>\n",
       "      <td>0</td>\n",
       "      <td>391.00</td>\n",
       "    </tr>\n",
       "    <tr>\n",
       "      <th>Andorra</th>\n",
       "      <td>0</td>\n",
       "      <td>621.74</td>\n",
       "    </tr>\n",
       "    <tr>\n",
       "      <th>...</th>\n",
       "      <td>...</td>\n",
       "      <td>...</td>\n",
       "    </tr>\n",
       "    <tr>\n",
       "      <th>Venezuela</th>\n",
       "      <td>7</td>\n",
       "      <td>566.37</td>\n",
       "    </tr>\n",
       "    <tr>\n",
       "      <th>Vietnam</th>\n",
       "      <td>4</td>\n",
       "      <td>372.64</td>\n",
       "    </tr>\n",
       "    <tr>\n",
       "      <th>Yemen</th>\n",
       "      <td>0</td>\n",
       "      <td>892.93</td>\n",
       "    </tr>\n",
       "    <tr>\n",
       "      <th>Zambia</th>\n",
       "      <td>1</td>\n",
       "      <td>700.20</td>\n",
       "    </tr>\n",
       "    <tr>\n",
       "      <th>Zimbabwe</th>\n",
       "      <td>7</td>\n",
       "      <td>533.57</td>\n",
       "    </tr>\n",
       "  </tbody>\n",
       "</table>\n",
       "<p>198 rows × 2 columns</p>\n",
       "</div>"
      ],
      "text/plain": [
       "               total.SUM depression.MEAN\n",
       "country                                 \n",
       "Afghanistan            2          891.18\n",
       "Albania                0          381.48\n",
       "Algeria               15          736.32\n",
       "American Samoa         0          391.00\n",
       "Andorra                0          621.74\n",
       "...                  ...             ...\n",
       "Venezuela              7          566.37\n",
       "Vietnam                4          372.64\n",
       "Yemen                  0          892.93\n",
       "Zambia                 1          700.20\n",
       "Zimbabwe               7          533.57\n",
       "\n",
       "[198 rows x 2 columns]"
      ]
     },
     "execution_count": 124,
     "metadata": {},
     "output_type": "execute_result"
    }
   ],
   "source": [
    "testcube.query(measures[\"total.SUM\"],measures[\"depression.MEAN\"], levels = [levellevels[\"Countries\",'country','country']])"
   ]
  }
 ],
 "metadata": {
  "kernelspec": {
   "display_name": "Python 3 (ipykernel)",
   "language": "python",
   "name": "python3"
  },
  "language_info": {
   "codemirror_mode": {
    "name": "ipython",
    "version": 3
   },
   "file_extension": ".py",
   "mimetype": "text/x-python",
   "name": "python",
   "nbconvert_exporter": "python",
   "pygments_lexer": "ipython3",
   "version": "3.10.12"
  }
 },
 "nbformat": 4,
 "nbformat_minor": 5
}
