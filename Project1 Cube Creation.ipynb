{
 "cells": [
  {
   "cell_type": "code",
   "execution_count": 1,
   "id": "e3250406-7dc5-4889-bfec-fd13700da2ff",
   "metadata": {},
   "outputs": [
    {
     "name": "stdout",
     "output_type": "stream",
     "text": [
      "Welcome to Atoti 0.8.10!\n",
      "\n",
      "By using this community edition, you agree with the license available at https://docs.atoti.io/latest/eula.html.\n",
      "Browse the official documentation at https://docs.atoti.io.\n",
      "Join the community at https://www.atoti.io/register.\n",
      "\n",
      "Atoti collects telemetry data, which is used to help understand how to improve the product.\n",
      "If you don't wish to send usage data, you can request a trial license at https://www.atoti.io/evaluation-license-request.\n",
      "\n",
      "You can hide this message by setting the `ATOTI_HIDE_EULA_MESSAGE` environment variable to True.\n"
     ]
    }
   ],
   "source": [
    "import atoti as tt"
   ]
  },
  {
   "cell_type": "code",
   "execution_count": 2,
   "id": "5baab508-0f7f-498d-92d6-82f85cfdfb5a",
   "metadata": {},
   "outputs": [],
   "source": [
    "session = tt.Session(\n",
    "    user_content_storage=\".content\",\n",
    "    port=9095,\n",
    "    java_options=[\"-Xms1G\", \"-Xmx10G\"]\n",
    ")"
   ]
  },
  {
   "cell_type": "code",
   "execution_count": 3,
   "id": "42db0455-3217-44f3-8957-eb6e98bbe662",
   "metadata": {},
   "outputs": [],
   "source": [
    "db_name = \"Olympic\"\n",
    "db_user = \"postgres\"\n",
    "db_password = \"postgres\"  \n",
    "db_host = \"localhost\"  \n",
    "db_port = \"5432\""
   ]
  },
  {
   "cell_type": "code",
   "execution_count": 4,
   "id": "0827c8bd-7294-492f-841b-6c3840e1b3c1",
   "metadata": {},
   "outputs": [],
   "source": [
    "jdbc_url = f\"jdbc:postgresql://{db_host}:{db_port}/{db_name}?user={db_user}&password={db_password}\""
   ]
  },
  {
   "cell_type": "code",
   "execution_count": 5,
   "id": "f6517067-5b30-4559-8178-b5c0b73adbed",
   "metadata": {},
   "outputs": [
    {
     "data": {
      "text/plain": [
       "'jdbc:postgresql://localhost:5432/Olympic?user=postgres&password=postgres'"
      ]
     },
     "execution_count": 5,
     "metadata": {},
     "output_type": "execute_result"
    }
   ],
   "source": [
    "jdbc_url"
   ]
  },
  {
   "cell_type": "code",
   "execution_count": 6,
   "id": "0e3273fb-18f1-47a1-affd-8da19cd4e59a",
   "metadata": {},
   "outputs": [],
   "source": [
    "facttest = session.read_sql(\n",
    "    \"SELECT * FROM factolympic\",\n",
    "    keys=[\"year\",\"country\"],\n",
    "    table_name=\"factTable\",\n",
    "    url=jdbc_url,\n",
    ")"
   ]
  },
  {
   "cell_type": "code",
   "execution_count": 7,
   "id": "a8bdf743-64f6-480c-8d1c-a8dc047da837",
   "metadata": {},
   "outputs": [],
   "source": [
    "# medals = session.read_sql(\n",
    "#     \"SELECT * FROM medalsnew\",\n",
    "#     keys=[\"id\"],\n",
    "#     table_name=\"Medals\",\n",
    "#     url=jdbc_url)"
   ]
  },
  {
   "cell_type": "code",
   "execution_count": 8,
   "id": "cae93443-5fb4-4579-8960-98883518ab4c",
   "metadata": {},
   "outputs": [],
   "source": [
    "countries = session.read_sql(\n",
    "    \"SELECT * FROM countries\",\n",
    "    keys=[\"country\"],\n",
    "    table_name=\"Countries\",\n",
    "    url=jdbc_url)"
   ]
  },
  {
   "cell_type": "code",
   "execution_count": 9,
   "id": "efc6f584-fb36-4d51-b59b-5e88e5f692bc",
   "metadata": {},
   "outputs": [],
   "source": [
    "dimlife = session.read_sql(\n",
    "    \"SELECT * FROM dimlife\",\n",
    "    keys=[\"year\",\"country\"],\n",
    "    table_name=\"Life\",\n",
    "    url=jdbc_url)"
   ]
  },
  {
   "cell_type": "code",
   "execution_count": 10,
   "id": "0f054f27-207b-422a-885d-76e35834d64e",
   "metadata": {},
   "outputs": [],
   "source": [
    "time = session.read_sql(\n",
    "    \"SELECT * FROM timenew\",\n",
    "    keys=[\"year\"],\n",
    "    table_name=\"Time\",\n",
    "    url=jdbc_url)"
   ]
  },
  {
   "cell_type": "code",
   "execution_count": 11,
   "id": "9bbdbf36-c2e6-4c03-89a7-e7f57b28ba8d",
   "metadata": {},
   "outputs": [],
   "source": [
    "lifeexp = session.read_sql(\n",
    "    \"SELECT * FROM lifeexp\",\n",
    "    keys=[\"year\",\"country\"],\n",
    "    table_name=\"LifeExp\",\n",
    "    url=jdbc_url)"
   ]
  },
  {
   "cell_type": "code",
   "execution_count": 12,
   "id": "89612d1e-0b70-40ac-807d-40d4381a420a",
   "metadata": {},
   "outputs": [],
   "source": [
    "facttest.join(countries, facttest[\"country\"] == countries[\"country\"])"
   ]
  },
  {
   "cell_type": "code",
   "execution_count": 13,
   "id": "3cb62449-c5b1-4822-aea0-8bc729813214",
   "metadata": {},
   "outputs": [],
   "source": [
    "facttest.join(dimlife, (facttest[\"year\"] == dimlife[\"year\"] )& (facttest[\"country\"] == dimlife[\"country\"]))"
   ]
  },
  {
   "cell_type": "code",
   "execution_count": 14,
   "id": "c24d7969-02e1-4d84-8c24-877e8ef78fd5",
   "metadata": {},
   "outputs": [],
   "source": [
    "facttest.join(time, facttest[\"year\"] == time[\"year\"])"
   ]
  },
  {
   "cell_type": "code",
   "execution_count": 114,
   "id": "b8563c3f-7a97-4015-8c95-3558c82b7284",
   "metadata": {},
   "outputs": [],
   "source": [
    "facttest.join(lifeexp, (facttest[\"year\"] == lifeexp[\"year\"] )& (facttest[\"country\"] == lifeexp[\"country\"]))"
   ]
  },
  {
   "cell_type": "code",
   "execution_count": 15,
   "id": "42d9d7e5-47fb-4492-ac2e-27aec91890c1",
   "metadata": {},
   "outputs": [
    {
     "data": {
      "text/markdown": [
       "```mermaid\n",
       "erDiagram\n",
       "  \"LifeExp\" {\n",
       "    _ String PK \"country\"\n",
       "    _ String \"code\"\n",
       "    _ int PK \"year\"\n",
       "    nullable double \"lifeexpectancy\"\n",
       "  }\n",
       "  \"Countries\" {\n",
       "    _ String PK \"country\"\n",
       "    _ String \"continent\"\n",
       "  }\n",
       "  \"Life\" {\n",
       "    _ int PK \"year\"\n",
       "    _ String PK \"country\"\n",
       "    _ String \"lifeexpectancy\"\n",
       "    _ String \"gdpcap\"\n",
       "  }\n",
       "  \"Time\" {\n",
       "    _ int PK \"year\"\n",
       "    _ String \"decade\"\n",
       "    _ String \"season\"\n",
       "  }\n",
       "  \"factTable\" {\n",
       "    _ int PK \"year\"\n",
       "    _ String PK \"country\"\n",
       "    nullable int \"bronze\"\n",
       "    nullable int \"silver\"\n",
       "    nullable int \"gold\"\n",
       "    nullable int \"total\"\n",
       "    nullable double \"depression\"\n",
       "    nullable double \"schizophrenia\"\n",
       "    nullable double \"bipolar\"\n",
       "    nullable double \"eatingdisorder\"\n",
       "    nullable double \"anxiety\"\n",
       "  }\n",
       "  \"factTable\" }o--o| \"Countries\" : \"`country` == `country`\"\n",
       "  \"factTable\" }o--o| \"Life\" : \"(`country` == `country`) & (`year` == `year`)\"\n",
       "  \"factTable\" }o--o| \"Time\" : \"`year` == `year`\"\n",
       "```\n"
      ],
      "text/plain": [
       "erDiagram\n",
       "  \"LifeExp\" {\n",
       "    _ String PK \"country\"\n",
       "    _ String \"code\"\n",
       "    _ int PK \"year\"\n",
       "    nullable double \"lifeexpectancy\"\n",
       "  }\n",
       "  \"Countries\" {\n",
       "    _ String PK \"country\"\n",
       "    _ String \"continent\"\n",
       "  }\n",
       "  \"Life\" {\n",
       "    _ int PK \"year\"\n",
       "    _ String PK \"country\"\n",
       "    _ String \"lifeexpectancy\"\n",
       "    _ String \"gdpcap\"\n",
       "  }\n",
       "  \"Time\" {\n",
       "    _ int PK \"year\"\n",
       "    _ String \"decade\"\n",
       "    _ String \"season\"\n",
       "  }\n",
       "  \"factTable\" {\n",
       "    _ int PK \"year\"\n",
       "    _ String PK \"country\"\n",
       "    nullable int \"bronze\"\n",
       "    nullable int \"silver\"\n",
       "    nullable int \"gold\"\n",
       "    nullable int \"total\"\n",
       "    nullable double \"depression\"\n",
       "    nullable double \"schizophrenia\"\n",
       "    nullable double \"bipolar\"\n",
       "    nullable double \"eatingdisorder\"\n",
       "    nullable double \"anxiety\"\n",
       "  }\n",
       "  \"factTable\" }o--o| \"Countries\" : \"`country` == `country`\"\n",
       "  \"factTable\" }o--o| \"Life\" : \"(`country` == `country`) & (`year` == `year`)\"\n",
       "  \"factTable\" }o--o| \"Time\" : \"`year` == `year`\""
      ]
     },
     "execution_count": 15,
     "metadata": {},
     "output_type": "execute_result"
    }
   ],
   "source": [
    "session.tables.schema"
   ]
  },
  {
   "cell_type": "code",
   "execution_count": 16,
   "id": "860a487d-8e0e-4637-92f3-ef9d6269b62e",
   "metadata": {},
   "outputs": [],
   "source": [
    "testcube = session.create_cube(facttest)"
   ]
  },
  {
   "cell_type": "code",
   "execution_count": 17,
   "id": "56262118-9490-4f59-8642-fd26bbaf1c72",
   "metadata": {
    "scrolled": true
   },
   "outputs": [
    {
     "data": {
      "application/json": {
       "Dimensions": {
        "Countries": {
         "continent": [
          "continent"
         ]
        },
        "Life": {
         "gdpcap": [
          "gdpcap"
         ],
         "lifeexpectancy": [
          "lifeexpectancy"
         ]
        },
        "Time": {
         "decade": [
          "decade"
         ],
         "season": [
          "season"
         ]
        },
        "factTable": {
         "country": [
          "country"
         ],
         "year": [
          "year"
         ]
        }
       },
       "Measures": {
        "anxiety.MEAN": {
         "formatter": "DOUBLE[#,###.00]"
        },
        "anxiety.SUM": {
         "formatter": "DOUBLE[#,###.00]"
        },
        "bipolar.MEAN": {
         "formatter": "DOUBLE[#,###.00]"
        },
        "bipolar.SUM": {
         "formatter": "DOUBLE[#,###.00]"
        },
        "bronze.MEAN": {
         "formatter": "DOUBLE[#,###.00]"
        },
        "bronze.SUM": {
         "formatter": "INT[#,###]"
        },
        "contributors.COUNT": {
         "formatter": "INT[#,###]"
        },
        "depression.MEAN": {
         "formatter": "DOUBLE[#,###.00]"
        },
        "depression.SUM": {
         "formatter": "DOUBLE[#,###.00]"
        },
        "eatingdisorder.MEAN": {
         "formatter": "DOUBLE[#,###.00]"
        },
        "eatingdisorder.SUM": {
         "formatter": "DOUBLE[#,###.00]"
        },
        "gold.MEAN": {
         "formatter": "DOUBLE[#,###.00]"
        },
        "gold.SUM": {
         "formatter": "INT[#,###]"
        },
        "schizophrenia.MEAN": {
         "formatter": "DOUBLE[#,###.00]"
        },
        "schizophrenia.SUM": {
         "formatter": "DOUBLE[#,###.00]"
        },
        "silver.MEAN": {
         "formatter": "DOUBLE[#,###.00]"
        },
        "silver.SUM": {
         "formatter": "INT[#,###]"
        },
        "total.MEAN": {
         "formatter": "DOUBLE[#,###.00]"
        },
        "total.SUM": {
         "formatter": "INT[#,###]"
        }
       }
      },
      "text/html": [
       "<ul>\n",
       "<li>factTable\n",
       "  <ul>\n",
       "  <li>Dimensions\n",
       "    <ul>\n",
       "    <li>Countries\n",
       "      <ul>\n",
       "      <li>continent\n",
       "        <ol>\n",
       "        <li>continent</li>\n",
       "        </ol>      </li>\n",
       "      </ul>\n",
       "    </li>\n",
       "    <li>Life\n",
       "      <ul>\n",
       "      <li>gdpcap\n",
       "        <ol>\n",
       "        <li>gdpcap</li>\n",
       "        </ol>      </li>\n",
       "      <li>lifeexpectancy\n",
       "        <ol>\n",
       "        <li>lifeexpectancy</li>\n",
       "        </ol>      </li>\n",
       "      </ul>\n",
       "    </li>\n",
       "    <li>Time\n",
       "      <ul>\n",
       "      <li>decade\n",
       "        <ol>\n",
       "        <li>decade</li>\n",
       "        </ol>      </li>\n",
       "      <li>season\n",
       "        <ol>\n",
       "        <li>season</li>\n",
       "        </ol>      </li>\n",
       "      </ul>\n",
       "    </li>\n",
       "    <li>factTable\n",
       "      <ul>\n",
       "      <li>country\n",
       "        <ol>\n",
       "        <li>country</li>\n",
       "        </ol>      </li>\n",
       "      <li>year\n",
       "        <ol>\n",
       "        <li>year</li>\n",
       "        </ol>      </li>\n",
       "      </ul>\n",
       "    </li>\n",
       "    </ul>\n",
       "  </li>\n",
       "  <li>Measures\n",
       "    <ul>\n",
       "    <li>anxiety.MEAN\n",
       "      <ul>\n",
       "      <li>formatter: DOUBLE[#,###.00]</li>\n",
       "      </ul>\n",
       "    </li>\n",
       "    <li>anxiety.SUM\n",
       "      <ul>\n",
       "      <li>formatter: DOUBLE[#,###.00]</li>\n",
       "      </ul>\n",
       "    </li>\n",
       "    <li>bipolar.MEAN\n",
       "      <ul>\n",
       "      <li>formatter: DOUBLE[#,###.00]</li>\n",
       "      </ul>\n",
       "    </li>\n",
       "    <li>bipolar.SUM\n",
       "      <ul>\n",
       "      <li>formatter: DOUBLE[#,###.00]</li>\n",
       "      </ul>\n",
       "    </li>\n",
       "    <li>bronze.MEAN\n",
       "      <ul>\n",
       "      <li>formatter: DOUBLE[#,###.00]</li>\n",
       "      </ul>\n",
       "    </li>\n",
       "    <li>bronze.SUM\n",
       "      <ul>\n",
       "      <li>formatter: INT[#,###]</li>\n",
       "      </ul>\n",
       "    </li>\n",
       "    <li>contributors.COUNT\n",
       "      <ul>\n",
       "      <li>formatter: INT[#,###]</li>\n",
       "      </ul>\n",
       "    </li>\n",
       "    <li>depression.MEAN\n",
       "      <ul>\n",
       "      <li>formatter: DOUBLE[#,###.00]</li>\n",
       "      </ul>\n",
       "    </li>\n",
       "    <li>depression.SUM\n",
       "      <ul>\n",
       "      <li>formatter: DOUBLE[#,###.00]</li>\n",
       "      </ul>\n",
       "    </li>\n",
       "    <li>eatingdisorder.MEAN\n",
       "      <ul>\n",
       "      <li>formatter: DOUBLE[#,###.00]</li>\n",
       "      </ul>\n",
       "    </li>\n",
       "    <li>eatingdisorder.SUM\n",
       "      <ul>\n",
       "      <li>formatter: DOUBLE[#,###.00]</li>\n",
       "      </ul>\n",
       "    </li>\n",
       "    <li>gold.MEAN\n",
       "      <ul>\n",
       "      <li>formatter: DOUBLE[#,###.00]</li>\n",
       "      </ul>\n",
       "    </li>\n",
       "    <li>gold.SUM\n",
       "      <ul>\n",
       "      <li>formatter: INT[#,###]</li>\n",
       "      </ul>\n",
       "    </li>\n",
       "    <li>schizophrenia.MEAN\n",
       "      <ul>\n",
       "      <li>formatter: DOUBLE[#,###.00]</li>\n",
       "      </ul>\n",
       "    </li>\n",
       "    <li>schizophrenia.SUM\n",
       "      <ul>\n",
       "      <li>formatter: DOUBLE[#,###.00]</li>\n",
       "      </ul>\n",
       "    </li>\n",
       "    <li>silver.MEAN\n",
       "      <ul>\n",
       "      <li>formatter: DOUBLE[#,###.00]</li>\n",
       "      </ul>\n",
       "    </li>\n",
       "    <li>silver.SUM\n",
       "      <ul>\n",
       "      <li>formatter: INT[#,###]</li>\n",
       "      </ul>\n",
       "    </li>\n",
       "    <li>total.MEAN\n",
       "      <ul>\n",
       "      <li>formatter: DOUBLE[#,###.00]</li>\n",
       "      </ul>\n",
       "    </li>\n",
       "    <li>total.SUM\n",
       "      <ul>\n",
       "      <li>formatter: INT[#,###]</li>\n",
       "      </ul>\n",
       "    </li>\n",
       "    </ul>\n",
       "  </li>\n",
       "  </ul>\n",
       "</li>\n",
       "</ul>\n"
      ],
      "text/plain": [
       "<atoti.cube.Cube at 0x7f461a4583a0>"
      ]
     },
     "execution_count": 17,
     "metadata": {
      "application/json": {
       "expanded": false,
       "root": "factTable"
      }
     },
     "output_type": "execute_result"
    }
   ],
   "source": [
    "testcube"
   ]
  },
  {
   "cell_type": "code",
   "execution_count": 18,
   "id": "ad272527-67cd-4785-b77f-f7bb45bef4f8",
   "metadata": {},
   "outputs": [],
   "source": [
    "hierarchies, levels, measures = testcube.hierarchies, testcube.levels, testcube.measures"
   ]
  },
  {
   "cell_type": "code",
   "execution_count": 34,
   "id": "c9d6c08f-9247-46ea-a535-74527fda3c9d",
   "metadata": {},
   "outputs": [
    {
     "data": {
      "application/json": {
       "anxiety.MEAN": {
        "formatter": "DOUBLE[#,###.00]"
       },
       "anxiety.SUM": {
        "formatter": "DOUBLE[#,###.00]"
       },
       "bipolar.MEAN": {
        "formatter": "DOUBLE[#,###.00]"
       },
       "bipolar.SUM": {
        "formatter": "DOUBLE[#,###.00]"
       },
       "bronze.MEAN": {
        "formatter": "DOUBLE[#,###.00]"
       },
       "bronze.SUM": {
        "formatter": "INT[#,###]"
       },
       "contributors.COUNT": {
        "formatter": "INT[#,###]"
       },
       "depression.MEAN": {
        "formatter": "DOUBLE[#,###.00]"
       },
       "depression.SUM": {
        "formatter": "DOUBLE[#,###.00]"
       },
       "eatingdisorder.MEAN": {
        "formatter": "DOUBLE[#,###.00]"
       },
       "eatingdisorder.SUM": {
        "formatter": "DOUBLE[#,###.00]"
       },
       "gold.MEAN": {
        "formatter": "DOUBLE[#,###.00]"
       },
       "gold.SUM": {
        "formatter": "INT[#,###]"
       },
       "schizophrenia.MEAN": {
        "formatter": "DOUBLE[#,###.00]"
       },
       "schizophrenia.SUM": {
        "formatter": "DOUBLE[#,###.00]"
       },
       "silver.MEAN": {
        "formatter": "DOUBLE[#,###.00]"
       },
       "silver.SUM": {
        "formatter": "INT[#,###]"
       },
       "total.MEAN": {
        "formatter": "DOUBLE[#,###.00]"
       },
       "total.SUM": {
        "formatter": "INT[#,###]"
       }
      },
      "text/html": [
       "<ul>\n",
       "<li>Measures\n",
       "  <ul>\n",
       "  <li>anxiety.MEAN\n",
       "    <ul>\n",
       "    <li>formatter: DOUBLE[#,###.00]</li>\n",
       "    </ul>\n",
       "  </li>\n",
       "  <li>anxiety.SUM\n",
       "    <ul>\n",
       "    <li>formatter: DOUBLE[#,###.00]</li>\n",
       "    </ul>\n",
       "  </li>\n",
       "  <li>bipolar.MEAN\n",
       "    <ul>\n",
       "    <li>formatter: DOUBLE[#,###.00]</li>\n",
       "    </ul>\n",
       "  </li>\n",
       "  <li>bipolar.SUM\n",
       "    <ul>\n",
       "    <li>formatter: DOUBLE[#,###.00]</li>\n",
       "    </ul>\n",
       "  </li>\n",
       "  <li>bronze.MEAN\n",
       "    <ul>\n",
       "    <li>formatter: DOUBLE[#,###.00]</li>\n",
       "    </ul>\n",
       "  </li>\n",
       "  <li>bronze.SUM\n",
       "    <ul>\n",
       "    <li>formatter: INT[#,###]</li>\n",
       "    </ul>\n",
       "  </li>\n",
       "  <li>contributors.COUNT\n",
       "    <ul>\n",
       "    <li>formatter: INT[#,###]</li>\n",
       "    </ul>\n",
       "  </li>\n",
       "  <li>depression.MEAN\n",
       "    <ul>\n",
       "    <li>formatter: DOUBLE[#,###.00]</li>\n",
       "    </ul>\n",
       "  </li>\n",
       "  <li>depression.SUM\n",
       "    <ul>\n",
       "    <li>formatter: DOUBLE[#,###.00]</li>\n",
       "    </ul>\n",
       "  </li>\n",
       "  <li>eatingdisorder.MEAN\n",
       "    <ul>\n",
       "    <li>formatter: DOUBLE[#,###.00]</li>\n",
       "    </ul>\n",
       "  </li>\n",
       "  <li>eatingdisorder.SUM\n",
       "    <ul>\n",
       "    <li>formatter: DOUBLE[#,###.00]</li>\n",
       "    </ul>\n",
       "  </li>\n",
       "  <li>gold.MEAN\n",
       "    <ul>\n",
       "    <li>formatter: DOUBLE[#,###.00]</li>\n",
       "    </ul>\n",
       "  </li>\n",
       "  <li>gold.SUM\n",
       "    <ul>\n",
       "    <li>formatter: INT[#,###]</li>\n",
       "    </ul>\n",
       "  </li>\n",
       "  <li>schizophrenia.MEAN\n",
       "    <ul>\n",
       "    <li>formatter: DOUBLE[#,###.00]</li>\n",
       "    </ul>\n",
       "  </li>\n",
       "  <li>schizophrenia.SUM\n",
       "    <ul>\n",
       "    <li>formatter: DOUBLE[#,###.00]</li>\n",
       "    </ul>\n",
       "  </li>\n",
       "  <li>silver.MEAN\n",
       "    <ul>\n",
       "    <li>formatter: DOUBLE[#,###.00]</li>\n",
       "    </ul>\n",
       "  </li>\n",
       "  <li>silver.SUM\n",
       "    <ul>\n",
       "    <li>formatter: INT[#,###]</li>\n",
       "    </ul>\n",
       "  </li>\n",
       "  <li>total.MEAN\n",
       "    <ul>\n",
       "    <li>formatter: DOUBLE[#,###.00]</li>\n",
       "    </ul>\n",
       "  </li>\n",
       "  <li>total.SUM\n",
       "    <ul>\n",
       "    <li>formatter: INT[#,###]</li>\n",
       "    </ul>\n",
       "  </li>\n",
       "  </ul>\n",
       "</li>\n",
       "</ul>\n"
      ],
      "text/plain": [
       "{'contributors.COUNT': <atoti.measure.Measure object at 0x7f461a401660>, 'update.TIMESTAMP': <atoti.measure.Measure object at 0x7f461a402470>, 'total.SUM': <atoti.measure.Measure object at 0x7f461a403850>, 'total.MEAN': <atoti.measure.Measure object at 0x7f461a4013f0>, 'eatingdisorder.SUM': <atoti.measure.Measure object at 0x7f461a4032b0>, 'eatingdisorder.MEAN': <atoti.measure.Measure object at 0x7f461a400130>, 'gold.SUM': <atoti.measure.Measure object at 0x7f461a401900>, 'gold.MEAN': <atoti.measure.Measure object at 0x7f461a401990>, 'bipolar.SUM': <atoti.measure.Measure object at 0x7f461a402080>, 'bipolar.MEAN': <atoti.measure.Measure object at 0x7f461a403eb0>, 'depression.SUM': <atoti.measure.Measure object at 0x7f461a4023b0>, 'depression.MEAN': <atoti.measure.Measure object at 0x7f461a403070>, 'anxiety.SUM': <atoti.measure.Measure object at 0x7f461a4026b0>, 'anxiety.MEAN': <atoti.measure.Measure object at 0x7f461a401d50>, 'bronze.SUM': <atoti.measure.Measure object at 0x7f461a401180>, 'bronze.MEAN': <atoti.measure.Measure object at 0x7f461a402b60>, 'silver.SUM': <atoti.measure.Measure object at 0x7f461a402590>, 'silver.MEAN': <atoti.measure.Measure object at 0x7f461a402da0>, 'schizophrenia.SUM': <atoti.measure.Measure object at 0x7f461a4038e0>, 'schizophrenia.MEAN': <atoti.measure.Measure object at 0x7f461a402140>}"
      ]
     },
     "execution_count": 34,
     "metadata": {
      "application/json": {
       "expanded": false,
       "root": "Measures"
      }
     },
     "output_type": "execute_result"
    }
   ],
   "source": [
    "measures"
   ]
  },
  {
   "cell_type": "code",
   "execution_count": 32,
   "id": "df93ed09-8f59-4d50-9c1c-0a336cc78995",
   "metadata": {
    "scrolled": true
   },
   "outputs": [
    {
     "data": {
      "text/plain": [
       "[('Countries', 'continent', 'continent'),\n",
       " ('Countries', 'continent', 'country'),\n",
       " ('Details', 'details', 'lifeexpectancy'),\n",
       " ('Details', 'details', 'gdpcap'),\n",
       " ('Time', 'time', 'decade'),\n",
       " ('Time', 'time', 'year'),\n",
       " ('Time', 'time', 'season')]"
      ]
     },
     "execution_count": 32,
     "metadata": {},
     "output_type": "execute_result"
    }
   ],
   "source": [
    "list(levels)"
   ]
  },
  {
   "cell_type": "code",
   "execution_count": 23,
   "id": "6cbfab1d-52e8-4a00-a222-f25561915a9b",
   "metadata": {},
   "outputs": [],
   "source": [
    "hierarchies[\"Time\",\"time\"] = [time[\"decade\"],time[\"year\"],time[\"season\"]]"
   ]
  },
  {
   "cell_type": "code",
   "execution_count": 31,
   "id": "c58044dc-345b-4c83-8525-7325ffe7365d",
   "metadata": {},
   "outputs": [],
   "source": [
    "del hierarchies[\"Life\",\"gdpcap\"]"
   ]
  },
  {
   "cell_type": "code",
   "execution_count": 38,
   "id": "a37cce50-f22f-407e-8ec3-0c048a695447",
   "metadata": {},
   "outputs": [
    {
     "data": {
      "text/plain": [
       "[('Countries', 'continent'), ('Details', 'details'), ('Time', 'time')]"
      ]
     },
     "execution_count": 38,
     "metadata": {},
     "output_type": "execute_result"
    }
   ],
   "source": [
    "list(testcube.hierarchies)"
   ]
  },
  {
   "cell_type": "code",
   "execution_count": 45,
   "id": "c947c29a-164f-4d4e-80ad-557f47100ff7",
   "metadata": {},
   "outputs": [
    {
     "data": {
      "text/html": [
       "<div>\n",
       "<style scoped>\n",
       "    .dataframe tbody tr th:only-of-type {\n",
       "        vertical-align: middle;\n",
       "    }\n",
       "\n",
       "    .dataframe tbody tr th {\n",
       "        vertical-align: top;\n",
       "    }\n",
       "\n",
       "    .dataframe thead th {\n",
       "        text-align: right;\n",
       "    }\n",
       "</style>\n",
       "<table border=\"1\" class=\"dataframe\">\n",
       "  <thead>\n",
       "    <tr style=\"text-align: right;\">\n",
       "      <th></th>\n",
       "      <th></th>\n",
       "      <th></th>\n",
       "      <th>total.SUM</th>\n",
       "    </tr>\n",
       "    <tr>\n",
       "      <th>continent</th>\n",
       "      <th>country</th>\n",
       "      <th>lifeexpectancy</th>\n",
       "      <th></th>\n",
       "    </tr>\n",
       "  </thead>\n",
       "  <tbody>\n",
       "    <tr>\n",
       "      <th rowspan=\"5\" valign=\"top\">Africa</th>\n",
       "      <th>Algeria</th>\n",
       "      <th>N/A</th>\n",
       "      <td>15</td>\n",
       "    </tr>\n",
       "    <tr>\n",
       "      <th>Angola</th>\n",
       "      <th>N/A</th>\n",
       "      <td>0</td>\n",
       "    </tr>\n",
       "    <tr>\n",
       "      <th>Benin</th>\n",
       "      <th>N/A</th>\n",
       "      <td>0</td>\n",
       "    </tr>\n",
       "    <tr>\n",
       "      <th>Botswana</th>\n",
       "      <th>N/A</th>\n",
       "      <td>1</td>\n",
       "    </tr>\n",
       "    <tr>\n",
       "      <th>Burkina Faso</th>\n",
       "      <th>N/A</th>\n",
       "      <td>0</td>\n",
       "    </tr>\n",
       "    <tr>\n",
       "      <th>...</th>\n",
       "      <th>...</th>\n",
       "      <th>...</th>\n",
       "      <td>...</td>\n",
       "    </tr>\n",
       "    <tr>\n",
       "      <th rowspan=\"5\" valign=\"top\">South America</th>\n",
       "      <th>Paraguay</th>\n",
       "      <th>N/A</th>\n",
       "      <td>1</td>\n",
       "    </tr>\n",
       "    <tr>\n",
       "      <th>Peru</th>\n",
       "      <th>N/A</th>\n",
       "      <td>1</td>\n",
       "    </tr>\n",
       "    <tr>\n",
       "      <th>Suriname</th>\n",
       "      <th>N/A</th>\n",
       "      <td>1</td>\n",
       "    </tr>\n",
       "    <tr>\n",
       "      <th>Uruguay</th>\n",
       "      <th>N/A</th>\n",
       "      <td>1</td>\n",
       "    </tr>\n",
       "    <tr>\n",
       "      <th>Venezuela</th>\n",
       "      <th>N/A</th>\n",
       "      <td>7</td>\n",
       "    </tr>\n",
       "  </tbody>\n",
       "</table>\n",
       "<p>198 rows × 1 columns</p>\n",
       "</div>"
      ],
      "text/plain": [
       "                                          total.SUM\n",
       "continent     country      lifeexpectancy          \n",
       "Africa        Algeria      N/A                   15\n",
       "              Angola       N/A                    0\n",
       "              Benin        N/A                    0\n",
       "              Botswana     N/A                    1\n",
       "              Burkina Faso N/A                    0\n",
       "...                                             ...\n",
       "South America Paraguay     N/A                    1\n",
       "              Peru         N/A                    1\n",
       "              Suriname     N/A                    1\n",
       "              Uruguay      N/A                    1\n",
       "              Venezuela    N/A                    7\n",
       "\n",
       "[198 rows x 1 columns]"
      ]
     },
     "execution_count": 45,
     "metadata": {},
     "output_type": "execute_result"
    }
   ],
   "source": [
    "testcube.query(measures[\"total.SUM\"], levels=[levels[('Countries', 'continent', 'country')],levels[\"Details\",\"details\",\"lifeexpectancy\"]])"
   ]
  },
  {
   "cell_type": "code",
   "execution_count": 47,
   "id": "d84b7337-c52a-417b-99e5-5903840ca712",
   "metadata": {},
   "outputs": [
    {
     "data": {
      "text/html": [
       "<div>\n",
       "<style scoped>\n",
       "    .dataframe tbody tr th:only-of-type {\n",
       "        vertical-align: middle;\n",
       "    }\n",
       "\n",
       "    .dataframe tbody tr th {\n",
       "        vertical-align: top;\n",
       "    }\n",
       "\n",
       "    .dataframe thead th {\n",
       "        text-align: right;\n",
       "    }\n",
       "</style>\n",
       "<table border=\"1\" class=\"dataframe\">\n",
       "  <thead>\n",
       "    <tr style=\"text-align: right;\">\n",
       "      <th></th>\n",
       "      <th></th>\n",
       "      <th>lifeexpectancy</th>\n",
       "      <th>gdpcap</th>\n",
       "    </tr>\n",
       "    <tr>\n",
       "      <th>year</th>\n",
       "      <th>country</th>\n",
       "      <th></th>\n",
       "      <th></th>\n",
       "    </tr>\n",
       "  </thead>\n",
       "  <tbody>\n",
       "    <tr>\n",
       "      <th rowspan=\"5\" valign=\"top\">2020</th>\n",
       "      <th>Poland</th>\n",
       "      <td>High</td>\n",
       "      <td>High</td>\n",
       "    </tr>\n",
       "    <tr>\n",
       "      <th>Guinea</th>\n",
       "      <td>Medium</td>\n",
       "      <td>Low</td>\n",
       "    </tr>\n",
       "    <tr>\n",
       "      <th>South Sudan</th>\n",
       "      <td>Low</td>\n",
       "      <td>N/A</td>\n",
       "    </tr>\n",
       "    <tr>\n",
       "      <th>Greece</th>\n",
       "      <td>High</td>\n",
       "      <td>High</td>\n",
       "    </tr>\n",
       "    <tr>\n",
       "      <th>United Arab Emirates</th>\n",
       "      <td>High</td>\n",
       "      <td>High</td>\n",
       "    </tr>\n",
       "  </tbody>\n",
       "</table>\n",
       "</div>"
      ],
      "text/plain": [
       "                          lifeexpectancy gdpcap\n",
       "year country                                   \n",
       "2020 Poland                         High   High\n",
       "     Guinea                       Medium    Low\n",
       "     South Sudan                     Low    N/A\n",
       "     Greece                         High   High\n",
       "     United Arab Emirates           High   High"
      ]
     },
     "execution_count": 47,
     "metadata": {},
     "output_type": "execute_result"
    }
   ],
   "source": []
  }
 ],
 "metadata": {
  "kernelspec": {
   "display_name": "Python 3 (ipykernel)",
   "language": "python",
   "name": "python3"
  },
  "language_info": {
   "codemirror_mode": {
    "name": "ipython",
    "version": 3
   },
   "file_extension": ".py",
   "mimetype": "text/x-python",
   "name": "python",
   "nbconvert_exporter": "python",
   "pygments_lexer": "ipython3",
   "version": "3.10.12"
  }
 },
 "nbformat": 4,
 "nbformat_minor": 5
}
