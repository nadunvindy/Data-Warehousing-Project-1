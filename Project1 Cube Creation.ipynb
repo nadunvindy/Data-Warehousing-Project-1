{
 "cells": [
  {
   "cell_type": "code",
   "execution_count": 217,
   "id": "e3250406-7dc5-4889-bfec-fd13700da2ff",
   "metadata": {},
   "outputs": [],
   "source": [
    "import atoti as tt"
   ]
  },
  {
   "cell_type": "code",
   "execution_count": 218,
   "id": "5baab508-0f7f-498d-92d6-82f85cfdfb5a",
   "metadata": {},
   "outputs": [
    {
     "name": "stderr",
     "output_type": "stream",
     "text": [
      "Closing existing \"Unnamed\" session to create the new one.\n"
     ]
    }
   ],
   "source": [
    "session = tt.Session(\n",
    "    user_content_storage=\".content\",\n",
    "    port=9095,\n",
    "    java_options=[\"-Xms1G\", \"-Xmx10G\"]\n",
    ")"
   ]
  },
  {
   "cell_type": "code",
   "execution_count": 219,
   "id": "42db0455-3217-44f3-8957-eb6e98bbe662",
   "metadata": {},
   "outputs": [],
   "source": [
    "db_name = \"Project1\"\n",
    "db_user = \"postgres\"\n",
    "db_password = \"postgres\"  \n",
    "db_host = \"localhost\"  \n",
    "db_port = \"5432\""
   ]
  },
  {
   "cell_type": "code",
   "execution_count": 220,
   "id": "0827c8bd-7294-492f-841b-6c3840e1b3c1",
   "metadata": {},
   "outputs": [],
   "source": [
    "jdbc_url = f\"jdbc:postgresql://{db_host}:{db_port}/{db_name}?user={db_user}&password={db_password}\""
   ]
  },
  {
   "cell_type": "code",
   "execution_count": 221,
   "id": "f6517067-5b30-4559-8178-b5c0b73adbed",
   "metadata": {},
   "outputs": [
    {
     "data": {
      "text/plain": [
       "'jdbc:postgresql://localhost:5432/Project1?user=postgres&password=postgres'"
      ]
     },
     "execution_count": 221,
     "metadata": {},
     "output_type": "execute_result"
    }
   ],
   "source": [
    "jdbc_url"
   ]
  },
  {
   "cell_type": "code",
   "execution_count": 222,
   "id": "0e3273fb-18f1-47a1-affd-8da19cd4e59a",
   "metadata": {},
   "outputs": [],
   "source": [
    "facttest = session.read_sql(\n",
    "    \"SELECT * FROM olympics\",\n",
    "    keys=[\"factid\"],\n",
    "    table_name=\"factTable\",\n",
    "    url=jdbc_url,\n",
    ")"
   ]
  },
  {
   "cell_type": "code",
   "execution_count": 223,
   "id": "7efa3dd7-855c-4584-891c-63724cc3f43a",
   "metadata": {},
   "outputs": [
    {
     "data": {
      "text/html": [
       "<div>\n",
       "<style scoped>\n",
       "    .dataframe tbody tr th:only-of-type {\n",
       "        vertical-align: middle;\n",
       "    }\n",
       "\n",
       "    .dataframe tbody tr th {\n",
       "        vertical-align: top;\n",
       "    }\n",
       "\n",
       "    .dataframe thead th {\n",
       "        text-align: right;\n",
       "    }\n",
       "</style>\n",
       "<table border=\"1\" class=\"dataframe\">\n",
       "  <thead>\n",
       "    <tr style=\"text-align: right;\">\n",
       "      <th></th>\n",
       "      <th>year</th>\n",
       "      <th>country</th>\n",
       "      <th>bronze</th>\n",
       "      <th>gold</th>\n",
       "      <th>silver</th>\n",
       "      <th>code</th>\n",
       "      <th>depression</th>\n",
       "      <th>schizophrenia</th>\n",
       "      <th>bipolar</th>\n",
       "      <th>eatingdisorder</th>\n",
       "      <th>anxiety</th>\n",
       "    </tr>\n",
       "    <tr>\n",
       "      <th>factid</th>\n",
       "      <th></th>\n",
       "      <th></th>\n",
       "      <th></th>\n",
       "      <th></th>\n",
       "      <th></th>\n",
       "      <th></th>\n",
       "      <th></th>\n",
       "      <th></th>\n",
       "      <th></th>\n",
       "      <th></th>\n",
       "      <th></th>\n",
       "    </tr>\n",
       "  </thead>\n",
       "  <tbody>\n",
       "    <tr>\n",
       "      <th>5</th>\n",
       "      <td>1992</td>\n",
       "      <td>Bahamas</td>\n",
       "      <td>1</td>\n",
       "      <td>0</td>\n",
       "      <td>0</td>\n",
       "      <td>BHS</td>\n",
       "      <td>527.91235</td>\n",
       "      <td>182.78604</td>\n",
       "      <td>195.25314</td>\n",
       "      <td>60.941833</td>\n",
       "      <td>406.74252</td>\n",
       "    </tr>\n",
       "    <tr>\n",
       "      <th>10</th>\n",
       "      <td>1992</td>\n",
       "      <td>Colombia</td>\n",
       "      <td>1</td>\n",
       "      <td>0</td>\n",
       "      <td>0</td>\n",
       "      <td>COL</td>\n",
       "      <td>409.2101</td>\n",
       "      <td>176.92981</td>\n",
       "      <td>160.54938</td>\n",
       "      <td>39.03201</td>\n",
       "      <td>440.6033</td>\n",
       "    </tr>\n",
       "    <tr>\n",
       "      <th>27</th>\n",
       "      <td>1992</td>\n",
       "      <td>Japan</td>\n",
       "      <td>16</td>\n",
       "      <td>4</td>\n",
       "      <td>10</td>\n",
       "      <td>JPN</td>\n",
       "      <td>341.07736</td>\n",
       "      <td>194.79625</td>\n",
       "      <td>141.02164</td>\n",
       "      <td>77.96684</td>\n",
       "      <td>257.21765</td>\n",
       "    </tr>\n",
       "    <tr>\n",
       "      <th>33</th>\n",
       "      <td>1992</td>\n",
       "      <td>Mexico</td>\n",
       "      <td>0</td>\n",
       "      <td>0</td>\n",
       "      <td>1</td>\n",
       "      <td>MEX</td>\n",
       "      <td>533.24414</td>\n",
       "      <td>180.24562</td>\n",
       "      <td>198.24474</td>\n",
       "      <td>48.886414</td>\n",
       "      <td>274.3233</td>\n",
       "    </tr>\n",
       "    <tr>\n",
       "      <th>40</th>\n",
       "      <td>1992</td>\n",
       "      <td>Norway</td>\n",
       "      <td>6</td>\n",
       "      <td>11</td>\n",
       "      <td>10</td>\n",
       "      <td>NOR</td>\n",
       "      <td>508.43967</td>\n",
       "      <td>179.30298</td>\n",
       "      <td>179.03253</td>\n",
       "      <td>89.34628</td>\n",
       "      <td>684.3087</td>\n",
       "    </tr>\n",
       "  </tbody>\n",
       "</table>\n",
       "</div>"
      ],
      "text/plain": [
       "        year   country  bronze  gold  silver code  depression  schizophrenia  \\\n",
       "factid                                                                         \n",
       "5       1992   Bahamas       1     0       0  BHS   527.91235      182.78604   \n",
       "10      1992  Colombia       1     0       0  COL    409.2101      176.92981   \n",
       "27      1992     Japan      16     4      10  JPN   341.07736      194.79625   \n",
       "33      1992    Mexico       0     0       1  MEX   533.24414      180.24562   \n",
       "40      1992    Norway       6    11      10  NOR   508.43967      179.30298   \n",
       "\n",
       "          bipolar  eatingdisorder    anxiety  \n",
       "factid                                        \n",
       "5       195.25314       60.941833  406.74252  \n",
       "10      160.54938        39.03201   440.6033  \n",
       "27      141.02164        77.96684  257.21765  \n",
       "33      198.24474       48.886414   274.3233  \n",
       "40      179.03253        89.34628   684.3087  "
      ]
     },
     "execution_count": 223,
     "metadata": {},
     "output_type": "execute_result"
    }
   ],
   "source": [
    "facttest.head()"
   ]
  },
  {
   "cell_type": "code",
   "execution_count": 224,
   "id": "a8bdf743-64f6-480c-8d1c-a8dc047da837",
   "metadata": {},
   "outputs": [],
   "source": [
    "# medals = session.read_sql(\n",
    "#     \"SELECT * FROM medalsnew\",\n",
    "#     keys=[\"id\"],\n",
    "#     table_name=\"Medals\",\n",
    "#     url=jdbc_url)"
   ]
  },
  {
   "cell_type": "code",
   "execution_count": 225,
   "id": "cae93443-5fb4-4579-8960-98883518ab4c",
   "metadata": {},
   "outputs": [],
   "source": [
    "countries = session.read_sql(\n",
    "    \"SELECT * FROM countries\",\n",
    "    keys=[\"country\"],\n",
    "    table_name=\"Countries\",\n",
    "    url=jdbc_url)"
   ]
  },
  {
   "cell_type": "code",
   "execution_count": 226,
   "id": "efc6f584-fb36-4d51-b59b-5e88e5f692bc",
   "metadata": {},
   "outputs": [],
   "source": [
    "illness = session.read_sql(\n",
    "    \"SELECT * FROM mentalillness\",\n",
    "    keys=[\"code\",\"year\"],\n",
    "    table_name=\"Illness\",\n",
    "    url=jdbc_url)"
   ]
  },
  {
   "cell_type": "code",
   "execution_count": 227,
   "id": "0f054f27-207b-422a-885d-76e35834d64e",
   "metadata": {},
   "outputs": [],
   "source": [
    "time = session.read_sql(\n",
    "    \"SELECT * FROM timex\",\n",
    "    keys=[\"year\"],\n",
    "    table_name=\"Time\",\n",
    "    url=jdbc_url)"
   ]
  },
  {
   "cell_type": "code",
   "execution_count": 228,
   "id": "07e8d622-ae25-428c-a123-459689e98870",
   "metadata": {},
   "outputs": [
    {
     "data": {
      "text/html": [
       "<div>\n",
       "<style scoped>\n",
       "    .dataframe tbody tr th:only-of-type {\n",
       "        vertical-align: middle;\n",
       "    }\n",
       "\n",
       "    .dataframe tbody tr th {\n",
       "        vertical-align: top;\n",
       "    }\n",
       "\n",
       "    .dataframe thead th {\n",
       "        text-align: right;\n",
       "    }\n",
       "</style>\n",
       "<table border=\"1\" class=\"dataframe\">\n",
       "  <thead>\n",
       "    <tr style=\"text-align: right;\">\n",
       "      <th></th>\n",
       "      <th></th>\n",
       "      <th>country</th>\n",
       "      <th>depression</th>\n",
       "      <th>schizophrenia</th>\n",
       "      <th>bipolar</th>\n",
       "      <th>eatingdisorder</th>\n",
       "      <th>anxiety</th>\n",
       "    </tr>\n",
       "    <tr>\n",
       "      <th>code</th>\n",
       "      <th>year</th>\n",
       "      <th></th>\n",
       "      <th></th>\n",
       "      <th></th>\n",
       "      <th></th>\n",
       "      <th></th>\n",
       "      <th></th>\n",
       "    </tr>\n",
       "  </thead>\n",
       "  <tbody>\n",
       "    <tr>\n",
       "      <th rowspan=\"3\" valign=\"top\">AFG</th>\n",
       "      <th>1990</th>\n",
       "      <td>Afghanistan</td>\n",
       "      <td>895.22565</td>\n",
       "      <td>138.24825</td>\n",
       "      <td>147.64412</td>\n",
       "      <td>26.471115</td>\n",
       "      <td>440.33</td>\n",
       "    </tr>\n",
       "    <tr>\n",
       "      <th>1991</th>\n",
       "      <td>Afghanistan</td>\n",
       "      <td>893.88434</td>\n",
       "      <td>137.76122</td>\n",
       "      <td>147.56696</td>\n",
       "      <td>25.548681</td>\n",
       "      <td>439.47202</td>\n",
       "    </tr>\n",
       "    <tr>\n",
       "      <th>1999</th>\n",
       "      <td>Afghanistan</td>\n",
       "      <td>896.13806</td>\n",
       "      <td>132.82457</td>\n",
       "      <td>146.76817</td>\n",
       "      <td>19.931143</td>\n",
       "      <td>437.12753</td>\n",
       "    </tr>\n",
       "    <tr>\n",
       "      <th rowspan=\"2\" valign=\"top\">ALB</th>\n",
       "      <th>1998</th>\n",
       "      <td>Albania</td>\n",
       "      <td>377.50107</td>\n",
       "      <td>180.97083</td>\n",
       "      <td>117.38581</td>\n",
       "      <td>21.451178</td>\n",
       "      <td>353.16174</td>\n",
       "    </tr>\n",
       "    <tr>\n",
       "      <th>2012</th>\n",
       "      <td>Albania</td>\n",
       "      <td>382.8175</td>\n",
       "      <td>184.85753</td>\n",
       "      <td>117.91124</td>\n",
       "      <td>27.027565</td>\n",
       "      <td>363.28516</td>\n",
       "    </tr>\n",
       "  </tbody>\n",
       "</table>\n",
       "</div>"
      ],
      "text/plain": [
       "               country  depression  schizophrenia    bipolar  eatingdisorder  \\\n",
       "code year                                                                      \n",
       "AFG  1990  Afghanistan   895.22565      138.24825  147.64412       26.471115   \n",
       "     1991  Afghanistan   893.88434      137.76122  147.56696       25.548681   \n",
       "     1999  Afghanistan   896.13806      132.82457  146.76817       19.931143   \n",
       "ALB  1998      Albania   377.50107      180.97083  117.38581       21.451178   \n",
       "     2012      Albania    382.8175      184.85753  117.91124       27.027565   \n",
       "\n",
       "             anxiety  \n",
       "code year             \n",
       "AFG  1990     440.33  \n",
       "     1991  439.47202  \n",
       "     1999  437.12753  \n",
       "ALB  1998  353.16174  \n",
       "     2012  363.28516  "
      ]
     },
     "execution_count": 228,
     "metadata": {},
     "output_type": "execute_result"
    }
   ],
   "source": [
    "illness.head()"
   ]
  },
  {
   "cell_type": "code",
   "execution_count": 229,
   "id": "89612d1e-0b70-40ac-807d-40d4381a420a",
   "metadata": {},
   "outputs": [],
   "source": [
    "facttest.join(countries, facttest[\"country\"] == countries[\"country\"])"
   ]
  },
  {
   "cell_type": "code",
   "execution_count": 230,
   "id": "3cb62449-c5b1-4822-aea0-8bc729813214",
   "metadata": {},
   "outputs": [],
   "source": [
    "facttest.join(illness, (facttest[\"year\"] == illness[\"year\"] )& (facttest[\"code\"] == illness[\"code\"]))"
   ]
  },
  {
   "cell_type": "code",
   "execution_count": 231,
   "id": "c24d7969-02e1-4d84-8c24-877e8ef78fd5",
   "metadata": {},
   "outputs": [],
   "source": [
    "facttest.join(time, facttest[\"year\"] == time[\"year\"])"
   ]
  },
  {
   "cell_type": "code",
   "execution_count": 232,
   "id": "42d9d7e5-47fb-4492-ac2e-27aec91890c1",
   "metadata": {},
   "outputs": [
    {
     "data": {
      "text/markdown": [
       "```mermaid\n",
       "erDiagram\n",
       "  \"Countries\" {\n",
       "    _ String PK \"country\"\n",
       "    _ String \"continent\"\n",
       "  }\n",
       "  \"Illness\" {\n",
       "    _ String \"country\"\n",
       "    _ String PK \"code\"\n",
       "    _ int PK \"year\"\n",
       "    nullable double \"depression\"\n",
       "    nullable double \"schizophrenia\"\n",
       "    nullable double \"bipolar\"\n",
       "    nullable double \"eatingdisorder\"\n",
       "    nullable double \"anxiety\"\n",
       "  }\n",
       "  \"Time\" {\n",
       "    _ int PK \"year\"\n",
       "  }\n",
       "  \"factTable\" {\n",
       "    _ int PK \"factid\"\n",
       "    nullable int \"year\"\n",
       "    _ String \"country\"\n",
       "    nullable int \"bronze\"\n",
       "    nullable int \"gold\"\n",
       "    nullable int \"silver\"\n",
       "    _ String \"code\"\n",
       "    nullable double \"depression\"\n",
       "    nullable double \"schizophrenia\"\n",
       "    nullable double \"bipolar\"\n",
       "    nullable double \"eatingdisorder\"\n",
       "    nullable double \"anxiety\"\n",
       "  }\n",
       "  \"factTable\" }o--o| \"Illness\" : \"(`year` == `year`) & (`code` == `code`)\"\n",
       "  \"factTable\" }o--o| \"Countries\" : \"`country` == `country`\"\n",
       "  \"factTable\" }o--o| \"Time\" : \"`year` == `year`\"\n",
       "```\n"
      ],
      "text/plain": [
       "erDiagram\n",
       "  \"Countries\" {\n",
       "    _ String PK \"country\"\n",
       "    _ String \"continent\"\n",
       "  }\n",
       "  \"Illness\" {\n",
       "    _ String \"country\"\n",
       "    _ String PK \"code\"\n",
       "    _ int PK \"year\"\n",
       "    nullable double \"depression\"\n",
       "    nullable double \"schizophrenia\"\n",
       "    nullable double \"bipolar\"\n",
       "    nullable double \"eatingdisorder\"\n",
       "    nullable double \"anxiety\"\n",
       "  }\n",
       "  \"Time\" {\n",
       "    _ int PK \"year\"\n",
       "  }\n",
       "  \"factTable\" {\n",
       "    _ int PK \"factid\"\n",
       "    nullable int \"year\"\n",
       "    _ String \"country\"\n",
       "    nullable int \"bronze\"\n",
       "    nullable int \"gold\"\n",
       "    nullable int \"silver\"\n",
       "    _ String \"code\"\n",
       "    nullable double \"depression\"\n",
       "    nullable double \"schizophrenia\"\n",
       "    nullable double \"bipolar\"\n",
       "    nullable double \"eatingdisorder\"\n",
       "    nullable double \"anxiety\"\n",
       "  }\n",
       "  \"factTable\" }o--o| \"Illness\" : \"(`year` == `year`) & (`code` == `code`)\"\n",
       "  \"factTable\" }o--o| \"Countries\" : \"`country` == `country`\"\n",
       "  \"factTable\" }o--o| \"Time\" : \"`year` == `year`\""
      ]
     },
     "execution_count": 232,
     "metadata": {},
     "output_type": "execute_result"
    }
   ],
   "source": [
    "session.tables.schema"
   ]
  },
  {
   "cell_type": "code",
   "execution_count": 233,
   "id": "860a487d-8e0e-4637-92f3-ef9d6269b62e",
   "metadata": {},
   "outputs": [],
   "source": [
    "testcube = session.create_cube(facttest)"
   ]
  },
  {
   "cell_type": "code",
   "execution_count": 234,
   "id": "655b83f6-7d9f-48d3-bed5-5d5c3c8c8140",
   "metadata": {},
   "outputs": [],
   "source": [
    "testcube.measures['total.SUM'] = testcube.measures['gold.SUM'] + testcube.measures['silver.SUM'] + testcube.measures['bronze.SUM']"
   ]
  },
  {
   "cell_type": "code",
   "execution_count": 235,
   "id": "56262118-9490-4f59-8642-fd26bbaf1c72",
   "metadata": {},
   "outputs": [
    {
     "data": {
      "application/json": {
       "Dimensions": {
        "Countries": {
         "continent": [
          "continent"
         ]
        },
        "Illness": {
         "country": [
          "country"
         ]
        },
        "factTable": {
         "code": [
          "code"
         ],
         "country": [
          "country"
         ],
         "factid": [
          "factid"
         ]
        }
       },
       "Measures": {
        "anxiety.MEAN": {
         "formatter": "DOUBLE[#,###.00]"
        },
        "anxiety.SUM": {
         "formatter": "DOUBLE[#,###.00]"
        },
        "bipolar.MEAN": {
         "formatter": "DOUBLE[#,###.00]"
        },
        "bipolar.SUM": {
         "formatter": "DOUBLE[#,###.00]"
        },
        "bronze.MEAN": {
         "formatter": "DOUBLE[#,###.00]"
        },
        "bronze.SUM": {
         "formatter": "INT[#,###]"
        },
        "contributors.COUNT": {
         "formatter": "INT[#,###]"
        },
        "depression.MEAN": {
         "formatter": "DOUBLE[#,###.00]"
        },
        "depression.SUM": {
         "formatter": "DOUBLE[#,###.00]"
        },
        "eatingdisorder.MEAN": {
         "formatter": "DOUBLE[#,###.00]"
        },
        "eatingdisorder.SUM": {
         "formatter": "DOUBLE[#,###.00]"
        },
        "gold.MEAN": {
         "formatter": "DOUBLE[#,###.00]"
        },
        "gold.SUM": {
         "formatter": "INT[#,###]"
        },
        "schizophrenia.MEAN": {
         "formatter": "DOUBLE[#,###.00]"
        },
        "schizophrenia.SUM": {
         "formatter": "DOUBLE[#,###.00]"
        },
        "silver.MEAN": {
         "formatter": "DOUBLE[#,###.00]"
        },
        "silver.SUM": {
         "formatter": "INT[#,###]"
        },
        "total.SUM": {
         "formatter": "INT[#,###]"
        },
        "year.MEAN": {
         "formatter": "DOUBLE[#,###.00]"
        },
        "year.SUM": {
         "formatter": "INT[#,###]"
        }
       }
      },
      "text/html": [
       "<ul>\n",
       "<li>factTable\n",
       "  <ul>\n",
       "  <li>Dimensions\n",
       "    <ul>\n",
       "    <li>Countries\n",
       "      <ul>\n",
       "      <li>continent\n",
       "        <ol>\n",
       "        <li>continent</li>\n",
       "        </ol>      </li>\n",
       "      </ul>\n",
       "    </li>\n",
       "    <li>Illness\n",
       "      <ul>\n",
       "      <li>country\n",
       "        <ol>\n",
       "        <li>country</li>\n",
       "        </ol>      </li>\n",
       "      </ul>\n",
       "    </li>\n",
       "    <li>factTable\n",
       "      <ul>\n",
       "      <li>code\n",
       "        <ol>\n",
       "        <li>code</li>\n",
       "        </ol>      </li>\n",
       "      <li>country\n",
       "        <ol>\n",
       "        <li>country</li>\n",
       "        </ol>      </li>\n",
       "      <li>factid\n",
       "        <ol>\n",
       "        <li>factid</li>\n",
       "        </ol>      </li>\n",
       "      </ul>\n",
       "    </li>\n",
       "    </ul>\n",
       "  </li>\n",
       "  <li>Measures\n",
       "    <ul>\n",
       "    <li>anxiety.MEAN\n",
       "      <ul>\n",
       "      <li>formatter: DOUBLE[#,###.00]</li>\n",
       "      </ul>\n",
       "    </li>\n",
       "    <li>anxiety.SUM\n",
       "      <ul>\n",
       "      <li>formatter: DOUBLE[#,###.00]</li>\n",
       "      </ul>\n",
       "    </li>\n",
       "    <li>bipolar.MEAN\n",
       "      <ul>\n",
       "      <li>formatter: DOUBLE[#,###.00]</li>\n",
       "      </ul>\n",
       "    </li>\n",
       "    <li>bipolar.SUM\n",
       "      <ul>\n",
       "      <li>formatter: DOUBLE[#,###.00]</li>\n",
       "      </ul>\n",
       "    </li>\n",
       "    <li>bronze.MEAN\n",
       "      <ul>\n",
       "      <li>formatter: DOUBLE[#,###.00]</li>\n",
       "      </ul>\n",
       "    </li>\n",
       "    <li>bronze.SUM\n",
       "      <ul>\n",
       "      <li>formatter: INT[#,###]</li>\n",
       "      </ul>\n",
       "    </li>\n",
       "    <li>contributors.COUNT\n",
       "      <ul>\n",
       "      <li>formatter: INT[#,###]</li>\n",
       "      </ul>\n",
       "    </li>\n",
       "    <li>depression.MEAN\n",
       "      <ul>\n",
       "      <li>formatter: DOUBLE[#,###.00]</li>\n",
       "      </ul>\n",
       "    </li>\n",
       "    <li>depression.SUM\n",
       "      <ul>\n",
       "      <li>formatter: DOUBLE[#,###.00]</li>\n",
       "      </ul>\n",
       "    </li>\n",
       "    <li>eatingdisorder.MEAN\n",
       "      <ul>\n",
       "      <li>formatter: DOUBLE[#,###.00]</li>\n",
       "      </ul>\n",
       "    </li>\n",
       "    <li>eatingdisorder.SUM\n",
       "      <ul>\n",
       "      <li>formatter: DOUBLE[#,###.00]</li>\n",
       "      </ul>\n",
       "    </li>\n",
       "    <li>gold.MEAN\n",
       "      <ul>\n",
       "      <li>formatter: DOUBLE[#,###.00]</li>\n",
       "      </ul>\n",
       "    </li>\n",
       "    <li>gold.SUM\n",
       "      <ul>\n",
       "      <li>formatter: INT[#,###]</li>\n",
       "      </ul>\n",
       "    </li>\n",
       "    <li>schizophrenia.MEAN\n",
       "      <ul>\n",
       "      <li>formatter: DOUBLE[#,###.00]</li>\n",
       "      </ul>\n",
       "    </li>\n",
       "    <li>schizophrenia.SUM\n",
       "      <ul>\n",
       "      <li>formatter: DOUBLE[#,###.00]</li>\n",
       "      </ul>\n",
       "    </li>\n",
       "    <li>silver.MEAN\n",
       "      <ul>\n",
       "      <li>formatter: DOUBLE[#,###.00]</li>\n",
       "      </ul>\n",
       "    </li>\n",
       "    <li>silver.SUM\n",
       "      <ul>\n",
       "      <li>formatter: INT[#,###]</li>\n",
       "      </ul>\n",
       "    </li>\n",
       "    <li>total.SUM\n",
       "      <ul>\n",
       "      <li>formatter: INT[#,###]</li>\n",
       "      </ul>\n",
       "    </li>\n",
       "    <li>year.MEAN\n",
       "      <ul>\n",
       "      <li>formatter: DOUBLE[#,###.00]</li>\n",
       "      </ul>\n",
       "    </li>\n",
       "    <li>year.SUM\n",
       "      <ul>\n",
       "      <li>formatter: INT[#,###]</li>\n",
       "      </ul>\n",
       "    </li>\n",
       "    </ul>\n",
       "  </li>\n",
       "  </ul>\n",
       "</li>\n",
       "</ul>\n"
      ],
      "text/plain": [
       "<atoti.cube.Cube at 0x7dcf8467b970>"
      ]
     },
     "execution_count": 235,
     "metadata": {
      "application/json": {
       "expanded": false,
       "root": "factTable"
      }
     },
     "output_type": "execute_result"
    }
   ],
   "source": [
    "testcube"
   ]
  },
  {
   "cell_type": "code",
   "execution_count": 239,
   "id": "ad272527-67cd-4785-b77f-f7bb45bef4f8",
   "metadata": {},
   "outputs": [],
   "source": [
    "hierarchies, levels, measures = testcube.hierarchies, testcube.levels, testcube.measures"
   ]
  },
  {
   "cell_type": "code",
   "execution_count": 240,
   "id": "c9d6c08f-9247-46ea-a535-74527fda3c9d",
   "metadata": {},
   "outputs": [
    {
     "name": "stdout",
     "output_type": "stream",
     "text": [
      "[('Time', 'year', 'year'), ('factTable', 'code', 'code'), ('Countries', 'continent', 'continent'), ('Illness', 'country', 'country'), ('factTable', 'factid', 'factid'), ('factTable', 'country', 'country'), ('Countries', 'country', 'country')]\n"
     ]
    }
   ],
   "source": [
    "print(list(testcube.levels))"
   ]
  },
  {
   "cell_type": "code",
   "execution_count": 156,
   "id": "df93ed09-8f59-4d50-9c1c-0a336cc78995",
   "metadata": {
    "scrolled": true
   },
   "outputs": [
    {
     "data": {
      "application/json": {
       "Countries": {
        "continent": [
         "continent"
        ]
       },
       "Time": {
        "year": [
         "year"
        ]
       },
       "factTable": {
        "code": [
         "code"
        ],
        "country": [
         "country"
        ],
        "factid": [
         "factid"
        ]
       }
      },
      "text/html": [
       "<ul>\n",
       "<li>Dimensions\n",
       "  <ul>\n",
       "  <li>Countries\n",
       "    <ul>\n",
       "    <li>continent\n",
       "      <ol>\n",
       "      <li>continent</li>\n",
       "      </ol>    </li>\n",
       "    </ul>\n",
       "  </li>\n",
       "  <li>Time\n",
       "    <ul>\n",
       "    <li>year\n",
       "      <ol>\n",
       "      <li>year</li>\n",
       "      </ol>    </li>\n",
       "    </ul>\n",
       "  </li>\n",
       "  <li>factTable\n",
       "    <ul>\n",
       "    <li>code\n",
       "      <ol>\n",
       "      <li>code</li>\n",
       "      </ol>    </li>\n",
       "    <li>country\n",
       "      <ol>\n",
       "      <li>country</li>\n",
       "      </ol>    </li>\n",
       "    <li>factid\n",
       "      <ol>\n",
       "      <li>factid</li>\n",
       "      </ol>    </li>\n",
       "    </ul>\n",
       "  </li>\n",
       "  </ul>\n",
       "</li>\n",
       "</ul>\n"
      ],
      "text/plain": [
       "{('Time', 'year'): <atoti.hierarchy.Hierarchy object at 0x7dcfb42b1960>, ('factTable', 'code'): <atoti.hierarchy.Hierarchy object at 0x7dcfb42b1000>, ('Countries', 'continent'): <atoti.hierarchy.Hierarchy object at 0x7dcfb42b1e70>, ('factTable', 'factid'): <atoti.hierarchy.Hierarchy object at 0x7dcfb42b2bc0>, ('factTable', 'country'): <atoti.hierarchy.Hierarchy object at 0x7dcfb42b2f80>}"
      ]
     },
     "execution_count": 156,
     "metadata": {
      "application/json": {
       "expanded": true,
       "root": "Dimensions"
      }
     },
     "output_type": "execute_result"
    }
   ],
   "source": [
    "hierarchies"
   ]
  },
  {
   "cell_type": "code",
   "execution_count": 163,
   "id": "a37cce50-f22f-407e-8ec3-0c048a695447",
   "metadata": {},
   "outputs": [
    {
     "data": {
      "application/json": {
       "code (factTable/code/code)": {
        "dimension": "factTable",
        "hierarchy": "code",
        "order": "NaturalOrder",
        "type": "String"
       },
       "continent (Countries/continent/continent)": {
        "dimension": "Countries",
        "hierarchy": "continent",
        "order": "NaturalOrder",
        "type": "String"
       },
       "country (factTable/country/country)": {
        "dimension": "factTable",
        "hierarchy": "country",
        "order": "NaturalOrder",
        "type": "String"
       },
       "factid (factTable/factid/factid)": {
        "dimension": "factTable",
        "hierarchy": "factid",
        "order": "NaturalOrder",
        "type": "int"
       },
       "year (Time/year/year)": {
        "dimension": "Time",
        "hierarchy": "year",
        "order": "NaturalOrder",
        "type": "int"
       }
      },
      "text/html": [
       "<ul>\n",
       "<li>Levels\n",
       "  <ul>\n",
       "  <li>code (factTable/code/code)\n",
       "    <ul>\n",
       "    <li>dimension: factTable</li>\n",
       "    <li>hierarchy: code</li>\n",
       "    <li>type: String</li>\n",
       "    <li>order: NaturalOrder</li>\n",
       "    </ul>\n",
       "  </li>\n",
       "  <li>continent (Countries/continent/continent)\n",
       "    <ul>\n",
       "    <li>dimension: Countries</li>\n",
       "    <li>hierarchy: continent</li>\n",
       "    <li>type: String</li>\n",
       "    <li>order: NaturalOrder</li>\n",
       "    </ul>\n",
       "  </li>\n",
       "  <li>country (factTable/country/country)\n",
       "    <ul>\n",
       "    <li>dimension: factTable</li>\n",
       "    <li>hierarchy: country</li>\n",
       "    <li>type: String</li>\n",
       "    <li>order: NaturalOrder</li>\n",
       "    </ul>\n",
       "  </li>\n",
       "  <li>factid (factTable/factid/factid)\n",
       "    <ul>\n",
       "    <li>dimension: factTable</li>\n",
       "    <li>hierarchy: factid</li>\n",
       "    <li>type: int</li>\n",
       "    <li>order: NaturalOrder</li>\n",
       "    </ul>\n",
       "  </li>\n",
       "  <li>year (Time/year/year)\n",
       "    <ul>\n",
       "    <li>dimension: Time</li>\n",
       "    <li>hierarchy: year</li>\n",
       "    <li>type: int</li>\n",
       "    <li>order: NaturalOrder</li>\n",
       "    </ul>\n",
       "  </li>\n",
       "  </ul>\n",
       "</li>\n",
       "</ul>\n"
      ],
      "text/plain": [
       "<atoti.levels.Levels at 0x7dcfb43e2860>"
      ]
     },
     "execution_count": 163,
     "metadata": {
      "application/json": {
       "expanded": true,
       "root": "Levels"
      }
     },
     "output_type": "execute_result"
    }
   ],
   "source": [
    "testcube.levels"
   ]
  },
  {
   "cell_type": "code",
   "execution_count": 237,
   "id": "f1fa2d3f-0e13-47e1-96a2-bce0c6d8c481",
   "metadata": {},
   "outputs": [],
   "source": [
    "testcube.hierarchies[\"Time\", \"year\"]= [time[\"year\"]]"
   ]
  },
  {
   "cell_type": "code",
   "execution_count": 249,
   "id": "c947c29a-164f-4d4e-80ad-557f47100ff7",
   "metadata": {},
   "outputs": [
    {
     "data": {
      "text/html": [
       "<div>\n",
       "<style scoped>\n",
       "    .dataframe tbody tr th:only-of-type {\n",
       "        vertical-align: middle;\n",
       "    }\n",
       "\n",
       "    .dataframe tbody tr th {\n",
       "        vertical-align: top;\n",
       "    }\n",
       "\n",
       "    .dataframe thead th {\n",
       "        text-align: right;\n",
       "    }\n",
       "</style>\n",
       "<table border=\"1\" class=\"dataframe\">\n",
       "  <thead>\n",
       "    <tr style=\"text-align: right;\">\n",
       "      <th></th>\n",
       "      <th></th>\n",
       "      <th>total.SUM</th>\n",
       "      <th>depression.SUM</th>\n",
       "    </tr>\n",
       "    <tr>\n",
       "      <th>year</th>\n",
       "      <th>continent</th>\n",
       "      <th></th>\n",
       "      <th></th>\n",
       "    </tr>\n",
       "  </thead>\n",
       "  <tbody>\n",
       "    <tr>\n",
       "      <th rowspan=\"5\" valign=\"top\">1992</th>\n",
       "      <th>Africa</th>\n",
       "      <td>26</td>\n",
       "      <td>6,264.80</td>\n",
       "    </tr>\n",
       "    <tr>\n",
       "      <th>Asia</th>\n",
       "      <td>52</td>\n",
       "      <td>5,828.14</td>\n",
       "    </tr>\n",
       "    <tr>\n",
       "      <th>Europe</th>\n",
       "      <td>452</td>\n",
       "      <td>15,912.93</td>\n",
       "    </tr>\n",
       "    <tr>\n",
       "      <th>North America</th>\n",
       "      <td>67</td>\n",
       "      <td>3,551.73</td>\n",
       "    </tr>\n",
       "    <tr>\n",
       "      <th>Oceania</th>\n",
       "      <td>43</td>\n",
       "      <td>1,440.25</td>\n",
       "    </tr>\n",
       "    <tr>\n",
       "      <th>...</th>\n",
       "      <th>...</th>\n",
       "      <td>...</td>\n",
       "      <td>...</td>\n",
       "    </tr>\n",
       "    <tr>\n",
       "      <th>2016</th>\n",
       "      <th>South America</th>\n",
       "      <td>39</td>\n",
       "      <td>2,047.81</td>\n",
       "    </tr>\n",
       "    <tr>\n",
       "      <th rowspan=\"4\" valign=\"top\">2018</th>\n",
       "      <th>Asia</th>\n",
       "      <td>14</td>\n",
       "      <td>962.36</td>\n",
       "    </tr>\n",
       "    <tr>\n",
       "      <th>Europe</th>\n",
       "      <td>194</td>\n",
       "      <td>10,864.56</td>\n",
       "    </tr>\n",
       "    <tr>\n",
       "      <th>North America</th>\n",
       "      <td>34</td>\n",
       "      <td>550.24</td>\n",
       "    </tr>\n",
       "    <tr>\n",
       "      <th>Oceania</th>\n",
       "      <td>5</td>\n",
       "      <td>1,452.50</td>\n",
       "    </tr>\n",
       "  </tbody>\n",
       "</table>\n",
       "<p>70 rows × 2 columns</p>\n",
       "</div>"
      ],
      "text/plain": [
       "                   total.SUM depression.SUM\n",
       "year continent                             \n",
       "1992 Africa               26       6,264.80\n",
       "     Asia                 52       5,828.14\n",
       "     Europe              452      15,912.93\n",
       "     North America        67       3,551.73\n",
       "     Oceania              43       1,440.25\n",
       "...                      ...            ...\n",
       "2016 South America        39       2,047.81\n",
       "2018 Asia                 14         962.36\n",
       "     Europe              194      10,864.56\n",
       "     North America        34         550.24\n",
       "     Oceania               5       1,452.50\n",
       "\n",
       "[70 rows x 2 columns]"
      ]
     },
     "execution_count": 249,
     "metadata": {},
     "output_type": "execute_result"
    }
   ],
   "source": [
    "testcube.query(measures[\"total.SUM\"],measures[\"depression.SUM\"], levels=[levels[\"Time\",\"year\",\"year\"],levels[\"Countries\",'continent','continent']])"
   ]
  },
  {
   "cell_type": "code",
   "execution_count": 258,
   "id": "5cd00b3f-17d0-4082-b09b-fd1234ca8f91",
   "metadata": {},
   "outputs": [
    {
     "data": {
      "text/html": [
       "<div>\n",
       "<style scoped>\n",
       "    .dataframe tbody tr th:only-of-type {\n",
       "        vertical-align: middle;\n",
       "    }\n",
       "\n",
       "    .dataframe tbody tr th {\n",
       "        vertical-align: top;\n",
       "    }\n",
       "\n",
       "    .dataframe thead th {\n",
       "        text-align: right;\n",
       "    }\n",
       "</style>\n",
       "<table border=\"1\" class=\"dataframe\">\n",
       "  <thead>\n",
       "    <tr style=\"text-align: right;\">\n",
       "      <th></th>\n",
       "      <th>total.SUM</th>\n",
       "      <th>depression.MEAN</th>\n",
       "    </tr>\n",
       "    <tr>\n",
       "      <th>country</th>\n",
       "      <th></th>\n",
       "      <th></th>\n",
       "    </tr>\n",
       "  </thead>\n",
       "  <tbody>\n",
       "    <tr>\n",
       "      <th>Afghanistan</th>\n",
       "      <td>2</td>\n",
       "      <td>889.02</td>\n",
       "    </tr>\n",
       "    <tr>\n",
       "      <th>Algeria</th>\n",
       "      <td>15</td>\n",
       "      <td>737.06</td>\n",
       "    </tr>\n",
       "    <tr>\n",
       "      <th>Argentina</th>\n",
       "      <td>36</td>\n",
       "      <td>450.67</td>\n",
       "    </tr>\n",
       "    <tr>\n",
       "      <th>Armenia</th>\n",
       "      <td>14</td>\n",
       "      <td>469.99</td>\n",
       "    </tr>\n",
       "    <tr>\n",
       "      <th>Australia</th>\n",
       "      <td>347</td>\n",
       "      <td>840.32</td>\n",
       "    </tr>\n",
       "    <tr>\n",
       "      <th>...</th>\n",
       "      <td>...</td>\n",
       "      <td>...</td>\n",
       "    </tr>\n",
       "    <tr>\n",
       "      <th>Uzbekistan</th>\n",
       "      <td>31</td>\n",
       "      <td>545.10</td>\n",
       "    </tr>\n",
       "    <tr>\n",
       "      <th>Venezuela</th>\n",
       "      <td>7</td>\n",
       "      <td>565.55</td>\n",
       "    </tr>\n",
       "    <tr>\n",
       "      <th>Vietnam</th>\n",
       "      <td>4</td>\n",
       "      <td>370.13</td>\n",
       "    </tr>\n",
       "    <tr>\n",
       "      <th>Zambia</th>\n",
       "      <td>1</td>\n",
       "      <td>712.17</td>\n",
       "    </tr>\n",
       "    <tr>\n",
       "      <th>Zimbabwe</th>\n",
       "      <td>7</td>\n",
       "      <td>532.26</td>\n",
       "    </tr>\n",
       "  </tbody>\n",
       "</table>\n",
       "<p>111 rows × 2 columns</p>\n",
       "</div>"
      ],
      "text/plain": [
       "            total.SUM depression.MEAN\n",
       "country                              \n",
       "Afghanistan         2          889.02\n",
       "Algeria            15          737.06\n",
       "Argentina          36          450.67\n",
       "Armenia            14          469.99\n",
       "Australia         347          840.32\n",
       "...               ...             ...\n",
       "Uzbekistan         31          545.10\n",
       "Venezuela           7          565.55\n",
       "Vietnam             4          370.13\n",
       "Zambia              1          712.17\n",
       "Zimbabwe            7          532.26\n",
       "\n",
       "[111 rows x 2 columns]"
      ]
     },
     "execution_count": 258,
     "metadata": {},
     "output_type": "execute_result"
    }
   ],
   "source": [
    "testcube.query(measures[\"total.SUM\"],measures[\"depression.MEAN\"], levels=[levels[\"Countries\",'country','country']])"
   ]
  },
  {
   "cell_type": "code",
   "execution_count": 250,
   "id": "8f96b979-0cde-4701-82a3-432de53e5020",
   "metadata": {
    "atoti": {
     "widget": {
      "mapping": {
       "horizontalSubplots": [],
       "secondaryValues": [],
       "splitBy": [
        "ALL_MEASURES"
       ],
       "values": [
        "[Measures].[depression.SUM]"
       ],
       "verticalSubplots": [],
       "xAxis": [
        "[Countries].[continent].[continent]",
        "[Countries].[country].[country]"
       ]
      },
      "query": {
       "mdx": "SELECT NON EMPTY Crossjoin(Hierarchize(Descendants({[Countries].[continent].[ALL].[AllMember]}, 1, SELF_AND_BEFORE)), Hierarchize(Descendants({[Countries].[country].[ALL].[AllMember]}, 1, SELF_AND_BEFORE))) ON ROWS, NON EMPTY {[Measures].[depression.SUM]} ON COLUMNS FROM [factTable] CELL PROPERTIES VALUE, FORMATTED_VALUE, BACK_COLOR, FORE_COLOR, FONT_FLAGS",
       "updateMode": "once"
      },
      "serverKey": "default",
      "widgetKey": "plotly-line-chart"
     }
    }
   },
   "outputs": [
    {
     "data": {
      "application/vnd.atoti.widget.v0+json": {
       "sessionId": "1712554305_0PR0C6",
       "sessionLocation": {
        "https": false,
        "port": 9095
       },
       "widgetCreationCode": "session.widget"
      },
      "text/html": [
       "<img height=\"352\" width=\"1473\" src=\"data:image/png;base64,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\" />"
      ],
      "text/plain": [
       "Open the notebook in JupyterLab with the Atoti JupyterLab extension enabled to build this widget."
      ]
     },
     "metadata": {},
     "output_type": "display_data"
    }
   ],
   "source": [
    "session.widget"
   ]
  },
  {
   "cell_type": "code",
   "execution_count": 251,
   "id": "251da78b-d22c-4436-b099-d0f76c2c1452",
   "metadata": {
    "atoti": {
     "widget": {
      "mapping": {
       "columns": [
        "ALL_MEASURES"
       ],
       "measures": [],
       "rows": [
        "[Countries].[continent].[continent]"
       ]
      },
      "query": {
       "mdx": "SELECT NON EMPTY Hierarchize(Descendants({[Countries].[continent].[ALL].[AllMember]}, 1, SELF_AND_BEFORE)) ON ROWS FROM [factTable] CELL PROPERTIES VALUE, FORMATTED_VALUE, BACK_COLOR, FORE_COLOR, FONT_FLAGS",
       "updateMode": "once"
      },
      "serverKey": "default",
      "widgetKey": "pivot-table"
     }
    }
   },
   "outputs": [
    {
     "data": {
      "application/vnd.atoti.widget.v0+json": {
       "sessionId": "1712554305_0PR0C6",
       "sessionLocation": {
        "https": false,
        "port": 9095
       },
       "widgetCreationCode": "session.widget"
      },
      "text/html": [
       "<img height=\"352\" width=\"1473\" src=\"data:image/png;base64,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\" />"
      ],
      "text/plain": [
       "Open the notebook in JupyterLab with the Atoti JupyterLab extension enabled to build this widget."
      ]
     },
     "metadata": {},
     "output_type": "display_data"
    }
   ],
   "source": [
    "session.widget"
   ]
  }
 ],
 "metadata": {
  "kernelspec": {
   "display_name": "Python 3 (ipykernel)",
   "language": "python",
   "name": "python3"
  },
  "language_info": {
   "codemirror_mode": {
    "name": "ipython",
    "version": 3
   },
   "file_extension": ".py",
   "mimetype": "text/x-python",
   "name": "python",
   "nbconvert_exporter": "python",
   "pygments_lexer": "ipython3",
   "version": "3.10.12"
  }
 },
 "nbformat": 4,
 "nbformat_minor": 5
}
