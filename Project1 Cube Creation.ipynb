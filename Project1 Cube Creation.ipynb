{
 "cells": [
  {
   "cell_type": "code",
   "execution_count": 1,
   "id": "e3250406-7dc5-4889-bfec-fd13700da2ff",
   "metadata": {},
   "outputs": [
    {
     "name": "stdout",
     "output_type": "stream",
     "text": [
      "Welcome to Atoti 0.8.10!\n",
      "\n",
      "By using this community edition, you agree with the license available at https://docs.atoti.io/latest/eula.html.\n",
      "Browse the official documentation at https://docs.atoti.io.\n",
      "Join the community at https://www.atoti.io/register.\n",
      "\n",
      "Atoti collects telemetry data, which is used to help understand how to improve the product.\n",
      "If you don't wish to send usage data, you can request a trial license at https://www.atoti.io/evaluation-license-request.\n",
      "\n",
      "You can hide this message by setting the `ATOTI_HIDE_EULA_MESSAGE` environment variable to True.\n"
     ]
    }
   ],
   "source": [
    "import atoti as tt"
   ]
  },
  {
   "cell_type": "code",
   "execution_count": 2,
   "id": "5baab508-0f7f-498d-92d6-82f85cfdfb5a",
   "metadata": {},
   "outputs": [],
   "source": [
    "session = tt.Session(                            #Creare atoti session\n",
    "    user_content_storage=\".content\",\n",
    "    port=9095,\n",
    "    java_options=[\"-Xms1G\", \"-Xmx10G\"]\n",
    ")"
   ]
  },
  {
   "cell_type": "code",
   "execution_count": 3,
   "id": "42db0455-3217-44f3-8957-eb6e98bbe662",
   "metadata": {},
   "outputs": [],
   "source": [
    "db_name = \"Project1\"\n",
    "db_user = \"postgres\"\n",
    "db_password = \"postgres\"  \n",
    "db_host = \"localhost\"  \n",
    "db_port = \"5432\""
   ]
  },
  {
   "cell_type": "code",
   "execution_count": 4,
   "id": "0827c8bd-7294-492f-841b-6c3840e1b3c1",
   "metadata": {},
   "outputs": [],
   "source": [
    "jdbc_url = f\"jdbc:postgresql://{db_host}:{db_port}/{db_name}?user={db_user}&password={db_password}\" #Create URL"
   ]
  },
  {
   "cell_type": "code",
   "execution_count": 5,
   "id": "f6517067-5b30-4559-8178-b5c0b73adbed",
   "metadata": {},
   "outputs": [
    {
     "data": {
      "text/plain": [
       "'jdbc:postgresql://localhost:5432/Project1?user=postgres&password=postgres'"
      ]
     },
     "execution_count": 5,
     "metadata": {},
     "output_type": "execute_result"
    }
   ],
   "source": [
    "jdbc_url"
   ]
  },
  {
   "cell_type": "code",
   "execution_count": 6,
   "id": "0e3273fb-18f1-47a1-affd-8da19cd4e59a",
   "metadata": {},
   "outputs": [],
   "source": [
    "fact_olympic = session.read_sql(       #Get main fact table\n",
    "    \"SELECT * FROM factolympic\",\n",
    "    keys=[\"year\",\"country\"],\n",
    "    table_name=\"Olympic\",\n",
    "    url=jdbc_url,\n",
    ")"
   ]
  },
  {
   "cell_type": "code",
   "execution_count": 7,
   "id": "cae93443-5fb4-4579-8960-98883518ab4c",
   "metadata": {},
   "outputs": [],
   "source": [
    "dim_countries = session.read_sql(     #Get countries facttable\n",
    "    \"SELECT * FROM dimcountries\",\n",
    "    keys=[\"country\"],\n",
    "    table_name=\"Countries\",\n",
    "    url=jdbc_url)"
   ]
  },
  {
   "cell_type": "code",
   "execution_count": 8,
   "id": "efc6f584-fb36-4d51-b59b-5e88e5f692bc",
   "metadata": {},
   "outputs": [],
   "source": [
    "dim_life = session.read_sql( #Get life expectancy dimension table\n",
    "    \"SELECT * FROM dimlife\",\n",
    "    keys=[\"year\",\"country\"],\n",
    "    table_name=\"Life\",\n",
    "    url=jdbc_url)"
   ]
  },
  {
   "cell_type": "code",
   "execution_count": 9,
   "id": "0f054f27-207b-422a-885d-76e35834d64e",
   "metadata": {
    "editable": true,
    "slideshow": {
     "slide_type": ""
    },
    "tags": []
   },
   "outputs": [],
   "source": [
    "dim_time = session.read_sql(  #Get time dimension table\n",
    "    \"SELECT * FROM dimtime\",\n",
    "    keys=[\"year\"],\n",
    "    table_name=\"Time\",\n",
    "    url=jdbc_url)"
   ]
  },
  {
   "cell_type": "code",
   "execution_count": 10,
   "id": "89612d1e-0b70-40ac-807d-40d4381a420a",
   "metadata": {},
   "outputs": [],
   "source": [
    "fact_olympic.join(dim_countries, fact_olympic[\"country\"] == dim_countries[\"country\"])  #Join tables based "
   ]
  },
  {
   "cell_type": "code",
   "execution_count": 11,
   "id": "3cb62449-c5b1-4822-aea0-8bc729813214",
   "metadata": {},
   "outputs": [],
   "source": [
    "fact_olympic.join(dim_life, (fact_olympic[\"year\"] == dim_life[\"year\"] )& (fact_olympic[\"country\"] == dim_life[\"country\"]))"
   ]
  },
  {
   "cell_type": "code",
   "execution_count": 12,
   "id": "c24d7969-02e1-4d84-8c24-877e8ef78fd5",
   "metadata": {},
   "outputs": [],
   "source": [
    "fact_olympic.join(dim_time, fact_olympic[\"year\"] == dim_time[\"year\"])"
   ]
  },
  {
   "cell_type": "code",
   "execution_count": 13,
   "id": "42d9d7e5-47fb-4492-ac2e-27aec91890c1",
   "metadata": {},
   "outputs": [
    {
     "data": {
      "text/markdown": [
       "```mermaid\n",
       "erDiagram\n",
       "  \"Countries\" {\n",
       "    _ String PK \"country\"\n",
       "    _ String \"continent\"\n",
       "  }\n",
       "  \"Life\" {\n",
       "    _ int PK \"year\"\n",
       "    _ String PK \"country\"\n",
       "    _ String \"lifeexpectancy\"\n",
       "    _ String \"population\"\n",
       "  }\n",
       "  \"Time\" {\n",
       "    _ int PK \"year\"\n",
       "    _ String \"decade\"\n",
       "    _ String \"season\"\n",
       "  }\n",
       "  \"Olympic\" {\n",
       "    _ int PK \"year\"\n",
       "    _ String PK \"country\"\n",
       "    nullable int \"bronze\"\n",
       "    nullable int \"silver\"\n",
       "    nullable int \"gold\"\n",
       "    nullable int \"total\"\n",
       "    nullable double \"depression\"\n",
       "    nullable double \"schizophrenia\"\n",
       "    nullable double \"bipolar\"\n",
       "    nullable double \"eatingdisorder\"\n",
       "    nullable double \"anxiety\"\n",
       "  }\n",
       "  \"Olympic\" }o--o| \"Countries\" : \"`country` == `country`\"\n",
       "  \"Olympic\" }o--o| \"Life\" : \"(`year` == `year`) & (`country` == `country`)\"\n",
       "  \"Olympic\" }o--o| \"Time\" : \"`year` == `year`\"\n",
       "```\n"
      ],
      "text/plain": [
       "erDiagram\n",
       "  \"Countries\" {\n",
       "    _ String PK \"country\"\n",
       "    _ String \"continent\"\n",
       "  }\n",
       "  \"Life\" {\n",
       "    _ int PK \"year\"\n",
       "    _ String PK \"country\"\n",
       "    _ String \"lifeexpectancy\"\n",
       "    _ String \"population\"\n",
       "  }\n",
       "  \"Time\" {\n",
       "    _ int PK \"year\"\n",
       "    _ String \"decade\"\n",
       "    _ String \"season\"\n",
       "  }\n",
       "  \"Olympic\" {\n",
       "    _ int PK \"year\"\n",
       "    _ String PK \"country\"\n",
       "    nullable int \"bronze\"\n",
       "    nullable int \"silver\"\n",
       "    nullable int \"gold\"\n",
       "    nullable int \"total\"\n",
       "    nullable double \"depression\"\n",
       "    nullable double \"schizophrenia\"\n",
       "    nullable double \"bipolar\"\n",
       "    nullable double \"eatingdisorder\"\n",
       "    nullable double \"anxiety\"\n",
       "  }\n",
       "  \"Olympic\" }o--o| \"Countries\" : \"`country` == `country`\"\n",
       "  \"Olympic\" }o--o| \"Life\" : \"(`year` == `year`) & (`country` == `country`)\"\n",
       "  \"Olympic\" }o--o| \"Time\" : \"`year` == `year`\""
      ]
     },
     "execution_count": 13,
     "metadata": {},
     "output_type": "execute_result"
    }
   ],
   "source": [
    "session.tables.schema"
   ]
  },
  {
   "cell_type": "code",
   "execution_count": 14,
   "id": "feb25c5c-5458-448d-9161-9f028a1a69d7",
   "metadata": {},
   "outputs": [
    {
     "data": {
      "text/html": [
       "<div>\n",
       "<style scoped>\n",
       "    .dataframe tbody tr th:only-of-type {\n",
       "        vertical-align: middle;\n",
       "    }\n",
       "\n",
       "    .dataframe tbody tr th {\n",
       "        vertical-align: top;\n",
       "    }\n",
       "\n",
       "    .dataframe thead th {\n",
       "        text-align: right;\n",
       "    }\n",
       "</style>\n",
       "<table border=\"1\" class=\"dataframe\">\n",
       "  <thead>\n",
       "    <tr style=\"text-align: right;\">\n",
       "      <th></th>\n",
       "      <th></th>\n",
       "      <th>bronze</th>\n",
       "      <th>silver</th>\n",
       "      <th>gold</th>\n",
       "      <th>total</th>\n",
       "      <th>depression</th>\n",
       "      <th>schizophrenia</th>\n",
       "      <th>bipolar</th>\n",
       "      <th>eatingdisorder</th>\n",
       "      <th>anxiety</th>\n",
       "    </tr>\n",
       "    <tr>\n",
       "      <th>year</th>\n",
       "      <th>country</th>\n",
       "      <th></th>\n",
       "      <th></th>\n",
       "      <th></th>\n",
       "      <th></th>\n",
       "      <th></th>\n",
       "      <th></th>\n",
       "      <th></th>\n",
       "      <th></th>\n",
       "      <th></th>\n",
       "    </tr>\n",
       "  </thead>\n",
       "  <tbody>\n",
       "    <tr>\n",
       "      <th rowspan=\"5\" valign=\"top\">2018</th>\n",
       "      <th>China</th>\n",
       "      <td>2</td>\n",
       "      <td>7</td>\n",
       "      <td>1</td>\n",
       "      <td>10</td>\n",
       "      <td>419.2856</td>\n",
       "      <td>202.93486</td>\n",
       "      <td>39.638176</td>\n",
       "      <td>24.338549</td>\n",
       "      <td>310.26324</td>\n",
       "    </tr>\n",
       "    <tr>\n",
       "      <th>Pakistan</th>\n",
       "      <td>0</td>\n",
       "      <td>0</td>\n",
       "      <td>0</td>\n",
       "      <td>0</td>\n",
       "      <td>662.26276</td>\n",
       "      <td>177.39119</td>\n",
       "      <td>83.03932</td>\n",
       "      <td>25.683395</td>\n",
       "      <td>327.31042</td>\n",
       "    </tr>\n",
       "    <tr>\n",
       "      <th>Brazil</th>\n",
       "      <td>0</td>\n",
       "      <td>0</td>\n",
       "      <td>0</td>\n",
       "      <td>0</td>\n",
       "      <td>685.841</td>\n",
       "      <td>176.80495</td>\n",
       "      <td>239.34134</td>\n",
       "      <td>49.10756</td>\n",
       "      <td>701.5429</td>\n",
       "    </tr>\n",
       "    <tr>\n",
       "      <th>South Korea</th>\n",
       "      <td>4</td>\n",
       "      <td>8</td>\n",
       "      <td>5</td>\n",
       "      <td>17</td>\n",
       "      <td>359.07388</td>\n",
       "      <td>194.25919</td>\n",
       "      <td>108.985725</td>\n",
       "      <td>74.87254</td>\n",
       "      <td>311.52283</td>\n",
       "    </tr>\n",
       "    <tr>\n",
       "      <th>Iraq</th>\n",
       "      <td>0</td>\n",
       "      <td>0</td>\n",
       "      <td>0</td>\n",
       "      <td>0</td>\n",
       "      <td>693.02216</td>\n",
       "      <td>156.16316</td>\n",
       "      <td>145.3553</td>\n",
       "      <td>43.88158</td>\n",
       "      <td>508.72513</td>\n",
       "    </tr>\n",
       "  </tbody>\n",
       "</table>\n",
       "</div>"
      ],
      "text/plain": [
       "                  bronze  silver  gold  total  depression  schizophrenia  \\\n",
       "year country                                                               \n",
       "2018 China             2       7     1     10    419.2856      202.93486   \n",
       "     Pakistan          0       0     0      0   662.26276      177.39119   \n",
       "     Brazil            0       0     0      0     685.841      176.80495   \n",
       "     South Korea       4       8     5     17   359.07388      194.25919   \n",
       "     Iraq              0       0     0      0   693.02216      156.16316   \n",
       "\n",
       "                     bipolar  eatingdisorder    anxiety  \n",
       "year country                                             \n",
       "2018 China         39.638176       24.338549  310.26324  \n",
       "     Pakistan       83.03932       25.683395  327.31042  \n",
       "     Brazil        239.34134        49.10756   701.5429  \n",
       "     South Korea  108.985725        74.87254  311.52283  \n",
       "     Iraq           145.3553        43.88158  508.72513  "
      ]
     },
     "execution_count": 14,
     "metadata": {},
     "output_type": "execute_result"
    }
   ],
   "source": [
    "fact_olympic.head()"
   ]
  },
  {
   "cell_type": "code",
   "execution_count": 15,
   "id": "860a487d-8e0e-4637-92f3-ef9d6269b62e",
   "metadata": {},
   "outputs": [],
   "source": [
    "testcube = session.create_cube(fact_olympic)  #Cube creation"
   ]
  },
  {
   "cell_type": "code",
   "execution_count": 16,
   "id": "56262118-9490-4f59-8642-fd26bbaf1c72",
   "metadata": {
    "scrolled": true
   },
   "outputs": [
    {
     "data": {
      "application/json": {
       "Dimensions": {
        "Countries": {
         "continent": [
          "continent"
         ]
        },
        "Life": {
         "lifeexpectancy": [
          "lifeexpectancy"
         ],
         "population": [
          "population"
         ]
        },
        "Olympic": {
         "country": [
          "country"
         ],
         "year": [
          "year"
         ]
        },
        "Time": {
         "decade": [
          "decade"
         ],
         "season": [
          "season"
         ]
        }
       },
       "Measures": {
        "anxiety.MEAN": {
         "formatter": "DOUBLE[#,###.00]"
        },
        "anxiety.SUM": {
         "formatter": "DOUBLE[#,###.00]"
        },
        "bipolar.MEAN": {
         "formatter": "DOUBLE[#,###.00]"
        },
        "bipolar.SUM": {
         "formatter": "DOUBLE[#,###.00]"
        },
        "bronze.MEAN": {
         "formatter": "DOUBLE[#,###.00]"
        },
        "bronze.SUM": {
         "formatter": "INT[#,###]"
        },
        "contributors.COUNT": {
         "formatter": "INT[#,###]"
        },
        "depression.MEAN": {
         "formatter": "DOUBLE[#,###.00]"
        },
        "depression.SUM": {
         "formatter": "DOUBLE[#,###.00]"
        },
        "eatingdisorder.MEAN": {
         "formatter": "DOUBLE[#,###.00]"
        },
        "eatingdisorder.SUM": {
         "formatter": "DOUBLE[#,###.00]"
        },
        "gold.MEAN": {
         "formatter": "DOUBLE[#,###.00]"
        },
        "gold.SUM": {
         "formatter": "INT[#,###]"
        },
        "schizophrenia.MEAN": {
         "formatter": "DOUBLE[#,###.00]"
        },
        "schizophrenia.SUM": {
         "formatter": "DOUBLE[#,###.00]"
        },
        "silver.MEAN": {
         "formatter": "DOUBLE[#,###.00]"
        },
        "silver.SUM": {
         "formatter": "INT[#,###]"
        },
        "total.MEAN": {
         "formatter": "DOUBLE[#,###.00]"
        },
        "total.SUM": {
         "formatter": "INT[#,###]"
        }
       }
      },
      "text/html": [
       "<ul>\n",
       "<li>Olympic\n",
       "  <ul>\n",
       "  <li>Dimensions\n",
       "    <ul>\n",
       "    <li>Countries\n",
       "      <ul>\n",
       "      <li>continent\n",
       "        <ol>\n",
       "        <li>continent</li>\n",
       "        </ol>      </li>\n",
       "      </ul>\n",
       "    </li>\n",
       "    <li>Life\n",
       "      <ul>\n",
       "      <li>lifeexpectancy\n",
       "        <ol>\n",
       "        <li>lifeexpectancy</li>\n",
       "        </ol>      </li>\n",
       "      <li>population\n",
       "        <ol>\n",
       "        <li>population</li>\n",
       "        </ol>      </li>\n",
       "      </ul>\n",
       "    </li>\n",
       "    <li>Olympic\n",
       "      <ul>\n",
       "      <li>country\n",
       "        <ol>\n",
       "        <li>country</li>\n",
       "        </ol>      </li>\n",
       "      <li>year\n",
       "        <ol>\n",
       "        <li>year</li>\n",
       "        </ol>      </li>\n",
       "      </ul>\n",
       "    </li>\n",
       "    <li>Time\n",
       "      <ul>\n",
       "      <li>decade\n",
       "        <ol>\n",
       "        <li>decade</li>\n",
       "        </ol>      </li>\n",
       "      <li>season\n",
       "        <ol>\n",
       "        <li>season</li>\n",
       "        </ol>      </li>\n",
       "      </ul>\n",
       "    </li>\n",
       "    </ul>\n",
       "  </li>\n",
       "  <li>Measures\n",
       "    <ul>\n",
       "    <li>anxiety.MEAN\n",
       "      <ul>\n",
       "      <li>formatter: DOUBLE[#,###.00]</li>\n",
       "      </ul>\n",
       "    </li>\n",
       "    <li>anxiety.SUM\n",
       "      <ul>\n",
       "      <li>formatter: DOUBLE[#,###.00]</li>\n",
       "      </ul>\n",
       "    </li>\n",
       "    <li>bipolar.MEAN\n",
       "      <ul>\n",
       "      <li>formatter: DOUBLE[#,###.00]</li>\n",
       "      </ul>\n",
       "    </li>\n",
       "    <li>bipolar.SUM\n",
       "      <ul>\n",
       "      <li>formatter: DOUBLE[#,###.00]</li>\n",
       "      </ul>\n",
       "    </li>\n",
       "    <li>bronze.MEAN\n",
       "      <ul>\n",
       "      <li>formatter: DOUBLE[#,###.00]</li>\n",
       "      </ul>\n",
       "    </li>\n",
       "    <li>bronze.SUM\n",
       "      <ul>\n",
       "      <li>formatter: INT[#,###]</li>\n",
       "      </ul>\n",
       "    </li>\n",
       "    <li>contributors.COUNT\n",
       "      <ul>\n",
       "      <li>formatter: INT[#,###]</li>\n",
       "      </ul>\n",
       "    </li>\n",
       "    <li>depression.MEAN\n",
       "      <ul>\n",
       "      <li>formatter: DOUBLE[#,###.00]</li>\n",
       "      </ul>\n",
       "    </li>\n",
       "    <li>depression.SUM\n",
       "      <ul>\n",
       "      <li>formatter: DOUBLE[#,###.00]</li>\n",
       "      </ul>\n",
       "    </li>\n",
       "    <li>eatingdisorder.MEAN\n",
       "      <ul>\n",
       "      <li>formatter: DOUBLE[#,###.00]</li>\n",
       "      </ul>\n",
       "    </li>\n",
       "    <li>eatingdisorder.SUM\n",
       "      <ul>\n",
       "      <li>formatter: DOUBLE[#,###.00]</li>\n",
       "      </ul>\n",
       "    </li>\n",
       "    <li>gold.MEAN\n",
       "      <ul>\n",
       "      <li>formatter: DOUBLE[#,###.00]</li>\n",
       "      </ul>\n",
       "    </li>\n",
       "    <li>gold.SUM\n",
       "      <ul>\n",
       "      <li>formatter: INT[#,###]</li>\n",
       "      </ul>\n",
       "    </li>\n",
       "    <li>schizophrenia.MEAN\n",
       "      <ul>\n",
       "      <li>formatter: DOUBLE[#,###.00]</li>\n",
       "      </ul>\n",
       "    </li>\n",
       "    <li>schizophrenia.SUM\n",
       "      <ul>\n",
       "      <li>formatter: DOUBLE[#,###.00]</li>\n",
       "      </ul>\n",
       "    </li>\n",
       "    <li>silver.MEAN\n",
       "      <ul>\n",
       "      <li>formatter: DOUBLE[#,###.00]</li>\n",
       "      </ul>\n",
       "    </li>\n",
       "    <li>silver.SUM\n",
       "      <ul>\n",
       "      <li>formatter: INT[#,###]</li>\n",
       "      </ul>\n",
       "    </li>\n",
       "    <li>total.MEAN\n",
       "      <ul>\n",
       "      <li>formatter: DOUBLE[#,###.00]</li>\n",
       "      </ul>\n",
       "    </li>\n",
       "    <li>total.SUM\n",
       "      <ul>\n",
       "      <li>formatter: INT[#,###]</li>\n",
       "      </ul>\n",
       "    </li>\n",
       "    </ul>\n",
       "  </li>\n",
       "  </ul>\n",
       "</li>\n",
       "</ul>\n"
      ],
      "text/plain": [
       "<atoti.cube.Cube at 0x7a315847e5c0>"
      ]
     },
     "execution_count": 16,
     "metadata": {
      "application/json": {
       "expanded": false,
       "root": "Olympic"
      }
     },
     "output_type": "execute_result"
    }
   ],
   "source": [
    "testcube"
   ]
  },
  {
   "cell_type": "code",
   "execution_count": 17,
   "id": "ad272527-67cd-4785-b77f-f7bb45bef4f8",
   "metadata": {},
   "outputs": [],
   "source": [
    "hierarchies, levels, measures = testcube.hierarchies, testcube.levels, testcube.measures"
   ]
  },
  {
   "cell_type": "code",
   "execution_count": 18,
   "id": "c9d6c08f-9247-46ea-a535-74527fda3c9d",
   "metadata": {},
   "outputs": [],
   "source": [
    "hierarchies[\"Countries\",\"continent\"] = [dim_countries[\"continent\"],dim_countries[\"country\"]]\n",
    "hierarchies[\"Time\",\"time\"] = [dim_time[\"decade\"],dim_time[\"year\"],dim_time['season']]\n",
    "hierarchies[\"Lifexpectancy\",\"lifeexpectancy\"] = [dim_life[\"lifeexpectancy\"],dim_life['population']]"
   ]
  },
  {
   "cell_type": "code",
   "execution_count": 19,
   "id": "df93ed09-8f59-4d50-9c1c-0a336cc78995",
   "metadata": {
    "scrolled": true
   },
   "outputs": [],
   "source": [
    "del hierarchies[\"Olympic\",\"country\"]\n",
    "del hierarchies[\"Olympic\",\"year\"]\n",
    "del hierarchies[\"Time\",\"decade\"]\n",
    "del hierarchies['Time','season']"
   ]
  },
  {
   "cell_type": "code",
   "execution_count": 20,
   "id": "6cbfab1d-52e8-4a00-a222-f25561915a9b",
   "metadata": {},
   "outputs": [],
   "source": [
    "del hierarchies['Life', 'population']\n",
    "del hierarchies ['Life', 'lifeexpectancy']"
   ]
  },
  {
   "cell_type": "code",
   "execution_count": 23,
   "id": "c58044dc-345b-4c83-8525-7325ffe7365d",
   "metadata": {},
   "outputs": [
    {
     "data": {
      "text/plain": [
       "[('Countries', 'continent', 'continent'),\n",
       " ('Countries', 'continent', 'country'),\n",
       " ('Time', 'time', 'decade'),\n",
       " ('Time', 'time', 'year'),\n",
       " ('Time', 'time', 'season'),\n",
       " ('Lifexpectancy', 'lifeexpectancy', 'lifeexpectancy'),\n",
       " ('Lifexpectancy', 'lifeexpectancy', 'population')]"
      ]
     },
     "execution_count": 23,
     "metadata": {},
     "output_type": "execute_result"
    }
   ],
   "source": [
    "list(levels)"
   ]
  },
  {
   "cell_type": "code",
   "execution_count": 24,
   "id": "a37cce50-f22f-407e-8ec3-0c048a695447",
   "metadata": {},
   "outputs": [
    {
     "data": {
      "application/json": {
       "anxiety.MEAN": {
        "formatter": "DOUBLE[#,###.00]"
       },
       "anxiety.SUM": {
        "formatter": "DOUBLE[#,###.00]"
       },
       "bipolar.MEAN": {
        "formatter": "DOUBLE[#,###.00]"
       },
       "bipolar.SUM": {
        "formatter": "DOUBLE[#,###.00]"
       },
       "bronze.MEAN": {
        "formatter": "DOUBLE[#,###.00]"
       },
       "bronze.SUM": {
        "formatter": "INT[#,###]"
       },
       "contributors.COUNT": {
        "formatter": "INT[#,###]"
       },
       "depression.MEAN": {
        "formatter": "DOUBLE[#,###.00]"
       },
       "depression.SUM": {
        "formatter": "DOUBLE[#,###.00]"
       },
       "eatingdisorder.MEAN": {
        "formatter": "DOUBLE[#,###.00]"
       },
       "eatingdisorder.SUM": {
        "formatter": "DOUBLE[#,###.00]"
       },
       "gold.MEAN": {
        "formatter": "DOUBLE[#,###.00]"
       },
       "gold.SUM": {
        "formatter": "INT[#,###]"
       },
       "schizophrenia.MEAN": {
        "formatter": "DOUBLE[#,###.00]"
       },
       "schizophrenia.SUM": {
        "formatter": "DOUBLE[#,###.00]"
       },
       "silver.MEAN": {
        "formatter": "DOUBLE[#,###.00]"
       },
       "silver.SUM": {
        "formatter": "INT[#,###]"
       },
       "total.MEAN": {
        "formatter": "DOUBLE[#,###.00]"
       },
       "total.SUM": {
        "formatter": "INT[#,###]"
       }
      },
      "text/html": [
       "<ul>\n",
       "<li>Measures\n",
       "  <ul>\n",
       "  <li>anxiety.MEAN\n",
       "    <ul>\n",
       "    <li>formatter: DOUBLE[#,###.00]</li>\n",
       "    </ul>\n",
       "  </li>\n",
       "  <li>anxiety.SUM\n",
       "    <ul>\n",
       "    <li>formatter: DOUBLE[#,###.00]</li>\n",
       "    </ul>\n",
       "  </li>\n",
       "  <li>bipolar.MEAN\n",
       "    <ul>\n",
       "    <li>formatter: DOUBLE[#,###.00]</li>\n",
       "    </ul>\n",
       "  </li>\n",
       "  <li>bipolar.SUM\n",
       "    <ul>\n",
       "    <li>formatter: DOUBLE[#,###.00]</li>\n",
       "    </ul>\n",
       "  </li>\n",
       "  <li>bronze.MEAN\n",
       "    <ul>\n",
       "    <li>formatter: DOUBLE[#,###.00]</li>\n",
       "    </ul>\n",
       "  </li>\n",
       "  <li>bronze.SUM\n",
       "    <ul>\n",
       "    <li>formatter: INT[#,###]</li>\n",
       "    </ul>\n",
       "  </li>\n",
       "  <li>contributors.COUNT\n",
       "    <ul>\n",
       "    <li>formatter: INT[#,###]</li>\n",
       "    </ul>\n",
       "  </li>\n",
       "  <li>depression.MEAN\n",
       "    <ul>\n",
       "    <li>formatter: DOUBLE[#,###.00]</li>\n",
       "    </ul>\n",
       "  </li>\n",
       "  <li>depression.SUM\n",
       "    <ul>\n",
       "    <li>formatter: DOUBLE[#,###.00]</li>\n",
       "    </ul>\n",
       "  </li>\n",
       "  <li>eatingdisorder.MEAN\n",
       "    <ul>\n",
       "    <li>formatter: DOUBLE[#,###.00]</li>\n",
       "    </ul>\n",
       "  </li>\n",
       "  <li>eatingdisorder.SUM\n",
       "    <ul>\n",
       "    <li>formatter: DOUBLE[#,###.00]</li>\n",
       "    </ul>\n",
       "  </li>\n",
       "  <li>gold.MEAN\n",
       "    <ul>\n",
       "    <li>formatter: DOUBLE[#,###.00]</li>\n",
       "    </ul>\n",
       "  </li>\n",
       "  <li>gold.SUM\n",
       "    <ul>\n",
       "    <li>formatter: INT[#,###]</li>\n",
       "    </ul>\n",
       "  </li>\n",
       "  <li>schizophrenia.MEAN\n",
       "    <ul>\n",
       "    <li>formatter: DOUBLE[#,###.00]</li>\n",
       "    </ul>\n",
       "  </li>\n",
       "  <li>schizophrenia.SUM\n",
       "    <ul>\n",
       "    <li>formatter: DOUBLE[#,###.00]</li>\n",
       "    </ul>\n",
       "  </li>\n",
       "  <li>silver.MEAN\n",
       "    <ul>\n",
       "    <li>formatter: DOUBLE[#,###.00]</li>\n",
       "    </ul>\n",
       "  </li>\n",
       "  <li>silver.SUM\n",
       "    <ul>\n",
       "    <li>formatter: INT[#,###]</li>\n",
       "    </ul>\n",
       "  </li>\n",
       "  <li>total.MEAN\n",
       "    <ul>\n",
       "    <li>formatter: DOUBLE[#,###.00]</li>\n",
       "    </ul>\n",
       "  </li>\n",
       "  <li>total.SUM\n",
       "    <ul>\n",
       "    <li>formatter: INT[#,###]</li>\n",
       "    </ul>\n",
       "  </li>\n",
       "  </ul>\n",
       "</li>\n",
       "</ul>\n"
      ],
      "text/plain": [
       "{'contributors.COUNT': <atoti.measure.Measure object at 0x7a31a4cb0340>, 'update.TIMESTAMP': <atoti.measure.Measure object at 0x7a31583204c0>, 'depression.MEAN': <atoti.measure.Measure object at 0x7a31583204f0>, 'depression.SUM': <atoti.measure.Measure object at 0x7a3158320520>, 'bipolar.MEAN': <atoti.measure.Measure object at 0x7a3158320550>, 'bipolar.SUM': <atoti.measure.Measure object at 0x7a3158320580>, 'bronze.MEAN': <atoti.measure.Measure object at 0x7a31583205b0>, 'bronze.SUM': <atoti.measure.Measure object at 0x7a3158320100>, 'total.MEAN': <atoti.measure.Measure object at 0x7a31583200d0>, 'total.SUM': <atoti.measure.Measure object at 0x7a31583205e0>, 'anxiety.MEAN': <atoti.measure.Measure object at 0x7a3158320250>, 'anxiety.SUM': <atoti.measure.Measure object at 0x7a3158320220>, 'silver.MEAN': <atoti.measure.Measure object at 0x7a3158320070>, 'silver.SUM': <atoti.measure.Measure object at 0x7a3158320040>, 'gold.MEAN': <atoti.measure.Measure object at 0x7a3158320610>, 'gold.SUM': <atoti.measure.Measure object at 0x7a3158320640>, 'schizophrenia.MEAN': <atoti.measure.Measure object at 0x7a3158320670>, 'schizophrenia.SUM': <atoti.measure.Measure object at 0x7a31583206a0>, 'eatingdisorder.MEAN': <atoti.measure.Measure object at 0x7a31583206d0>, 'eatingdisorder.SUM': <atoti.measure.Measure object at 0x7a3158320700>}"
      ]
     },
     "execution_count": 24,
     "metadata": {
      "application/json": {
       "expanded": false,
       "root": "Measures"
      }
     },
     "output_type": "execute_result"
    }
   ],
   "source": [
    "measures"
   ]
  },
  {
   "cell_type": "code",
   "execution_count": 25,
   "id": "c947c29a-164f-4d4e-80ad-557f47100ff7",
   "metadata": {},
   "outputs": [
    {
     "data": {
      "text/html": [
       "<div>\n",
       "<style scoped>\n",
       "    .dataframe tbody tr th:only-of-type {\n",
       "        vertical-align: middle;\n",
       "    }\n",
       "\n",
       "    .dataframe tbody tr th {\n",
       "        vertical-align: top;\n",
       "    }\n",
       "\n",
       "    .dataframe thead th {\n",
       "        text-align: right;\n",
       "    }\n",
       "</style>\n",
       "<table border=\"1\" class=\"dataframe\">\n",
       "  <thead>\n",
       "    <tr style=\"text-align: right;\">\n",
       "      <th></th>\n",
       "      <th>depression.SUM</th>\n",
       "      <th>anxiety.SUM</th>\n",
       "      <th>total.SUM</th>\n",
       "    </tr>\n",
       "    <tr>\n",
       "      <th>continent</th>\n",
       "      <th></th>\n",
       "      <th></th>\n",
       "      <th></th>\n",
       "    </tr>\n",
       "  </thead>\n",
       "  <tbody>\n",
       "    <tr>\n",
       "      <th>Africa</th>\n",
       "      <td>571,722.66</td>\n",
       "      <td>246,325.63</td>\n",
       "      <td>257</td>\n",
       "    </tr>\n",
       "    <tr>\n",
       "      <th>Asia</th>\n",
       "      <td>399,496.68</td>\n",
       "      <td>234,930.53</td>\n",
       "      <td>1,675</td>\n",
       "    </tr>\n",
       "    <tr>\n",
       "      <th>Europe</th>\n",
       "      <td>358,599.07</td>\n",
       "      <td>265,029.54</td>\n",
       "      <td>4,596</td>\n",
       "    </tr>\n",
       "    <tr>\n",
       "      <th>North America</th>\n",
       "      <td>233,874.03</td>\n",
       "      <td>152,696.12</td>\n",
       "      <td>1,601</td>\n",
       "    </tr>\n",
       "    <tr>\n",
       "      <th>Oceania</th>\n",
       "      <td>131,911.80</td>\n",
       "      <td>107,294.79</td>\n",
       "      <td>434</td>\n",
       "    </tr>\n",
       "    <tr>\n",
       "      <th>South America</th>\n",
       "      <td>103,600.52</td>\n",
       "      <td>83,490.35</td>\n",
       "      <td>194</td>\n",
       "    </tr>\n",
       "  </tbody>\n",
       "</table>\n",
       "</div>"
      ],
      "text/plain": [
       "              depression.SUM anxiety.SUM total.SUM\n",
       "continent                                         \n",
       "Africa            571,722.66  246,325.63       257\n",
       "Asia              399,496.68  234,930.53     1,675\n",
       "Europe            358,599.07  265,029.54     4,596\n",
       "North America     233,874.03  152,696.12     1,601\n",
       "Oceania           131,911.80  107,294.79       434\n",
       "South America     103,600.52   83,490.35       194"
      ]
     },
     "execution_count": 25,
     "metadata": {},
     "output_type": "execute_result"
    }
   ],
   "source": [
    "testcube.query(measures[\"depression.SUM\"],measures[\"anxiety.SUM\"],measures[\"total.SUM\"], levels=[levels[('Countries', 'continent', 'continent')]])  #Query 1 "
   ]
  },
  {
   "cell_type": "code",
   "execution_count": 26,
   "id": "5da42560-7035-49c2-a75d-c2734770e443",
   "metadata": {},
   "outputs": [
    {
     "data": {
      "text/html": [
       "<div>\n",
       "<style scoped>\n",
       "    .dataframe tbody tr th:only-of-type {\n",
       "        vertical-align: middle;\n",
       "    }\n",
       "\n",
       "    .dataframe tbody tr th {\n",
       "        vertical-align: top;\n",
       "    }\n",
       "\n",
       "    .dataframe thead th {\n",
       "        text-align: right;\n",
       "    }\n",
       "</style>\n",
       "<table border=\"1\" class=\"dataframe\">\n",
       "  <thead>\n",
       "    <tr style=\"text-align: right;\">\n",
       "      <th></th>\n",
       "      <th></th>\n",
       "      <th>depression.SUM</th>\n",
       "      <th>anxiety.SUM</th>\n",
       "    </tr>\n",
       "    <tr>\n",
       "      <th>continent</th>\n",
       "      <th>country</th>\n",
       "      <th></th>\n",
       "      <th></th>\n",
       "    </tr>\n",
       "  </thead>\n",
       "  <tbody>\n",
       "    <tr>\n",
       "      <th rowspan=\"5\" valign=\"top\">Africa</th>\n",
       "      <th>Algeria</th>\n",
       "      <td>10,308.49</td>\n",
       "      <td>6,286.71</td>\n",
       "    </tr>\n",
       "    <tr>\n",
       "      <th>Angola</th>\n",
       "      <td>14,912.28</td>\n",
       "      <td>5,275.23</td>\n",
       "    </tr>\n",
       "    <tr>\n",
       "      <th>Benin</th>\n",
       "      <td>10,685.91</td>\n",
       "      <td>4,250.11</td>\n",
       "    </tr>\n",
       "    <tr>\n",
       "      <th>Botswana</th>\n",
       "      <td>10,196.28</td>\n",
       "      <td>4,666.90</td>\n",
       "    </tr>\n",
       "    <tr>\n",
       "      <th>Burkina Faso</th>\n",
       "      <td>10,513.99</td>\n",
       "      <td>4,118.61</td>\n",
       "    </tr>\n",
       "    <tr>\n",
       "      <th>...</th>\n",
       "      <th>...</th>\n",
       "      <td>...</td>\n",
       "      <td>...</td>\n",
       "    </tr>\n",
       "    <tr>\n",
       "      <th rowspan=\"5\" valign=\"top\">South America</th>\n",
       "      <th>Paraguay</th>\n",
       "      <td>8,941.41</td>\n",
       "      <td>8,244.87</td>\n",
       "    </tr>\n",
       "    <tr>\n",
       "      <th>Peru</th>\n",
       "      <td>5,184.33</td>\n",
       "      <td>7,363.38</td>\n",
       "    </tr>\n",
       "    <tr>\n",
       "      <th>Suriname</th>\n",
       "      <td>12,109.18</td>\n",
       "      <td>5,465.78</td>\n",
       "    </tr>\n",
       "    <tr>\n",
       "      <th>Uruguay</th>\n",
       "      <td>6,680.56</td>\n",
       "      <td>6,810.08</td>\n",
       "    </tr>\n",
       "    <tr>\n",
       "      <th>Venezuela</th>\n",
       "      <td>7,929.14</td>\n",
       "      <td>5,144.00</td>\n",
       "    </tr>\n",
       "  </tbody>\n",
       "</table>\n",
       "<p>198 rows × 2 columns</p>\n",
       "</div>"
      ],
      "text/plain": [
       "                           depression.SUM anxiety.SUM\n",
       "continent     country                                \n",
       "Africa        Algeria           10,308.49    6,286.71\n",
       "              Angola            14,912.28    5,275.23\n",
       "              Benin             10,685.91    4,250.11\n",
       "              Botswana          10,196.28    4,666.90\n",
       "              Burkina Faso      10,513.99    4,118.61\n",
       "...                                   ...         ...\n",
       "South America Paraguay           8,941.41    8,244.87\n",
       "              Peru               5,184.33    7,363.38\n",
       "              Suriname          12,109.18    5,465.78\n",
       "              Uruguay            6,680.56    6,810.08\n",
       "              Venezuela          7,929.14    5,144.00\n",
       "\n",
       "[198 rows x 2 columns]"
      ]
     },
     "execution_count": 26,
     "metadata": {},
     "output_type": "execute_result"
    }
   ],
   "source": [
    "testcube.query(measures[\"depression.SUM\"],measures[\"anxiety.SUM\"], levels=[levels[('Countries', 'continent', 'country')]])  #Query 2 "
   ]
  },
  {
   "cell_type": "code",
   "execution_count": 27,
   "id": "e5fd2d4b-0278-4988-824d-0ca011013b47",
   "metadata": {
    "editable": true,
    "slideshow": {
     "slide_type": ""
    },
    "tags": []
   },
   "outputs": [
    {
     "data": {
      "text/html": [
       "<div>\n",
       "<style scoped>\n",
       "    .dataframe tbody tr th:only-of-type {\n",
       "        vertical-align: middle;\n",
       "    }\n",
       "\n",
       "    .dataframe tbody tr th {\n",
       "        vertical-align: top;\n",
       "    }\n",
       "\n",
       "    .dataframe thead th {\n",
       "        text-align: right;\n",
       "    }\n",
       "</style>\n",
       "<table border=\"1\" class=\"dataframe\">\n",
       "  <thead>\n",
       "    <tr style=\"text-align: right;\">\n",
       "      <th></th>\n",
       "      <th></th>\n",
       "      <th></th>\n",
       "      <th>depression.SUM</th>\n",
       "      <th>anxiety.SUM</th>\n",
       "      <th>total.SUM</th>\n",
       "    </tr>\n",
       "    <tr>\n",
       "      <th>decade</th>\n",
       "      <th>continent</th>\n",
       "      <th>country</th>\n",
       "      <th></th>\n",
       "      <th></th>\n",
       "      <th></th>\n",
       "    </tr>\n",
       "  </thead>\n",
       "  <tbody>\n",
       "    <tr>\n",
       "      <th rowspan=\"5\" valign=\"top\">1990 - 1999</th>\n",
       "      <th rowspan=\"5\" valign=\"top\">Africa</th>\n",
       "      <th>Algeria</th>\n",
       "      <td>3,005.46</td>\n",
       "      <td>1,782.47</td>\n",
       "      <td>5</td>\n",
       "    </tr>\n",
       "    <tr>\n",
       "      <th>Angola</th>\n",
       "      <td>4,348.27</td>\n",
       "      <td>1,500.46</td>\n",
       "      <td>0</td>\n",
       "    </tr>\n",
       "    <tr>\n",
       "      <th>Benin</th>\n",
       "      <td>3,001.63</td>\n",
       "      <td>1,204.30</td>\n",
       "      <td>0</td>\n",
       "    </tr>\n",
       "    <tr>\n",
       "      <th>Botswana</th>\n",
       "      <td>2,894.22</td>\n",
       "      <td>1,328.67</td>\n",
       "      <td>0</td>\n",
       "    </tr>\n",
       "    <tr>\n",
       "      <th>Burkina Faso</th>\n",
       "      <td>2,926.88</td>\n",
       "      <td>1,164.91</td>\n",
       "      <td>0</td>\n",
       "    </tr>\n",
       "    <tr>\n",
       "      <th>...</th>\n",
       "      <th>...</th>\n",
       "      <th>...</th>\n",
       "      <td>...</td>\n",
       "      <td>...</td>\n",
       "      <td>...</td>\n",
       "    </tr>\n",
       "    <tr>\n",
       "      <th rowspan=\"5\" valign=\"top\">2010 - 2019</th>\n",
       "      <th rowspan=\"5\" valign=\"top\">South America</th>\n",
       "      <th>Paraguay</th>\n",
       "      <td>3,286.82</td>\n",
       "      <td>2,969.81</td>\n",
       "      <td>0</td>\n",
       "    </tr>\n",
       "    <tr>\n",
       "      <th>Peru</th>\n",
       "      <td>1,749.46</td>\n",
       "      <td>2,654.49</td>\n",
       "      <td>0</td>\n",
       "    </tr>\n",
       "    <tr>\n",
       "      <th>Suriname</th>\n",
       "      <td>4,391.26</td>\n",
       "      <td>1,962.49</td>\n",
       "      <td>0</td>\n",
       "    </tr>\n",
       "    <tr>\n",
       "      <th>Uruguay</th>\n",
       "      <td>2,522.32</td>\n",
       "      <td>2,453.04</td>\n",
       "      <td>0</td>\n",
       "    </tr>\n",
       "    <tr>\n",
       "      <th>Venezuela</th>\n",
       "      <td>2,823.48</td>\n",
       "      <td>1,878.37</td>\n",
       "      <td>4</td>\n",
       "    </tr>\n",
       "  </tbody>\n",
       "</table>\n",
       "<p>594 rows × 3 columns</p>\n",
       "</div>"
      ],
      "text/plain": [
       "                                       depression.SUM anxiety.SUM total.SUM\n",
       "decade      continent     country                                          \n",
       "1990 - 1999 Africa        Algeria            3,005.46    1,782.47         5\n",
       "                          Angola             4,348.27    1,500.46         0\n",
       "                          Benin              3,001.63    1,204.30         0\n",
       "                          Botswana           2,894.22    1,328.67         0\n",
       "                          Burkina Faso       2,926.88    1,164.91         0\n",
       "...                                               ...         ...       ...\n",
       "2010 - 2019 South America Paraguay           3,286.82    2,969.81         0\n",
       "                          Peru               1,749.46    2,654.49         0\n",
       "                          Suriname           4,391.26    1,962.49         0\n",
       "                          Uruguay            2,522.32    2,453.04         0\n",
       "                          Venezuela          2,823.48    1,878.37         4\n",
       "\n",
       "[594 rows x 3 columns]"
      ]
     },
     "execution_count": 27,
     "metadata": {},
     "output_type": "execute_result"
    }
   ],
   "source": [
    "testcube.query(measures[\"depression.SUM\"],measures[\"anxiety.SUM\"],measures[\"total.SUM\"], levels=[levels[('Time', 'time', 'decade')],levels[('Countries', 'continent', 'country')]])  #Query 3 "
   ]
  },
  {
   "cell_type": "code",
   "execution_count": 28,
   "id": "fd59fc10-3fa8-46e0-90d5-0957b901b599",
   "metadata": {},
   "outputs": [
    {
     "data": {
      "text/html": [
       "<div>\n",
       "<style scoped>\n",
       "    .dataframe tbody tr th:only-of-type {\n",
       "        vertical-align: middle;\n",
       "    }\n",
       "\n",
       "    .dataframe tbody tr th {\n",
       "        vertical-align: top;\n",
       "    }\n",
       "\n",
       "    .dataframe thead th {\n",
       "        text-align: right;\n",
       "    }\n",
       "</style>\n",
       "<table border=\"1\" class=\"dataframe\">\n",
       "  <thead>\n",
       "    <tr style=\"text-align: right;\">\n",
       "      <th></th>\n",
       "      <th></th>\n",
       "      <th></th>\n",
       "      <th></th>\n",
       "      <th></th>\n",
       "      <th>depression.SUM</th>\n",
       "      <th>anxiety.SUM</th>\n",
       "      <th>total.SUM</th>\n",
       "    </tr>\n",
       "    <tr>\n",
       "      <th>decade</th>\n",
       "      <th>year</th>\n",
       "      <th>season</th>\n",
       "      <th>continent</th>\n",
       "      <th>country</th>\n",
       "      <th></th>\n",
       "      <th></th>\n",
       "      <th></th>\n",
       "    </tr>\n",
       "  </thead>\n",
       "  <tbody>\n",
       "    <tr>\n",
       "      <th rowspan=\"5\" valign=\"top\">1990 - 1999</th>\n",
       "      <th rowspan=\"5\" valign=\"top\">1992</th>\n",
       "      <th rowspan=\"5\" valign=\"top\">Winter</th>\n",
       "      <th rowspan=\"5\" valign=\"top\">Africa</th>\n",
       "      <th>Algeria</th>\n",
       "      <td>756.25</td>\n",
       "      <td>445.17</td>\n",
       "      <td>2</td>\n",
       "    </tr>\n",
       "    <tr>\n",
       "      <th>Angola</th>\n",
       "      <td>1,089.69</td>\n",
       "      <td>374.59</td>\n",
       "      <td>0</td>\n",
       "    </tr>\n",
       "    <tr>\n",
       "      <th>Benin</th>\n",
       "      <td>747.03</td>\n",
       "      <td>300.62</td>\n",
       "      <td>0</td>\n",
       "    </tr>\n",
       "    <tr>\n",
       "      <th>Botswana</th>\n",
       "      <td>713.80</td>\n",
       "      <td>333.07</td>\n",
       "      <td>0</td>\n",
       "    </tr>\n",
       "    <tr>\n",
       "      <th>Burkina Faso</th>\n",
       "      <td>745.73</td>\n",
       "      <td>291.58</td>\n",
       "      <td>0</td>\n",
       "    </tr>\n",
       "    <tr>\n",
       "      <th>...</th>\n",
       "      <th>...</th>\n",
       "      <th>...</th>\n",
       "      <th>...</th>\n",
       "      <th>...</th>\n",
       "      <td>...</td>\n",
       "      <td>...</td>\n",
       "      <td>...</td>\n",
       "    </tr>\n",
       "    <tr>\n",
       "      <th rowspan=\"5\" valign=\"top\">2010 - 2019</th>\n",
       "      <th rowspan=\"5\" valign=\"top\">2018</th>\n",
       "      <th rowspan=\"5\" valign=\"top\">Winter</th>\n",
       "      <th rowspan=\"5\" valign=\"top\">South America</th>\n",
       "      <th>Paraguay</th>\n",
       "      <td>666.39</td>\n",
       "      <td>600.26</td>\n",
       "      <td>0</td>\n",
       "    </tr>\n",
       "    <tr>\n",
       "      <th>Peru</th>\n",
       "      <td>353.82</td>\n",
       "      <td>532.50</td>\n",
       "      <td>0</td>\n",
       "    </tr>\n",
       "    <tr>\n",
       "      <th>Suriname</th>\n",
       "      <td>876.10</td>\n",
       "      <td>393.15</td>\n",
       "      <td>0</td>\n",
       "    </tr>\n",
       "    <tr>\n",
       "      <th>Uruguay</th>\n",
       "      <td>511.06</td>\n",
       "      <td>493.17</td>\n",
       "      <td>0</td>\n",
       "    </tr>\n",
       "    <tr>\n",
       "      <th>Venezuela</th>\n",
       "      <td>567.80</td>\n",
       "      <td>383.30</td>\n",
       "      <td>0</td>\n",
       "    </tr>\n",
       "  </tbody>\n",
       "</table>\n",
       "<p>2772 rows × 3 columns</p>\n",
       "</div>"
      ],
      "text/plain": [
       "                                                   depression.SUM anxiety.SUM  \\\n",
       "decade      year season continent     country                                   \n",
       "1990 - 1999 1992 Winter Africa        Algeria              756.25      445.17   \n",
       "                                      Angola             1,089.69      374.59   \n",
       "                                      Benin                747.03      300.62   \n",
       "                                      Botswana             713.80      333.07   \n",
       "                                      Burkina Faso         745.73      291.58   \n",
       "...                                                           ...         ...   \n",
       "2010 - 2019 2018 Winter South America Paraguay             666.39      600.26   \n",
       "                                      Peru                 353.82      532.50   \n",
       "                                      Suriname             876.10      393.15   \n",
       "                                      Uruguay              511.06      493.17   \n",
       "                                      Venezuela            567.80      383.30   \n",
       "\n",
       "                                                   total.SUM  \n",
       "decade      year season continent     country                 \n",
       "1990 - 1999 1992 Winter Africa        Algeria              2  \n",
       "                                      Angola               0  \n",
       "                                      Benin                0  \n",
       "                                      Botswana             0  \n",
       "                                      Burkina Faso         0  \n",
       "...                                                      ...  \n",
       "2010 - 2019 2018 Winter South America Paraguay             0  \n",
       "                                      Peru                 0  \n",
       "                                      Suriname             0  \n",
       "                                      Uruguay              0  \n",
       "                                      Venezuela            0  \n",
       "\n",
       "[2772 rows x 3 columns]"
      ]
     },
     "execution_count": 28,
     "metadata": {},
     "output_type": "execute_result"
    }
   ],
   "source": [
    "testcube.query(measures[\"depression.SUM\"],measures[\"anxiety.SUM\"],measures[\"total.SUM\"], levels=[levels[('Time', 'time', 'season')],levels[('Countries', 'continent', 'country')]])  #Query 4 "
   ]
  },
  {
   "cell_type": "code",
   "execution_count": 29,
   "id": "598390b7-3f0b-4174-9680-22fc5337b217",
   "metadata": {
    "editable": true,
    "slideshow": {
     "slide_type": ""
    },
    "tags": []
   },
   "outputs": [
    {
     "data": {
      "text/html": [
       "<div>\n",
       "<style scoped>\n",
       "    .dataframe tbody tr th:only-of-type {\n",
       "        vertical-align: middle;\n",
       "    }\n",
       "\n",
       "    .dataframe tbody tr th {\n",
       "        vertical-align: top;\n",
       "    }\n",
       "\n",
       "    .dataframe thead th {\n",
       "        text-align: right;\n",
       "    }\n",
       "</style>\n",
       "<table border=\"1\" class=\"dataframe\">\n",
       "  <thead>\n",
       "    <tr style=\"text-align: right;\">\n",
       "      <th></th>\n",
       "      <th></th>\n",
       "      <th>depression.SUM</th>\n",
       "      <th>anxiety.SUM</th>\n",
       "      <th>total.SUM</th>\n",
       "    </tr>\n",
       "    <tr>\n",
       "      <th>lifeexpectancy</th>\n",
       "      <th>continent</th>\n",
       "      <th></th>\n",
       "      <th></th>\n",
       "      <th></th>\n",
       "    </tr>\n",
       "  </thead>\n",
       "  <tbody>\n",
       "    <tr>\n",
       "      <th rowspan=\"6\" valign=\"top\">High</th>\n",
       "      <th>Africa</th>\n",
       "      <td>52,905.85</td>\n",
       "      <td>30,984.46</td>\n",
       "      <td>30</td>\n",
       "    </tr>\n",
       "    <tr>\n",
       "      <th>Asia</th>\n",
       "      <td>180,041.60</td>\n",
       "      <td>111,390.99</td>\n",
       "      <td>466</td>\n",
       "    </tr>\n",
       "    <tr>\n",
       "      <th>Europe</th>\n",
       "      <td>299,912.95</td>\n",
       "      <td>228,999.62</td>\n",
       "      <td>3,702</td>\n",
       "    </tr>\n",
       "    <tr>\n",
       "      <th>North America</th>\n",
       "      <td>141,426.98</td>\n",
       "      <td>97,865.71</td>\n",
       "      <td>1,415</td>\n",
       "    </tr>\n",
       "    <tr>\n",
       "      <th>Oceania</th>\n",
       "      <td>28,395.34</td>\n",
       "      <td>24,067.79</td>\n",
       "      <td>432</td>\n",
       "    </tr>\n",
       "    <tr>\n",
       "      <th>South America</th>\n",
       "      <td>62,368.06</td>\n",
       "      <td>56,531.63</td>\n",
       "      <td>153</td>\n",
       "    </tr>\n",
       "    <tr>\n",
       "      <th rowspan=\"4\" valign=\"top\">Low</th>\n",
       "      <th>Africa</th>\n",
       "      <td>273,366.16</td>\n",
       "      <td>109,226.52</td>\n",
       "      <td>91</td>\n",
       "    </tr>\n",
       "    <tr>\n",
       "      <th>Asia</th>\n",
       "      <td>8,999.52</td>\n",
       "      <td>5,180.93</td>\n",
       "      <td>0</td>\n",
       "    </tr>\n",
       "    <tr>\n",
       "      <th>Europe</th>\n",
       "      <td>552.26</td>\n",
       "      <td>338.92</td>\n",
       "      <td>0</td>\n",
       "    </tr>\n",
       "    <tr>\n",
       "      <th>North America</th>\n",
       "      <td>3,261.74</td>\n",
       "      <td>2,105.08</td>\n",
       "      <td>0</td>\n",
       "    </tr>\n",
       "    <tr>\n",
       "      <th rowspan=\"6\" valign=\"top\">Medium</th>\n",
       "      <th>Africa</th>\n",
       "      <td>199,301.27</td>\n",
       "      <td>87,116.66</td>\n",
       "      <td>136</td>\n",
       "    </tr>\n",
       "    <tr>\n",
       "      <th>Asia</th>\n",
       "      <td>142,469.45</td>\n",
       "      <td>73,829.12</td>\n",
       "      <td>181</td>\n",
       "    </tr>\n",
       "    <tr>\n",
       "      <th>Europe</th>\n",
       "      <td>28,436.31</td>\n",
       "      <td>14,731.82</td>\n",
       "      <td>261</td>\n",
       "    </tr>\n",
       "    <tr>\n",
       "      <th>North America</th>\n",
       "      <td>38,330.98</td>\n",
       "      <td>23,537.58</td>\n",
       "      <td>4</td>\n",
       "    </tr>\n",
       "    <tr>\n",
       "      <th>Oceania</th>\n",
       "      <td>64,233.71</td>\n",
       "      <td>51,342.37</td>\n",
       "      <td>2</td>\n",
       "    </tr>\n",
       "    <tr>\n",
       "      <th>South America</th>\n",
       "      <td>41,232.47</td>\n",
       "      <td>26,958.72</td>\n",
       "      <td>41</td>\n",
       "    </tr>\n",
       "    <tr>\n",
       "      <th rowspan=\"5\" valign=\"top\">N/A</th>\n",
       "      <th>Africa</th>\n",
       "      <td>46,149.38</td>\n",
       "      <td>18,997.99</td>\n",
       "      <td>0</td>\n",
       "    </tr>\n",
       "    <tr>\n",
       "      <th>Asia</th>\n",
       "      <td>67,986.12</td>\n",
       "      <td>44,529.50</td>\n",
       "      <td>1,028</td>\n",
       "    </tr>\n",
       "    <tr>\n",
       "      <th>Europe</th>\n",
       "      <td>29,697.56</td>\n",
       "      <td>20,959.18</td>\n",
       "      <td>633</td>\n",
       "    </tr>\n",
       "    <tr>\n",
       "      <th>North America</th>\n",
       "      <td>50,854.32</td>\n",
       "      <td>29,187.75</td>\n",
       "      <td>182</td>\n",
       "    </tr>\n",
       "    <tr>\n",
       "      <th>Oceania</th>\n",
       "      <td>39,282.75</td>\n",
       "      <td>31,884.62</td>\n",
       "      <td>0</td>\n",
       "    </tr>\n",
       "  </tbody>\n",
       "</table>\n",
       "</div>"
      ],
      "text/plain": [
       "                             depression.SUM anxiety.SUM total.SUM\n",
       "lifeexpectancy continent                                         \n",
       "High           Africa             52,905.85   30,984.46        30\n",
       "               Asia              180,041.60  111,390.99       466\n",
       "               Europe            299,912.95  228,999.62     3,702\n",
       "               North America     141,426.98   97,865.71     1,415\n",
       "               Oceania            28,395.34   24,067.79       432\n",
       "               South America      62,368.06   56,531.63       153\n",
       "Low            Africa            273,366.16  109,226.52        91\n",
       "               Asia                8,999.52    5,180.93         0\n",
       "               Europe                552.26      338.92         0\n",
       "               North America       3,261.74    2,105.08         0\n",
       "Medium         Africa            199,301.27   87,116.66       136\n",
       "               Asia              142,469.45   73,829.12       181\n",
       "               Europe             28,436.31   14,731.82       261\n",
       "               North America      38,330.98   23,537.58         4\n",
       "               Oceania            64,233.71   51,342.37         2\n",
       "               South America      41,232.47   26,958.72        41\n",
       "N/A            Africa             46,149.38   18,997.99         0\n",
       "               Asia               67,986.12   44,529.50     1,028\n",
       "               Europe             29,697.56   20,959.18       633\n",
       "               North America      50,854.32   29,187.75       182\n",
       "               Oceania            39,282.75   31,884.62         0"
      ]
     },
     "execution_count": 29,
     "metadata": {},
     "output_type": "execute_result"
    }
   ],
   "source": [
    "testcube.query(measures[\"depression.SUM\"],measures[\"anxiety.SUM\"],measures[\"total.SUM\"], levels=[levels['Lifexpectancy', 'lifeexpectancy', 'lifeexpectancy'],levels[('Countries', 'continent', 'continent')]])  #Query 5 "
   ]
  },
  {
   "cell_type": "code",
   "execution_count": 30,
   "id": "aa777cb9-1337-4f4c-bddb-16979a676410",
   "metadata": {},
   "outputs": [
    {
     "data": {
      "application/vnd.atoti.widget.v0+json": {
       "sessionId": "1712994736_URAWUN",
       "sessionLocation": {
        "https": false,
        "port": 9095
       },
       "widgetCreationCode": "session.widget"
      },
      "text/html": [
       "<img height=\"352\" width=\"1300\" src=\"data:image/png;base64,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\" />"
      ],
      "text/plain": [
       "Open the notebook in JupyterLab with the Atoti JupyterLab extension enabled to build this widget."
      ]
     },
     "metadata": {},
     "output_type": "display_data"
    }
   ],
   "source": [
    "session.widget"
   ]
  }
 ],
 "metadata": {
  "kernelspec": {
   "display_name": "Python 3 (ipykernel)",
   "language": "python",
   "name": "python3"
  },
  "language_info": {
   "codemirror_mode": {
    "name": "ipython",
    "version": 3
   },
   "file_extension": ".py",
   "mimetype": "text/x-python",
   "name": "python",
   "nbconvert_exporter": "python",
   "pygments_lexer": "ipython3",
   "version": "3.10.12"
  }
 },
 "nbformat": 4,
 "nbformat_minor": 5
}
