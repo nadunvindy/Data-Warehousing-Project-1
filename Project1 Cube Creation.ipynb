{
 "cells": [
  {
   "cell_type": "code",
   "execution_count": 60,
   "id": "e3250406-7dc5-4889-bfec-fd13700da2ff",
   "metadata": {},
   "outputs": [],
   "source": [
    "import atoti as tt"
   ]
  },
  {
   "cell_type": "code",
   "execution_count": 61,
   "id": "5baab508-0f7f-498d-92d6-82f85cfdfb5a",
   "metadata": {},
   "outputs": [
    {
     "name": "stderr",
     "output_type": "stream",
     "text": [
      "Closing existing \"Unnamed\" session to create the new one.\n"
     ]
    }
   ],
   "source": [
    "session = tt.Session(\n",
    "    user_content_storage=\".content\",\n",
    "    port=9095,\n",
    "    java_options=[\"-Xms1G\", \"-Xmx10G\"]\n",
    ")"
   ]
  },
  {
   "cell_type": "code",
   "execution_count": 32,
   "id": "42db0455-3217-44f3-8957-eb6e98bbe662",
   "metadata": {},
   "outputs": [],
   "source": [
    "db_name = \"Project1\"\n",
    "db_user = \"postgres\"\n",
    "db_password = \"postgres\"  \n",
    "db_host = \"localhost\"  \n",
    "db_port = \"5432\""
   ]
  },
  {
   "cell_type": "code",
   "execution_count": 33,
   "id": "0827c8bd-7294-492f-841b-6c3840e1b3c1",
   "metadata": {},
   "outputs": [],
   "source": [
    "jdbc_url = f\"jdbc:postgresql://{db_host}:{db_port}/{db_name}?user={db_user}&password={db_password}\""
   ]
  },
  {
   "cell_type": "code",
   "execution_count": 34,
   "id": "f6517067-5b30-4559-8178-b5c0b73adbed",
   "metadata": {},
   "outputs": [
    {
     "data": {
      "text/plain": [
       "'jdbc:postgresql://localhost:5432/Project1?user=postgres&password=postgres'"
      ]
     },
     "execution_count": 34,
     "metadata": {},
     "output_type": "execute_result"
    }
   ],
   "source": [
    "jdbc_url"
   ]
  },
  {
   "cell_type": "code",
   "execution_count": 62,
   "id": "0e3273fb-18f1-47a1-affd-8da19cd4e59a",
   "metadata": {},
   "outputs": [],
   "source": [
    "facttest = session.read_sql(\n",
    "    \"SELECT * FROM olympics\",\n",
    "    keys=[\"factid\"],\n",
    "    table_name=\"factTable\",\n",
    "    url=jdbc_url,\n",
    ")"
   ]
  },
  {
   "cell_type": "code",
   "execution_count": 64,
   "id": "7efa3dd7-855c-4584-891c-63724cc3f43a",
   "metadata": {},
   "outputs": [
    {
     "data": {
      "text/html": [
       "<div>\n",
       "<style scoped>\n",
       "    .dataframe tbody tr th:only-of-type {\n",
       "        vertical-align: middle;\n",
       "    }\n",
       "\n",
       "    .dataframe tbody tr th {\n",
       "        vertical-align: top;\n",
       "    }\n",
       "\n",
       "    .dataframe thead th {\n",
       "        text-align: right;\n",
       "    }\n",
       "</style>\n",
       "<table border=\"1\" class=\"dataframe\">\n",
       "  <thead>\n",
       "    <tr style=\"text-align: right;\">\n",
       "      <th></th>\n",
       "      <th>year</th>\n",
       "      <th>country</th>\n",
       "      <th>bronze</th>\n",
       "      <th>gold</th>\n",
       "      <th>silver</th>\n",
       "      <th>code</th>\n",
       "      <th>depression</th>\n",
       "      <th>schizophrenia</th>\n",
       "      <th>bipolar</th>\n",
       "      <th>eatingdisorder</th>\n",
       "      <th>anxiety</th>\n",
       "    </tr>\n",
       "    <tr>\n",
       "      <th>factid</th>\n",
       "      <th></th>\n",
       "      <th></th>\n",
       "      <th></th>\n",
       "      <th></th>\n",
       "      <th></th>\n",
       "      <th></th>\n",
       "      <th></th>\n",
       "      <th></th>\n",
       "      <th></th>\n",
       "      <th></th>\n",
       "      <th></th>\n",
       "    </tr>\n",
       "  </thead>\n",
       "  <tbody>\n",
       "    <tr>\n",
       "      <th>13</th>\n",
       "      <td>1992</td>\n",
       "      <td>Denmark</td>\n",
       "      <td>5</td>\n",
       "      <td>1</td>\n",
       "      <td>2</td>\n",
       "      <td>DNK</td>\n",
       "      <td>774.02527</td>\n",
       "      <td>136.84724</td>\n",
       "      <td>203.96803</td>\n",
       "      <td>87.71734</td>\n",
       "      <td>460.94922</td>\n",
       "    </tr>\n",
       "    <tr>\n",
       "      <th>5</th>\n",
       "      <td>1992</td>\n",
       "      <td>Bahamas</td>\n",
       "      <td>1</td>\n",
       "      <td>0</td>\n",
       "      <td>0</td>\n",
       "      <td>BHS</td>\n",
       "      <td>527.91235</td>\n",
       "      <td>182.78604</td>\n",
       "      <td>195.25314</td>\n",
       "      <td>60.941833</td>\n",
       "      <td>406.74252</td>\n",
       "    </tr>\n",
       "    <tr>\n",
       "      <th>25</th>\n",
       "      <td>1992</td>\n",
       "      <td>Italy</td>\n",
       "      <td>14</td>\n",
       "      <td>10</td>\n",
       "      <td>11</td>\n",
       "      <td>ITA</td>\n",
       "      <td>676.9239</td>\n",
       "      <td>189.44333</td>\n",
       "      <td>185.89877</td>\n",
       "      <td>111.49093</td>\n",
       "      <td>534.1591</td>\n",
       "    </tr>\n",
       "    <tr>\n",
       "      <th>33</th>\n",
       "      <td>1992</td>\n",
       "      <td>Mexico</td>\n",
       "      <td>0</td>\n",
       "      <td>0</td>\n",
       "      <td>1</td>\n",
       "      <td>MEX</td>\n",
       "      <td>533.24414</td>\n",
       "      <td>180.24562</td>\n",
       "      <td>198.24474</td>\n",
       "      <td>48.886414</td>\n",
       "      <td>274.3233</td>\n",
       "    </tr>\n",
       "    <tr>\n",
       "      <th>41</th>\n",
       "      <td>1992</td>\n",
       "      <td>Pakistan</td>\n",
       "      <td>1</td>\n",
       "      <td>0</td>\n",
       "      <td>0</td>\n",
       "      <td>PAK</td>\n",
       "      <td>688.96924</td>\n",
       "      <td>181.0899</td>\n",
       "      <td>83.053276</td>\n",
       "      <td>21.568497</td>\n",
       "      <td>315.66284</td>\n",
       "    </tr>\n",
       "  </tbody>\n",
       "</table>\n",
       "</div>"
      ],
      "text/plain": [
       "        year   country  bronze  gold  silver code  depression  schizophrenia  \\\n",
       "factid                                                                         \n",
       "13      1992   Denmark       5     1       2  DNK   774.02527      136.84724   \n",
       "5       1992   Bahamas       1     0       0  BHS   527.91235      182.78604   \n",
       "25      1992     Italy      14    10      11  ITA    676.9239      189.44333   \n",
       "33      1992    Mexico       0     0       1  MEX   533.24414      180.24562   \n",
       "41      1992  Pakistan       1     0       0  PAK   688.96924       181.0899   \n",
       "\n",
       "          bipolar  eatingdisorder    anxiety  \n",
       "factid                                        \n",
       "13      203.96803        87.71734  460.94922  \n",
       "5       195.25314       60.941833  406.74252  \n",
       "25      185.89877       111.49093   534.1591  \n",
       "33      198.24474       48.886414   274.3233  \n",
       "41      83.053276       21.568497  315.66284  "
      ]
     },
     "execution_count": 64,
     "metadata": {},
     "output_type": "execute_result"
    }
   ],
   "source": [
    "facttest.head()"
   ]
  },
  {
   "cell_type": "code",
   "execution_count": 65,
   "id": "a8bdf743-64f6-480c-8d1c-a8dc047da837",
   "metadata": {},
   "outputs": [],
   "source": [
    "medals = session.read_sql(\n",
    "    \"SELECT * FROM medalsnew\",\n",
    "    keys=[\"id\"],\n",
    "    table_name=\"Medals\",\n",
    "    url=jdbc_url)"
   ]
  },
  {
   "cell_type": "code",
   "execution_count": 66,
   "id": "cae93443-5fb4-4579-8960-98883518ab4c",
   "metadata": {},
   "outputs": [],
   "source": [
    "countries = session.read_sql(\n",
    "    \"SELECT * FROM countries\",\n",
    "    keys=[\"country\"],\n",
    "    table_name=\"Countries\",\n",
    "    url=jdbc_url)"
   ]
  },
  {
   "cell_type": "code",
   "execution_count": 67,
   "id": "efc6f584-fb36-4d51-b59b-5e88e5f692bc",
   "metadata": {},
   "outputs": [],
   "source": [
    "illness = session.read_sql(\n",
    "    \"SELECT * FROM mentalillness\",\n",
    "    keys=[\"code\",\"year\"],\n",
    "    table_name=\"Illness\",\n",
    "    url=jdbc_url)"
   ]
  },
  {
   "cell_type": "code",
   "execution_count": 68,
   "id": "89612d1e-0b70-40ac-807d-40d4381a420a",
   "metadata": {},
   "outputs": [],
   "source": [
    "facttest.join(countries, facttest[\"country\"] == countries[\"country\"])"
   ]
  },
  {
   "cell_type": "code",
   "execution_count": 69,
   "id": "3cb62449-c5b1-4822-aea0-8bc729813214",
   "metadata": {},
   "outputs": [],
   "source": [
    "facttest.join(medals, facttest[\"country\"] == medals[\"country\"])"
   ]
  },
  {
   "cell_type": "code",
   "execution_count": 70,
   "id": "c24d7969-02e1-4d84-8c24-877e8ef78fd5",
   "metadata": {},
   "outputs": [],
   "source": [
    "facttest.join(illness, (facttest[\"code\"] == illness[\"code\"]) & (facttest[\"year\"] == illness[\"year\"]))"
   ]
  },
  {
   "cell_type": "code",
   "execution_count": 71,
   "id": "42d9d7e5-47fb-4492-ac2e-27aec91890c1",
   "metadata": {},
   "outputs": [
    {
     "data": {
      "text/markdown": [
       "```mermaid\n",
       "erDiagram\n",
       "  \"Countries\" {\n",
       "    _ String PK \"country\"\n",
       "    _ String \"continent\"\n",
       "  }\n",
       "  \"Illness\" {\n",
       "    _ String \"country\"\n",
       "    _ String PK \"code\"\n",
       "    _ int PK \"year\"\n",
       "    nullable double \"depression\"\n",
       "    nullable double \"schizophrenia\"\n",
       "    nullable double \"bipolar\"\n",
       "    nullable double \"eatingdisorder\"\n",
       "    nullable double \"anxiety\"\n",
       "  }\n",
       "  \"factTable\" {\n",
       "    _ int PK \"factid\"\n",
       "    nullable int \"year\"\n",
       "    _ String \"country\"\n",
       "    nullable int \"bronze\"\n",
       "    nullable int \"gold\"\n",
       "    nullable int \"silver\"\n",
       "    _ String \"code\"\n",
       "    nullable double \"depression\"\n",
       "    nullable double \"schizophrenia\"\n",
       "    nullable double \"bipolar\"\n",
       "    nullable double \"eatingdisorder\"\n",
       "    nullable double \"anxiety\"\n",
       "  }\n",
       "  \"Medals\" {\n",
       "    nullable int \"year\"\n",
       "    _ String \"medal\"\n",
       "    _ String \"country\"\n",
       "    _ String \"code\"\n",
       "    _ int PK \"id\"\n",
       "  }\n",
       "  \"factTable\" }o--o| \"Illness\" : \"(`year` == `year`) & (`code` == `code`)\"\n",
       "  \"factTable\" }o--o| \"Countries\" : \"`country` == `country`\"\n",
       "  \"factTable\" }o..o{ \"Medals\" : \"`country` == `country`\"\n",
       "```\n"
      ],
      "text/plain": [
       "erDiagram\n",
       "  \"Countries\" {\n",
       "    _ String PK \"country\"\n",
       "    _ String \"continent\"\n",
       "  }\n",
       "  \"Illness\" {\n",
       "    _ String \"country\"\n",
       "    _ String PK \"code\"\n",
       "    _ int PK \"year\"\n",
       "    nullable double \"depression\"\n",
       "    nullable double \"schizophrenia\"\n",
       "    nullable double \"bipolar\"\n",
       "    nullable double \"eatingdisorder\"\n",
       "    nullable double \"anxiety\"\n",
       "  }\n",
       "  \"factTable\" {\n",
       "    _ int PK \"factid\"\n",
       "    nullable int \"year\"\n",
       "    _ String \"country\"\n",
       "    nullable int \"bronze\"\n",
       "    nullable int \"gold\"\n",
       "    nullable int \"silver\"\n",
       "    _ String \"code\"\n",
       "    nullable double \"depression\"\n",
       "    nullable double \"schizophrenia\"\n",
       "    nullable double \"bipolar\"\n",
       "    nullable double \"eatingdisorder\"\n",
       "    nullable double \"anxiety\"\n",
       "  }\n",
       "  \"Medals\" {\n",
       "    nullable int \"year\"\n",
       "    _ String \"medal\"\n",
       "    _ String \"country\"\n",
       "    _ String \"code\"\n",
       "    _ int PK \"id\"\n",
       "  }\n",
       "  \"factTable\" }o--o| \"Illness\" : \"(`year` == `year`) & (`code` == `code`)\"\n",
       "  \"factTable\" }o--o| \"Countries\" : \"`country` == `country`\"\n",
       "  \"factTable\" }o..o{ \"Medals\" : \"`country` == `country`\""
      ]
     },
     "execution_count": 71,
     "metadata": {},
     "output_type": "execute_result"
    }
   ],
   "source": [
    "session.tables.schema"
   ]
  },
  {
   "cell_type": "code",
   "execution_count": 72,
   "id": "860a487d-8e0e-4637-92f3-ef9d6269b62e",
   "metadata": {},
   "outputs": [],
   "source": [
    "testcube = session.create_cube(facttest)"
   ]
  },
  {
   "cell_type": "code",
   "execution_count": 89,
   "id": "655b83f6-7d9f-48d3-bed5-5d5c3c8c8140",
   "metadata": {},
   "outputs": [],
   "source": [
    "testcube.measures['total.SUM'] = testcube.measures['gold.SUM'] + testcube.measures['silver.SUM'] + testcube.measures['bronze.SUM']"
   ]
  },
  {
   "cell_type": "code",
   "execution_count": 90,
   "id": "56262118-9490-4f59-8642-fd26bbaf1c72",
   "metadata": {},
   "outputs": [
    {
     "data": {
      "application/json": {
       "Dimensions": {
        "Countries": {
         "continent": [
          "continent"
         ]
        },
        "Illness": {
         "country": [
          "country"
         ]
        },
        "Medals": {
         "code": [
          "code"
         ],
         "id": [
          "id"
         ],
         "medal": [
          "medal"
         ]
        },
        "factTable": {
         "code": [
          "code"
         ],
         "country": [
          "country"
         ],
         "factid": [
          "factid"
         ]
        }
       },
       "Measures": {
        "anxiety.MEAN": {
         "formatter": "DOUBLE[#,###.00]"
        },
        "anxiety.SUM": {
         "formatter": "DOUBLE[#,###.00]"
        },
        "bipolar.MEAN": {
         "formatter": "DOUBLE[#,###.00]"
        },
        "bipolar.SUM": {
         "formatter": "DOUBLE[#,###.00]"
        },
        "bronze.MEAN": {
         "formatter": "DOUBLE[#,###.00]"
        },
        "bronze.SUM": {
         "formatter": "INT[#,###]"
        },
        "contributors.COUNT": {
         "formatter": "INT[#,###]"
        },
        "depression.MEAN": {
         "formatter": "DOUBLE[#,###.00]"
        },
        "depression.SUM": {
         "formatter": "DOUBLE[#,###.00]"
        },
        "eatingdisorder.MEAN": {
         "formatter": "DOUBLE[#,###.00]"
        },
        "eatingdisorder.SUM": {
         "formatter": "DOUBLE[#,###.00]"
        },
        "gold.MEAN": {
         "formatter": "DOUBLE[#,###.00]"
        },
        "gold.SUM": {
         "formatter": "INT[#,###]"
        },
        "schizophrenia.MEAN": {
         "formatter": "DOUBLE[#,###.00]"
        },
        "schizophrenia.SUM": {
         "formatter": "DOUBLE[#,###.00]"
        },
        "silver.MEAN": {
         "formatter": "DOUBLE[#,###.00]"
        },
        "silver.SUM": {
         "formatter": "INT[#,###]"
        },
        "total.SUM": {
         "formatter": "INT[#,###]"
        },
        "year.MEAN": {
         "formatter": "DOUBLE[#,###.00]"
        },
        "year.SUM": {
         "formatter": "INT[#,###]"
        }
       }
      },
      "text/html": [
       "<ul>\n",
       "<li>factTable\n",
       "  <ul>\n",
       "  <li>Dimensions\n",
       "    <ul>\n",
       "    <li>Countries\n",
       "      <ul>\n",
       "      <li>continent\n",
       "        <ol>\n",
       "        <li>continent</li>\n",
       "        </ol>      </li>\n",
       "      </ul>\n",
       "    </li>\n",
       "    <li>Illness\n",
       "      <ul>\n",
       "      <li>country\n",
       "        <ol>\n",
       "        <li>country</li>\n",
       "        </ol>      </li>\n",
       "      </ul>\n",
       "    </li>\n",
       "    <li>Medals\n",
       "      <ul>\n",
       "      <li>code\n",
       "        <ol>\n",
       "        <li>code</li>\n",
       "        </ol>      </li>\n",
       "      <li>id\n",
       "        <ol>\n",
       "        <li>id</li>\n",
       "        </ol>      </li>\n",
       "      <li>medal\n",
       "        <ol>\n",
       "        <li>medal</li>\n",
       "        </ol>      </li>\n",
       "      </ul>\n",
       "    </li>\n",
       "    <li>factTable\n",
       "      <ul>\n",
       "      <li>code\n",
       "        <ol>\n",
       "        <li>code</li>\n",
       "        </ol>      </li>\n",
       "      <li>country\n",
       "        <ol>\n",
       "        <li>country</li>\n",
       "        </ol>      </li>\n",
       "      <li>factid\n",
       "        <ol>\n",
       "        <li>factid</li>\n",
       "        </ol>      </li>\n",
       "      </ul>\n",
       "    </li>\n",
       "    </ul>\n",
       "  </li>\n",
       "  <li>Measures\n",
       "    <ul>\n",
       "    <li>anxiety.MEAN\n",
       "      <ul>\n",
       "      <li>formatter: DOUBLE[#,###.00]</li>\n",
       "      </ul>\n",
       "    </li>\n",
       "    <li>anxiety.SUM\n",
       "      <ul>\n",
       "      <li>formatter: DOUBLE[#,###.00]</li>\n",
       "      </ul>\n",
       "    </li>\n",
       "    <li>bipolar.MEAN\n",
       "      <ul>\n",
       "      <li>formatter: DOUBLE[#,###.00]</li>\n",
       "      </ul>\n",
       "    </li>\n",
       "    <li>bipolar.SUM\n",
       "      <ul>\n",
       "      <li>formatter: DOUBLE[#,###.00]</li>\n",
       "      </ul>\n",
       "    </li>\n",
       "    <li>bronze.MEAN\n",
       "      <ul>\n",
       "      <li>formatter: DOUBLE[#,###.00]</li>\n",
       "      </ul>\n",
       "    </li>\n",
       "    <li>bronze.SUM\n",
       "      <ul>\n",
       "      <li>formatter: INT[#,###]</li>\n",
       "      </ul>\n",
       "    </li>\n",
       "    <li>contributors.COUNT\n",
       "      <ul>\n",
       "      <li>formatter: INT[#,###]</li>\n",
       "      </ul>\n",
       "    </li>\n",
       "    <li>depression.MEAN\n",
       "      <ul>\n",
       "      <li>formatter: DOUBLE[#,###.00]</li>\n",
       "      </ul>\n",
       "    </li>\n",
       "    <li>depression.SUM\n",
       "      <ul>\n",
       "      <li>formatter: DOUBLE[#,###.00]</li>\n",
       "      </ul>\n",
       "    </li>\n",
       "    <li>eatingdisorder.MEAN\n",
       "      <ul>\n",
       "      <li>formatter: DOUBLE[#,###.00]</li>\n",
       "      </ul>\n",
       "    </li>\n",
       "    <li>eatingdisorder.SUM\n",
       "      <ul>\n",
       "      <li>formatter: DOUBLE[#,###.00]</li>\n",
       "      </ul>\n",
       "    </li>\n",
       "    <li>gold.MEAN\n",
       "      <ul>\n",
       "      <li>formatter: DOUBLE[#,###.00]</li>\n",
       "      </ul>\n",
       "    </li>\n",
       "    <li>gold.SUM\n",
       "      <ul>\n",
       "      <li>formatter: INT[#,###]</li>\n",
       "      </ul>\n",
       "    </li>\n",
       "    <li>schizophrenia.MEAN\n",
       "      <ul>\n",
       "      <li>formatter: DOUBLE[#,###.00]</li>\n",
       "      </ul>\n",
       "    </li>\n",
       "    <li>schizophrenia.SUM\n",
       "      <ul>\n",
       "      <li>formatter: DOUBLE[#,###.00]</li>\n",
       "      </ul>\n",
       "    </li>\n",
       "    <li>silver.MEAN\n",
       "      <ul>\n",
       "      <li>formatter: DOUBLE[#,###.00]</li>\n",
       "      </ul>\n",
       "    </li>\n",
       "    <li>silver.SUM\n",
       "      <ul>\n",
       "      <li>formatter: INT[#,###]</li>\n",
       "      </ul>\n",
       "    </li>\n",
       "    <li>total.SUM\n",
       "      <ul>\n",
       "      <li>formatter: INT[#,###]</li>\n",
       "      </ul>\n",
       "    </li>\n",
       "    <li>year.MEAN\n",
       "      <ul>\n",
       "      <li>formatter: DOUBLE[#,###.00]</li>\n",
       "      </ul>\n",
       "    </li>\n",
       "    <li>year.SUM\n",
       "      <ul>\n",
       "      <li>formatter: INT[#,###]</li>\n",
       "      </ul>\n",
       "    </li>\n",
       "    </ul>\n",
       "  </li>\n",
       "  </ul>\n",
       "</li>\n",
       "</ul>\n"
      ],
      "text/plain": [
       "<atoti.cube.Cube at 0x7efe962cba90>"
      ]
     },
     "execution_count": 90,
     "metadata": {
      "application/json": {
       "expanded": false,
       "root": "factTable"
      }
     },
     "output_type": "execute_result"
    }
   ],
   "source": [
    "testcube"
   ]
  },
  {
   "cell_type": "code",
   "execution_count": 76,
   "id": "ad272527-67cd-4785-b77f-f7bb45bef4f8",
   "metadata": {},
   "outputs": [],
   "source": [
    "hierarchies, levels, measures = testcube.hierarchies, testcube.levels, testcube.measures"
   ]
  },
  {
   "cell_type": "code",
   "execution_count": 77,
   "id": "88b12bbc-5914-470d-abd2-5b4d3a88fc73",
   "metadata": {},
   "outputs": [
    {
     "data": {
      "application/json": {
       "Countries": {
        "continent": [
         "continent"
        ]
       },
       "Illness": {
        "country": [
         "country"
        ]
       },
       "Medals": {
        "code": [
         "code"
        ],
        "id": [
         "id"
        ],
        "medal": [
         "medal"
        ]
       },
       "factTable": {
        "code": [
         "code"
        ],
        "country": [
         "country"
        ],
        "factid": [
         "factid"
        ]
       }
      },
      "text/html": [
       "<ul>\n",
       "<li>Dimensions\n",
       "  <ul>\n",
       "  <li>Countries\n",
       "    <ul>\n",
       "    <li>continent\n",
       "      <ol>\n",
       "      <li>continent</li>\n",
       "      </ol>    </li>\n",
       "    </ul>\n",
       "  </li>\n",
       "  <li>Illness\n",
       "    <ul>\n",
       "    <li>country\n",
       "      <ol>\n",
       "      <li>country</li>\n",
       "      </ol>    </li>\n",
       "    </ul>\n",
       "  </li>\n",
       "  <li>Medals\n",
       "    <ul>\n",
       "    <li>code\n",
       "      <ol>\n",
       "      <li>code</li>\n",
       "      </ol>    </li>\n",
       "    <li>id\n",
       "      <ol>\n",
       "      <li>id</li>\n",
       "      </ol>    </li>\n",
       "    <li>medal\n",
       "      <ol>\n",
       "      <li>medal</li>\n",
       "      </ol>    </li>\n",
       "    </ul>\n",
       "  </li>\n",
       "  <li>factTable\n",
       "    <ul>\n",
       "    <li>code\n",
       "      <ol>\n",
       "      <li>code</li>\n",
       "      </ol>    </li>\n",
       "    <li>country\n",
       "      <ol>\n",
       "      <li>country</li>\n",
       "      </ol>    </li>\n",
       "    <li>factid\n",
       "      <ol>\n",
       "      <li>factid</li>\n",
       "      </ol>    </li>\n",
       "    </ul>\n",
       "  </li>\n",
       "  </ul>\n",
       "</li>\n",
       "</ul>\n"
      ],
      "text/plain": [
       "{('factTable', 'code'): <atoti.hierarchy.Hierarchy object at 0x7efe94fdb2b0>, ('Medals', 'code'): <atoti.hierarchy.Hierarchy object at 0x7efe94fdafe0>, ('Countries', 'continent'): <atoti.hierarchy.Hierarchy object at 0x7efe94fdacb0>, ('Medals', 'id'): <atoti.hierarchy.Hierarchy object at 0x7efe94fd9a80>, ('Medals', 'medal'): <atoti.hierarchy.Hierarchy object at 0x7efe961b46a0>, ('Illness', 'country'): <atoti.hierarchy.Hierarchy object at 0x7efebc4d6e90>, ('factTable', 'factid'): <atoti.hierarchy.Hierarchy object at 0x7efe94fdac20>, ('factTable', 'country'): <atoti.hierarchy.Hierarchy object at 0x7efe94e20af0>}"
      ]
     },
     "execution_count": 77,
     "metadata": {
      "application/json": {
       "expanded": true,
       "root": "Dimensions"
      }
     },
     "output_type": "execute_result"
    }
   ],
   "source": [
    "hierarchies"
   ]
  },
  {
   "cell_type": "code",
   "execution_count": null,
   "id": "df93ed09-8f59-4d50-9c1c-0a336cc78995",
   "metadata": {},
   "outputs": [],
   "source": []
  },
  {
   "cell_type": "code",
   "execution_count": 91,
   "id": "c947c29a-164f-4d4e-80ad-557f47100ff7",
   "metadata": {},
   "outputs": [
    {
     "data": {
      "text/html": [
       "<div>\n",
       "<style scoped>\n",
       "    .dataframe tbody tr th:only-of-type {\n",
       "        vertical-align: middle;\n",
       "    }\n",
       "\n",
       "    .dataframe tbody tr th {\n",
       "        vertical-align: top;\n",
       "    }\n",
       "\n",
       "    .dataframe thead th {\n",
       "        text-align: right;\n",
       "    }\n",
       "</style>\n",
       "<table border=\"1\" class=\"dataframe\">\n",
       "  <thead>\n",
       "    <tr style=\"text-align: right;\">\n",
       "      <th></th>\n",
       "      <th>total.SUM</th>\n",
       "    </tr>\n",
       "    <tr>\n",
       "      <th>country</th>\n",
       "      <th></th>\n",
       "    </tr>\n",
       "  </thead>\n",
       "  <tbody>\n",
       "    <tr>\n",
       "      <th>Algeria</th>\n",
       "      <td>15</td>\n",
       "    </tr>\n",
       "    <tr>\n",
       "      <th>Argentina</th>\n",
       "      <td>36</td>\n",
       "    </tr>\n",
       "    <tr>\n",
       "      <th>Armenia</th>\n",
       "      <td>14</td>\n",
       "    </tr>\n",
       "    <tr>\n",
       "      <th>Australia</th>\n",
       "      <td>347</td>\n",
       "    </tr>\n",
       "    <tr>\n",
       "      <th>Austria</th>\n",
       "      <td>161</td>\n",
       "    </tr>\n",
       "    <tr>\n",
       "      <th>Azerbaijan</th>\n",
       "      <td>43</td>\n",
       "    </tr>\n",
       "    <tr>\n",
       "      <th>Bahamas</th>\n",
       "      <td>12</td>\n",
       "    </tr>\n",
       "    <tr>\n",
       "      <th>Bahrain</th>\n",
       "      <td>3</td>\n",
       "    </tr>\n",
       "    <tr>\n",
       "      <th>Barbados</th>\n",
       "      <td>1</td>\n",
       "    </tr>\n",
       "    <tr>\n",
       "      <th>Belarus</th>\n",
       "      <td>104</td>\n",
       "    </tr>\n",
       "    <tr>\n",
       "      <th>Belgium</th>\n",
       "      <td>32</td>\n",
       "    </tr>\n",
       "    <tr>\n",
       "      <th>Botswana</th>\n",
       "      <td>1</td>\n",
       "    </tr>\n",
       "    <tr>\n",
       "      <th>Brazil</th>\n",
       "      <td>115</td>\n",
       "    </tr>\n",
       "    <tr>\n",
       "      <th>Bulgaria</th>\n",
       "      <td>74</td>\n",
       "    </tr>\n",
       "    <tr>\n",
       "      <th>Burundi</th>\n",
       "      <td>2</td>\n",
       "    </tr>\n",
       "    <tr>\n",
       "      <th>Cameroon</th>\n",
       "      <td>4</td>\n",
       "    </tr>\n",
       "    <tr>\n",
       "      <th>Canada</th>\n",
       "      <td>313</td>\n",
       "    </tr>\n",
       "    <tr>\n",
       "      <th>Chile</th>\n",
       "      <td>6</td>\n",
       "    </tr>\n",
       "    <tr>\n",
       "      <th>Colombia</th>\n",
       "      <td>24</td>\n",
       "    </tr>\n",
       "  </tbody>\n",
       "</table>\n",
       "</div>"
      ],
      "text/plain": [
       "            total.SUM\n",
       "country              \n",
       "Algeria            15\n",
       "Argentina          36\n",
       "Armenia            14\n",
       "Australia         347\n",
       "Austria           161\n",
       "Azerbaijan         43\n",
       "Bahamas            12\n",
       "Bahrain             3\n",
       "Barbados            1\n",
       "Belarus           104\n",
       "Belgium            32\n",
       "Botswana            1\n",
       "Brazil            115\n",
       "Bulgaria           74\n",
       "Burundi             2\n",
       "Cameroon            4\n",
       "Canada            313\n",
       "Chile               6\n",
       "Colombia           24"
      ]
     },
     "execution_count": 91,
     "metadata": {},
     "output_type": "execute_result"
    }
   ],
   "source": [
    "testcube.query(measures[\"total.SUM\"], levels=[levels['Illness','country','country']])[1:20]"
   ]
  },
  {
   "cell_type": "code",
   "execution_count": 92,
   "id": "224a9d78-942f-403b-a0ee-b221f97acbce",
   "metadata": {
    "atoti": {
     "widget": {
      "mapping": {
       "horizontalSubplots": [],
       "secondaryValues": [],
       "splitBy": [
        "ALL_MEASURES"
       ],
       "values": [
        "[Measures].[total.SUM]",
        "[Measures].[silver.SUM]",
        "[Measures].[bronze.SUM]",
        "[Measures].[gold.SUM]"
       ],
       "verticalSubplots": [],
       "xAxis": [
        "[Countries].[continent].[continent]"
       ]
      },
      "query": {
       "mdx": "SELECT NON EMPTY Hierarchize(Descendants({[Countries].[continent].[ALL].[AllMember]}, 1, SELF_AND_BEFORE)) ON ROWS, NON EMPTY {[Measures].[total.SUM], [Measures].[silver.SUM], [Measures].[bronze.SUM], [Measures].[gold.SUM]} ON COLUMNS FROM [factTable] CELL PROPERTIES VALUE, FORMATTED_VALUE, BACK_COLOR, FORE_COLOR, FONT_FLAGS",
       "updateMode": "once"
      },
      "serverKey": "default",
      "widgetKey": "plotly-line-chart"
     }
    }
   },
   "outputs": [
    {
     "data": {
      "application/vnd.atoti.widget.v0+json": {
       "sessionId": "1712471396_TJ8YIQ",
       "sessionLocation": {
        "https": false,
        "port": 9095
       },
       "widgetCreationCode": "session.widget"
      },
      "text/html": [
       "<img height=\"352\" width=\"1473\" src=\"data:image/png;base64,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\" />"
      ],
      "text/plain": [
       "Open the notebook in JupyterLab with the Atoti JupyterLab extension enabled to build this widget."
      ]
     },
     "metadata": {},
     "output_type": "display_data"
    }
   ],
   "source": [
    "session.widget"
   ]
  },
  {
   "cell_type": "code",
   "execution_count": 87,
   "id": "de27590a-7e6d-4df4-b588-814b8a023c4b",
   "metadata": {
    "atoti": {
     "widget": {
      "mapping": {
       "horizontalSubplots": [],
       "secondaryValues": [],
       "splitBy": [
        "ALL_MEASURES"
       ],
       "values": [
        "[Measures].[depression.SUM]",
        "[Measures].[anxiety.SUM]",
        "[Measures].[bipolar.SUM]",
        "[Measures].[eatingdisorder.SUM]",
        "[Measures].[schizophrenia.SUM]"
       ],
       "verticalSubplots": [],
       "xAxis": [
        "[Countries].[continent].[continent]"
       ]
      },
      "query": {
       "mdx": "SELECT NON EMPTY Hierarchize(Descendants({[Countries].[continent].[ALL].[AllMember]}, 1, SELF_AND_BEFORE)) ON ROWS, NON EMPTY {[Measures].[depression.SUM], [Measures].[anxiety.SUM], [Measures].[bipolar.SUM], [Measures].[eatingdisorder.SUM], [Measures].[schizophrenia.SUM]} ON COLUMNS FROM [factTable] CELL PROPERTIES VALUE, FORMATTED_VALUE, BACK_COLOR, FORE_COLOR, FONT_FLAGS",
       "updateMode": "once"
      },
      "serverKey": "default",
      "widgetKey": "plotly-line-chart"
     }
    }
   },
   "outputs": [
    {
     "data": {
      "application/vnd.atoti.widget.v0+json": {
       "sessionId": "1712471396_TJ8YIQ",
       "sessionLocation": {
        "https": false,
        "port": 9095
       },
       "widgetCreationCode": "session.widget"
      },
      "text/html": [
       "<img height=\"352\" width=\"1473\" src=\"data:image/png;base64,iVBORw0KGgoAAAANSUhEUgAABcEAAAFgCAYAAABzIrEhAAAAAXNSR0IArs4c6QAAIABJREFUeF7snQfYVMXZhl9AShQQlBZEDSgGKdJESsAIiMSKgg1LbNhAReVXUcEGWGPBgg00togiKkbFBlgQIShGKdZAbKCAIIj08l/PmF33W/Zjz+53zpZz7rkugnw7Z8o9884hz748U84oEIAABCAAAQhAAAIQgAAEIAABCEAAAhCAAAQgAIGQEigX0nkxLQhAAAIQgAAEIAABCEAAAhCAAAQgAAEIQAACEICAxUXwLVu2bIEHBCDgH4Fy5crxJZN/OGkJAhCAAAQgAAEIQAACEIAABCAAAQhAAAJZEUAEzwobD0EgPQFE8PSMqAEBCEAAAhCAAAQgAAEIQAACEIAABCAAgaAJIIIHTZj2I0sAETyyS8/EIQABCEAAAhCAAAQgAAEIQAACEIAABAqIACJ4AS0GQwkXAUTwcK0ns4EABCAAAQhAAAIQgAAEIAABCEAAAhAoTgKI4MW5boy6CAggghfBIjFECEAAAhCAAAQgAAEIQAACEIAABCAAgdATQAQP/RIzwXwRQATPF3n6hQAEIAABCEAAAhCAAAQgAAEIQAACEIDAbwQQwdkNEAiIACJ4QGBpFgIQgAAEIAABCEAAAhCAAAQgAAEIQAACGRBABM8AFlUhkAkBRPBMaFEXAhCAAAQgAAEIQAACEIAABCAAAQhAAALBEChVBJ8zZ479+OOP1rRpU6tdu3aJ3tevX2/vvfeetWzZ0mrUqBHMyJJa/e677+w///mP7b///u6TadOm2S677GK77757TvpP1cmaNWvsX//6l+2zzz5Ws2bNvI2DjguTACJ4Ya4Lo4IABCAAAQhAAAIQgAAEIAABCEAAAhCIFoFtiuDLli2zypUrW7t27ax8+fJxMoUggn///fdWtWpV9ytfJWgRfOHChbZy5Upr0qRJvqZIv2UggAheBng8CgEIQAACEIAABCAAAQhAAAIQgAAEIAABnwhsUwQvV66c/fTTT9agQYMSGdeFIIL7NP8yNROUCL5lyxYT+88++8z034jgZVqmvD2MCJ439HQMAQhAAAIQgAAEIAABCEAAAhCAAAQgAIE4gW2K4Nttt53LtF6wYIHtt99+LitcJZUI/vPPP9v8+fNd5rIEXNmk7LnnnlalShVbtGiRffnll/anP/0pnlH++eefu58ry3z77bd37erPsjxRPbWRWLZlh6KM6f/+97/OlkTt/vLLL1apUiUn3NerVy/ezLbGWNqe0Fw1dmXFa0yyPdljjz0ci5gI3rx5c1u8eLGzj1HGfJ06dVyd2BzUrxjqd4namm/Dhg3jFiqa29dff2177bWXE771vOagLyBipW3btnnNeidmMieACJ45M56AAAQgAAEIQAACEIAABCAAAQhAAAIQgIDfBNKK4H/84x9t5syZVq1aNdt7771TiuBr1661999/33bccUcn7krolZi9bt06J3Lrd3lnt27d2qpXr+7aUJubNm1yQvXvf/9797NPPvnE/UyicnLZlggeE9klvEt8/t3vfmdfffWVE5bbt2/vBOt0Y0y0e4n1rXl88MEHTthu1KiRE7U1r82bN9u+++4bF8H1RYHEdvUvIVyCd8xLXXXln67PNFe1pfHGvgDQ2CTi6wsE8VPWvcavLyA+/vhj99/6MkF/Tv5iwO/NQHv+EkAE95cnrUEAAhCAAAQgAAEIQAACEIAABCAAAQhAIBsC2xTBK1So4IRvCbu6KLNVq1ZOqE3OBJeAKyG3Q4cOTqxVkfA9ffp097wym2fMmGH169e3XXfd1TZs2OCE4d12282J0zG7D9XXz1QvUxFcGeCx8SX236JFC9tpp52cyJxujMl9Kvt79uzZJbLVV61a5cR1ie0SuCXua04SyWNFc9VlovqZhHTxEhfxVJHQP3Xq1LhQLkFc44+NNdbOhx9+6ERw7FCy2dr5fwYRPP9rwAggAAEIQAACEIAABCAAAQhAAAIQgAAEIOBJBBcmicESc9u0aRMXsVu2bOkynD/66CNHUn9OLBKIJUArk1k2Hxs3brRmzZrZkiVL7JtvvnFC8qeffuqytSWGSzyW7YqE3+SSLhNcInLnzp23EpolINetW9fTGJP7jGWTd+nSJeVOSbRD2XnnneN1lD2uzHnZm6gsXbrUCeeyOJFwHiuNGzd2gn9MBO/UqZNVrFgx/jkieHEHKCJ4ca8fo4cABCAAAQhAAAIQgAAEIAABCEAAAhAIBwHPIvjq1aud5YmEXQnbyuSOieCzZs1yftfJliISfJURLWsQeWbLW1tC7xdffOHqyjpFGdESweV/LRsRZZOnKl5E8P333z9uGRLLto6J4F7GmNyvrE9++OEHN+ZUpbSLMdXXDjvsYLKSkfAtUVxit7Lc5VWu7PC3337bkkXwxPGrP0Tw4g4yRPDiXj9GDwEIQAACEIAABCAAAQhAAAIQgAAEIBAOAp5FcE1XIrayuGU7oizvxExwCbuxzOdENLIAke+1LFCmTZvmMr3nzp1rf/jDH6xWrVpO6N1ll11s+fLl7jEJx0GI4MpWTzfG5H6VCa5fygRP5cftRQRXxrvaSLzsM2YVgwgejiAqbRaI4OFeX2YHAQhAAAIQgAAEIAABCEAAAhCAAAQgUBwEMhLBZWci8VvZ3fLXjongyuBWxrQyuhPFYonEVapUif9MmeSyJpE/d8z6Q/+trG2J4BLG5R8ehAjudYyJfSd7oeszZcTLwkUZ5pqreOyzzz5Ws2bN+KOJmeD//e9/HavEbHJZo2g8iODFESTZjhIRPFtyPAcBCEAAAhCAAAQgAAEIQAACEIAABCAAAf8IZCSCq1sJusoIV1Z1TASXn7cEbvliy/JDVieyP1EGdOvWrZ0/torsRZRJrksi9913X/czCc1qT20ke2InTrOsdihex5jYp+aoeanI11zzknitLwPatm3rxpxOBI9drqkMd9nIyB9c1i8rVqxwvHR5ppjI0zzZDkU+7Moal+CubPpEv3D/tgAtBUUAETwosrQLAQhAAAIQgAAEIAABCEAAAhCAAAQgAAHvBDIWwSUMy+NaXtcxEVzdyRNcArHEXWVIyxN79913d8JvrMQEYfljKwtaJWaTUrVqVScsl1bKKoJ7HWNy/xKhJdIrU13z0kWgEsQlSnuxQ1F74qLLL8VOwrfm/u2337rLQevVq+dYpRLBxUtZ5yp77713iWxz70tMzXwRQATPF3n6hQAEIAABCEAAAhCAAAQgAAEIQAACEIDAbwRKFcGBBAEIlI0AInjZ+PE0BCAAAQhAAAIQgAAEIAABCEAAAhCAAAT8IIAI7gdF2oBACgKI4GwLCEAAAhCAAAQgAAEIQAACEIAABCAAAQjknwAieP7XgBGElAAieEgXlmlBAAIQgAAEIAABCEAAAhCAAAQgAAEIFBUBRPCiWi4GW0wEEMGLabUYKwQgAAEIQAACEIAABCAAAQhAAAIQgEBYCSCCh3VlmVfeCSCC530JGAAEIAABCEAAAhCAAAQgAAEIQAACEIAABAwRnE0AgYAIIIIHBJZmIQABCEAAAhCAAAQgAAEIQAACEIAABCCQAQFE8AxgURUCmRBABM+EFnUhAAEIQAACEIAABCAAAQhAAAIQgAAEIBAMAUTwYLjSKgQMEZxNAAEIQAACEIAABCAAAQhAAAIQgAAEIACB/BNABM//GjCCkBJABA/pwjItCEAAAhCAAAQgAAEIQAACEIAABCAAgaIigAheVMvFYIuJACJ4Ma0WY4UABCAAAQhAAAIQgAAEIAABCEAAAhAIKwFE8LCuLPPKOwFE8LwvAQOAAAQgAAEIQAACEIAABCAAAQhAAAIQgIDFRXBYQAACEIAABCAAAQhAAAIQgAAEIAABCEAAAhCAAATCRgARPGwrynwgAAEIQAACEIAABCAAAQhAAAIQgAAEIAABCEAgTgARnM0AAQhAAAIQgAAEIAABCEAAAhCAAAQgAAEIQAACoSWAJ3hol5aJQQACEIAABCAAAQhAAAIQgAAEIAABCEAAAhCILoHYnX2I4NHdA8wcAhCAAAQgAAEIQAACEIAABCAAAQhAAAIQgEBoCSCCh3ZpmRgEIAABCEAAAhCAAAQgAAEIQAACEIAABCAAAQgggrMHIAABCEAAAhCAAAQgAAEIQAACEIAABCAAAQhAILQEEMFDu7RMDAIQgAAEIAABCEAAAhCAAAQgAAEIQAACwRH46aef7MMPP7QFCxbY8uXLXUcNGza0bt26WY0aNXzv+D//+Y9VrlzZGjRokHXb7733nnu2WbNmVr16dVuyZIl9+eWXVqVKFWvdurX7THNau3at7bnnnla7dm1buXKlzZ07133WsWPHrPpWG+vWrYs/q3nEfmXVYEgfiq1PbHrpeHutjwge0g3DtCAAAQhAAAIQgAAEIAABCEAAAhCAAASiQUBCbnIJWmSdMmWKTZ48OSVgCeBt2rSxrl27+rYAEsAXL17s2tt1112zFsJzLYJr3BLAJaqnKhLiJbZrvfwqycKw13bTCc6xdoJsX217HUfyvLb1LCK4111APQhAAAIQgAAEIAABCEAAAhCAAAQgAAEIFBiBb7/91r755puUoyqLWLytaW5LAE98ThnhfgjhiQJ4rP1s5yZBWkXis4qys/UrMSs7Vif2s1idxOfSbQO1oXFL/K5Tp47rT79iYrc+15cXMYE8lnWerl0vnwcpUqv/INtHBPeywtSBAAQgAAEIQAACEIAABCAAAQhAAAIQgECECMSsO1JNWRYfTZs29TXLWNYnDz30kOtu2LBhpZIeOnSos0Tp3bu3s0jxo8TE12wzhf0Yg5c2YvYp4r/HHnvEBfdUzyaK5cqe9yMjPEiROpcieOI89EWCWKokf/ET2w9kgnvZndSBAAQgAAEIQAACEIAABCAAAQhAAAIQgECBE1D2sETA0uw1JLyW9pkf2cbPPvus88yOieASu5OLxPHYzyWAn3766b5Q9UMEj1nHJGZlexlc7Dl5hG+rKGt81qxZJTzG07UfE3WzzW5Pbr80ETxRLE41Jq9fLgQtssfGFusn0a899lnilz9exo0dSrpdyOcQgAAEIAABCEAAAhCAAAQgAAEIQAACECgQAqkEyGRfaWUXyyIlZuuhocfEcS+C4bameuutt5ouxFRJFLsTn0n8ubLBBw0alDE9WYnEMn+TRdHkOUhE9npZZrInuJeBZXIxZraCtsalddSFnWUtYRLBlQEuL/jELwhi9jjipbXxsqcRwcu6q3geAhCAAAQgAAEIQAACEIAABCAAAQhAAAI5IpAscCZmySZnOceyZSUkxrynvQiG25pKYuZ3UCJ4TORMHmtpmeD6udcs6lgWezqbkkQGMcsS/ax169bbXOnY2DOxNolljydafpRlO4VFBNd+VuZ94hcLYiVRPMbK6xcgiOBl2VE8CwEIQAACEIAABCAAAQhAAAIQgAAEIACBHBJIFjiVOayM2ER7iJgwnpjBHBtiWUVw+YHLF1wlCBE81SWYXvF6FcK9tpdNvblz57ovHGIieOzSzW21JbH3yy+/9CzkpxtX4h5Jt96Z1I31m8kzmdTd1rwSfcCz+bIAETzdruFzCEAAAhCAAAQgAAEIQAACEIAABCAAAQgUCIFkEVwiZyyTOHGIMXE8Vf2yTGXKlCk2efJkzyK4Mqd1OabXknzpodfnVC8bcTST9r3UjY1fX0ysX7/e+bMn29UktpONh3i6cWQiPGdSN9ZvJs9kUndb84p9UaA62XzZgQiebtfwOQQgAAEIQAACEIAABCAAAQhAAAIQgAAECoRAsqitjGOVefPmlbgQszRxPF1mcLppyg9cvuAqygQvrcRsU3Qppi7HzKTEhORM7FC8CuDZ2KFIqBZflXR2KKoTy8qPXUSq+UjEbdq0qVWuXDmOItG7PfalRSacSqsbFjuUmNVJbD+Ip9ZCfvcxITyVd3wqLojgfuws2oAABCAAAQhAAAIQgAAEIAABCEAAAhCAQA4IJAucMTEwJrQq8zjRL1mCYWIpqwiuthKzwdNNuVu3bta1a9d01bb6PJXXc2me4F6FUHUS9MWY6iPR0kVrIV9r/SwmgksQlwAub2tZ12TiT+4FZFhE8NhloWKVmP2dmG3PxZhedgR1IAABCEAAAhCAAAQgAAEIQAACEIAABCBQRARSCZypLmFM5QeuafohgisbXNnOMVuUdPiyFcKT2y1NBE/Xf+LnsctDJUx7Lco+Fk8VL8+pDwm1lSpViluiJPclcVw2KV7a8zrOWL0wieCaU+Llr7E5Jnrge9nTZIJnuouoDwEIQAACEIAABCAAAQhAAAIQgAAEIACBPBEoTeCMZRzHBFtlGacqXgRDr1OTGC4hXL/rsswaNWo46xOJ3skiuR9CuB8iuNe5lbWe5i8RXAKu1iImessOJfarrH2U9nxpeyRdf173RpDtq+3YOBL7ScwET748NbF+aXNABE+3+nwOAQhAAAIQgAAEIAABCEAAAhCAAAQgAIECIZAsAGYyrFQZtZk8n2ndZNuUbIXwVJdlxvy2Mx1TLKM7JkTrSwP9UlFmtkpyncSfxep46Td2maNXv3IvbXqpE6RIrf6DbD9RBPcy18Q623oWETxTmtSHAAQgAAEIQAACEIAABCAAAQhAAAIQgEAeCUikjQm3mQwjCOuNdP0nCuG9e/f2dLFkqjYThfBsBfBEATd2EWVMqE78giD5YstEaxmv2dLqS2NesWKFqa9cliBFakTwXK4kfUEAAhCAAAQgAAEIQAACEIAABCAAAQhAAAJFQUBCuKxSWrduXabxSlRWBndZxPzkizGDFMHVdlnGWiZYRfpwsoCf7ksHr/XJBC/SDcGwIQABCEAAAhCAAAQgAAEIQAACEIAABCAAAQhAID0BRPD0jKgBAQhAAAIQgAAEIAABCEAAAhCAAAQgAAEIQAACRUoAEbxIF45hQwACEIAABCAAAQhAAAIQgAAEIAABCEAAAhCAQHoCiODpGVEDAhCAAAQgAAEIQAACEIAABCAAAQhAAAIQgAAEipQAIniRLhzDhgAEIAABCEAAAhCAAAQgAAEIQAACEIAABCAAgfQEEMHTM6IGBCAAAQhAAAIQgAAEIAABCEAAAhCAAAQgAAEIFCkBRPAiXTiGDQEIQAACEIAABCAAAQhAAAIQgAAEIAABCEAAAukJIIKnZ0QNCEAAAhCAAAQgAAEIQAACEIAABCAAAQhAAAIQKFICoRbBV61aZVdffbVNnTrVKlasaCeccIL179/fLdXXX39tgwcPtnnz5lmDBg1s+PDh1qpVK/fZ22+/7f68ZMkSa926td18881Wq1YtGzBggPXs2dOOOOKIIl1uhg0BCEAAAhCAAAQgAAEIQAACEIAABCAAAQhAIFoEQi2CDxs2zJYvX27XX3+9LVu2zI499li7/fbbrV27dnbiiSda586d7cwzz7QpU6bYiBEj7I033rDVq1dbjx49XL399tvPbr31Vlu0aJHdcccdiODRig1mCwEIQAACEIAABCAAAQhAAAIQgAAEIAABCISAQKhF8MmTJ9sf//hH22WXXdxSKQu8W7du1rVrVyd0z5w50ypUqOA+6927t11++eW2dOlSGz9+vI0ePdr9/Oeff7YuXbrYv/71L7vooovimeDvvPOOSWR/8sknbeedd3Z1VUfCeZQLDKK8+sw9FwSIsVxQpo8oEyDGorz6zD0XBIixXFCmjygTIMaivPrMPRcEiLFcUKYPCARDINQieCIyWaMccsgh9vDDD9uKFSvsmmuusRdeeCFeZdCgQda+fXuXMS4hfMiQIfHPlDH+xBNPOFsU2aG0aNHCzjjjDHvggQdszz33jNfjMOSLgGDClFYh8BsBzhl2AwSCJUCMBcuX1iFAjLEHIBAsAWIsWL60DgFijD0AgeIlEAkRfO3atXbBBRfYPvvsY+edd55NmzbN2Z2MGzcuvnLKAlfWuOxTNm7caJdcckn8s+7du9tdd91l99xzj3Xq1Mllf19xxRXuvxOLDsOol08//dSaNGkSdQzMHwKBESDGAkNLwxBwBIgxNgIEgiVAjAXLl9YhQIyxByAQLAFizCLvgBDsDqP1IAmEXgRfuXKlnXvuuS7LW0K4yocffuhE7IkTJ8bZnn/++c72RCL4woUL7dprr41/JosTCebKBJeFypYtW5wQnpgFrsp8IwiDIIOVtiHAOcMegEDwBHiXB8+YHqJNgBiL9voz++AJEGPBM6aHaBMgxqK9/sy+uAmEWgRft26dnXbaaXbwwQfbySefHF8pCd3yBZ8+fbpVqVLF/Vx1hg8fbj/++KM99thj7pfKkiVL4v7hF154oe29995Wt25dGzt2rD399NNxT3HEqV/x8kIo7gOB0Rc+AWKs8NeIERY3AWKsuNeP0Rc+AWKs8NeIERY3AWKsuNeP0Rc+AWKs8NeIEUKgNAKhFsHvvvtu5+8t/+/kcvrpp1vbtm3t7LPPtldeecXZo7z22msm65SDDjrIbrnlFmvXrp3dcMMNJj9xZYEPGDAgfjFmv379rFWrVs5eJVY4DBHBOWogEDQBzpmgCdN+1AkQY1HfAcw/aALEWNCEaT/qBIixqO8A5h80AWIsaMK0D4HgCIRaBFe2tzK5y5cvHyfYt29fk//3okWL7NJLL7XZs2fbbrvt5sTuZs2auXrKEL/66qtt8eLFzuvopptusho1apQQwfV87969bcyYMda0aVP3HIchDIILVVqGwK8EOGfYCRAIlgAxFixfWocAMcYegECwBIixYPnSOgSIMfYABIqXQKhF8FwvC4chAl2u9xz9RY8A50z01pwZ55YAMZZb3vQWPQLEWPTWnBnnlgAxllve9BY9AsRY9NacGYeHACK4j2vJYYgI7uN2oikIpCTAOcPGgECwBIixYPnSOgSIMfYABIIlQIwFy5fWIUCMsQcgULwEEMF9XDsOQ0RwH7cTTUEAEZw9AIE8EOBdngfodBkpAsRYpJabyeaBADGWB+h0GSkCxFiklpvJhowAIriPC8phiAju43aiKQgggrMHIJAHArzL8wCdLiNFgBiL1HIz2TwQIMbyAJ0uI0WAGIvUcnua7CeffGIDBw601157zVP9XFZ66KGHbP78+TZ8+HBfuv3iiy/sxhtvtE8//dQ2b95su+yyi1188cXWqVMnW758uXXs2NFmzZpl22+/fby/5557zl544QV7+OGHbdq0aXb66ae7exmPOuqoEmM6+OCDrWbNmvaPf/zDl7GmagQR3Ee0HIaI4D5uJ5qCACI4ewACeSDAuzwP0OkyUgSIsUgtN5PNAwFiLA/Q6TJSBIix4lnuxct/scmzFljtmjtYi4Z1rE7NHQIZvJ8i+KZNm6xChQq+jXPNmjWmNqtWrepLmz179nQi9jHHHGPlypWzV1991S6//HJ78803nSjuRQS/8sorrWHDhiaBPlbmzZtn55xzjjVo0AAR3JeVykEjHIaI4DnYZnQRcQKcMxHfAEw/cAKvvznNehzQKfB+6AACUSXAeyyqK8+8c0WAGMsVafqJKgFirDhWfs78xXbl6MnxwUoAH9invTVvVMeXCdx///02duxY23HHHe0vf/mLPfvss/FM8Pvuu88mTJjgRGKJwoMHD7aKFStamzZt7Nxzz7WpU6fa4sWL7bjjjrNTTz3VJABfccUV1rhxY/vhhx/s0UcfdaLybbfdZhs2bLBdd93VRowYYbVr17bvvvvOLrvsMve8RGeJ0WeffXapP0/MBP/888/t6quvtmXLllnlypXtoosusq5du7qsbo3xgAMOsA8++MC1PXToUOvcuXMJVhs3brR99tnH3nrrLTeWWPnqq6+ceL1y5UpPIviYMWPsv//9rz311FNWq1Yt18wtt9zi+tX8yAT3ZYsG3wiHISJ48LuMHqJOgHMm6juA+QdFIPEvyvpLcvc2De347s2D6o52IRBZArzHIrv0TDxHBIixHIGmm8gSIMbys/RPTpqTUcfKAFcmeGLZoUpFO/xPf8yonb4p/v/Af/7zH+vbt6+9/PLLtvPOO9ull15qH330kRPBJ02aZLfffrs9+eSTzhJENint27e3k08+2dq1a2cnnXSS+9mSJUvsoIMOcm38/PPPThCX0H3IIYfY0qVL3e9PPPGEE8ZlIyKLkbvuusuGDRvmhGOJ6XpOWdV67o477kj583Hjxjk7lOuuu84OP/xw69+/vx166KH25Zdf2vHHH2+vv/666+/II480ifddunSxl156yR5//HE3h+QyYMAAJ9Sfcsop1qFDhxJiuFc7lAcffND22msvq1+/vmtny5YtjoVsVR577DFE8Ix2aB4rcxgigudx+9F1RAhwzkRkoZlmTgnoL8hn3vLPEn1KCB/Rr1tg/2wypxOkMwgUEAHeYwW0GAwllASIsVAuK5MqIALEWH4Wo9cVY/PS8YTrj9+qX2WAv/322zZq1Cj3mTK7JTJLBFdGt6w+zjzzTPeZMrqVja3sbongjzzyiDVt2tR9duKJJ9pf//pXa9SokcvoltBdvnx5e/75550QLbFYZfXq1e7Zjz/+2P3s3XfftUsuucSaN2/u6qtIwE7181gm+FlnneWEbmV6K0NdRcK7fr7bbrs5Uf/99993P//ss8+cNcmUKVO2mruywTV/2aBI+NfYJcjLJiUTEVyCt5hJpNe877nnHpfRLjGfTPC8bPXMO+UwRATPfNfwBAQyI8A5kxkvakPAC4FJsxbYnc/M2KqqMj/IBvdCkDoQ8E6A95h3VtSEQDYEiLFsqPEMBLwTIMa8s/Kzph+Z4I1+X8P2a9ogo2GlygSXFcqCBQvcBZEqs2fPtkGDBjkRXOLxv//97/jFkLIsUbb4+PHjnZAtgVuXSapI9O3evbu1bt3azjjjDCesq0i4Vta3LomMlVWrVrmscf1MdiIvvvii/fjjj05sl6WKfL9T/Twmgh999NHO/iRR2Fb/Bx54oLVq1cr69evnbE5UdPn0JXLHAAAgAElEQVRl4p9LA7Z27VqXSX7VVVfZ3//+d/vDH/7gst5nzpxp1apViz/29NNPOzajR492F2NKyFd2u4TzBx54wH1B0KJFC5cZjgie0fbMb2UOQ0Tw/O5Aeo8CAc6ZKKwyc8w1gesff8dmzPtuq25PPbiVHdWlSa6HQ38QCDUB3mOhXl4mVwAEiLECWASGEGoCxFhxLG/yv/T00xNcNiHK/lb2soqyva+//non9A4ZMsRZmMjmI7lIBJdY3KxZM/eR7Egkfks8ThSdX3jhBZdpHWu/NOLy4lYm+b333hvPLlfdxJ9Pnz7d2aHEMsGV7R3LHj/22GNdFrf8vL2I4IsWLXIC+f77719iSHq2R48eLptdvueycYnNURXFRoK5Mr8TRXAJ/ZUqVTKJ5PJQlzc6InhxxJcbJYchDIpouzLUIiXAOVOkC8ewC5KA/nI88pkZNmfB4pTj8/MvywUJgEFBIA8EeI/lATpdRooAMRap5WayeSBAjOUBepZd6u/6sxcstiXLf/H1X3fqIkmJz7Is2WmnnVyGtX4mEXzy5MlOvFZ28w477OAEXl2KedRRR7lMcP0uy5RvvvnGeXQrk/qnn34qIULLo/uII45wnty77767yzSXSCyBXRnnsjWRd/e6deusd+/edtNNN7nM6lQ/136VCC4vcfWnTPXDDjvMPvnkE5dBrv7l8V2aCC7fcc2rT58+LvtdGeXKgFcGu2xVJKqfd955zualSZMmTuiWUC7hu06dOvbOO++4izyVkd6yZcsSIrja0xh02aYEcY0VETzLzZ6PxzgMEcHzse/oM1oEOGeitd7MNjgC+ieVY/93wY7E7r/2bGmv/OtL++b7Zda80e9ti5lNm/ON8wTv1qahpfqnkMGNjpYhEF4CvMfCu7bMrDAIEGOFsQ6MIrwEiLHwrm0mM7vzzjudwC3bD2V0SwSWAK4iu5TnnnvO5J+tLO+YICwRXCK0LFFkbyIrkxNOOCGl/Yiyy2+77TaXQS0xXQJ427ZtnSB+zTXXOOFcGd29evVyInRpP4/ZoQwfPtw+//xzu/rqq513d5UqVdyFnp06ddqq/0Q7FAnoEs/nzp3r5qZMbgnW+rlE8F133dXZushWRUXCvIRsZbNLQN9zzz3t/PPPt65du8afj9mh6AcS8fW8rFEQwTPZgQVQl8MQEbwAtiFDCDkBzpmQLzDTC5zAnPmL7crRv/4FVUWe34kCdyzGlDkir/CYUJ5cL/CB0gEEQkqA91hIF5ZpFQwBYqxgloKBhJQAMRbShc3BtCSCy8u7bt26OeiNLlIRKPe/W0F/vRrUzLZs2aLkJ0oWBDgMEcGz2DY8AoGMCHDOZISLyhCIE0i2PinN6iQ5xibPWuAsU1T0zIh+3dzvFAhAIDsCvMey48ZTEPBKgBjzSop6EMiOADGWHTeeMmeH8s9//tPq1asHjjwRQAT3ETyHISK4j9uJpiCQkgDnDBsDApkTSLY+2Za9SaoYk4Cu7HH9jj1K5vx5AgKJBHiPsR8gECwBYixYvrQOAWKMPZAtAUTwbMn59xwiuH8suRiTy0F93E00BYHUBPhLFzsDAt4JJGd/N29Yx0ac2W2bDZQWY4n2KAjh3teAmhBIJsB7jD0BgWAJEGPB8qV1CBBj7AEIFC8BRHAf147DkExwH7cTTUEgJQHOGTYGBNITSPbzLs36JFVL6WIsMavci6iefrTUgEC0CKSLsWjRYLYQ8J8AMeY/U1qEQCIBYoz9AIHiJYAI7uPacRgigvu4nWgKAojg7AEIZEEg3cWX6Zr08i5XHyPHz4jbo+ATno4qn0PgNwJeYgxeEIBA9gSIsezZ8SQEvBAgxrxQog4ECpMAIriP68JhiAju43aiKQgggrMHIJABgVQXX2YjTnt9l+MTnsHiUBUCCQS8xhjQIACB7AgQY9lx4ykIeCVAjHklRT0IFB4BRHAf14TDEBHcx+1EUxBABGcPQMAjgUwuvkzXZCbv8mTbleO7N7e+3Zun64LPIRBpApnEWKRBMXkIZEmAGMsSHI9BwCMBYswjKKpBoAAJIIL7uCgchojgPm4nmoIAIjh7AAJpCCRmY6tqtzYNbeDR7cvELZt3ebIIn00GepkGzcMQKCIC2cRYEU2PoUIg7wSIsbwvAQMIOQFiLOQLzPRCTQAR3Mfl5TBEBPdxO9EUBBDB2QMQKIVAWS6+TAc123d5sj0KQng60nweVQLZxlhUeTFvCGRKgBjLlBj1IZAZAWIsM17UhkAhEUAE93E1OAwRwX3cTjQFAURw9gAEUhCYPGuBjXxmRvwTvy1IyvIulxCurHCNsU7NHVxmOvYobGMIlCRQlhiDJQQgkJ4AMZaeETUgUBYCxFhZ6PEsBPJLABHcR/4chojgPm4nmoIAIjh7AAIJBJIvvmzesI6zPpHY7Gcp67scn3A/V4O2wkigrDEWRibMCQJ+EiDG/KRJWxDYmgAxxq6AQPESQAT3ce04DBHBfdxONAUBRHD2AAT+R8DPiy/TQfXrXY5PeDrSfB5VAn7FWFT5MW8IpCNAjKUjxOcQKBsBYqxs/HgaAvkkgAjuI30OQ0RwH7cTTUEAEZw9EHkCc+YvtpHjZ5iyq1X8tj5JBdjPd3myT7isUWSRQoFAlAn4GWNR5sjcIVAaAWKMvQGBYAkQY8HypXUIBEkAEdxHuhyGiOA+bieaggAiOHsgsgQSvbUFQZYnA/u0t+aN6gTOxO93eaI9Cj7hgS8fHRQBAb9jrAimzBAhkFMCxFhOcdNZBAkQYxFcdKYcGgKI4D4uJYchIriP24mmIIAIzh6IJIFEGxEByEX2dyLooN7lifNSNrj8zCkQiCKBoGIsiiyZMwRSESDG2BcQCJYAMRYsX1qHQJAEEMF9pMthiAju43aiKQgggrMHIkUgVxdfpoMa5Ltc9i5Xjp7shqCs8BH9uvl+sWe6+fE5BPJNIMgYy/fc6B8ChUCAGCuEVWAMYSZAjIV5dZlb2Akggvu4whyGiOA+bieaggAiOHsgMgSSL5HMlfVJKsBBv8uTfcKVFS6vcAoEokIg6BiLCkfmCYHSCBBj7A0IBEuAGAuWL61DIEgCiOA+0uUwRAT3cTvRFAQQwdkDoSeQj4sv00HNxbs80Sdc48m15Us6BnwOgSAJ5CLGghw/bUOg0AkQY4W+Qoyv2AkQY8W+gow/ygQQwX1cfQ5DRHAftxNNQQARnD0QWgLJ1ie5vPgyHdRcvsuTM+CxR0m3OnweBgK5jLEw8GIOEMiUADGWKTHqQyAzAsRYZryoDYFCIoAI7uNqcBgigvu4nWgKAojg7IFQEkgWfgvNDiTX7/JkexSE8FBueyaVQCDXMQZ8CESNADEWtRVnvrkmQIzlmnj4+2vdurVNnDjR6tWrV+pkN23aZC+//LIdfvjhnoHcd999Nn78eFu1apVtt9121r17d7v88sutcuXKNmzYMKtUqZJddtllJdrr1q2b3XLLLda2bVs74YQT7IcffrA33njDypUrF6/30ksv2aBBg+yhhx6yTp06eR5PIVREBPdxFTgMEcF93E40BQFEcPZAqAikuvhyxJndCm6O+XiX4xNecNuAAQVIIB8xFuB0aBoCBUeAGCu4JWFAISNAjBXPgm5e+Z1tmPeCla9W3yrsuq+Vr75LQQ7+xx9/tJo1a1r58uVLHd+8efPstttus9GjR3uaw4svvmhjxoyxBx54wGrXrm3Lly+3Cy64wFq1auUEbK8i+KJFi+zWW2+1Nm3axPvt37+/zZkzx2688UZEcE+rEdJKHIaI4CHd2kyrgAhwzhTQYjAUTwSS/a8Lyfok1QTyFWP4hHvaTlQKAYF8xVgI0DEFCHgiQIx5wkQlCGRNgBjLGl1OH9z07UxbPe70eJ/lq9e3Kj2HW4UG7XwZx/PPP2/KtN64caP9/ve/t5tvvtn9/uijj9pnn31m69ats2+++cZ9ftddd9nSpUtt4MCBpizq7bff3j376aef2h133GGJmeBvvvmmE7s3bNhgu+66q40YMcLVP+yww2zFihXWsmVLW7lypZ111lnWs2dPN5cpU6bYnXfeac8991x8biNHjjSJ69ddd138Z8uWLXNCe40aNTyL4I0aNXIZ41dddZVrR30feeSRtttuu7kxkAnuy3YqzkY4DBHBi3PnMupiIsA5U0yrxVh18eWVoyfHQRTDBZD5jjF8wombsBPId4yFnS/zgwAxxh6AQLAEiLFg+ZbW+rr3RmXU8YZ5E2zLyoUlnilXuZpVbH1SRu1U7th/q/oSo/fff39TtrWEagnEsgu59tpr7fHHH7e7777bfVarVi27+uqrneh80UUXOUH7d7/7nZ100kl2zDHH2DPPPOOytGMiuCxLDjnkEHviiSescePG9vDDD9usWbOciP7qq6/auHHjXCZ44s81uCuuuML+8Ic/OFE6Vj7++GM75ZRT7OSTT3Y2KM2bN7cKFSrEP/eaCX7GGWfYNddcYxLn9bzsVT755BMn9J977rmI4BntppBV5jBEBA/ZlmY6BUiAc6YAF4UhbUUg1cWXxeJ1XQgxlmyP0rd7c5N3OgUCYSBQCDEWBo7MAQKlESDG2BsQCJYAMRYs39Ja//n2FnnpuNpFs1P2+8svv9gOO+zgPlN2t8RheWRLBJ82bZqNGvWraP/YY4/Z3LlznXXI6tWr7aijjrJddtnFZXEfd9xxrk5MBJ8+fbpr68EHH3Q/V/127dqZBG35csdE8MWLF9tBBx1k77zzjssS79y5sz399NNOkE8sn3/+uctMf/fdd10Gt/q89NJLM8oEl3WKLFXkD/7nP//ZTj/9dGerIosURPC8bMnC6ZTDEBG8cHYjIwkrAc6ZsK5seOZV6BdfpiNdKDEmIVwsJ89aYLKQKbQLRNNx5HMIINCxByCQHwKF8h7Lz+zpFQLBEyDGgmecqgc/MsHL1/6jbbdHZncSpcoE37x5s8v2njp1qhuqMsPr16/vMrQlgn/00UfuckmV5D/ffvvt9sgjjzihXAJ2ogiuiy+V9S1/8FjRpZb6+QcffBAXwfWZsrx79erlBPW//e1v7rNtlfnz57t6slmRyD58+HCX2a2LMhOLMtw1BtmuSPiWCL5w4UJ76623XN2+ffvaa6+95jLMEcHzEwsF0yuHISJ4wWxGBhJaApwzoV3aop9YYvayJiPRduDR7YtuXoUUY/iEF932YcAeCBRSjHkYLlUgUHQEiLGiWzIGXGQEiLHiWDBdivnLmL/EB+unJ7iyteXpLduS6tWr2wsvvOD8uNOJ4MrglojcoUMH23HHHV1WdqIIrr0l25N77rlnK8iJdij6UKK3fiYbFAnhp512Woln5BMuCxTZrcSKxPkBAwY48V5CuIR1zSNWJOZ37NjReYzXrVs3LoI3bdrUDjzwQDvnnHNsyZIldvHFFyOCF0cYBDtKDkNE8GB3GK1DgBhjDxQegWK7+DIdwUJ8lyd6qysrvFisZdKx5vNoEijEGIvmSjDrsBIgxsK6ssyrUAgQY4WyEunHISF80zfv2+afF1rlDuemf8BjDWV3S0iWgCybEV14KeuSp556apuZ4LIRkch8xBFHuIsuZZmy9957l/AE12dPPvmk7b777jZ79mybMGGCDRkyxCZNmuRsScaOHev8x9Vv165dXTa5rFB0KeeMGTOcKK82L7vsMldHF2NKCNd/X3/99bZmzRrTpZnfffedG4f8zGWTsnz5cpcdvmnTprgwHssEb9u2rcsIf//99514vtdeeyGCe9wroa7GYYhAF+oNzuQKggDnTEEsA4P4HwFZdYx8ZkacRzFcfJlu8Qo1xpJ9wrFHSbeSfF6oBAo1xgqVF+OCQKYEiLFMiVEfApkRIMYy4xXG2suWLXNWID/99JPVq1fPZUYrw7pPnz5OcE5lh3LooYfanXfe6S7DLF++vMsel1+3hPN9993XJk6c6NrSBZS33XabrV271nmOSwCXCL106VJ3maasWGRNotK/f38nXks0V9E4dKGmxiaxW77d8hKXQC+xXFYnErOVha4iUVu2LZ9++qn7vEePHnbJJZdYtWrV3OeJIriyw9WeLvxUwQ4ljDs7wzlxGCKCZ7hlqA6BjAlwzmSMjAcCIJB88WXzhnWc9YmylIu9FHKMYY9S7LuL8YtAIccYKwSBMBAgxsKwisyhkAkQY4W8OtEam7K4mzRp4sRqijcC5ZRGb2buf1S2bNmyxduj1EomwGHI/7EhKiAQNAHOmaAJ0346AsV+8WW6+RVDjCWugb6AGHFmZhf8pGPA5xAIkkAxxFiQ86dtCARNgBgLmjDtR50AMRb1HVAY8//yyy+tX79+LjO7atWqhTGoIhgFIriPi8RhiAju43aiKQikJMA5w8bIFwH5Uo8cP8OUjawSBuuTVCyLJcaS7VHwCc9XZNBvpgSKJcYynRf1IVAoBIixQlkJxhFWAsRYWFe2eOYlW5Jnn33W+X137969eAZeACNFBPdxETgMEcF93E40BQFEcPZAQRAI28WX6aAW07scn/B0q8nnhUigmGKsEPkxJgikI0CMpSPE5xAoGwFirGz8eBoC+SSACO4jfQ5DRHAftxNNQQARnD2QdwKJthsaTFizvxNBF9u7HJ/wvIcJA8iQQLHFWIbTozoE8k6AGMv7EjCAkBMgxkK+wEwv1AQQwX1cXg5DRHAftxNNQQARnD2QNwJhvvgyHdRifZcne7Vjj5Jupfk8XwSKNcbyxYt+IZApAWIsU2LUh0BmBIixzHhRGwKFRCD0Ivi8efPswgsvtC5dutjQoUPj7I877jjTZ/+7GNSqVatm7777rvv87bfftuHDh9uSJUusdevWdvPNN1utWrVswIAB1rNnTzviiCMQp0rZxbwQCim8GUsYCRBjYVzVwppTspg6sE97a96oTmENMsDRFHOMJdujRG3tAtwWNO0jgWKOMR8x0BQEAiNAjAWGloYh4AgQY2wECBQvgVCL4B9++KEzim/cuLETuRNF8IMPPtjuuusu23PPPUus3sqVK61Hjx52++2323777WcynF+0aJHdcccdiOAe9jkvBA+QqAKBMhAgxsoAj0e3SSAqF1+m2wbFHmMSwvVFxuRZC6xOzR2sW5uG1rd783TT5nMI5IxAscdYzkDREQSyJECMZQmOxyDgkQAx5hEU1SBQgARCLYJ/9dVXVrt2bXvkkUds6dKlJUTwzp072zPPPGP16tUrsSwTJ0608ePH2+jRo93Pf/75Z5dFroPuoosuimeCv/POOzZs2DB78sknbeedd3Z1OQxhUIAxzpBCRoBzJmQLWgDTSbY+kXAa5QziMMQYPuEFEFgMoVQCYYgxlhcChUyAGCvk1WFsYSBAjIVhFZlDVAmEWgSPLeq99967lQjesmVL23///W3WrFm200472aBBg+yAAw6w++67z9UdMmRIfE9IMH/iiSecLYrsUFq0aGFnnHGGPfDAAyUyyTkMEcGjepAw79wR4JzJHeso9BTFiy/TrWuYYgyf8HSrzef5IBCmGMsHP/qEQDoCxFg6QnwOgbIRIMbKxo+nIZBPApEUwTdv3mxXXnmlHXTQQS7LW1ndEsFfeuklGzt2rG3cuNEuueSS+Lp0797dWafcc8891qlTJ5f9fcUVV7j/Tiw6DBs1apTP9cx737KgkY86BQIQCIYAMRYM16i1+tPqDfbwq5/YnAWL3dQb77KjDT6uXdQwpJxv2GJMWeE3PjXTVqzeGLdH6dGy5L+CY+EhkEsCYYuxXLKjLwh4IUCMeaFEHQhkT4AYM3dnHgUCxUggkiJ4qoU69dRTrU+fPrZw4UL369prr41Xkzf4uHHjXCb4zJkzbcuWLU4IT/YTlwge9cNg9uzZLlOeAgEIBEOAGAuGa1RalSA6de5Ce+fT5W7Ksj454c972O61qkQFQdp5hjHGJIB//PXP9uzUL2zH7bezfXarZr07N07LggoQCIJAGGMsCE60CYFsCRBj2ZLjOQh4I0CMWeSTP73tFGoVIoFIiuBr1qyxzz77zFq1ahVfk5NPPtlOOukkK1eunD322GPul8qSJUvcRZkSvy+88ELbe++9rW7dui5j/Omnn7YKFSrE2+CfxWCHUohBzpjCRYBzJlzrmcvZ6OLLK0dPjnd5fPfmXJiYYgHCHGOJ9ijNG9axEWd2y+UWpC8IOAJhjjGWGAKFQIAYK4RVYAxhJkCMhXl1mVvYCURSBF+5cqXz/77zzjtNft9Tp061iy++2HQpZpUqVZxNyi233GLt2rWzG264wVatWuWywAcMGBC/GLNfv35ORD/vvPMQwROihBdC2I8M5pdvAsRYvleg+PpPdfHliH7dXBY4ZWsCYY+xxC9DtAfYC0RBrgmEPcZyzZP+IJBMgBhjT0AgWALEWLB8aR0CQRIItQguAVu2JZs2bXIMlbV9zDHH2NChQ50P+E033WQ//PCDNWjQwAYPHmzt27d39aZPn25XX321LV682GSFono1atQoIYIvWrTIevfubWPGjLGmTZu65zgMYRBksNI2BDhn2AOZEki+GLFbm4Zkf6eBGIV3ub4Y0b8K0O8SwtkXmUYW9ctCIAoxVhY+PAuBshIgxspKkOchsG0CxBg7BALFSyDUIniul4XDEBE813uO/qJHgHMmemuezYwTRU49j/WFd4pRiTHtkUmzFtjYSXMcHOxxvO8RapaNQFRirGyUeBoC2RMgxrJnx5MQ8EKAGPNCiToQKEwCiOA+rguHISK4j9uJpiCQkgDnDBtjWwSShU1l+Q7s096aN6oDOI8EohZjyf9aAHsUjxuFalkTiFqMZQ2KByGQJQFiLEtwPAYBjwSIMY+gqAaBAiSACO7jonAYIoL7uJ1oCgKI4OyBjAhMnrXARj4zI/4Mmb0Z4YtXjuK7PNkeBSE8u73DU94IRDHGvJGhFgT8IUCM+cORViBQGgFijL0BgeIlgAju49pxGCKC+7idaAoCiODsAU8Eki++lPXJwKPbc/GlJ3pbV4rquzxxH+ETnuXm4TFPBKIaY57gUAkCPhAgxnyASBMQ2AYBYoztAYHiJYAI7uPacRgigvu4nWgKAojg7IG0BLj4Mi2ijCtE+V2OT3jG24UHsiAQ5RjLAhePQCBjAsRYxsh4AAIZESDGMsJFZQgUFAFEcB+Xg8MQEdzH7URTEEAEZw+USmDO/MU2cvwMk2ipgvWJf5uFd7kZPuH+7Sda2poAMcaugECwBIixYPnSOgSIMfbAJ598YgMHDrTXXnttKxgPPfSQzZ8/34YPH54VqEceecS++OKLrJ9Xp2+88YaNGjXKvv/+ezeGFi1a2NChQ61Bgwb26quv2gMPPGDjx48vMb7Bgwfb7rvvbueee66dcMIJ9sMPP7h2ypUrF6/30ksv2aBBg0xz7NSpU1bzy/dDiOA+rgCHISK4j9uJpiCACM4e2IoAF18Gvyl4l//KONknvG/35tatTcPgF4AeQk+AGAv9EjPBPBMgxvK8AHQfegLEWPEs8cYlS+yXt9627WrXsspNm9p2tWv7MvhtieBr1qyxTZs2WdWqVbPqK1MRXH1VqFAh3tfChQvtyCOPtDFjxjjxe/369Xb77bfbrFmz7KmnnvIsgi9atMhuvfVWa9OmTbzt/v3725w5c+zGG29EBM9qdUP2EIchInjItjTTKUACnDMFuCg5GlJidq66JPs7GPDE2G9cE790wSc8mP0WxVaJsSiuOnPOJQFiLJe06SuKBIix4lj1tfPm2eLrfsvGlgC+07lnW5WmTcs8gZgI3r17d3vllVesYsWKNmzYMGvfvr3Lko5lgktAVmb11KlTbfHixXbcccfZqaee6vrXc3fffbdt3LjRateubddee601atTIEkXw2bNn2zXXXGMrV660ypUru2xu9TFv3jy74oorrHHjxi5j+9FHH43P6b333nNtqf1YWbdunS1dutR22WUXzyK4xlKpUiW76qqrXDMag8T13Xbbzc466yxE8DLvohA0wGGICB6CbcwUCpwA50yBL1AAw+PiywCgpmhy88rvbP30e231l1Nt+z07W6UO51r56rvkpvMC7iX5Xx8oG1wXr1IgkC0B3mPZkuM5CHgjQIx540QtCGRLgBjLllzZnlvxTEn7jnStKQNcmeCJpfz221u1Qw5O92iJz3c8us9W9SWCH3300U747t27tz3//PN27733OoE5UQRv166dnXTSSc46ZcmSJXbQQQfZyy+/7Nrr1auXjRs3zlmQPP300/bMM8+43xNFcLX917/+1YnPsiKRaD5x4kT7/PPPnaA+YsQIO+SQQ0qM75dffrHDDjvMWrdu7Z5r27at7bDDDvE6Xu1QzjjjDCfAv/nmmy7TXPYpmvdnn33mhH3sUDLaRuGszGGICB7Onc2sCokA50whrUbwY0n2ZsaSIjjmv4zpaZtXLox3UL56fdvhjFeD67DIWpYP/ZWjJ7tRKyt8RL9u7ncKBDIlwHssU2LUh0BmBIixzHhRGwKZEiDGMiXmT/2vjz/Bn4YybGW3sf/Y6gmJwfLNfv/9951ALMuRli1b2rRp0+y5556LZ4JLBJeo3fR/2ecnnniiE7V//vln57d93333ubaVqa3nZ86cac8++2zcE3zt2rUuy1x9SETv2rWrsyORZ/gxxxzjLE7Kly+/1fiWLVtmf//7352Araz0Dh06OC/vvffe23MmuOrLO1zz/POf/2ynn366XXDBBc4iBRE8w00U1uochojgYd3bzKtwCHDOFM5aBDkSLr4Mku7WbW+YO8HWvjZkqw+qHDTcKjbrldvBFHBvyT7hygrXFzMUCGRCgPdYJrSoC4HMCRBjmTPjCQhkQoAYy4SWf3X9yASvuPvutn27fTMaVGmZ4PLHnjJlSrytVq1a2YQJE2zSpEklRHBlicuGROXss882WagsX77cFixY4Ly1YyX2vITr2MWYyv7+xz/+4SxT9OvTTz+1uXPnus+VqVXTdqoAACAASURBVP3222+nnYsE8ccee8yefPJJN15Zs+jSTIn1ieX//u//bK+99nJWJxK+JYLLX/ytt96yyy+/3Pr27esuAj355JMRwdNSj0gFDkNE8IhsdaaZRwKcM3mEn4OuJTIq+3vyrAWuN2XaDuzT3po3qpOD3qPbxS/jTrfN387cCkClfc+wyl0ujC6YFDNPtkfBm57tkSkB3mOZEqM+BDIjQIxlxovaEMiUADGWKbH81JcVysLzB8Y799sTXGKwMrfLlStnGzZssH322cemT5/ubENinuDKBFdGdrNmzdw4jj/+eCder1ixwgnKyrRW0WWasi/54IMPnC2KRO7zzz/f2acoM3yPPfaw77//3gnoMRG8X79+TqBOLsoUV3Z4LPtcn2/ZssW1L+Fb3t5nnnmmyTs88ULNo446yo1NVioxEVxtHHjggXbOOee4TPSLL74YETw/27kwe+UwRAQvzJ3JqMJEgHMmTKtZci5cfJn7tV333ijnA262xczKpRjAFqvY9Eir1LG/yR6F8huBZKse7FHYHV4J8B7zSop6EMiOADGWHTeegoBXAsSYV1L5rychfN28ebZxyVJLldGd7Qhlh9KnTx8bOXKk9ejRw/75z3/a/fffby+++OJWnuASl3WJ5TfffGOHH364vf7667Zp0yb33xK85Qn++OOPu4ss9XvME/yUU05x1ikSuiVW33bbba7tDz/80LWVKILPmDHDqlev7uxOJMJrLHfeeac1adLEZZA/9dRTznpFmeASyOUVvt9++zmhXX/WxZqqI79x+YfHRHD5iSsjXLYvDz74oMsUJxM8210Twuc4DBHBQ7itmVKBEeCcKbAF8WE4qS6+HHFmNx9aponSCEj83jhvQtwDXAJ3xTYn2YZZj7ufla9a1yrs1sE2zJvgmtDn2zXtZZU79gdqAoFkexSEcLaHFwK8x7xQog4EsidAjGXPjich4IUAMeaFUrjrKBv7sssusy5dujhhWdnguqSyTZs2W4ngyqKWJcqqVatcBrYEZhVdUHnXXXe5LPL69evbddddZ7vuumuJizEHDx5s2m81atSwSy+91F2MKQFddRNFcGVoN27c2NmUqMj+ZOzYsS57W57iLVq0cFncErFVlFWu8crDXFniGrcsT5RxrpIogmt+8gGXwK+CCB7uvZ3R7DgMEcEz2jBUhkAWBDhnsoBWwI8kZ9NifRLsYm36dqatfXVICfFbWd4Vm/7m+50YYxLEN8x9/n/Z4ojhqVYHn/Bg92wYW+c9FsZVZU6FRIAYK6TVYCxhJECMhXFVg5mT7FAkHtetWzeYDmg1YwLl9I1F4r8B3qKvAShZEeAwRATPauPwEAQyIMA5kwGsAq6qiy+vHD05PkJ8lYNdLInZEr8lgqtsK7M7VYylev53xzyMRcr/lg2f8GD3b9ha5z0WthVlPoVGgBgrtBVhPGEjQIyFbUWDm49EcFml1KtXL7hOaDkjAojgGeHadmUOQ0RwH7cTTUEgJQHOmeLeGMnWJ1x8Gex6ZiJ+x0ZSWozFssJjNipYpGy9dviEB7ufw9I677GwrCTzKFQCxFihrgzjCgsBYiwsKxn8PBDBg2ecaQ+I4JkS20Z9DkNEcB+3E01BABE8ZHsgWSDs1qah9e3ePGSzLIzpSLBe/96orDy9073LsUjZ9hon26Noj2uvUyCQ7osmCEEAAv4QSPce86cXWoFAdAkQY9Fde2Ze/AQQwX1cQw5DRHAftxNNQQARPCR7gIsvc7eQZRG/MxXoUmWZV+k53Co0aJe7CRdoT9rz+tJn8qwFpn/twBc+BbpQeRoWf1/OE3i6jQwBYiwyS81E80SAGMsTeLqFgA8EEMF9gJjp/3H2scuCa4oXQsEtCQMKGQFirHgWNNknGeuT4NYuOTtbPVXqcK5V7tg/404zjbEN8ya4rHONQUWXbOqyTdmlRLngEx7l1d/23DONMUhCAAKZESDGMuNFbQhkSoAYy5QY9SFQOAQQwX1cCw5DMsF93E40BYGUBDhnimNjcPFlbtbJT/E7NuJsYgyLlNLXW9ngI5+Z4Sroi6AR/bq53ynRJZBNjEWXFjOHQOYEiLHMmfEEBDIhQIxlQou6ECgsAojgPq4HhyEiuI/biaYggAhehHsg1cWXiH7+L2Rp4nfFZkeWOQO7LO/yVGK4ssKVHR7lkuwTjj1KlHcDf1eM9uoz+1wQKMt7LBfjow8IFDsBYqzYV5DxR5kAIriPq89hyP+x8XE70RQEEMGLbA9w8WVuFmzde6Ns/fR7453Jg1te3H7Zj/jxLpcYvmbcaVikJGwJ7FFyEx/F0IsfMVYM82SMEMgXAWIsX+TpNyoEiLGorDTzDCMBRHAfV5XDEBHcx+1EUxBABC+SPZCY5aohK8t14NHti2T0xTPMZPFboncQF1H69S7HIiX13kr8sqh5wzo24sxuxbMJGakvBPyKMV8GQyMQCCEBYiyEi8qUCooAMVZQy8FgIJARAUTwjHBtuzKHISK4j9uJpiCACF7ge4CLL3OzQBK/N86bEM+qDkr8js3G73c5YvjW+yTZHgXLoNzEUqH04neMFcq8GAcECoUAMVYoK8E4wkqAGAvryjKvKBBABPdxlTkMEcF93E40BQFE8ALeA4mX/WmYx3dvbn27Ny/gERff0DZ9O9PWvjqkhPidC3/toN7lEsM1H81LJWgxv9BXHJ/wQl+h4MYXVIwFN2JahkBxESDGimu9GG3xESDGim/NGDEEYgQQwX3cCxyGiOA+bieaggAieAHugeSLL2XnIOuTOjV3KMDRFueQUonf2zXtZZU79s/JhIJ+l2+YN8HWvzfKifsSwnM5t5wAzKATfMIzgBWiqkHHWIhQMRUIZEWAGMsKGw9BwDMBYswzKipCoOAIIIL7uCQchojgPm4nmoIAIniB7QEuvgx2QVJlSudDIM7FuxyLlJJ7KTm2sEcJNtby3XouYizfc6R/COSTADGWT/r0HQUCxFgUVpk5hpUAIriPK8thiAju43aiKQggghfIHpgzf7GNHD/DlLWqgvWJvwtTKOJ3bFa5fJdjkfLbXsIn3N+4KuTWchljhcyBsUEgKALEWFBkaRcCvxIgxtgJECheAojgPq4dhyEvBB+3E01BABE8z3tAopwyVOX/rSLLk4F92lvzRnXyPLJwdC8BWLYgsgdRKRRrkHy8yxMtUsSiYtNeJv9zMYlSSYw5xVu3Ng3x2g/hBshHjIUQI1OCQKkEiDE2BwSCJUCMBcuX1iEQJAFEcB/pchgigvu4nWgKAojgedwDifYMGgbZ3/4tRrIViFqu1OHcnHl+p5tJvt7lWKT8ujL4hKfbocX/eb5irPjJMQMIeCNAjHnjRC0IZEuAGMuWHM9BIP8EEMF9XAMOQ0RwH7cTTUEAETwPe4CLL4ODXujid2zm+X6XpxLDlRWu7PAoFXzCw7va+Y6x8JJlZhD4lQAxxk6AQLAEiLFg+dI6BIIkgAjuI10OQ/7S5eN2oikIIILneA8ki25Yn/izAKWJ3xWbHVmQdh+F8i4XtzXjTjP9rlKhQTur0nN4QTLzZ6ds3UqyTzj2KEGRzm27hRJjuZ01vUEgdwSIsdyxpqdoEiDGornuzDocBBDBfVxHDkNEcB+3E01BABE8R3uAiy+DAZ1K/C4GIbeQ3uVYpJS0R8EnPJhYzXWrhRRjuZ47/UEgFwSIsVxQpo8oEyDGorz6zL3YCSCC+7iCHIaI4D5uJ5qCACJ4wHsg2fqEiy/9A77uvVG2fvq98QaLQfyODbYQ3+WI4eYuqR07aY5bpuYN69iIM7v5t2FpKacECjHGcgqAziAQMAFiLGDANB95AsRY5LdA1gCmTZtmjRo1snr16tlDDz1k8+fPt+HDh2fdXuKDjzzyiH3xxReuvdatW9vEiRNdP36XxH6ybfuNN96wUaNG2ffff++aaNGihQ0dOtQaNGhgr776qj3wwAM2fvz4Es0PHjzYdt99dzv33HPtjjvusPvuu8/Ujp6JlcWLF9sBBxxgZ511ll144YUph4cInu2qpXiOwxAR3MftRFMQSEmAc8afjZFsfYLNgj9ck8Xv8tXrOwsPieDFUgo5xiSGr311iG36dqbDWYx8y7IP9K82rhw92TWhL61G9OvmfqcUF4FCjrHiIsloIZCaADHGzoBAsASIsWD5+tn68jWr7YPvvrUav/ud7bHTzlbzd9v72XzGbfXv39/OPvtsa9mypa1Zs8Y2bdpkVatWzbidVA8kitM//vij1axZ08qXL1+mtjW+ChUqlGgjUxE8uY2FCxfakUceaWPGjHHi9/r16+3222+3WbNm2VNPPeVZBJ8wYYIdd9xxds4558TH9/e//919udC7d29E8DKtvMeHOQwRwT1uFapBIGsCnDNZo3MPprr4kozSsjHV0xK/N86bEPevLmZxthhibMO8Cbb+vVGOt1hv17SXFarHetl3V8kW8An3m2ju2yuGGMs9FXqEgH8EiDH/WNISBFIRIMaKY1/MX/aj3f+vafHBSgA/tkUra7TTzr5M4M0337TbbrvNNmzYYLvuuquNGDHCateubVu2bLEbb7zRJk2aZJs3b7b99tvPfSZx9q677rK6devapZdeat988008E1x1Bg0a5ATgb7/91vr06ePEchVlRT/55JO20047OdFXGdCTJ0+2devW2RVXXOHE49///vfWtGlTW7t2bYlM8J133tmuvPJK+/DDD53g3qZNG/d5lSpV7JVXXrG7777bNm7c6MZ97bXXuiz1hx9+2D7//HP75JNP7M9//rNJuC+tn19++cWuu+46+/e//20VK1a0k046yY4//nibN2+ee6Zx48b2ww8/2KOPPhpn/t5777m+1H+saC5Lly61XXbZxbMIrvrq98UXX4y3c+yxx7pscbVDJrgv23zbjXAYIoLnYJvRRcQJcM5ktwEknE2atSBup4D1SXYck59SRrIyk2OXN0qQrdSxv1Vs2sufDvLQSrHEWJQtUpLj+fjuza1v9+Z52C10mQ2BYomxbObGMxAoBALEWCGsAmMIMwFiLD+r+/qXn2XU8QfffWPL16wp8UyV7Spa5z80zKidHnv+cav6EmAPOeQQe+KJJ5zQK+FYYrRE7ilTptitt97q7DzKlStnxxxzjLPnOPTQQ+2www5zgrgywRPtUDp06OAE7osuusiJxgceeKBpnylr+oQTTrCXXnrJdtxxRzvvvPNswYIF9tprrzlhXAKwBObVq1c78Vk2KIl2KB999JHLrlbWtcT5W265xXr06OFE8169etm4ceOcaPz000/bM888435//PHHnVWJnpO4v61+brjhBlu+fLnddNNNtmLFCife33PPPS4DXfPRXMUpsUg4FweNVRnhbdu2tR12+O1fdnq1Q6lcubLjcP3119vee+/tvlQQH81Pwj4ieEbbPLvKHIaI4NntHJ6CgHcCnDPeWcVqJloo6GcIZpkz9CJ+Kxu5csf+ZW88zy0UW4xJDFdWuLLDVYo5Cz/TpU+2NcIeJVOC+alfbDGWH0r0CoHsCRBj2bPjSQh4IUCMeaHkf53LXvmn/416aPGmvxy+Va3nn3/eCdMPPvig+0widLt27ezjjz92ArCsTrbf/lfrlauuusplJiuze1siuERxZXOrKDP82WeftXfffdemTp3qxHUV9Tly5Egn/l588cW2zz772Kmnnuo+U1b6smXLSojg3333naunzOuOHTuahGMVCd7y01ZWuYoysSXMz5w502Qzoiz30aNHu8+21Y/Eegn+elbl5ptvdvPu2bOnE//1xUAqSxaNU9Yl6ke+6PoSQJnwErMzEcErVark5nzJJZe4uehLB2XmI4J72Nh+VOEwRAT3Yx/RBgS2RYBzxvv+SHXxJSKZd36paqbypA6L+B2bb7HGWKJFiuaibHxl5UsUD3NJtkchxgt/tYs1xgqfLCOEwK8EiDF2AgSCJUCMBcu3tNb9yASvX626Na2b2WWRqTLBY9Ym8t2OlVWrVtnLL7/sRF+JwRJ3JcrK3kQ2IbrQcVsiuDKvlZWtIlFYf5ZliDKcY5dnytbksssucyL46aefbocffrgdddRR7hlleytLPPliTInKyliXvcnBBx9sl19+ucseV13ZtsRKq1atnAD+zjvvOJuRv/3tb+6jdP1Ur1497hsuf29lfksAP+OMM+ztt99Ou1kkYj/22GMu41xZ9BL9lYn+3HPPlXj2//7v/2yvvfZyWfW6GFOCvubet29fZw+jzPZ7773XPYcInha7PxU4DPlLlz87iVYgUDoBzhlvu4OLL71x8lorCuJ3jEUxx1hULVISv/CS1REX3XqN7PzUK+YYyw8xeoVAZgSIscx4URsCmRIgxjIllp/6uhTzxrcmxTv30xP8hRdecBnLsv5ILsr8lhgsKxBdKjlkyBCXCZ6NCC5BWPtN2d8qEtklAEsEl3WKhOtTTjnFfSZLkp9//nkrETw2vpUrV7pnOnfubNWqVXNtyG9cRZnrsif54IMPnIgsGxVZp6hsq5+DDjrIjU0Z3Inliy++sH79+tlbb721FZ85c+a4LwpiWe+qIKsW9a++Nc4zzzzT5B2eeCmnBG8J6/oiISaCi+nJJ5/sxHBZuYwdOzbuc44dSg7ijsMQETwH24wuIk6Ac2bbGyAxK1Q1JYYNPLp9xHdN9tNPZbURtszvZDphiLEoiuH4hGcf57l+Mgwxlmtm9AeBTAgQY5nQoi4EMidAjGXOLF9PSAj/z7If7ac1a+zAPffybRjyBD/iiCNc9rKyt2fPnu2yqCV4X3DBBU7QPe200+zTTz91PtXKwJbdh8Ra2Yt06dJlK0/wVJngEoRloyLxu2rVqi4LWpnlErAfeeQRe/31152tiMRveXDLRiUxE1yfy6t7wIABbu4a3x577OGytZVFLlsUjV8+4Mo61+/6lSiCb6sfZZJLQL/mmmvcxZvKHle7silJFMGVFa9x77///s4r/f7777c777zTmjRp4rK2NXfZmSgTXAK5vMI1l/PPP9/9WZnrqjNx4kTnH54oguvnyhyXcK6M+9hln4jgvm330hviMEQEz8E2o4uIE+CcSb0BuPjS38BIFlHVeqUO54bC8zsdqTDFWKoM/t8d83CoLVLwCU+3w/P/eZhiLP80GQEEtiZAjLErIBAsAWIsWL7F0rr8rOXDvXbtWifMSmDWJY8xy5KKFStaixYt3CWXV1xxhcvUnjdvnrtEUwKtssUlDku0jtmfJNuh6M96Tl7gscssJXpLBJf4fOmll7r+6tev79pYvHixsziRCC/BWJYhsj/57LPPnJis8egiSfl2K5NdXuPy0Nbz1113nbsIM1kE31Y/uuRy2LBhzvtbYnbXrl1df7JaSRTBlaGt/jR3Fdmf6GdLliyxGCd9OSC7E5Xvv//eZdJPmzbNZYm3adPGtSsBXyVRBJfIL3F90qRJVqtWLUTwXAYQhyEieC73G31FkwDnzNbrPnnWAhv5zIz4B1x8mX1sRFn8jlELW4xFNSv8ytGTTV+OyR6lb/fm7l+FUAqDQNhirDCoMgoI/EaAGGM3QCBYAsRYsHxpvSSBzZs3xy+X1N6TTcm4cePAlCWBcjJqNzP3PypbJLNTsiLAYYgIntXG4SEIZECAc+Y3WMkXXzZvWMdZn0j0omRGoDTxu2KzI0OdNZyKUlhjLGpieOK/DsEnPLPzIOjaYY2xoLnRPgS8EiDGvJKiHgSyI0CMZceNpzInoEsje/To4axA9txzT5dRrqzzK6+8MvPGeMIRQAT3cSNwGCKC+7idaAoCKQlwzvyKhYsv/QmQVOJ3hQbtrErP4ZETv2NEwx5jqSxStN5a97CVZJsk7ggojBUOe4wVBmVGEWUCxFiUV5+554IAMZYLyvQRI6ALH+WhrYxwXSYpm5AaNWoAKEsCiOBZgkv1GIchIriP24mmIIAInoLAnPmLbeT4Gc7mQAXrk+wDZd17o2z99HvjDURd/I6KCB6b54Z5E2z9e6NMorhKxaa9rFLH/qH88kPnhuxRVJQVPqJfN/7FSPZHR5mf5O/LZUZIAxDYJgFijA0CgWAJEGPB8qV1CARJABHcR7ochojgPm4nmoIAIngCAS6+9C8gksXv8tXru8zvMGYCZ0MtSu/yKFmk6AxJ9AlXVri8wim5JxClGMs9XXqEAP9/jD0AgaAJ8B4LmjDtQyA4AqEXwXX7qm5e7dKliw0dOjRO8uuvv7bBgwe721kbNGjgbmRt1aqV+/ztt992f9ZNpbpV9eabb3a3jA4YMMB69uxpRxxxBOJUKXuSF0JwwUrLEBCBKMZYovWJGJD9nV0sSPzeOG9CPPMX8Ts1xyjGmMRwZYUrO1wlrHsj+cs0zpLszpKyPhXFGCsrM56HQCYEiLFMaFEXApkTIMYyZ8YTECgUAqEWwT/88EO77rrrrHHjxlatWrUSIviJJ55onTt3tjPPPNOmTJnifHXeeOMNW716tTOev/32222//fazW2+91RYtWmR33HEHIriHXcsLwQMkqkCgDASiFGNcfFmGjZLw6KZvZ9raV4eUEL9leyH7C8rWBKIUY8mzT94rYbVISfxijQt1c38KRDnGck+bHqNIgBiL4qoz51wSIMZySZu+IOAvgVCL4F999ZXVrl3bHnnkEVu6dGlcBP/xxx+d0D1z5kyrUKGCI9q7d2+7/PLLXb3x48fb6NGj3c9//vlnl0Wug+6iiy6KZ4K/8847NmzYMHvyySdt5513dnU5DGHgb3jSGgSiK9AlX3w5sE97a96oDlsiAwLK7l0z7rQS4vd2TXtZ5Y79M2glelWj/i6PikVKsj0KPuG5i/Wox1juSNNTVAkQY1FdeeadKwLEWK5I0w8E/CcQahE8huvee+8tIYLPmjXLrrnmGnvhhRfiRAcNGmTt27e3ZcuWubpDhgyJf6aM8SeeeMLZosgOpUWLFnbGGWfYAw88YHvuuWe8HochIrj/IUqLEChJIOznDBdfln3HS8RU5reyelVkbYH47Z1r2GPMK4koiOH4hHvdDf7WI8b85UlrEEgmQIyxJyAQLAFiLFi+tA6BIAlEUgSfNm2aszsZN25cnK2ywP/4xz/a8uXLbePGjXbJJZfEP+vevbvdddddds8991inTp1c9vcVV1zh/jux6DCU7UqUy9y5c61Zs2ZRRsDcIRAogbDG2IrVG+2Z6d/aF9+tcPx23H47O7pjA2tcf8dAeYap8UrrfrRa30yw8l++4qa1oXIt+6lOJ1vX7KQwTTPwuYQ1xrIFt2XlQtt57r22/YrPXBP6UuX7tkNtfeVf/xVcsZfFP/1iM7/40d75dLmbyqHtdrMuTWoW+7QKevzEWEEvD4MLAQFiLASLyBQKmgAxZrb33nsX9BoxOAiURiCSIri8wiViT5w4Mc7l/PPPd7YnEsEXLlxo1157bfwzeYNLMFcmuCxUtmzZ4oTwxCxwVZYI3qRJk0jvNmXZt2nTJtIMmDwEgiQQxhgbO2mOvTTz6zg2XVYnIYrijYBEynXT77XffTPZPRDL/Eb89sYvuVYYYyw7Er89pS9Yyn05MX6xqr5g2bznX6xSh3PL2nTBPK8zSGeRir6Eu+qvf7I6NXYomPGFaSDEWJhWk7kUIgFirBBXhTGFiQAxZla9evUwLSlziRCBSIrgErq7du1q06dPtypVqrjlPvjgg2348OEmv/DHHnvM/VJZsmRJ3D/8wgsvdN941a1b18aOHWtPP/103FNcdflnMTCI0NnBVPNEIEznTKqLL0ec2S1PZIuv22S7Cs1AoiSe32VbyzDFWNlIbP102C1Sku1R+nZvbt3aNPQbY+TbI8YivwUAEDABYixgwDQfeQLEWOS3AACKmEAkRXCt1+mnn25t27a1s88+21555RVnj/Laa6/Z2rVr7aCDDrJbbrnF2rVrZzfccIOtWrXKZYEPGDAgfjFmv379rFWrVnbeeefFl5/DEBG8iM8Chl4kBMJwzkhomjRrQTzrsk7NHYyLL71vQMRv76yyqRmGGMtm3pk8k8p3vkrP4VahQbtMminIujqfdDHv5FkLTGeTRHCJ4RT/CBBj/rGkJQikIkCMsS8gECwBYixYvrQOgSAJhFoEl4At25JNmzY5hhUqVLBjjjnGhg4daosWLbJLL73UZs+ebbvttpsTu2Ne1soQv/rqq23x4sUmK5SbbrrJatSoUUIE1/O9e/e2MWPGWNOmTV37HIYwCDJYaRsCYThndPHllaN/te1QkfUJApO3vV2a+F2x2ZHOAoXiDwHe5d45bpg3wda/N8q0N1UqNu1llTr2L/r9mPxFHeeU9z3hpSYx5oUSdSCQPQFiLHt2PAkBLwSIMS+UqAOBwiQQahE818g5DBHBc73n6C96BIr1nEm2PlGG5Yh+3VymJSU9gXXvjbL10++NV1TGrTJvEb/Ts8u0RrHGWKbz9Kt+mC1SlA0+8pkZDhVnll87hr8r+keSliCQmgDvMXYGBIIlQIwFy5fWIRAkAURwH+lyGPJ/bHzcTjQFgZQEivGckbVA7MI57AUy29jJ4rdE77DYTmRGIne1izHGcken9J5SieHKCld2eDGXZJ9w7FHKvprEWNkZ0gIEtkWAGGN/QCBYAsRYsHxpHQJBEkAE95EuhyEiuI/biaYgUPQieKJ4pMk0b1jHuPjS28ZG/PbGKYhavMvLRlVi+Jpxp8UtUsLwrxawRynbnkh+mhjzlyetQYAYYw9AILcEeI/llje9QcBPAojgPtLkMEQE93E70RQEilYE5+LL7Dfvpm9n2tpXh8QFRGV+hyGbNnsiuX+Sd3nZmYfVIiXxX7XwpV72+4QYy54dT0LACwFizAsl6kAgewLEWPbseBIC+SaACO7jCnAYIoL7uJ1oCgJFKYIneuhqAlwo520jI35745SLWrzL/aMcRjE82R6Fuw0y3y/EWObMeAICmRAgxjKhRV0IZE6AGMucGU9AIWqUdwAAIABJREFUoFAIIIL7uBIchojgPm4nmoJAUYngyRdfKkty4NHtufgyzT6WSKjMb4ngKsr83q5pL6vcsT8RkCcCvMv9B59qnxeztz0+4WXbI8RY2fjxNATSESDG0hHicwiUjQAxVjZ+PA2BfBJABPeRPochIriP24mmIFA0IjgXX2a+WRG/M2eWqyd4lwdHesO8Cbb+vVHO7if2hU/FZke6/y62gk949itGjGXPjich4IUAMeaFEnUgkD0BYix7dlF98osvvrB+/frZW2+9tRWChx56yObPn2/Dhw/3Fc/jjz9uH330kd1yyy2+thtrLNtx33fffTZ+/HhbtWqVbbfddta9e3e7/PLLrXLlyjZs2DCrVKmSXXbZZSXG3K1bNzePVq1aWbNmzezII4+0G2+8sUSdq666yp5++mmbO3euVahQodQ5I4L7uB04DBHBfdxONAWBghfB58xfbCPHzzCJQSpYn6TftBL/JAJKDFQh8zs9s1zX4F0eLPGwWaQkfwmIPUr6/UOMpWdEDQiUhQAxVhZ6PAuB9ASIsfSMCqXGklWL7e3/TLZaVetY07rNrXbVOnkZ2rZE8DVr1timTZusatWqvo7Niwi+efNmK1++fFb9ZjPuF1980caMGWMPPPCA1a5d25YvX24XXHCBE7cHDRrkSQRv27at7bzzzvbyyy874VxF/A4++GBbvHixffDBB4jgWa1oFg9xGCKCZ7FteAQCGREohHOGiy8zWjJXOVn4088qdTgX25PMUQb+RCHEWOCTLIAOwmSRgk94ZhuKGMuMF7UhkCkBYixTYtSHQGYEiLHMeOWr9rzv59jw14bEu5cAfnanC6xpveZlHtKGDRvsyiuvtA8//NAJsG3atHGZ3FWqVLHXXnvNbr/9dlu9erW1b9/e/fyrr76yc845x44++mh75pln3DP6eefOnS2WUT148GA74ogj4mNbunSpnXrqqXbxxRfb559/bldffbUtW7bMCb8XXXSRde3a1WU9K2u6U6dONmfOHFu5cqUpI3q//fYzieCx8UkYluh89913W/369U1C8llnneUEaWWn//DDDzZ06FBTn9tvv70NGTLEWrdubZ9++qlpXAcccIATlyUyq17iuDWP2bNn2zXXXOP61/hUR3NPLiNHjrQff/zRrrvuuvhHmpOE+Bo1angSwTWuv/zlL6bscP2uojlMmDDBXn31Vfv4448Rwcu8wz02wGGICO5xq1ANAlkTyPc5k5j1qEmQ/b3tpUT8znqr5+3BfMdY3iaep44TLVI0hIpNe1mljv2LziJFQrjOR10OXKfmDtatTUPr273s/ycrT8sSaLfEWKB4aRwCRoyxCSAQLAFiLFi+pbU+/qOxGXWsDHBlgieW7SvtYAfvfXhG7fRpefxW9SW2PvXUU05E3rJli7Pq6NGjhzVo0MBZdYwbN87q1atnAwYMcAK5BOs+ffo4kbdXr17OtuO5556zJ598Mi6CJ9qhfPnll3biiSe6dtTm4Ycfbv3797dDDz3U9Nnxxx9vr7/+un3//ffWu3dvNw4J4ZMmTbKbb77ZicESwe+66y77xz/+YXvssYfLtFZbEtAlUGs8l1xyiZUrV861oTaPPfZYJ2hr3Grrv//9r5uPLEy6dOliL730kms3edx6/q9//aurqzoS2ydOnLgVNwnUp5xyip188snOBqV58+YlBGsvdij77LOP3Xnnnfbss8/aPffc4/rQFwEHHnignX/++dihZLS7y1iZwxARvIxbiMchkJZAvs4ZLr5MuzQlKpQmfher/3Fmsy/u2vmKseKmVrbRh8UiBZ9wb/uAGPPGiVoQyJYAMZYtOZ6DgDcCxJg3Tn7XOuHRI/1u0lN7//jr81vVU1a0MrSvvfZa69ixY9yW4/nnn3eZ4KNGjXLPyDJE/tTKBJfIrOdUPvvsM5cZPmXKlK1EcGWJS4yWsCwh/Ouvv3bisp6VYK1y3HHHuUxuZXVLfJ45c6b7uZ6VsDxt2jQnRr/77rt27733us8ee+wxJxDLS7tDhw52//33W8uWLW3RokV2yCGHuPZj1ijKWJewrOzsvn372vvvv7/Nca9du9YqVqzo5rpkyRIn+iszPVVRVvujjz7qxqbM8Z49e9qll17qORNcIvi///1v10fMEkVtSPjXfPAE97St/anEYYgI7s9OohUIlE4gH+dMsuetshuV5UjZmkAq8btCg3ZWpefwostsjer65iPGoso6ed5hEcPxCd/2jibGiHgIBEuAGAuWL61DgBjLzx7wIxN895oNbd/dtrbp2NaMUmWCq75E1yeeeMI++eQT50etyx2VdS3/7+RLG5M9wRP/nHzBpLKbJWo//PDDTvSW4KvsbQnmsXL22We7zGcJ3sranjx5cvwz+WvLGuSdd94pcTFmoke4RHBlsu++++5OrJaoXrdu3XgbEu9lb9KoUaMSF3qWNm4J7pr7xo0b3S/ZqEiMTld0Iejf/vY3k73Mgw8+6CxiJKSLZWLZf//9XVa75isRXG3LcqVFixZOPBebG264wZo0aYIIng66n59zGCKC+7mfaAsCqQjk8pzh4svM9uC690bZ+um/ftOugvidGb9CqZ3LGCuUORfaOCSGrxl3mvPSL9ZYSvYJxx7lt11GjBVaxDGesBEgxsK2osyn0AgQY4W2IqnHIyuUgc+eFf/QT0/wxB6VzSyRWj7ZNWvWdNnJuvhRRZ/98ssvtmrVKk9isgR1+YDLKkVZ3iqxTHBlY8cytZUpfu655zrLlZNOOsllakswX79+vROJZ8yYYf/85z89ieCyVJHdSiybPHFuXsR7WZAcdNBBzp5EtitqT1YnqURwidUSsuVPHisfffSRE/KnTp3qhHBlpMt+JVZWrFjhsu31bK1ateIiuOao+tWrV3fWLn/6058QwXMdmhyGiOC53nP0Fz0CuThnEr1tRVj+tgP7tLfmjfJzm3ahr3Ky+F2+en2X+S0RnFJ8BHIRY8VHJfcjDkNWeKI9Cj7hiOC5jyJ6jCoB3mNRXXnmnSsCxFiuSJe9Hwnh836YY0tXLbbSMrqz6UXWIhJnJd6q6CJJCcDy7D7ssMOcZ3bDhg2dZUqzZs2cdUe/fv3cBY4qqTKqdfGlbEgkah9zzDHxYclzXCK17FPUdkwolyf4d99955657bbbnK3ICy+84AT4F1980Xl3S2CWX7lKaZng+kzWK2eccYYbvy6qHDFihPMvV/vpxi2Pb1myaG7K4tZYlN2uSzl1UajGosxzCdiyWNEXA7oYU0K4/vv66693tjG6NFP96XJQXe6p+Sxfvtxlh8vmRcK4fo9lgm/evNnZuEj8Vx/qm0zwbHZzGZ7hMEQEL8P24VEIeCIQ9DnDxZeelsFVkvi9cd6EeLYq4rd3doVcM+gYK+S5F+LYwiCGJ56rzRvWsRFnditE1DkbEzGWM9R0FFECxFhEF55p54wAMZYz1AXbkcRZWXbI21vZ2bLlkJi7/fbbuwsh77jjDpcBrssqJeLKEzydmCyBW1ngibYkyqiWICwfbYnk6lfCsjy01bYE8QsvvNC6devmMqUlCEvA1mWcmYjgugBT/SiLW22cdtppzsPcSya45jd48GB3KbOsSTQ2XYwpwVpfBihDWxdZtm3b1ondt956q73xxhu2evVqx0tWJ7q0c8cdd3Trrax2CfeyVNHnunBUF3hWq1athAiuujfddJPLfpc1igoieI5DhsMQETzHW47uIkggqHMm1cWXURdqSttem76daWtfHVJC/K7Usb9VbNorgjsyfFMOKsbCRyq3M5IYrrhT/KkU25dOspe6cvSvfo3KCh/Rr5v7PYqFGIviqjPnXBIgxnJJm76iSIAYi+KqF+acJYIPHDjQXcZJ8Uag3P9uF/31ilEz26Jce0pWBDgMEcGz2jg8BIEMCARxziRf4ob1SeoF+f/2zgTejqq+4//sG4QkJGGLUNaSR5ClhBAERCIgbTGURdFqK4JSwJ1irWApGoqAFISyKaAtRZCAbVxKQZKasCQYiKDhBWQTgZANSEL25CX9/OZlbubdd++7c+89c2c53/P5vM97796ZM+d8/+d/zsxv/vOfSuJ337bJNmDi+XVYkE2zTiAJH8t6n/PUvo3t02zD7JtKN6H6H3Ge9TvglFy8eJY84Z0jDR/Lk8fR1jwSwMfyaDXanCcC+FierFXstiKC129fRPD6mVXdg8mQCxuHw4mqIFCRgMt5JhqZqIOdOWmcfWzSOMiXEagUgYr4Xdxh4tLHiksp3Z7lOUVKNE+4r/MuPpau/3D04hPAx4pvY3qYLgF8LF3+HH0bAUTw+kcDInj9zBDBe2DGguBwQFEVBCoQcOFj5alPePFl5aGG+O2nC7rwMT/Jtb7X8lFFhSs6XCVPKVLKn8DxKT0KPtZ6X+GIfhHAx/yyN71tPQF8rPXMOSIEXBFABHdFksc7A5IsCA4HFFVBIAERvFx4Oe7QPYn+LuNcSVgj8tsfd2Qdy5+ty1OkKD+/8vRLFM9yKU+P4osQjo9leVTStiIQwMeKYEX6kGUC+FiWrUPbINAzAURwhyOEyRAR3OFwoioIVCTQ6DzDiy9rD6jyFAvaQ/mGyfldm12RtmjUx4rEII99yWuKFB/zhONjefQw2pwnAvhYnqxFW/NIAB/Lo9VoMwQ6CSCCOxwJTIaI4A6HE1VBwIkIXp5/ltQn3bEifuNsUQKs5fkeD3kUw33LE46P5dvHaH32CeBj2bcRLcw3AXws3/aj9X4TQAR3aH8mQ0Rwh8OJqiDQtAjOiy97HkTVxO9+B5yS+TQKuEdyBFjLk2Pbypor5fQfdMYPMu3bvuQJx8da6Qkcy0cC+JiPVqfPrSSAj7WSNseCgFsCiOAOeTIZIoI7HE5UBYGGRfBKL770JddsnGFTSfzuM2a8DTxxSqYFsjh9Y5vmCbCWN88wKzXkNSr84ttmmOZxPbnzsUnjTO9uKFLBx4pkTfqSRQL4WBatQpuKRAAfK5I16YtvBBDBHVqcyRAR3OFwoioINCSC8+LLngfO+tk32YY5N5c2QvzG0coJsJYXb0zkTQyPpkeREF60FxjjY8XzMXqULQL4WLbsQWuKRwAfK55N6ZE/BBDBHdqayRAR3OFwoioI1CWCR1+uph0lmnzx9AlQ3EqgXPzuPXTXIPJbIjgFAlECrOXFHQ+VUqRkdR4ozxNepDkdHyuuj9GzbBDAx7JhB1pRXAL4WHFtS8+KTwAR3KGNmQwRwR0OJ6qCQCwRnBdf9jxQJH5vap9mEr9UEL9xrFoEWMtrEcr/9xvbp9mG2TeV5oV+bZOt/8TzM5kOKfpuB0WFFyG1FT6Wfx+iB9kmgI9l2z60Lv8E8LH825Ae+EsAEdyh7ZkMEcEdDieqgkA3AhK8p02fY585fVLw3Yx5r9h373uitN2Zk8YF+WMpZh2vz7V1D17SRfyWyCWxiwKBngiwlvsxPvKUIiX6pE8R0qPgY374GL1MjwA+lh57juwHAXzMDzvTy2ISQAR3aFcmQ0Rwh8OJqiDQhcA90+eb8n2r7LjDYOvTu1fw4jSVcXuODlKfSBzxvUjYWjv1rC7id9+2yTZg4vm+o6H/MQmwlscEVZDNKonhWUyRUv7UT55veuJjBXEeupFZAvhYZk1DwwpCAB8riCHphpcEEMEdmp3JEBHc4XCiKggEBCR8PP/Ht+w7P368G5Hh2w20EyfsQ/S3WSB6K/JbEeAqSnuC+I0TNUKAtbwRavnfp/zpkaymSIm+/DivN0Dxsfz7Cz3INgF8LNv2oXX5J4CP5d+G9MBfAojgDm3PZIgI7nA4UVVBCITR2qXfyzujtxdvjeIOhe7y78P/e8Kg1CeKBvS5SPxWbl/l+EX89nkkuOs7a7k7lnmrKS8pUsrTo+QtTzg+ljfPoL15I4CP5c1itDdvBPCxvFmM9kJgGwFEcIejgckQEdzhcKKqDBCICtFRkbpcwA6F7OD38tWlNCUuuqAUJxs3dtg7q9Z1q+4Lp0+wSYfu6eIwuasD8Tt3JstNg1nLc2OqxBqaBzE8z3nC8bHEhi4VQyAggI8xECCQLAF8LFm+1A6BJAkggjuky2TISZfD4URVDgiUi9gSqFWqRWEnJWKr3tHDOvN1h3m7o/m7dxo+pMfv1Y/v3v+EzX95SYnKuL1Gm6L/fCvl4pT63/+I88j57dtASLC/rOUJws1Z1ZXSLA064wdBuqUslLzmCcfHsjB6aEORCeBjRbYufcsCAXwsC1agDRBojAAieGPcKu7FZIgI7nA4UdXWfNiBML01dUgtETv8Pk4qkTiAo0J1VMQuF7BridxxjlVrG/Xpd68ssZm/bre2fffwLg0K4netEcL3rgiwlrsiWZx61s++yTa1TwvePZDF9w1E84Rrfcp6ehR8rDi+QU+ySQAfy6ZdaFVxCOBjxbElPfGPACK4Q5szGSKCOxxOua8qK6lEQpASsWtFYQditqKyh3dGbWex+DbPVBO/+x1wSmaiMbM4TmhT4wR887HGSfm1Z9ZTpJSnR/niaRNMTwxlseBjWbQKbSoSAXysSNakL1kkgI9l0Sq0CQLxCCCCx+MUaysmQ0TwWAMlJxsVJZVITnDHbqZP84yiLzfMubnEps+Y8TbwxCmI37FHCxs2QsAnH2uEj+/7VEqRonlJ81PaReu2osJnzHsluJl73KF7ml6gnLWCj2XNIrSnaATwsaJZlP5kjQA+ljWL0B4IxCeACB6fVc0tmQwRwWsOkhZuUEohQiqRFlJP/lA+zDPl4rfSD2QpD2/yVuYIaRLwwcfS5FuUY29sn2YbZt8UpEhR6dc22fpPPD/1m3R5yBOOjxXFC+hHVgngY1m1DO0qCgF8rCiWpB8+EkAEd2h1JkNEcFfDiVQirkgWr54izzOVxO+sRFgWbyTRo2oEiuxjWN0tgSynSFE0+HfveyLocNbyhONjbschtUGgnAA+xpiAQLIE8LFk+VI7BJIkgAjukC6TISJ4OJxIJeLQsaiqC4EizjPlEZWK/FZEpSIrKRBoNYEi+lirGfp2vEpieBbmsPI84VlJj4KP+eYh9LfVBPCxVhPneL4RwMd8szj9LRIBRHCH1mQyLI4ITioRh45BVU4JFGme6Xh9rq178JJSOgHEb6dDhcoaJFAkH2sQAbs1SEBi+NqpZ5XmtCy8xyCaHiUrecLxsQYHGLtBICYBfCwmKDaDQIME8LEGwbEbBDJAABHcoRGYDLMhgpNKxOGgpqrMESjCPFPpxXJ92ybbgInnZ443DfKPQBF8zD+rZafHWU2Rohdm3jN9fgBq3J6j7fLPHJcaNHwsNfQc2BMC+JgnhqabqRHAx1JDz4Eh0DQBRPCmEW6rwOfJcP7LS+zuGfNNv5vNPUkqEYeDkqoKRyDP8wzid+GGYyE7lGcfK6RBctqpLIrhOkf77v1PmM6zmj1Xa8Ys+Fgz9NgXArUJ4GO1GbEFBJohgI81Q499IZAuAURwh/x9nQx1MfWZq3/WheSOOwy2s0462IZvN9CWLF8dfLf4nc7fKtqnlHJk6/dR8bsZs+jCLiyjh3X+rc+in++0dZvo9+F2zRybfSGQNIE8zjMSgzbMvsmU+1tFaU+I/E56pFB/owTy6GON9pX9kidQ6eZfmi/8zUKecHws+XHHEfwmgI/5bX96nzwBfCx5xhwBAkkRQAR3SNbXyXD6vFfs+vuecEayXMQO/y8XsUMBu5LI7awxVASBjBHI0zxTHgkplP2POI+0JxkbUzSnK4E8+Ri2yw+B6AuAwxuB/Q44Jbgp2OoSzROuY585aZx9bNK4ljUDH2sZag7kKQF8zFPD0+2WEcDHWoaaA0HAOQFEcIdIfZ0MlWNSuSbLy26jhgaR4LVE7ErfOzQLVUGgUATyMM8gfhdqyHnVmaWrltgjT86yU4893at+09nWEMhaipRonvBWpkfJwzrWmhHBUSCQDAF8LBmu1AqBkAA+xliAQH4JIII7tJ2vk2GldCi6mPr+RSc7pEtVEICACGR5nkH8ZozmmcDMl2bYrY9dH3Rh1Haj7Zi9j7PTDjozz12i7RklkKUUKeXpUS4/57gu6eOSQJjldSyJ/lInBFpNAB9rNXGO5xsBfMw3i9PfIhFABHdoTZ8nQ11E6WVLry162wYMGGCtuIhyaDqqgkBuCGRxnqkkfvcZM96U9zaNR/1zY0wamhkC7Yvm25SHLunSHgnh5x75BWvbuXVpIjIDhIa0hEA0RYoO2K9tsvWfeH7L502dwykqfMa8VwIB/LhD90w0PUoW17GWGJyDQKBFBPCxFoHmMN4SwMe8NT0dLwABRHCHRmQyzHaUqkNTUxUEUiOQtXlm/eybbMOcm0s8EL9TGxocuA4CSnuinwWLO1N5Pf6HR+zNFW90q2GPEXvaSWNPtpFDRiOG18GXTeMTyEqKlFbmCc/aOhbfWmwJgXwQwMfyYSdamV8C+Fh+bUfLIeCtCP7Rj37U2tvbrVevXsEo2H777e2xxx4L/p41a5ZNmTLFli5daocccohdddVVNnLkSLvgggvsxBNPtA9/+MMVRw6TISI4UwoEkiaQlXmmXPxWxLcivyWCUyCQFQJRsbtc+I7Txi1m1nmW0JkiRWJ4mCqFCPE4BNkmLoGsiOGtyBOelXUsrm3YDgJ5I4CP5c1itDdvBPCxvFmM9kJgGwFvRfCTTjrJbrjhBttnn326jIeVK1fa8ccfb9dee60dfvjhds0119ibb75p1113HSJ4DM9hQYgBiU0g0ASBtH1M4vem9mkmwUYF8bsJY7KrMwL1it2hoB0K2bsO3c2mv/CgKS1KWPYdtZ9N2u9DwWfRqPFoo1XP2J3GBVHiRIs7M6fXFWluXTv1rNIcm8bTNeV5wj82aVyQIsVVSXsdc9UP6oFAVgngY1m1DO0qCgF8rCiWpB8+EvBWBD/qqKPsvvvus5133rmL3R944AG7//777bbbbgs+f/fdd+3oo48OXkb35S9/uRQJ/sgjj9i3vvUtu/vuu23HHXcMtmUyhIGPkwh9bi2BtOaZjtfn2roHL+kifit3rXLYUiDQKgKhGB2K3tXE6bA95WJ3KFhXaq/qmvXSDHvihcdtwr5HdnspZvTYEsbDVCrlojjR4q0aDcU9ThaiwqPpUVznCU9rHSvuiKFnEOhKAB9jREAgWQL4WLJ8qR0CSRLwVgQ/6KCD7JhjjrF58+bZiBEj7MILL7Rjjz3WbrnlFlu2bJldcsm2F2RJML/rrruCtChKh3LggQfa2Wefbd/73ve6RJJrMlS9Ppcnn3zSDjvsMJ8R0HcIJEqg1T7Wd+lvu4jfGweMtH4HTLb+R5yXaD+p3G8CKzeuCETmuGL30H47BGlKJHKrKDI7/LteknF9TG1TUTslii9bvcReeueFbocrjxbfe/i+9TaJ7T0lsGXlQtPLM23e7QEBPXnTVzceDz27ZUTumT7ffvJo57hWNPjfnXxw08eO62NNH4gKIOApAXzMU8PT7ZYRwMfMBgwY0DLeHAgCLgl4KYJv3rzZLr74YjvhhBOCKG9FdUsE/8UvfmH33HOPbdq0yS666KIS50mTJgWpU2688UY78sgjg+jvr3/968Hf0SIR3PfJQHnW29raXI5R6oIABCIEWuVjm1e+Ybu+cIcNXvF8SXxZPvp9tmx3Ir8ZkO4ISEh+fc2rJtG782e5vb7mj1UPIEFZgveYwXsE24wZvHvpbxet6r1ihb3wwgu2d4M3c8P2h32qJIqr/WEf1P69h+/nounUUWAC/dYts11euMN0U1JFNyMX7vtp6xj93pb0+tVla+326X8IjrXD4L529qQ/sWGD+zV87FatYw03kB0hkHMC+FjODUjzM08AHzPvgz8zP0hpYFUCXorglWh86lOfstNOO80WLlwY/Fx22WWlzZQbfOrUqUEk+Ny5c23Lli2BEF6eT5zHYkiHwlwDgaQJJD3P6DF8pT1R+hOVMPJwwMTzk+4a9ReYQHkqEUVNh5HUlbodTWNSntIkKUyrZ860t26+Nai+76hRNuT9x9gOp5/W1OHKo8XJLd4UTu93VlT4htk3ldJS6YmcfgecEszTSZfyPOGKCleu8EZK0utYI21iHwgUiQA+ViRr0pcsEsDHsmgV2gSBeAS8FMHXrl1rzz//vB188LZHOj/5yU/aJz7xCevVq5fdeeedwY/K0qVLgxdlSvz+0pe+ZGPHjrWddtopiBi/9957rU+fPiXSTIaI4PHcjq0g0DiBpOYZid8SV4JH7xG/GzeQ53vmQeyuZKJ17e225JtTunwlIXzEeefaQMdPN4WMar1wM3zRZk95zD0fbl52P8184dE84YJ/5qRxDQnhSa1jXg4IOg2BCgTwMYYFBJIlgI8ly5faIZAkAS9F8JUrVwb5v6+//npTvu9HH33UvvKVr5heijlw4MAgTcrVV19t48ePtyuuuMJWrVoVRIFfcMEFpRdjnnPOOYGI/rnPfQ4RPDJCWRCSdFfqhoD7G03lgooYK7qQyG9GWzUC0ehm/R3mw85aZHdPFty0dKnpZ337gmCzNY8/bhsXvtltFwnhA9rGBkJ4n1EjnQviOiDR4vhaIwQq3bgceOIU6zNmfCPV1bXP3dPnm3KFq+ilmZefc1zwO27hXDEuKbaDQGME8LHGuLEXBOISwMfikmI7CGSPgJciuMygPOBXXnmlLV682MaMGWNf+9rXbMKECYGF5syZY5deeqktWbLElApF2w0bNqyLCP7mm2/aqaeearfffnspBzaToXuBLnsuQ4sgkC4BV/MM4ne6dszD0SuJ3XoJZE8lfAmkfrcqjUlP7ZHQrbJ65qzgtyK+Q+E7ng22mFmv0qYSxVVaIYyHL9zsKYUK0eLxrFjkrZS6SimsNKer9GubbP0nnp94ipTy9Cj1COGu1rEi25W+QaAZAvhYM/TYFwK1CeBjtRmxBQSySsBbETwJgzAZIoInMa6oEwJRAs3OM9XE71aBLq8PAAAgAElEQVTllcWa2SPgo9gdFbP1d99dd7XVD08PRPKw9BkxwoZ99CNBxHgYNR6K6uVWDCPG9XkSUePl0eISyCtF3oc3Idp2HmehQJ69EUeLXBNIK0VKo3nCm13HXPOjPggUjQA+VjSL0p+sEcDHsmYR2gOB+AQQweOzqrklkyEieM1BwgYQaJJAo/NMJfFbj83r8flWvFStyW6zuwMCoWg666UZQW1KY1L0yO5ysTuM4K6EUwK3IsaXznnCRh0xoeJLMUNBvGPpskAwj6ZUqSSM67OkosbJLe7AKQpWRRpieCN5whtdxwpmLroDgcQI4GOJoaViCAQE8DEGAgTySwAR3KHtmAxZEBwOJ6qCQEUCjcwz62ffZBvm3FyqD/G72IOrWbFbL2IM05mkRareNCb1iN21+tSIj0UjxdOKGidavJZl/fleYrhSpChViopudA464weJ3vCsJ094Iz7mj/XoKQSaJ4CPNc+QGiDQEwF8jPEBgfwSQAR3aDsmQ0Rwh8OJqiDQtAheLn5LCGnVi9MwX/IEELu3vbTSJW1Xa3kWosaJFnc5MvJVVxgVvql9WpAvXPN/37bJib70uDw9yscmjbPjDt2zGzhXPpYvi9BaCLSOAD7WOtYcyU8C+JifdqfXxSCACO7QjkyGiOAOhxNVQaBhEVzidyh8qBLE73wPJgmZ0Zcj1kpjoihulTCi2/fI7nqtn/RaHkaKh+lUlFqlVbnGw7G0bPWSIB1OmBonyig6fsgtXu/oyd72rU6REk2PMnr4kEAElxgeLUn7WPasQIsg0FoC+FhreXM0/wjgY/7ZnB4XhwAiuENbMhkigjscTlQFgbpFcD36rkfgJXqE4nf/iedbv7bJ0MwBARdit0TLNEuaaUxc9TuNtTzNqPG40eLRmyppjzNXtvapnkopUpJ6MqhWnvA0fMwnW9NXCOBjjAEIJEsAH0uWL7VDIEkCiOAO6TIZIoI7HE5UBYHYIngl8Tvpx94xT+MEELuTSWPSuEW67pmltTyNqHGixV2NpGzWs7F9mm2YfVPpZqlukupmaRIvSJ7/8hK7+LbOF/EqKvzyc44L/n7mmWfs+GOPzCYgWgWBAhDI0jpWAJx0AQLdCOBjDAoI5JcAIrhD2zEZIoI7HE5UBYFuBDY+O81ee26uvWf/8dbvgMmBiFH+8jPE7+wMnEbF7mP27hSKFHmbdsRtvZHdardeUjmgbWzp98C2tuwYJUZLsr6WpxE1TrR4jIGTo01amSIlmid86OABtnLN+pIoPunQPe3MslQpOcJIUyGQWQJZX8cyC46GQSAmAXwsJig2g0AGCSCCOzQKkyEiuMPhRFUQ6EJgzdRPmyK+w9J72O62efkfg39b8cIzzFGdQJHE7vXtC4L81MpXrb97KuVit/7XT95LXtfyVkaNEy2e91He2f5KYngSKbQkhN89fb7NmPdKF3CKDv/iaRNs3F6d7zGgQAACbgjkdR1z03tqgUDyBPCx5BlzBAgkRQAR3CFZJkNEcIfDiao8JRDm81b3t6x8I6CwccHPbeP8n3Qj0mvISOt34Bk2YOL5ntJqbbcbEbtHDhldiubOUmQ3Ynf1sVOktbyVUeP1RIvzws3Wzl21jlaeUiuJFCnT571i19/3RLemDBnYz4YM6m+jhw0JUqaoHLhVFA8/Cz+v1Q++hwAEOgkUaR3DphDIIgF8LItWoU0QiEcAETwep1hbMRly0hVroLBRIQlUEq/Dzzav6BSzVbasXFjKxdr5f+d30f3LAW0xs14VqA08YUqQFoXilgBi97Z0JkWI7K53dPiwlrciapxo8XpHXrrbJ50iJZofvJGehkI4Ynkj9NjHNwI+rGO+2ZT+ZosAPpYte9AaCNRDABG8Hlo1tmUyRAR3OJyoqkUE6hGvo2J1HPG6kS5EX07Wa+huQRW9+va3TX94rFt1g8+4w/qMGd/IYdjHzBC7/Ra7qzmBr2t5K6LGiRbP/tSblBiulCjfvf8JkxgelujLMvX9kuWrg69+t3Wb8DP9jlsQy+OSYrsiE/B1HSuyTelbtgjgY9myB62BQD0EEMHroYUIXpMWC0JNRGzgiEAexOtQ0O41dNdSr3vv0Clsb/uu6//V8Kyfc7NtmH1T6WuJ3xLBKbUJRMXucuG70t6jthttpDGpzbWoW7COdbVsklHj0WjxmS/OsAWL53cbVvJHlTCdkH6HnxV1DGahX5VevDzojB+U1q5G2igxW3nBH3vmRXvfQfvU9VLMUAhHLG+EPPv4RoB1zDeL099WE8DHWk2c40HAHQFEcHcsyb9GDjqHo6nYVYUCdnk0dXnaEFGotq0rQpUir12K167aqXqUt/XF3zxq+77/I9Z7a5S4y/rzXhdiN5HdLsYwFza1KSYZNU60eG3+rdxi/eybbFP7tGAtdvUS5iR9DLG8laODY2WVQJI+ltU+0y4ItJIAPtZK2hwLAm4JIII75MlkSDoUh8Mpk1UhXqdvFuaZrmlMiOwelf6gLFgL8LHGDZpE1DjR4o3bw9WerlOkZMHHEMtdjQ7qySKBLPhYFrnQJgi4IoCPuSJJPRBoPQFEcIfMmQwRwR0OJ6dVVUsd0lPktRqgSO2eXtjYaCOrpQJxkTak0TblZT+f5pkwIjQUwcL/q9mKNCZ5GcXZbqdPPtYKSyQRNU60eCss1/0YlVKkDDxxSt3vpsiTjyGWpzPWOGpzBPLkY831lL0hkA4BfCwd7hwVAi4IIIK7oLi1DiZDRHCHwymoKk7e6y0rF1bcNivitRqnFzxG04645uRTfUWcZ4ogdmsMhlGw+r2uvd3Wty/ocWj2HdU1fUmfUSNtYFubT8M5k30too9lEbTLqPHoEyHti+ZXzS2uXP+6Wda28zg7Zu/jsoglF23a2D4teEdFeJ7Rr22y9Z94fux1vog+hliei6HrTSOL6GPeGI+O5oIAPpYLM9FICFQkgAjucGAwGSKCh8MpjnitbSVgl2+bpHgdCtL6LVG6p8hrxGuHk4PDqvI8zxRV7O5YuiwQwKsVxG6HDtCCqvLsYy3Ak+ghXEaNEy2eqKmCc5eNz/63bZhzc3CgevKF++xjiOXJjktq7yTgs48xBiDQCgL4WCsocwwIJEMAEdwhVybD/J90NSNeayi5FrDreWlj+bZEXjt07gxVlYd5Jip2Kypz2eolps+qlWgak/KUJmmiL4/sRuxO0xqtO3YefKx1NLJxJBdR40SLJ2PLSmK4osIVHV6t4GO1bdFqsVwtGrfX6NoNY4tcEMDHcmEmGpljAvhYjo1H070ngAjucAj4PhluXvmGvTDzXtvnkKPqzg/ZrBnqEa+jYrVyXiNeN0uf/VtJIEvzDGL3KFOUN2lMWukByR8rSz6WfG/zewQXUeNEi7uzv87D1k49qxQM0GfMeFO+8Eo35PExd9wRy92xLFJN+FiRrElfskgAH8uiVWgTBOIRQASPxynWVj5Phuvn3Bzkh1QJHok94BQbcMR5NbnlWbwO+6rfynkd/b9mx9kAAg0SaPU8E0ZwL1g8P4jmjhvZPXancUHuXSK7GzQ0u6VGoNU+llpHC3rgZqLG3xm02VbuPjLIKU5u8foHSNwUKfhY/Wyb3QOxvFmC+dofH8uXvWht/gjgY/mzGS2GQEgAEdzhWPB1Mux4fa6tmfrpbiSjj8KGYncWIq8Rrx0OeqpqOYGk5plKYreEoJ6KBG7E7pYPAQ6YMIGkfCzhZlN9DwTqjRrX0x16ykMvqpUw/vKOmwNRPIwcLz9UOBfqhZt6+aZ++1x6EsPTfGrQZ5vE7TtieVxS2d6OdSzb9qF1+SeAj+XfhvTAXwKI4A5t7+tkGI0CrxdnPTmvEa/rpcv2RSTQ7DyD2D02ELdIY1JE73DTp2Z9zE0rqKUVBBqJGtcc+u7uI+33mxfZyyM2B1HjlURxieESxyWIH7P3ca3oTuaOITF83YOXmIIlgjJge7P175baqdzhcZ4azFzHaJAhlmd7ELCOZds+tC7/BPCx/NuQHvhLABHcoe19nQx7igTv857xAeFQ7CZtiMMBR1XeEZD48vPZP7UJBx5RM9IwFLtnvTQj4FTt0f4oxGhkdzTCO23QvKAybQv4dXxf13K/rFy9t41Ejb8zaEsQLf5Cx6JSOpVKwrjmVR+jxTe2T7P1j15nW1Yv6wZ+wLFftT6j9ietXEEdELE8HcOyjqXDnaP6QwAf88fW9LR4BBDBHdrU18lQj7aue/Ab2yJ9zIIXYw4+4w6HdKkKAn4TuP+Ze0w/YTntoDNNP76L3eFLKYns9ts/XPbe17XcJcOi1SVhXGV9+wJb195u+r9j6bLgd6XSKYp3WPB7REcgkFcSxcNocUWKFz2FyrqZV9nGeXd247BF71WpALHSk4LabFtQxa7BXr136HwnS9fveE9L3nwQsdytxVjH3PKkNgiUE8DHGBMQyC8BRHCHtvN5MpQQ3vHak/bac3Ntt9124/FWh+OKqvwlEArcLyx93v7tkWvqAqGobpUwojvvkd2I3XWZn42bIODzWt4ENi93jRs1LjFcRcK4UqiEecbLoRU5t3i1pwZ7D9/Teg0ZaUm9MyYqjuvvSk8k9hqKoJ4XB26FWD56+BDbafgQGz1sSIBl3F6d51N5KqxjebIWbc0jAXwsj1ajzRDoJIAI7nAkMBmawcDhgKKqQhAIhezw97LVS0rR2+qgPg+/0//l39eCUEnszkpEYTSNSSgWKZKyWolGcxPZXcvyfO+awDtr19i9v3vaFi1fbgMGDLBzD59owwcNdn0Y6is4gbhR4z5Gi6976BLb+Oy00gjo6anB8IXq2riSQL55xRtBPVtWLizVl/RL2HWgnt5lE1xYlQnqtbYvuDuk1r1aYrkaNv+VJbHbJ2FcRcJ46e8Mi+Vcj8U2LRtCoCEC+FhD2NgJApkggAju0AxMhojgDocTVWWEQCURW00r/7yayN1MN0KBe0PHRlux9p1uVZ37vi/Y+zPwwjXE7maszL5ZICAB/Nszp3dpigRwhPAsWKcYbagVNe5LtLhE8FY/NVivoF5re1cjspZAjqDuinT1eooqlnNNmvzY4Qj+EtC8MWv2U7b//vvn8kkRfy1HzyHQSQAR3OFI4IQDEdzhcKIqRwSiUdZJRWP31NRQyFbuVxX9H34W/q/f1b4PBfdbH78+eLllWBTtfckJUxxRilcNYnc8TmyVLQISuFXeWbt26+819nbkM33/7vr1tnT1qm4NHzVkO9t92PDg8+GDBtmIrZHhEsj1P5Hi2bJ13lpTK2o8jBavlUJF64fWhPDFm1nnkOfz5VoCeXmEeq3tXdkqjqBeKX96cDE4lBzqteyQJ7F8+rxX7On5v7eDx+1nkw7ds1bX+B4CEKiDgPzr+vueCPbQUyHysTMnjaujBjaFAATSJoAI7tACeT6pd4UBBq5IUk+UQBaisdWe8CVm+rtcyO5JxHZhTTFoXzzfnnn+N0Hefb0UM6mC2J0UWep1QSAqaod/l4vaOo5E7/B7F8etVkdUCI8K43uP2DHYJfwe0TxJKxSr7mpR40WJFudcsXO81hLIJahXSveifdPOoY6gXnnOSVssv/i2GTb/5W1pXiTSff+ik4s1QdKbRAiEYzeRyhusNEttWrJ8ta1cvd5+8MDTNrLP8qBHyzqGBb8vP+c4IsIbtDG7QSANAojgDqlzUk8kuMPhVKiqyqOxlfdapfzzaKR2+ffNAIkTjR2K2DpOebR2M8d2va/LeQax27V1qK8RAuWitmtBu5JILUFaRZHd+v7d9evsR8/M69b8cw8/siSkq13RaPJGRfZKojhR5o2MHL/2qRY1rnUzzgs3sxQt7nId82sUVO9tUQX1aIR7kWydhFi+bv0mW7lmfTdMh+67iw3bfmAq+LIkYgqAhMyslKyxyQqXrLfjmAG/tc8O/VnQzGUdO9jM9QfZwCPOIxo864ajfRCIEEAEdzgcOKlHBHc4nDJXVZwXPEaF63pf8NhThyuJ2KFYHf2ddDR2FozSyDyD2J0Fy/nRhlZEaVcTkaOitv6uN/I6fDHmy2+/FQjjHznwYNtrazR3T9arlG5F27/09lvBbpWYxB0N0b529qnzRZ1EmcclWPztyqPGtVbrBcRxhPEwfUookLeKViPrWKvaxnGaj1CPCvIueYaCeJi+RXVv+2zX4FCVItTznO7FtVju0h7UVSwC4Qtfs9QrvYi2lSX65E35ccVn9boN9oX13VNRPnfw5Tb+Ax9uZVM5FgQg0AQBRPAm4JXvykk9IrjD4eS8qjSjsaOpQ3rKjR39TgCi+zkHkrMKJXSsuO9+W/mbp23ImDE24rxzre+oUV16gdidM6PmoLnVorTV9DASutGI6LD75aJ2NEpb27Q6/3bSa3m1GwVEmefAIXLSxPKoca3/L2xebL/vWGzvDNpsL++4uVtPtN62Klo8aR/LiZm8aGZPEerl+dMFJNw+7XQveRPUJZY//8e37Ds/frzbuDrtmLE2ZvTQVMZbq0XMWp3MktCbpbZEfa8aw9Anq31f6+ZX6O892agnEboVbaw1fqp933/i+TbgiPMa3Z39IACBFhNABHcInJN6RHCHw6liVXGisaNiN9HYSVukNfVL0Fj4+S92OVjv7be37U88wcIoQEX+VSsSy/uMGmkD29qCTQa0jS393ZoecJQsEIjzgki1sxlRu1LkcnnqER2j3ijtVvLL0lpezWZRwbxRm1WzVfTln1m3VSvHRRGOFa4Xy1YtsXXtC+z3mxfbgkXzg6jxMN94tJ8SxpOIFs+SjxXBrj70IU66F3GolEPdJ0F92gP/Z32fuc3a+r5qSzuG2a9G/K199TNn+DBEGu5jLfG2c1y9UbX+WvsXWfxtGHpGd6yVfmlLxwbbsnpZt9YPPGGK9TtgckZ7RbMgAIFyAojgDscEJ/WI4LWGU95e8Kj+EI3d3aphlF30m/LPOpZ2PUmKs0+1OjavW2ub311Va3gFkeGI3TUxFWaDOFHajQqkIaRqUdr6PsynnWVBuxFj53kt7ynKvJm0LJ1ieGcqlqi9w1zmvPyzkZGWjX3CdWfRK88GL19WtLhEcgnk5WX42l42ashoG7vzONvrrT7WtvO4LmtO3B7l2cfi9pHtskugKIJ6VLALU76snXpWlxeuaptBZ9xhvYfu1s0gtcRb7ZB29G+zbYyzf3ZHamtbVksAjqYhqtSy2vt3pizqqUTTGTV2jO7jPFpPrTbWat/mlW/Yuge/YR2vzy1tqjqHnP1grV35HgIQyBABRHCHxuCkvvgieHlKEQ2f8mhrbdPKaOyoSF3rBZAOh3vLq4ojIrsUnsMOVjpuyztf5YCDDvsz6/8nf0Jkd1YM0kQ7QoFSVYSR2Em9IDKMzA7TjOiYoaCtv4smatdrFl/W8jhpWcROOdLrLXFe/qk64+Rcr/fYbO+GgM5jtP4pjUr7ovm2YPH8Luc24VEkjO/Xeyfbt8/OgUDekzCu+lbPnGVL5zxho46YYDucfpqbxlILBFIiUK+gXmv7JLqxxcx6JVFxQeqMI4w2IwD3Gpq8+CtT9NTGOH0siDkT74aE8I3tP7V3np1uww+YRBqUxIlzAAi4J4AI7pCpLxfOPSHLA4O8RWOnGYndKuFZYyoqYGdZeFZby3Nx6zNFYEdL+TaV9in/rFodHW+/bYsvvayb6+1+z48czmBU5ZJAGi+IDMVt9QNRu3Fr5mEda7x3je9JlHnj7Iqyp86fJIZLFA//Lu+bRPHha3rZXm/3CcRxRY2rKB3Xqw//zB4Y9EqQfkXbnfnaLjbumhuLgod+QKApArUE8vIc6uXbV0vVUK1RcYTRZsTfTmG2OQG42TbG2b8po7GztwQ4V/TW9HS8AAQQwR0a0ffJUBdEP5/9U5tw4BFBJFBSJc0XPKpPtaKtw5dLhf3X//UI2QjPlUdOq4XnsBWVjpvU2O6pXo2Lt2++1da1twcivF6MGeb4TqM9vh2zWuoRFy8zDFn29IJI0k20bsT5vpa7IB0nyrzR3PNxosx9f5rBhQ3j1BE++aYn4iSMz3ppRrfdJHar7PVWb3tu9GZb3V9xqZ1F31369gTrM2xY6bPomlvrRrF26mn7OH1gGwgUhYAiVFff/qFu3Rl8xh3WZ8z4onSTfkAgEwQ4V8yEGWgEBBoigAjeELbKO/k8GX7rF/9gC956vgTmtIPONP1UK3Fe8Kh9w+2SfsGjBMZQqA5/K5JJJRC1txvdJVJZn8cRqyttEydlh8Nh2VRVrRKeuZCNbyaf55n4lHrestUviCx/ASFR2q4smUw9+FgyXHuqtZJo/tLWNCxJ5DLfe8SOQXO4ueTe1tWixaulZBi5qpcNXd81WcPwtb27NSwU0wO7bRXWoxuF52zRz8oDEHQuFy21ntCqJcLHeeLLPWFqhEB1AtGcxYqCHnjiFARwBgwEEiDAuWICUKkSAi0igAjuELSvk+HMl2bYrY9d343ke3c9xDZ2bAw+l4itEo3ibhR9lwuhrUK1LpjKL5CiIvampcu6RGNnOd0GwnOjI8OP/XydZ+oR0MJc2tonGm3aSG7j8Lg+viDSD4/q3kt8LNuWJ8o82/Ypb10YLf7A0/fZU0ue7tb4NPMVxxHTawny6lB5PeH5Z/R8Ttv0GTWq1H/9X0tER4TP11jPUmtZx7JkDdpSRAL4WBGtSp98IYAI7tDSvk6Gd0/7tv1sxZy6LmzCC4bwQiG8yCh9vjXKJ/p9pYsVV+ZLS3hW+7OSbsMVS+pJlkDR55lWR2kHAsagwcHLIFWI0k52/Oah9qL7WB5s4KqNlV44q7pdRJmHN8Y655BBpahyoswrW09i+Bd/8tluX37+6Atth0HDu3weBk5EP6z0YvJq34efl9fjIhDD1dgsr8e1IN9FgN8aMFJNhA+PXSu1TE/vPuFcNqmR0Vi9rGONcWMvCMQlgI/FJcV2EMgeAURwhzbxdTKc++Ob7Nr1D3UjeexLfW2/pX2Cz8tFbn3mSngur6v8JL3SsThZdzjwqaqlBPI2z/CCyJYODw7mgEDefMxBl6liKwGizJMdCsobfssj19qytW8FT+ede+QXEn2HTK3eVBLFyz+rJcjrGOX7VKo3T4J853l71xQ1wWdbxfSQa09R8jrPLq9DIny1KPnouXqlKPla5/ac13cd7axjtbyf7yHQOIEV991vb7zxhu1x8EE25P3vb7wi9oQABFIhgAjuELuvJxyv/+Yx+/ED19pTYzaVaO71dm/7xklXWJ8RI0qfcYLqcLBRlbcE0p5nenpBZLO5e4OL7EGDS7YNoyuJ0vZ2uKfS8bR9LJVOc9C6CVR6akWVuIwyD+e+cF4sSpQ5PtZ9uCUlyFcS6fVZVJTPcoR8o4J831EjSwE4qkMielS01/dB3Wu25Z+P7lP6fmt++p6i4KMCft0TieMdFv3xOfvlQ7fZ82v/aPttGWkf/9hlPHHqmDHV+U3guX/5J3t87QJ7eceOYP448a2dbNw1N/oNhd5DIGcEEMEdGsznk/qXp/67Pf3EL2z5oC02bG0vO/HkC7gz6nBsURUERODJN16zZ1980Q7YZx87bLf3NA2l1alHeEFk0yajghYQ8HktbwFebw/RU5R5szcQK73gUwJ6VtM74WPZdwMXonycOsoF+WqifVaIxYmQV1vLX8oaRMFHouvLvw8i5yOR9mHgULhPmMqmUuqaqAj/jRvPtJe2X1fCNWJDX7tu8s25E8Kz/O4mwc1y+zqWLsuKu3RrR5a5xbHrpkWL7Ibhv7WXR2wu9U0+ec3Rl9vAtrbMcqdhEIBAVwKI4A5HhO8n9VrY5j/yiB186qkOqVIVBCAgArf++nGLvthRIvgZBx7cBU61KG1tFL4gMvqiyEbIVntBpMQWlTC/djSiu5HjsA8E0iLg+1qeFneOu41AtRuUmr875/M1W3+vLf0dl1/5zchwzo7O4Z1z+bY853HrjrsdPhaXFNuJQBwxvZG0NZXqznPamvV9zNb016tmu5ZRGwfa8AE7dPs864Ikoz8egXcGd7d5vD3Zql4C1XzsL/q91/76Y9+stzq2hwAEUiKACO4QPCf1ZjBwOKCoKtMEoi9cq9TQUKyo1ola+7+9VeTQ/gtXrrT2JYu6VbXr9kNt7aZNdYsgYUXVxBB9n9UIwkwPChpXCAKsY4Uwo1edyEuUuW7k3vu7p4M1S+uPbuZ+cJ/9vLIVnc03gTiCvHpYS5RvtJ6sp67Jt3VpPQQaIzB510n20Q9+vrGd2QsCEGg5AURwh8i5cDb71ZzZduwREx1SpaqsEqgl4qrdPQnBtfaPisDVheTOqLhKpVb9zYrUWbRLtSjtqKidZHRfFpnQJgjUS4C1vF5ibJ8nAnFe/qn+RJ88itu/ntKyqA4J4NGyw8BB9vGDDrUdBg6Mewi2gwAEIgSiovjbi1+16+dd243P0Tsdb+/db3zwOU/pFW/4lKfWKV4Ps9Ojt9e8ZZf97z92a9AlJ0xJ9SXP2SFESyCQDwKI4HXYadasWTZlyhRbunSpHXLIIXbVVVfZyJGdL1ZR8fnCWbmKp269uPEpuidJobVZEVhjspn21dq3Dtcp5Ka1LiTCF5pV63w9+0uwf+qN17pVdfL+B9gBO+3MRU0hRxidSouAz2t5Wsw5bnYJVBLNXbz8M7s9pmUQyC+BFavn2crVvyl1YMTQY2zIwH0b7lCtc9VKFdc6/y3fJ+ljhKme6oFQb5ta0ed62s+2yRF44tWn7PuPX29rNq6wgf2G2ukHf9z+fOyHkjsgNUMAAs4JIILHRLpy5Uo7/vjj7dprr7XDDz/crrnmGnvzzTftuuuuK9Xg64WzooWUrzhawuiezVt6zlNWS2itJQQ3G83bTKRyzKFT2M3inCD2dFJYa/84J5Q9ndg2W3+t/Vtt2Idf/L398sXnS4c9fp8/5THyVhuB43lBwNe13Avj0slECfQUZb5q/Xp7ftmSbscf0r+/9e/TN9F2UTkEfPPsggAAABpjSURBVCCwaXOHvbt+vW3qWGWbOt61gf13Cbod9bFa110+cMpjH+u9JolzDRXlUG/92rfeY9R7MyLpNjVSv/r97ZnTgyAz+VnfPtsFgUjnHj6RgKQ8OhZt9pYAInhM0z/wwAN2//3322233Rbs8e6779rRRx8dRH/3798/+MzXC+dycS4m0kJsVmsBrXWC0NP+tfYVwFonFM20r9a+hTBgzjqhG05PPjvfjj9sPCdbObMdzc0PAV/X8vxYiJbmkYBEg1t/PbvbE2pXfujkPHaHNkMgcwSS8LFGRPNaAUrl4Oo9Rq0Aqe71V0+dWM2I9bYp6T5nbrB52CBdF2/o2GSrN2zo1nsCkzwcEHQ51wQQwWOa75ZbbrFly5bZJZdcUtrjqKOOsrvuusv22GMPRPBIhGoIKIw8SDIaGBE45gBms8IQQKArjCnpSEYJ4GMZNQzNyj0BCUvKC75o+XLbedgw+8iBB3NDN/dWpQNZIiAfe+qN1+2xl1+0tl12DZ4YJKglSxZqrC1ZFOWTvhlRb59Ftp6bEY3UX816iOCNjWv2gkBaBBDBY5JXGpRNmzbZRRddVNpj0qRJdsMNN1hbW1tJBI9ZXaE2W7O5w2aufMf0OyyDe/exk4Zty5deqA7TGQikSGDBggU2duzYFFvAoSFQbAL4WLHtS+/SJ4CPpW8DWlBsAvhYse1L71pPQKL5ui1b7PF1q7od/Jjth9uofp2ZAXwqShFMgUAeCSCCx7TarbfeagsXLrTLLrustIccf+rUqV0iwWNWV7jNJIC3r1llC9eusX23G2pjBw0pXB/pEASyQIALmyxYgTYUmQA+VmTr0rcsEMDHsmAF2lBkAvhYka1L39IkIM1j7qoVtmzTRlPQ32FDhnopgMsGiOBpjkSO3QwBRPCY9B566CG78847gx+VpUuXBi/KnDt3rvXr1y/4jEeoYRBzOLEZBBomwDzTMDp2hEAsAvhYLExsBIGGCeBjDaNjRwjEIoCPxcLERhBomAA+1jA6doRA6gQQwWOaYPXq1XbCCSfY1VdfbePHj7crrrjCVq1aZVdddVWpBiZDRPCYw4nNINAwAeaZhtGxIwRiEcDHYmFiIwg0TAAfaxgdO0IgFgF8LBYmNoJAwwTwsYbRsSMEUieACF6HCebMmWOXXnqpLVmyJHj848orr7Rhw4YhgkcYsiDUMaDYFAINEMDHGoDGLhCogwA+VgcsNoVAAwTwsQagsQsE6iCAj9UBi00h0AABfKwBaOwCgYwQQAR3aAgmQyLBHQ4nqoJARQLMMwwMCCRLAB9Lli+1QwAfYwxAIFkC+FiyfKkdAvgYYwAC+SWACO7QdkyGiOAOhxNVQQARnDEAgRQIsJanAJ1DekUAH/PK3HQ2BQL4WArQOaRXBPAxr8xNZwtGABHcoUGZDBHBHQ4nqoIAIjhjAAIpEGAtTwE6h/SKAD7mlbnpbAoE8LEUoHNIrwjgY16Zm84WjAAiuEODMhkigjscTlQFAURwxgAEUiDAWp4CdA7pFQF8zCtz09kUCOBjKUDnkF4RwMe8MjedLRgBRHCHBmUyRAR3OJyoCgKI4IwBCKRAgLU8Begc0isC+JhX5qazKRDAx1KAziG9IoCPeWVuOlswAojgDg3KZIgI7nA4URUEEMEZAxBIgQBreQrQOaRXBPAxr8xNZ1MggI+lAJ1DekUAH/PK3HS2YAQQwR0alMkQEdzhcKIqCCCCMwYgkAIB1vIUoHNIrwjgY16Zm86mQAAfSwE6h/SKAD7mlbnpbMEIIII7NCiTISK4w+FEVRBABGcMQCAFAqzlKUDnkF4RwMe8MjedTYEAPpYCdA7pFQF8zCtz09mCEUAEd2hQJkNEcIfDiaoggAjOGIBACgRYy1OAziG9IoCPeWVuOpsCAXwsBegc0isC+JhX5qazBSOACO7QoEyGiOAOhxNVQQARnDEAgRQIsJanAJ1DekUAH/PK3HQ2BQL4WArQOaRXBPAxr8xNZwtGABHcoUE1GVIgAAEIQAACEIAABCAAAQhAAAIQgAAEIFBEAocffngRu0WfPCCACO6BkekiBCAAAQhAAAIQgAAEIAABCEAAAhCAAAQgAAFfCSCC+2p5+g0BCEAAAhCAAAQgAAEIQAACEIAABCAAAQhAwAMCiOAeGJkuQgACEIAABCAAAQhAAAIQgAAEIAABCEAAAhDwlQAiuK+Wp98QgAAEIAABCEAAAhCAAAQgAAEIQAACEIAABDwggAjugZHpIgQgAAEIQAACEIAABCAAAQhAAAIQgAAEIAABXwkggvtq+Zj9PvPMM23dunX23//93132uOyyy+xnP/uZXXnllTZp0qQu3/3d3/2d/fmf/7l9+MMfjnkUNoMABERgxYoVdtJJJ9kHP/hB++Y3v1kTyh133GEvv/yyTZkypea2bACBohP4+Mc/bk8//bT16tWrS1fPP/98u+CCC4reffoHgYoErrvuOvvhD39o//u//2s777xzaZtTTjnFrrjiChs7dmxsch0dHfY///M/dvLJJwf7HHHEEfbjH//Y9thjj5p1/OpXv7K///u/t3/+53+2v/zLv6y5fTMbHHLIIfbAAw906W8z9bEvBJIm8H//9392yy232HPPPWcDBgwwjeEvfelLdfmnizZyDeeCInW4JiDfuP/++23VqlXWt2/fQHv4x3/8x8BXGi3/9V//ZX/1V3/FWtYoQPaDQI4JIILn2HhJN/3FF18MLpAGDhxon/nMZ+zggw8uHXLChAl255132n777delGZs3bw4WKC1KzSxMSfeN+iGQRQL/+Z//aStXrjSdmP385z+v6UNr1641iRLbbbddFrtDmyDQUgISwXXjtpkbsPKnPn36tLTdHAwCSRKQCD5t2jQ79NBD7Zprrikdql4RXL7x/PPP27/+67/abbfdVrdw8IUvfMEmTpxoDz/8sN1+++2JdFnnoL1797a33nrLhg8fHvxNgUDWCTz44IN2ySWX2Ne//nX7wAc+EAQf6TxQfnbvvffa3nvv3bIu6ByUa7iW4eZAMQjoekhrxve+9z0bNWqUvfPOO6b1RLrEhRdeGKOG7pts2bLFjjrqKHvsscdYyxoiyE4QyDcBRPB82y/R1l911VW2zz77BCdDc+fODaJ3VD73uc/ZjBkzgsiff/iHfwiigPbdd98gWlwRqT/60Y9KkeAPPfSQXXvttbZmzRqTcK7v+/fvH2yru7qbNm2yXXbZxXQs/aZAwGcCZ5xxRiAwfP/73w8i7PREhcobb7wR+NqSJUtMF/na7txzz7VoJPjy5cuDbRQZrm0+9alP2Sc/+UmfcdJ3zwjUEsHf+973BmvXyJEjAzLh/3qq6fe//70tWLDA3v/+99sXv/hFu/7664PIWZUDDzzQLr300uBmk6LktC4+++yztmzZMjvggAOCdU2RSX/4wx/sG9/4RvD54MGDA1FD0XwUCKRJQCK4xqfOu3SuJTFcJSqCa/xrjL/99tvBOd+Xv/zlQIz7wQ9+UPKNI488Moiu1hNLBx10UPCd1imJETrvW7p0qX36058O1qbyon0++tGPBvsrClz7jh49unROuf/++9v8+fPthRdesFNPPTUIvpg5c2ZQp84h9f3q1auDJ6T0tEe/fv3sE5/4RHDTS+XP/uzP7LOf/WwglGi/sK077bRT4Ms//elPg3Xxb/7mb+yss84yCSDf/va3bfr06cHnhx9+uF1++eXcAEtzoHp87BNOOCHwnXA8hyj+6Z/+KQgs0nmhxGn9/8wzzwTry8UXXxyM85784ne/+11w7RYK21qfdC32H//xH8ENrfXr19trr70WXIvdcMMNtuuuuwZrXPg0b7X9PTYVXU+BwHe/+93gxmb0CVmtVbrJOWzYsGBN0jhvb28PPtMaEz79V+28T9tr/tcNJl1zKSI8y2uZnuJCU0lh8HHIwhJABC+saZvrmCJ+PvShDwWRCIqK0wmRIhUkYKuMHz8+SIeiSfnzn/98cOGkiw9duIQnULo40kXW1KlTg+20IOniSxdCxxxzTBDp+p73vCc4qdPj60qxQoGArwT05IV8QWLCk08+GZyU3XrrrQGOb33rW4Fwd95559m7774bXPzogl2+FaZDUWoiXejoc4nm8tlf/vKXJaHBV6702x8CjYrgErtvuumm4Iau1qRf/OIXwXp21113BWvaRRddFKxhSuWgdUx+9u///u+BkKb17G//9m+D9BAS7yRifOQjHzGJB9pWF1kS7CgQSIuARHCN4z333DOIpLvvvvuCc65QBP/TP/3TYPwqbdBf/MVfmNYijWOtH/KFqG/oPFDrTjQSXPvoho9uAqkeBU0MGjSoS3flSxK0ld5B9UloP/vss4NtJDxIjFNgxKuvvhq0QTeWJErceOONwc1fnR/qyURFAGqtk+hx2mmnBd9LIJewp//lq+pbmA7lt7/9beDL8lcdQ0+JSBTXOaui4vV4vbbXjWWJ6Do2BQKtJLB48eLg5uucOXMCQS9annjiieCG1OOPPx6cB+p6TNHiGtfnnHOOPfLII4FAXs0vtCbpxo98Xb78b//2b8GNKD11qL91HaZzS90A07F1rKgIXm3/VvLhWBDQeNd5lgJ7lAZl3LhxXW5YavzqfEwiuW4aaT5XqhRpDdVEcPmS/E51q0izyPJaJnEfTQVfgIA7Aojg7lgWqiZF0ujxWZ1cqXzta1+z4447zhStoBIVwXUBowVJFxAq4QmUomt011IXPCpK3aBFR0K6IheGDBkSfK4TM12IKKqVAgFfCVx99dWBACfxQSdzJ554YiCI6wJF4oAe2dMFvnwtfMQ7GgmuG1cbN24MxA4V3cSSaEAkqq8jyr9+SwTXBU15CgStMfKtahdDEsGVrzgU9r761a8Gwpoi81QeffTRQDDTTWEJ21r/9KSFiiKUJIpLkNCNp6eeeqp0/NNPPz14OkPbUyCQFgGJ4BKddRNVIoIupCUYhyK4zsX0t8ZumE9fN3d0Tvfmm2928Y1KIrjWoba2tqB7iqj+yU9+YmPGjOnSXYkSEq/32msve/311wPBXdHZKjqHlIj913/910F6Lz1dofVuxx13DIItJNrpPFLvypAfKgpdRVHtiojV04kSMHTTOPwuFMHlnxL5Q3+VQCKBXnOEzkm1v4puQO+2224Vo9jTshvH9YOAbjpNnjw5eLqovCjIQTeW9J3EP0Vrh76mdWfo0KE9+oXSqugmrK69dBNKT3foiQuJ4BLWw+szpbfUMfR0RFQEr7a/H5ahl1kioKeV9ASD1gaNfV0j6VxNN2+OPfbY4KaOro9UpF3opqeE8HpE8CyvZbpJhqaSpRFJW/JOABE87xZMqP2K1pEQrkdoVfSonC4ybr755uD/chFcebUU/aYSnkDphEuPtuqkKlokjmuxkrCgoogePYKnx2MpEPCRgC78dXGitEGhCKETOEXl6NFtfa9oNkXt6JFA5ejXRX1UBNcFTBjhpgt8PeqqffSYOAUCPhBoJhJcKRa+853vBJgUoaqIIEXBqSiqW0Kb1kSJ4BLjwpcpyceURkX+KOFQ6RfCIpFNj9zqYo0CgbQIREVwvXRP4rZebql0IrpRGq41ejFfWJTSRONc30V9o5IIHn0xZqUXZYYiXyg46xha6xRRLkFPIrjWv9CndANq3rx5gUCtG1gSwnUjWMK2RL8wZ/+GDRuCG0+KjC0/biiCK0JQ/hf6ctg/RYJLRJfIqDVXwrx46EYBBQKtJKCxqLQmuiYKU3WFx1ck+Fe+8pVA+FP+Y50Dlt9g6skv5D8KptA1nH7k/zpXlAiutCoKvlCJ/h8Vwavt30o+HAsC5QQ0b+t8TYE/empWKet0szT0DZ2XaaxrfNcjgmd5LZMvoqngCxBwRwAR3B3LwtSkO6yKItUFf/gYt0Q4PVaki5ERI0Z0E8GPPvro4PEjlWgkuC609PitiupVBLgubnRBo8djdUGjaCBF2CGCF2YI0ZE6CcyaNSuIcAgjUbW7ctvp4l55XKNFj4vr8VbdkFJkQJgORT6raFRFn6roqQ0JHIjgdRqDzXNLoJYILhFBKR70YiVdPOniSI+TKxI8KggoukgvfZY/qcg/JSQqwlUi+GGHHRbcnFJRxJEEPW0bpoLILUAaXkgCURFcHVTUs/LbS2BT2pEwElxpuMKnKBTUIEFYqbWivtGICC6xQud64dOCasMPf/hDW7hwYbDGxRXBtaYpsnvs2LHd7FRNBNf2yvka+vKiRYuCSHBFlEtED/OAK52LIsERwQvpApnvlNYOnbsp5UO0KA2Qrpt0w0aR4MqPr3VL5ZVXXgnGrPIfV/ILpVmRz2jdkg9o7KuOuCK4ns6otn/mgdLAQhHQDVpFeevcLSxal3Q+pptHigRXEFDoG1pzpFvoSbxq532V0qHUEsHTXMt0vYemUqhhTWdSJoAInrIBsnj4u+++O8jpGKZCCduolCh6TFWP05ZHglcSwXUCpZMz1adclIpm0P6K7tGiJSFcwrheQiYRQYsPBQI+ElDEt/yl/KVISkEksVs3kvS4uvxMkXmKatOj5b/+9a9LIrhEAEU/yMd0Y0m58XTBpH0oEPCBQC0RXBGhigxV1J18RGuaBO5yEVwRRfI5RdCFLwmUiCCxThddevGlcgwrglTChaLEw2jTMIpc0X0S2JTHNRoB64Md6GO2CJSL4BqbOjfT2FY6BEVeS4RTAIM+D59s0A0j+UlUBFeOe/nGPffcE4z/cvG5/P/wKSeJ3kqFEhZFXuvJCflf+BLOWpHgeqowfLpC9UqQULu15lUTwRXFrjVUQRd6ClFpYBQdqKeoFEGrm1mKGJQPn3TSSXbhhRdmy3i0xgsCSselsaf3vegJDN2gUQCEolz1xMTuu+8enNPp/E9risasnj7STVyd51XyC6WeVMCEApok+OmaTuP+N7/5TfBegFqR4LrZVG3/MO2eF8ahk6kTkJgtvUA+ICFcf//Lv/xLMO51A0g3i7Qm6Ht9p/My/a11odp5n9Y/fa+bv7oxmvW1TOstmkrqQ5EGFIgAIniBjOmqK7ow0YlP+QuCHn744eBiQvm744jgegGRxARdgCmSQcKDoo6Uk1HRNsuXLw9eNiZxXMKCLk50MUSBgE8EdMKmpyzCCNVo33WSF76YVmkV5DOK1FP+SF20R9OhSLCTOKEIP50Aals9YSGxYpdddvEJKX31lIBEcIleYUqhEEN4g0jrkQQD+YNeiKSnjyQGyPeigoDEMkUVSRxXfn6tdxIndKGktUo3dXUDSim/lApMvik/1YsBFWWriDu1QQJb+Y0tT01Dt1MkUC6Cqyka+7qRqjVCYpfyreoGkV6wJ4FLT0PonK08bYJuAOmpP/mIxLVawoFEOq1j8r3yohu7Sr2nSNU46VB0HikBUE8TKrWD9lHOV6XtqyaCjx49OjgHlZgvX9a5rW5USQiUsKKnHfUovYRHRaWLieqlQKDVBOQrusaSwK0xrSeOdH20zz77BE3RuaKeWND433777YO/3/e+9wXXV9X8Qjd6tVYpb7J8WqkoJRbq+q6WCK5ruGr7K7iJAoFWEZDYrad3pEMoaE6BBbpu0o2jHXbYIfANrV96glbXSHqSKXxar9p5n1LX6b0v2kfXTnpSqadI8LTXMuklaCqtGnEcxwcCiOA+WJk+QgACEIAABCDQNAGJ4Eo9pAhUCgQgAAEIQAACEIAABCAAAQjkhwAieH5sRUshAAEIQAACEEiRgERwPV6rKDkKBCAAAQhAAAIQgAAEIAABCOSHACJ4fmxFSyEAAQhAAAIQSJEAIniK8Dk0BCAAAQhAAAIQgAAEIACBJggggjcBj10hAAEIQAACEIAABCAAAQhAAAIQgAAEIAABCEAg2wQQwbNtH1oHAQhAAAIQgAAEIAABCEAAAhCAAAQgAAEIQAACTRBABG8CHrtCAAIQgAAEIAABCEAAAhCAAAQgAAEIQAACEIBAtgkggmfbPrQOAhCAAAQgAAEIQAACEIAABCAAAQhAAAIQgAAEmiCACN4EPHaFAAQgAAEIQAACEIAABCAAAQhAAAIQgAAEIACBbBNABM+2fWgdBCAAAQhAAAIQgAAEIAABCEAAAhCAAAQgAAEINEEAEbwJeOwKAQhAAAIQgAAEIAABCEAAAhCAAAQgAAEIQAAC2SaACJ5t+9A6CEAAAhCAAAQgAAEIQAACEIAABCAAAQhAAAIQaIIAIngT8NgVAhCAAAQgAAEIQAACEIAABCAAAQhAAAIQgAAEsk0AETzb9qF1EIAABCAAAQhAAAIQgAAEIAABCEAAAhCAAAQg0AQBRPAm4LErBCAAAQhAAAIQgAAEIAABCEAAAhCAAAQgAAEIZJsAIni27UPrIAABCEAAAhCAAAQgAAEIQAACEIAABCAAAQhAoAkCiOBNwGNXCEAAAhCAAAQgAAEIQAACEIAABCAAAQhAAAIQyDYBRPBs24fWQQACEIAABCAAAQhAAAIQgAAEIAABCEAAAhCAQBMEEMGbgMeuEIAABCAAAQhAAAIQgAAEIAABCEAAAhCAAAQgkG0CiODZtg+tgwAEIAABCEAAAhCAAAQgAAEIQAACEIAABCAAgSYIIII3AY9dIQABCEAAAhCAAAQgAAEIQAACEIAABCAAAQhAINsEEMGzbR9aBwEIQAACEIAABCAAAQhAAAIQgAAEIAABCEAAAk0QQARvAh67QgACEIAABCAAAQhAAAIQgAAEIAABCEAAAhCAQLYJIIJn2z60DgIQgAAEIAABCEAAAhCAAAQgAAEIQAACEIAABJoggAjeBDx2hQAEIAABCEAAAhCAAAQgAAEIQAACEIAABCAAgWwTQATPtn1oHQQgAAEIQAACEIAABCAAAQhAAAIQgAAEIAABCDRBoJsI3kRd7AoBCEAAAhCAAAQgAAEIQAACEIAABCAAAQhAAAIQyCSBXplsFY2CAAQgAAEIQAACEIAABCAAAQhAAAIQgAAEIAABCDgggAjuACJVQAACEIAABCAAAQhAAAIQgAAEIAABCEAAAhCAQDYJ/D8qP061f41k0AAAAABJRU5ErkJggg==\" />"
      ],
      "text/plain": [
       "Open the notebook in JupyterLab with the Atoti JupyterLab extension enabled to build this widget."
      ]
     },
     "metadata": {},
     "output_type": "display_data"
    }
   ],
   "source": [
    "session.widget"
   ]
  }
 ],
 "metadata": {
  "kernelspec": {
   "display_name": "Python 3 (ipykernel)",
   "language": "python",
   "name": "python3"
  },
  "language_info": {
   "codemirror_mode": {
    "name": "ipython",
    "version": 3
   },
   "file_extension": ".py",
   "mimetype": "text/x-python",
   "name": "python",
   "nbconvert_exporter": "python",
   "pygments_lexer": "ipython3",
   "version": "3.10.12"
  }
 },
 "nbformat": 4,
 "nbformat_minor": 5
}
