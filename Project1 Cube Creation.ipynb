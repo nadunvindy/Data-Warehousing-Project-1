{
 "cells": [
  {
   "cell_type": "code",
   "execution_count": 1,
   "id": "e3250406-7dc5-4889-bfec-fd13700da2ff",
   "metadata": {},
   "outputs": [
    {
     "name": "stdout",
     "output_type": "stream",
     "text": [
      "Welcome to Atoti 0.8.10!\n",
      "\n",
      "By using this community edition, you agree with the license available at https://docs.atoti.io/latest/eula.html.\n",
      "Browse the official documentation at https://docs.atoti.io.\n",
      "Join the community at https://www.atoti.io/register.\n",
      "\n",
      "Atoti collects telemetry data, which is used to help understand how to improve the product.\n",
      "If you don't wish to send usage data, you can request a trial license at https://www.atoti.io/evaluation-license-request.\n",
      "\n",
      "You can hide this message by setting the `ATOTI_HIDE_EULA_MESSAGE` environment variable to True.\n"
     ]
    }
   ],
   "source": [
    "import atoti as tt"
   ]
  },
  {
   "cell_type": "code",
   "execution_count": 2,
   "id": "5baab508-0f7f-498d-92d6-82f85cfdfb5a",
   "metadata": {},
   "outputs": [],
   "source": [
    "session = tt.Session(                            #Creare atoti session\n",
    "    user_content_storage=\".content\",\n",
    "    port=9095,\n",
    "    java_options=[\"-Xms1G\", \"-Xmx10G\"]\n",
    ")"
   ]
  },
  {
   "cell_type": "code",
   "execution_count": 3,
   "id": "42db0455-3217-44f3-8957-eb6e98bbe662",
   "metadata": {},
   "outputs": [],
   "source": [
    "db_name = \"Project1\"\n",
    "db_user = \"postgres\"\n",
    "db_password = \"postgres\"  \n",
    "db_host = \"localhost\"  \n",
    "db_port = \"5432\""
   ]
  },
  {
   "cell_type": "code",
   "execution_count": 4,
   "id": "0827c8bd-7294-492f-841b-6c3840e1b3c1",
   "metadata": {},
   "outputs": [],
   "source": [
    "jdbc_url = f\"jdbc:postgresql://{db_host}:{db_port}/{db_name}?user={db_user}&password={db_password}\" #Create URL"
   ]
  },
  {
   "cell_type": "code",
   "execution_count": 5,
   "id": "f6517067-5b30-4559-8178-b5c0b73adbed",
   "metadata": {},
   "outputs": [
    {
     "data": {
      "text/plain": [
       "'jdbc:postgresql://localhost:5432/Project1?user=postgres&password=postgres'"
      ]
     },
     "execution_count": 5,
     "metadata": {},
     "output_type": "execute_result"
    }
   ],
   "source": [
    "jdbc_url"
   ]
  },
  {
   "cell_type": "code",
   "execution_count": 6,
   "id": "0e3273fb-18f1-47a1-affd-8da19cd4e59a",
   "metadata": {},
   "outputs": [],
   "source": [
    "fact_olympic = session.read_sql(       #Get main fact table\n",
    "    \"SELECT * FROM factolympic\",\n",
    "    keys=[\"year\",\"country\"],\n",
    "    table_name=\"Olympic\",\n",
    "    url=jdbc_url,\n",
    ")"
   ]
  },
  {
   "cell_type": "code",
   "execution_count": 7,
   "id": "cae93443-5fb4-4579-8960-98883518ab4c",
   "metadata": {},
   "outputs": [],
   "source": [
    "dim_countries = session.read_sql(     #Get countries facttable\n",
    "    \"SELECT * FROM dimcountries\",\n",
    "    keys=[\"country\"],\n",
    "    table_name=\"Countries\",\n",
    "    url=jdbc_url)"
   ]
  },
  {
   "cell_type": "code",
   "execution_count": 8,
   "id": "efc6f584-fb36-4d51-b59b-5e88e5f692bc",
   "metadata": {},
   "outputs": [],
   "source": [
    "dim_life = session.read_sql( #Get life expectancy dimension table\n",
    "    \"SELECT * FROM dimlife\",\n",
    "    keys=[\"year\",\"country\"],\n",
    "    table_name=\"Life\",\n",
    "    url=jdbc_url)"
   ]
  },
  {
   "cell_type": "code",
   "execution_count": 9,
   "id": "0f054f27-207b-422a-885d-76e35834d64e",
   "metadata": {},
   "outputs": [],
   "source": [
    "dim_time = session.read_sql(  #Get time dimension table\n",
    "    \"SELECT * FROM dimtime\",\n",
    "    keys=[\"year\"],\n",
    "    table_name=\"Time\",\n",
    "    url=jdbc_url)"
   ]
  },
  {
   "cell_type": "code",
   "execution_count": 10,
   "id": "89612d1e-0b70-40ac-807d-40d4381a420a",
   "metadata": {},
   "outputs": [],
   "source": [
    "fact_olympic.join(dim_countries, fact_olympic[\"country\"] == dim_countries[\"country\"])  #Join tables based "
   ]
  },
  {
   "cell_type": "code",
   "execution_count": 11,
   "id": "3cb62449-c5b1-4822-aea0-8bc729813214",
   "metadata": {},
   "outputs": [],
   "source": [
    "fact_olympic.join(dim_life, (fact_olympic[\"year\"] == dim_life[\"year\"] )& (fact_olympic[\"country\"] == dim_life[\"country\"]))"
   ]
  },
  {
   "cell_type": "code",
   "execution_count": 12,
   "id": "c24d7969-02e1-4d84-8c24-877e8ef78fd5",
   "metadata": {},
   "outputs": [],
   "source": [
    "fact_olympic.join(dim_time, fact_olympic[\"year\"] == dim_time[\"year\"])"
   ]
  },
  {
   "cell_type": "code",
   "execution_count": 13,
   "id": "42d9d7e5-47fb-4492-ac2e-27aec91890c1",
   "metadata": {},
   "outputs": [
    {
     "data": {
      "text/markdown": [
       "```mermaid\n",
       "erDiagram\n",
       "  \"Countries\" {\n",
       "    _ String PK \"country\"\n",
       "    _ String \"continent\"\n",
       "  }\n",
       "  \"Life\" {\n",
       "    _ int PK \"year\"\n",
       "    _ String PK \"country\"\n",
       "    _ String \"lifeexpectancy\"\n",
       "    _ String \"population\"\n",
       "  }\n",
       "  \"Time\" {\n",
       "    _ int PK \"year\"\n",
       "    _ String \"decade\"\n",
       "    _ String \"season\"\n",
       "  }\n",
       "  \"Olympic\" {\n",
       "    _ int PK \"year\"\n",
       "    _ String PK \"country\"\n",
       "    nullable int \"bronze\"\n",
       "    nullable int \"silver\"\n",
       "    nullable int \"gold\"\n",
       "    nullable int \"total\"\n",
       "    nullable double \"depression\"\n",
       "    nullable double \"schizophrenia\"\n",
       "    nullable double \"bipolar\"\n",
       "    nullable double \"eatingdisorder\"\n",
       "    nullable double \"anxiety\"\n",
       "  }\n",
       "  \"Olympic\" }o--o| \"Countries\" : \"`country` == `country`\"\n",
       "  \"Olympic\" }o--o| \"Life\" : \"(`year` == `year`) & (`country` == `country`)\"\n",
       "  \"Olympic\" }o--o| \"Time\" : \"`year` == `year`\"\n",
       "```\n"
      ],
      "text/plain": [
       "erDiagram\n",
       "  \"Countries\" {\n",
       "    _ String PK \"country\"\n",
       "    _ String \"continent\"\n",
       "  }\n",
       "  \"Life\" {\n",
       "    _ int PK \"year\"\n",
       "    _ String PK \"country\"\n",
       "    _ String \"lifeexpectancy\"\n",
       "    _ String \"population\"\n",
       "  }\n",
       "  \"Time\" {\n",
       "    _ int PK \"year\"\n",
       "    _ String \"decade\"\n",
       "    _ String \"season\"\n",
       "  }\n",
       "  \"Olympic\" {\n",
       "    _ int PK \"year\"\n",
       "    _ String PK \"country\"\n",
       "    nullable int \"bronze\"\n",
       "    nullable int \"silver\"\n",
       "    nullable int \"gold\"\n",
       "    nullable int \"total\"\n",
       "    nullable double \"depression\"\n",
       "    nullable double \"schizophrenia\"\n",
       "    nullable double \"bipolar\"\n",
       "    nullable double \"eatingdisorder\"\n",
       "    nullable double \"anxiety\"\n",
       "  }\n",
       "  \"Olympic\" }o--o| \"Countries\" : \"`country` == `country`\"\n",
       "  \"Olympic\" }o--o| \"Life\" : \"(`year` == `year`) & (`country` == `country`)\"\n",
       "  \"Olympic\" }o--o| \"Time\" : \"`year` == `year`\""
      ]
     },
     "execution_count": 13,
     "metadata": {},
     "output_type": "execute_result"
    }
   ],
   "source": [
    "session.tables.schema"
   ]
  },
  {
   "cell_type": "code",
   "execution_count": 14,
   "id": "860a487d-8e0e-4637-92f3-ef9d6269b62e",
   "metadata": {},
   "outputs": [],
   "source": [
    "testcube = session.create_cube(fact_olympic)  #Cube creation"
   ]
  },
  {
   "cell_type": "code",
   "execution_count": 15,
   "id": "56262118-9490-4f59-8642-fd26bbaf1c72",
   "metadata": {
    "scrolled": true
   },
   "outputs": [
    {
     "data": {
      "application/json": {
       "Dimensions": {
        "Countries": {
         "continent": [
          "continent"
         ]
        },
        "Life": {
         "lifeexpectancy": [
          "lifeexpectancy"
         ],
         "population": [
          "population"
         ]
        },
        "Olympic": {
         "country": [
          "country"
         ],
         "year": [
          "year"
         ]
        },
        "Time": {
         "decade": [
          "decade"
         ],
         "season": [
          "season"
         ]
        }
       },
       "Measures": {
        "anxiety.MEAN": {
         "formatter": "DOUBLE[#,###.00]"
        },
        "anxiety.SUM": {
         "formatter": "DOUBLE[#,###.00]"
        },
        "bipolar.MEAN": {
         "formatter": "DOUBLE[#,###.00]"
        },
        "bipolar.SUM": {
         "formatter": "DOUBLE[#,###.00]"
        },
        "bronze.MEAN": {
         "formatter": "DOUBLE[#,###.00]"
        },
        "bronze.SUM": {
         "formatter": "INT[#,###]"
        },
        "contributors.COUNT": {
         "formatter": "INT[#,###]"
        },
        "depression.MEAN": {
         "formatter": "DOUBLE[#,###.00]"
        },
        "depression.SUM": {
         "formatter": "DOUBLE[#,###.00]"
        },
        "eatingdisorder.MEAN": {
         "formatter": "DOUBLE[#,###.00]"
        },
        "eatingdisorder.SUM": {
         "formatter": "DOUBLE[#,###.00]"
        },
        "gold.MEAN": {
         "formatter": "DOUBLE[#,###.00]"
        },
        "gold.SUM": {
         "formatter": "INT[#,###]"
        },
        "schizophrenia.MEAN": {
         "formatter": "DOUBLE[#,###.00]"
        },
        "schizophrenia.SUM": {
         "formatter": "DOUBLE[#,###.00]"
        },
        "silver.MEAN": {
         "formatter": "DOUBLE[#,###.00]"
        },
        "silver.SUM": {
         "formatter": "INT[#,###]"
        },
        "total.MEAN": {
         "formatter": "DOUBLE[#,###.00]"
        },
        "total.SUM": {
         "formatter": "INT[#,###]"
        }
       }
      },
      "text/html": [
       "<ul>\n",
       "<li>Olympic\n",
       "  <ul>\n",
       "  <li>Dimensions\n",
       "    <ul>\n",
       "    <li>Countries\n",
       "      <ul>\n",
       "      <li>continent\n",
       "        <ol>\n",
       "        <li>continent</li>\n",
       "        </ol>      </li>\n",
       "      </ul>\n",
       "    </li>\n",
       "    <li>Life\n",
       "      <ul>\n",
       "      <li>lifeexpectancy\n",
       "        <ol>\n",
       "        <li>lifeexpectancy</li>\n",
       "        </ol>      </li>\n",
       "      <li>population\n",
       "        <ol>\n",
       "        <li>population</li>\n",
       "        </ol>      </li>\n",
       "      </ul>\n",
       "    </li>\n",
       "    <li>Olympic\n",
       "      <ul>\n",
       "      <li>country\n",
       "        <ol>\n",
       "        <li>country</li>\n",
       "        </ol>      </li>\n",
       "      <li>year\n",
       "        <ol>\n",
       "        <li>year</li>\n",
       "        </ol>      </li>\n",
       "      </ul>\n",
       "    </li>\n",
       "    <li>Time\n",
       "      <ul>\n",
       "      <li>decade\n",
       "        <ol>\n",
       "        <li>decade</li>\n",
       "        </ol>      </li>\n",
       "      <li>season\n",
       "        <ol>\n",
       "        <li>season</li>\n",
       "        </ol>      </li>\n",
       "      </ul>\n",
       "    </li>\n",
       "    </ul>\n",
       "  </li>\n",
       "  <li>Measures\n",
       "    <ul>\n",
       "    <li>anxiety.MEAN\n",
       "      <ul>\n",
       "      <li>formatter: DOUBLE[#,###.00]</li>\n",
       "      </ul>\n",
       "    </li>\n",
       "    <li>anxiety.SUM\n",
       "      <ul>\n",
       "      <li>formatter: DOUBLE[#,###.00]</li>\n",
       "      </ul>\n",
       "    </li>\n",
       "    <li>bipolar.MEAN\n",
       "      <ul>\n",
       "      <li>formatter: DOUBLE[#,###.00]</li>\n",
       "      </ul>\n",
       "    </li>\n",
       "    <li>bipolar.SUM\n",
       "      <ul>\n",
       "      <li>formatter: DOUBLE[#,###.00]</li>\n",
       "      </ul>\n",
       "    </li>\n",
       "    <li>bronze.MEAN\n",
       "      <ul>\n",
       "      <li>formatter: DOUBLE[#,###.00]</li>\n",
       "      </ul>\n",
       "    </li>\n",
       "    <li>bronze.SUM\n",
       "      <ul>\n",
       "      <li>formatter: INT[#,###]</li>\n",
       "      </ul>\n",
       "    </li>\n",
       "    <li>contributors.COUNT\n",
       "      <ul>\n",
       "      <li>formatter: INT[#,###]</li>\n",
       "      </ul>\n",
       "    </li>\n",
       "    <li>depression.MEAN\n",
       "      <ul>\n",
       "      <li>formatter: DOUBLE[#,###.00]</li>\n",
       "      </ul>\n",
       "    </li>\n",
       "    <li>depression.SUM\n",
       "      <ul>\n",
       "      <li>formatter: DOUBLE[#,###.00]</li>\n",
       "      </ul>\n",
       "    </li>\n",
       "    <li>eatingdisorder.MEAN\n",
       "      <ul>\n",
       "      <li>formatter: DOUBLE[#,###.00]</li>\n",
       "      </ul>\n",
       "    </li>\n",
       "    <li>eatingdisorder.SUM\n",
       "      <ul>\n",
       "      <li>formatter: DOUBLE[#,###.00]</li>\n",
       "      </ul>\n",
       "    </li>\n",
       "    <li>gold.MEAN\n",
       "      <ul>\n",
       "      <li>formatter: DOUBLE[#,###.00]</li>\n",
       "      </ul>\n",
       "    </li>\n",
       "    <li>gold.SUM\n",
       "      <ul>\n",
       "      <li>formatter: INT[#,###]</li>\n",
       "      </ul>\n",
       "    </li>\n",
       "    <li>schizophrenia.MEAN\n",
       "      <ul>\n",
       "      <li>formatter: DOUBLE[#,###.00]</li>\n",
       "      </ul>\n",
       "    </li>\n",
       "    <li>schizophrenia.SUM\n",
       "      <ul>\n",
       "      <li>formatter: DOUBLE[#,###.00]</li>\n",
       "      </ul>\n",
       "    </li>\n",
       "    <li>silver.MEAN\n",
       "      <ul>\n",
       "      <li>formatter: DOUBLE[#,###.00]</li>\n",
       "      </ul>\n",
       "    </li>\n",
       "    <li>silver.SUM\n",
       "      <ul>\n",
       "      <li>formatter: INT[#,###]</li>\n",
       "      </ul>\n",
       "    </li>\n",
       "    <li>total.MEAN\n",
       "      <ul>\n",
       "      <li>formatter: DOUBLE[#,###.00]</li>\n",
       "      </ul>\n",
       "    </li>\n",
       "    <li>total.SUM\n",
       "      <ul>\n",
       "      <li>formatter: INT[#,###]</li>\n",
       "      </ul>\n",
       "    </li>\n",
       "    </ul>\n",
       "  </li>\n",
       "  </ul>\n",
       "</li>\n",
       "</ul>\n"
      ],
      "text/plain": [
       "<atoti.cube.Cube at 0x75cdd41baec0>"
      ]
     },
     "execution_count": 15,
     "metadata": {
      "application/json": {
       "expanded": false,
       "root": "Olympic"
      }
     },
     "output_type": "execute_result"
    }
   ],
   "source": [
    "testcube"
   ]
  },
  {
   "cell_type": "code",
   "execution_count": 16,
   "id": "ad272527-67cd-4785-b77f-f7bb45bef4f8",
   "metadata": {},
   "outputs": [],
   "source": [
    "hierarchies, levels, measures = testcube.hierarchies, testcube.levels, testcube.measures"
   ]
  },
  {
   "cell_type": "code",
   "execution_count": 23,
   "id": "c9d6c08f-9247-46ea-a535-74527fda3c9d",
   "metadata": {},
   "outputs": [],
   "source": [
    "hierarchies[\"Countries\",\"continent\"] = [dim_countries[\"continent\"],dim_countries[\"country\"]]\n",
    "hierarchies[\"Time\",\"time\"] = [dim_time[\"decade\"],dim_time[\"year\"],dim_time['season']]\n",
    "hierarchies[\"Lifexpectancy\",\"lifeexpectancy\"] = [dim_life[\"lifeexpectancy\"],dim_life['population']]"
   ]
  },
  {
   "cell_type": "code",
   "execution_count": 18,
   "id": "df93ed09-8f59-4d50-9c1c-0a336cc78995",
   "metadata": {
    "scrolled": true
   },
   "outputs": [],
   "source": [
    "del hierarchies[\"Olympic\",\"country\"]\n",
    "del hierarchies[\"Olympic\",\"year\"]\n",
    "del hierarchies[\"Time\",\"decade\"]\n",
    "del hierarchies['Time','season']"
   ]
  },
  {
   "cell_type": "code",
   "execution_count": 27,
   "id": "6cbfab1d-52e8-4a00-a222-f25561915a9b",
   "metadata": {},
   "outputs": [],
   "source": [
    "del hierarchies['Life', 'population']\n",
    "del hierarchies ['Life', 'lifeexpectancy']"
   ]
  },
  {
   "cell_type": "code",
   "execution_count": 28,
   "id": "c58044dc-345b-4c83-8525-7325ffe7365d",
   "metadata": {},
   "outputs": [
    {
     "data": {
      "text/plain": [
       "[('Countries', 'continent', 'continent'),\n",
       " ('Countries', 'continent', 'country'),\n",
       " ('Time', 'time', 'decade'),\n",
       " ('Time', 'time', 'year'),\n",
       " ('Time', 'time', 'season'),\n",
       " ('Lifexpectancy', 'lifeexpectancy', 'lifeexpectancy'),\n",
       " ('Lifexpectancy', 'lifeexpectancy', 'population')]"
      ]
     },
     "execution_count": 28,
     "metadata": {},
     "output_type": "execute_result"
    }
   ],
   "source": [
    "list(levels)"
   ]
  },
  {
   "cell_type": "code",
   "execution_count": 29,
   "id": "a37cce50-f22f-407e-8ec3-0c048a695447",
   "metadata": {},
   "outputs": [
    {
     "data": {
      "application/json": {
       "anxiety.MEAN": {
        "formatter": "DOUBLE[#,###.00]"
       },
       "anxiety.SUM": {
        "formatter": "DOUBLE[#,###.00]"
       },
       "bipolar.MEAN": {
        "formatter": "DOUBLE[#,###.00]"
       },
       "bipolar.SUM": {
        "formatter": "DOUBLE[#,###.00]"
       },
       "bronze.MEAN": {
        "formatter": "DOUBLE[#,###.00]"
       },
       "bronze.SUM": {
        "formatter": "INT[#,###]"
       },
       "contributors.COUNT": {
        "formatter": "INT[#,###]"
       },
       "depression.MEAN": {
        "formatter": "DOUBLE[#,###.00]"
       },
       "depression.SUM": {
        "formatter": "DOUBLE[#,###.00]"
       },
       "eatingdisorder.MEAN": {
        "formatter": "DOUBLE[#,###.00]"
       },
       "eatingdisorder.SUM": {
        "formatter": "DOUBLE[#,###.00]"
       },
       "gold.MEAN": {
        "formatter": "DOUBLE[#,###.00]"
       },
       "gold.SUM": {
        "formatter": "INT[#,###]"
       },
       "schizophrenia.MEAN": {
        "formatter": "DOUBLE[#,###.00]"
       },
       "schizophrenia.SUM": {
        "formatter": "DOUBLE[#,###.00]"
       },
       "silver.MEAN": {
        "formatter": "DOUBLE[#,###.00]"
       },
       "silver.SUM": {
        "formatter": "INT[#,###]"
       },
       "total.MEAN": {
        "formatter": "DOUBLE[#,###.00]"
       },
       "total.SUM": {
        "formatter": "INT[#,###]"
       }
      },
      "text/html": [
       "<ul>\n",
       "<li>Measures\n",
       "  <ul>\n",
       "  <li>anxiety.MEAN\n",
       "    <ul>\n",
       "    <li>formatter: DOUBLE[#,###.00]</li>\n",
       "    </ul>\n",
       "  </li>\n",
       "  <li>anxiety.SUM\n",
       "    <ul>\n",
       "    <li>formatter: DOUBLE[#,###.00]</li>\n",
       "    </ul>\n",
       "  </li>\n",
       "  <li>bipolar.MEAN\n",
       "    <ul>\n",
       "    <li>formatter: DOUBLE[#,###.00]</li>\n",
       "    </ul>\n",
       "  </li>\n",
       "  <li>bipolar.SUM\n",
       "    <ul>\n",
       "    <li>formatter: DOUBLE[#,###.00]</li>\n",
       "    </ul>\n",
       "  </li>\n",
       "  <li>bronze.MEAN\n",
       "    <ul>\n",
       "    <li>formatter: DOUBLE[#,###.00]</li>\n",
       "    </ul>\n",
       "  </li>\n",
       "  <li>bronze.SUM\n",
       "    <ul>\n",
       "    <li>formatter: INT[#,###]</li>\n",
       "    </ul>\n",
       "  </li>\n",
       "  <li>contributors.COUNT\n",
       "    <ul>\n",
       "    <li>formatter: INT[#,###]</li>\n",
       "    </ul>\n",
       "  </li>\n",
       "  <li>depression.MEAN\n",
       "    <ul>\n",
       "    <li>formatter: DOUBLE[#,###.00]</li>\n",
       "    </ul>\n",
       "  </li>\n",
       "  <li>depression.SUM\n",
       "    <ul>\n",
       "    <li>formatter: DOUBLE[#,###.00]</li>\n",
       "    </ul>\n",
       "  </li>\n",
       "  <li>eatingdisorder.MEAN\n",
       "    <ul>\n",
       "    <li>formatter: DOUBLE[#,###.00]</li>\n",
       "    </ul>\n",
       "  </li>\n",
       "  <li>eatingdisorder.SUM\n",
       "    <ul>\n",
       "    <li>formatter: DOUBLE[#,###.00]</li>\n",
       "    </ul>\n",
       "  </li>\n",
       "  <li>gold.MEAN\n",
       "    <ul>\n",
       "    <li>formatter: DOUBLE[#,###.00]</li>\n",
       "    </ul>\n",
       "  </li>\n",
       "  <li>gold.SUM\n",
       "    <ul>\n",
       "    <li>formatter: INT[#,###]</li>\n",
       "    </ul>\n",
       "  </li>\n",
       "  <li>schizophrenia.MEAN\n",
       "    <ul>\n",
       "    <li>formatter: DOUBLE[#,###.00]</li>\n",
       "    </ul>\n",
       "  </li>\n",
       "  <li>schizophrenia.SUM\n",
       "    <ul>\n",
       "    <li>formatter: DOUBLE[#,###.00]</li>\n",
       "    </ul>\n",
       "  </li>\n",
       "  <li>silver.MEAN\n",
       "    <ul>\n",
       "    <li>formatter: DOUBLE[#,###.00]</li>\n",
       "    </ul>\n",
       "  </li>\n",
       "  <li>silver.SUM\n",
       "    <ul>\n",
       "    <li>formatter: INT[#,###]</li>\n",
       "    </ul>\n",
       "  </li>\n",
       "  <li>total.MEAN\n",
       "    <ul>\n",
       "    <li>formatter: DOUBLE[#,###.00]</li>\n",
       "    </ul>\n",
       "  </li>\n",
       "  <li>total.SUM\n",
       "    <ul>\n",
       "    <li>formatter: INT[#,###]</li>\n",
       "    </ul>\n",
       "  </li>\n",
       "  </ul>\n",
       "</li>\n",
       "</ul>\n"
      ],
      "text/plain": [
       "{'contributors.COUNT': <atoti.measure.Measure object at 0x75cdcc5565c0>, 'update.TIMESTAMP': <atoti.measure.Measure object at 0x75cdaf417070>, 'depression.MEAN': <atoti.measure.Measure object at 0x75cdaf417010>, 'depression.SUM': <atoti.measure.Measure object at 0x75cdaf416fe0>, 'bipolar.MEAN': <atoti.measure.Measure object at 0x75cdaf417130>, 'bipolar.SUM': <atoti.measure.Measure object at 0x75cdaf417100>, 'bronze.MEAN': <atoti.measure.Measure object at 0x75cdaf4170a0>, 'bronze.SUM': <atoti.measure.Measure object at 0x75cdaf4170d0>, 'total.MEAN': <atoti.measure.Measure object at 0x75cdaf4171c0>, 'total.SUM': <atoti.measure.Measure object at 0x75cdaf4171f0>, 'anxiety.MEAN': <atoti.measure.Measure object at 0x75cdaf417160>, 'anxiety.SUM': <atoti.measure.Measure object at 0x75cdaf417190>, 'silver.MEAN': <atoti.measure.Measure object at 0x75cdaf417280>, 'silver.SUM': <atoti.measure.Measure object at 0x75cdaf4172b0>, 'gold.MEAN': <atoti.measure.Measure object at 0x75cdaf417220>, 'gold.SUM': <atoti.measure.Measure object at 0x75cdaf417250>, 'schizophrenia.MEAN': <atoti.measure.Measure object at 0x75cdaf417340>, 'schizophrenia.SUM': <atoti.measure.Measure object at 0x75cdaf417370>, 'eatingdisorder.MEAN': <atoti.measure.Measure object at 0x75cdaf4172e0>, 'eatingdisorder.SUM': <atoti.measure.Measure object at 0x75cdaf417310>}"
      ]
     },
     "execution_count": 29,
     "metadata": {
      "application/json": {
       "expanded": false,
       "root": "Measures"
      }
     },
     "output_type": "execute_result"
    }
   ],
   "source": [
    "measures"
   ]
  },
  {
   "cell_type": "code",
   "execution_count": 33,
   "id": "c947c29a-164f-4d4e-80ad-557f47100ff7",
   "metadata": {},
   "outputs": [
    {
     "data": {
      "text/html": [
       "<div>\n",
       "<style scoped>\n",
       "    .dataframe tbody tr th:only-of-type {\n",
       "        vertical-align: middle;\n",
       "    }\n",
       "\n",
       "    .dataframe tbody tr th {\n",
       "        vertical-align: top;\n",
       "    }\n",
       "\n",
       "    .dataframe thead th {\n",
       "        text-align: right;\n",
       "    }\n",
       "</style>\n",
       "<table border=\"1\" class=\"dataframe\">\n",
       "  <thead>\n",
       "    <tr style=\"text-align: right;\">\n",
       "      <th></th>\n",
       "      <th></th>\n",
       "      <th></th>\n",
       "      <th></th>\n",
       "      <th>depression.SUM</th>\n",
       "      <th>total.SUM</th>\n",
       "    </tr>\n",
       "    <tr>\n",
       "      <th>lifeexpectancy</th>\n",
       "      <th>population</th>\n",
       "      <th>continent</th>\n",
       "      <th>country</th>\n",
       "      <th></th>\n",
       "      <th></th>\n",
       "    </tr>\n",
       "  </thead>\n",
       "  <tbody>\n",
       "    <tr>\n",
       "      <th rowspan=\"39\" valign=\"top\">High</th>\n",
       "      <th rowspan=\"18\" valign=\"top\">High</th>\n",
       "      <th rowspan=\"2\" valign=\"top\">Asia</th>\n",
       "      <th>Japan</th>\n",
       "      <td>2,594.42</td>\n",
       "      <td>18</td>\n",
       "    </tr>\n",
       "    <tr>\n",
       "      <th>Malaysia</th>\n",
       "      <td>1,122.02</td>\n",
       "      <td>8</td>\n",
       "    </tr>\n",
       "    <tr>\n",
       "      <th rowspan=\"9\" valign=\"top\">Europe</th>\n",
       "      <th>France</th>\n",
       "      <td>7,237.99</td>\n",
       "      <td>54</td>\n",
       "    </tr>\n",
       "    <tr>\n",
       "      <th>Germany</th>\n",
       "      <td>8,132.09</td>\n",
       "      <td>157</td>\n",
       "    </tr>\n",
       "    <tr>\n",
       "      <th>Italy</th>\n",
       "      <td>7,216.27</td>\n",
       "      <td>46</td>\n",
       "    </tr>\n",
       "    <tr>\n",
       "      <th>Netherlands</th>\n",
       "      <td>4,332.93</td>\n",
       "      <td>22</td>\n",
       "    </tr>\n",
       "    <tr>\n",
       "      <th>Poland</th>\n",
       "      <td>1,977.35</td>\n",
       "      <td>26</td>\n",
       "    </tr>\n",
       "    <tr>\n",
       "      <th>Romania</th>\n",
       "      <td>1,281.02</td>\n",
       "      <td>12</td>\n",
       "    </tr>\n",
       "    <tr>\n",
       "      <th>Spain</th>\n",
       "      <td>5,030.28</td>\n",
       "      <td>40</td>\n",
       "    </tr>\n",
       "    <tr>\n",
       "      <th>Ukraine</th>\n",
       "      <td>682.16</td>\n",
       "      <td>2</td>\n",
       "    </tr>\n",
       "    <tr>\n",
       "      <th>United Kingdom</th>\n",
       "      <td>5,919.54</td>\n",
       "      <td>79</td>\n",
       "    </tr>\n",
       "    <tr>\n",
       "      <th rowspan=\"3\" valign=\"top\">North America</th>\n",
       "      <th>Canada</th>\n",
       "      <td>7,842.63</td>\n",
       "      <td>61</td>\n",
       "    </tr>\n",
       "    <tr>\n",
       "      <th>Mexico</th>\n",
       "      <td>1,223.57</td>\n",
       "      <td>6</td>\n",
       "    </tr>\n",
       "    <tr>\n",
       "      <th>United States</th>\n",
       "      <td>10,276.10</td>\n",
       "      <td>124</td>\n",
       "    </tr>\n",
       "    <tr>\n",
       "      <th>Oceania</th>\n",
       "      <th>Australia</th>\n",
       "      <td>5,885.74</td>\n",
       "      <td>92</td>\n",
       "    </tr>\n",
       "    <tr>\n",
       "      <th rowspan=\"3\" valign=\"top\">South America</th>\n",
       "      <th>Argentina</th>\n",
       "      <td>2,693.33</td>\n",
       "      <td>16</td>\n",
       "    </tr>\n",
       "    <tr>\n",
       "      <th>Brazil</th>\n",
       "      <td>2,998.17</td>\n",
       "      <td>21</td>\n",
       "    </tr>\n",
       "    <tr>\n",
       "      <th>Chile</th>\n",
       "      <td>768.88</td>\n",
       "      <td>2</td>\n",
       "    </tr>\n",
       "    <tr>\n",
       "      <th rowspan=\"4\" valign=\"top\">Low</th>\n",
       "      <th rowspan=\"4\" valign=\"top\">Europe</th>\n",
       "      <th>Estonia</th>\n",
       "      <td>704.62</td>\n",
       "      <td>2</td>\n",
       "    </tr>\n",
       "    <tr>\n",
       "      <th>Latvia</th>\n",
       "      <td>2,593.75</td>\n",
       "      <td>10</td>\n",
       "    </tr>\n",
       "    <tr>\n",
       "      <th>Lithuania</th>\n",
       "      <td>705.96</td>\n",
       "      <td>6</td>\n",
       "    </tr>\n",
       "    <tr>\n",
       "      <th>Slovenia</th>\n",
       "      <td>2,406.68</td>\n",
       "      <td>8</td>\n",
       "    </tr>\n",
       "    <tr>\n",
       "      <th rowspan=\"17\" valign=\"top\">Medium</th>\n",
       "      <th rowspan=\"16\" valign=\"top\">Europe</th>\n",
       "      <th>Austria</th>\n",
       "      <td>4,362.95</td>\n",
       "      <td>16</td>\n",
       "    </tr>\n",
       "    <tr>\n",
       "      <th>Belarus</th>\n",
       "      <td>1,387.90</td>\n",
       "      <td>3</td>\n",
       "    </tr>\n",
       "    <tr>\n",
       "      <th>Belgium</th>\n",
       "      <td>569.82</td>\n",
       "      <td>4</td>\n",
       "    </tr>\n",
       "    <tr>\n",
       "      <th>Bulgaria</th>\n",
       "      <td>986.76</td>\n",
       "      <td>4</td>\n",
       "    </tr>\n",
       "    <tr>\n",
       "      <th>Croatia</th>\n",
       "      <td>1,612.49</td>\n",
       "      <td>10</td>\n",
       "    </tr>\n",
       "    <tr>\n",
       "      <th>Denmark</th>\n",
       "      <td>3,207.01</td>\n",
       "      <td>27</td>\n",
       "    </tr>\n",
       "    <tr>\n",
       "      <th>Finland</th>\n",
       "      <td>3,218.68</td>\n",
       "      <td>10</td>\n",
       "    </tr>\n",
       "    <tr>\n",
       "      <th>Greece</th>\n",
       "      <td>3,929.31</td>\n",
       "      <td>10</td>\n",
       "    </tr>\n",
       "    <tr>\n",
       "      <th>Hungary</th>\n",
       "      <td>2,960.70</td>\n",
       "      <td>26</td>\n",
       "    </tr>\n",
       "    <tr>\n",
       "      <th>Ireland</th>\n",
       "      <td>730.80</td>\n",
       "      <td>2</td>\n",
       "    </tr>\n",
       "    <tr>\n",
       "      <th>Lithuania</th>\n",
       "      <td>781.46</td>\n",
       "      <td>2</td>\n",
       "    </tr>\n",
       "    <tr>\n",
       "      <th>Norway</th>\n",
       "      <td>4,232.40</td>\n",
       "      <td>21</td>\n",
       "    </tr>\n",
       "    <tr>\n",
       "      <th>Portugal</th>\n",
       "      <td>1,723.48</td>\n",
       "      <td>4</td>\n",
       "    </tr>\n",
       "    <tr>\n",
       "      <th>Serbia</th>\n",
       "      <td>456.12</td>\n",
       "      <td>2</td>\n",
       "    </tr>\n",
       "    <tr>\n",
       "      <th>Sweden</th>\n",
       "      <td>7,477.36</td>\n",
       "      <td>31</td>\n",
       "    </tr>\n",
       "    <tr>\n",
       "      <th>Switzerland</th>\n",
       "      <td>6,547.98</td>\n",
       "      <td>25</td>\n",
       "    </tr>\n",
       "    <tr>\n",
       "      <th>Oceania</th>\n",
       "      <th>New Zealand</th>\n",
       "      <td>3,222.05</td>\n",
       "      <td>32</td>\n",
       "    </tr>\n",
       "    <tr>\n",
       "      <th>Low</th>\n",
       "      <th>High</th>\n",
       "      <th>Africa</th>\n",
       "      <th>South Africa</th>\n",
       "      <td>670.11</td>\n",
       "      <td>2</td>\n",
       "    </tr>\n",
       "    <tr>\n",
       "      <th rowspan=\"9\" valign=\"top\">Medium</th>\n",
       "      <th rowspan=\"5\" valign=\"top\">High</th>\n",
       "      <th>Africa</th>\n",
       "      <th>South Africa</th>\n",
       "      <td>1,449.38</td>\n",
       "      <td>4</td>\n",
       "    </tr>\n",
       "    <tr>\n",
       "      <th>Asia</th>\n",
       "      <th>Indonesia</th>\n",
       "      <td>2,056.61</td>\n",
       "      <td>16</td>\n",
       "    </tr>\n",
       "    <tr>\n",
       "      <th rowspan=\"2\" valign=\"top\">Europe</th>\n",
       "      <th>Romania</th>\n",
       "      <td>1,295.85</td>\n",
       "      <td>12</td>\n",
       "    </tr>\n",
       "    <tr>\n",
       "      <th>Ukraine</th>\n",
       "      <td>3,899.84</td>\n",
       "      <td>13</td>\n",
       "    </tr>\n",
       "    <tr>\n",
       "      <th>South America</th>\n",
       "      <th>Brazil</th>\n",
       "      <td>1,551.98</td>\n",
       "      <td>12</td>\n",
       "    </tr>\n",
       "    <tr>\n",
       "      <th rowspan=\"2\" valign=\"top\">Low</th>\n",
       "      <th rowspan=\"2\" valign=\"top\">Europe</th>\n",
       "      <th>Estonia</th>\n",
       "      <td>838.08</td>\n",
       "      <td>2</td>\n",
       "    </tr>\n",
       "    <tr>\n",
       "      <th>Moldova</th>\n",
       "      <td>608.38</td>\n",
       "      <td>1</td>\n",
       "    </tr>\n",
       "    <tr>\n",
       "      <th rowspan=\"2\" valign=\"top\">Medium</th>\n",
       "      <th rowspan=\"2\" valign=\"top\">Europe</th>\n",
       "      <th>Belarus</th>\n",
       "      <td>724.33</td>\n",
       "      <td>1</td>\n",
       "    </tr>\n",
       "    <tr>\n",
       "      <th>Hungary</th>\n",
       "      <td>573.25</td>\n",
       "      <td>2</td>\n",
       "    </tr>\n",
       "    <tr>\n",
       "      <th rowspan=\"6\" valign=\"top\">N/A</th>\n",
       "      <th rowspan=\"6\" valign=\"top\">N/A</th>\n",
       "      <th rowspan=\"3\" valign=\"top\">Asia</th>\n",
       "      <th>China</th>\n",
       "      <td>4,845.83</td>\n",
       "      <td>151</td>\n",
       "    </tr>\n",
       "    <tr>\n",
       "      <th>North Korea</th>\n",
       "      <td>441.51</td>\n",
       "      <td>2</td>\n",
       "    </tr>\n",
       "    <tr>\n",
       "      <th>South Korea</th>\n",
       "      <td>2,366.61</td>\n",
       "      <td>29</td>\n",
       "    </tr>\n",
       "    <tr>\n",
       "      <th rowspan=\"2\" valign=\"top\">Europe</th>\n",
       "      <th>Russia</th>\n",
       "      <td>5,822.42</td>\n",
       "      <td>82</td>\n",
       "    </tr>\n",
       "    <tr>\n",
       "      <th>Slovakia</th>\n",
       "      <td>2,244.53</td>\n",
       "      <td>10</td>\n",
       "    </tr>\n",
       "    <tr>\n",
       "      <th>North America</th>\n",
       "      <th>Cuba</th>\n",
       "      <td>1,558.33</td>\n",
       "      <td>4</td>\n",
       "    </tr>\n",
       "  </tbody>\n",
       "</table>\n",
       "</div>"
      ],
      "text/plain": [
       "                                                       depression.SUM  \\\n",
       "lifeexpectancy population continent     country                         \n",
       "High           High       Asia          Japan                2,594.42   \n",
       "                                        Malaysia             1,122.02   \n",
       "                          Europe        France               7,237.99   \n",
       "                                        Germany              8,132.09   \n",
       "                                        Italy                7,216.27   \n",
       "                                        Netherlands          4,332.93   \n",
       "                                        Poland               1,977.35   \n",
       "                                        Romania              1,281.02   \n",
       "                                        Spain                5,030.28   \n",
       "                                        Ukraine                682.16   \n",
       "                                        United Kingdom       5,919.54   \n",
       "                          North America Canada               7,842.63   \n",
       "                                        Mexico               1,223.57   \n",
       "                                        United States       10,276.10   \n",
       "                          Oceania       Australia            5,885.74   \n",
       "                          South America Argentina            2,693.33   \n",
       "                                        Brazil               2,998.17   \n",
       "                                        Chile                  768.88   \n",
       "               Low        Europe        Estonia                704.62   \n",
       "                                        Latvia               2,593.75   \n",
       "                                        Lithuania              705.96   \n",
       "                                        Slovenia             2,406.68   \n",
       "               Medium     Europe        Austria              4,362.95   \n",
       "                                        Belarus              1,387.90   \n",
       "                                        Belgium                569.82   \n",
       "                                        Bulgaria               986.76   \n",
       "                                        Croatia              1,612.49   \n",
       "                                        Denmark              3,207.01   \n",
       "                                        Finland              3,218.68   \n",
       "                                        Greece               3,929.31   \n",
       "                                        Hungary              2,960.70   \n",
       "                                        Ireland                730.80   \n",
       "                                        Lithuania              781.46   \n",
       "                                        Norway               4,232.40   \n",
       "                                        Portugal             1,723.48   \n",
       "                                        Serbia                 456.12   \n",
       "                                        Sweden               7,477.36   \n",
       "                                        Switzerland          6,547.98   \n",
       "                          Oceania       New Zealand          3,222.05   \n",
       "Low            High       Africa        South Africa           670.11   \n",
       "Medium         High       Africa        South Africa         1,449.38   \n",
       "                          Asia          Indonesia            2,056.61   \n",
       "                          Europe        Romania              1,295.85   \n",
       "                                        Ukraine              3,899.84   \n",
       "                          South America Brazil               1,551.98   \n",
       "               Low        Europe        Estonia                838.08   \n",
       "                                        Moldova                608.38   \n",
       "               Medium     Europe        Belarus                724.33   \n",
       "                                        Hungary                573.25   \n",
       "N/A            N/A        Asia          China                4,845.83   \n",
       "                                        North Korea            441.51   \n",
       "                                        South Korea          2,366.61   \n",
       "                          Europe        Russia               5,822.42   \n",
       "                                        Slovakia             2,244.53   \n",
       "                          North America Cuba                 1,558.33   \n",
       "\n",
       "                                                       total.SUM  \n",
       "lifeexpectancy population continent     country                   \n",
       "High           High       Asia          Japan                 18  \n",
       "                                        Malaysia               8  \n",
       "                          Europe        France                54  \n",
       "                                        Germany              157  \n",
       "                                        Italy                 46  \n",
       "                                        Netherlands           22  \n",
       "                                        Poland                26  \n",
       "                                        Romania               12  \n",
       "                                        Spain                 40  \n",
       "                                        Ukraine                2  \n",
       "                                        United Kingdom        79  \n",
       "                          North America Canada                61  \n",
       "                                        Mexico                 6  \n",
       "                                        United States        124  \n",
       "                          Oceania       Australia             92  \n",
       "                          South America Argentina             16  \n",
       "                                        Brazil                21  \n",
       "                                        Chile                  2  \n",
       "               Low        Europe        Estonia                2  \n",
       "                                        Latvia                10  \n",
       "                                        Lithuania              6  \n",
       "                                        Slovenia               8  \n",
       "               Medium     Europe        Austria               16  \n",
       "                                        Belarus                3  \n",
       "                                        Belgium                4  \n",
       "                                        Bulgaria               4  \n",
       "                                        Croatia               10  \n",
       "                                        Denmark               27  \n",
       "                                        Finland               10  \n",
       "                                        Greece                10  \n",
       "                                        Hungary               26  \n",
       "                                        Ireland                2  \n",
       "                                        Lithuania              2  \n",
       "                                        Norway                21  \n",
       "                                        Portugal               4  \n",
       "                                        Serbia                 2  \n",
       "                                        Sweden                31  \n",
       "                                        Switzerland           25  \n",
       "                          Oceania       New Zealand           32  \n",
       "Low            High       Africa        South Africa           2  \n",
       "Medium         High       Africa        South Africa           4  \n",
       "                          Asia          Indonesia             16  \n",
       "                          Europe        Romania               12  \n",
       "                                        Ukraine               13  \n",
       "                          South America Brazil                12  \n",
       "               Low        Europe        Estonia                2  \n",
       "                                        Moldova                1  \n",
       "               Medium     Europe        Belarus                1  \n",
       "                                        Hungary                2  \n",
       "N/A            N/A        Asia          China                151  \n",
       "                                        North Korea            2  \n",
       "                                        South Korea           29  \n",
       "                          Europe        Russia                82  \n",
       "                                        Slovakia              10  \n",
       "                          North America Cuba                   4  "
      ]
     },
     "execution_count": 33,
     "metadata": {},
     "output_type": "execute_result"
    }
   ],
   "source": [
    "testcube.query(measures[\"depression.SUM\"],measures[\"total.SUM\"], levels=[levels['Lifexpectancy', 'lifeexpectancy', 'population'],levels[('Countries', 'continent', 'country')]])"
   ]
  },
  {
   "cell_type": "code",
   "execution_count": null,
   "id": "5da42560-7035-49c2-a75d-c2734770e443",
   "metadata": {},
   "outputs": [],
   "source": []
  }
 ],
 "metadata": {
  "kernelspec": {
   "display_name": "Python 3 (ipykernel)",
   "language": "python",
   "name": "python3"
  },
  "language_info": {
   "codemirror_mode": {
    "name": "ipython",
    "version": 3
   },
   "file_extension": ".py",
   "mimetype": "text/x-python",
   "name": "python",
   "nbconvert_exporter": "python",
   "pygments_lexer": "ipython3",
   "version": "3.10.12"
  }
 },
 "nbformat": 4,
 "nbformat_minor": 5
}
