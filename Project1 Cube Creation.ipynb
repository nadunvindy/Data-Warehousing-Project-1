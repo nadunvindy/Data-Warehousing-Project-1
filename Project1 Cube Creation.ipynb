{
 "cells": [
  {
   "cell_type": "code",
   "execution_count": 1,
   "id": "e3250406-7dc5-4889-bfec-fd13700da2ff",
   "metadata": {},
   "outputs": [
    {
     "name": "stdout",
     "output_type": "stream",
     "text": [
      "Welcome to Atoti 0.8.10!\n",
      "\n",
      "By using this community edition, you agree with the license available at https://docs.atoti.io/latest/eula.html.\n",
      "Browse the official documentation at https://docs.atoti.io.\n",
      "Join the community at https://www.atoti.io/register.\n",
      "\n",
      "Atoti collects telemetry data, which is used to help understand how to improve the product.\n",
      "If you don't wish to send usage data, you can request a trial license at https://www.atoti.io/evaluation-license-request.\n",
      "\n",
      "You can hide this message by setting the `ATOTI_HIDE_EULA_MESSAGE` environment variable to True.\n"
     ]
    }
   ],
   "source": [
    "import atoti as tt"
   ]
  },
  {
   "cell_type": "code",
   "execution_count": 289,
   "id": "5baab508-0f7f-498d-92d6-82f85cfdfb5a",
   "metadata": {},
   "outputs": [
    {
     "name": "stderr",
     "output_type": "stream",
     "text": [
      "Closing existing \"Unnamed\" session to create the new one.\n"
     ]
    }
   ],
   "source": [
    "session = tt.Session(\n",
    "    user_content_storage=\".content\",\n",
    "    port=9095,\n",
    "    java_options=[\"-Xms1G\", \"-Xmx10G\"]\n",
    ")"
   ]
  },
  {
   "cell_type": "code",
   "execution_count": 290,
   "id": "42db0455-3217-44f3-8957-eb6e98bbe662",
   "metadata": {},
   "outputs": [],
   "source": [
    "db_name = \"Project1\"\n",
    "db_user = \"postgres\"\n",
    "db_password = \"postgres\"  \n",
    "db_host = \"localhost\"  \n",
    "db_port = \"5432\""
   ]
  },
  {
   "cell_type": "code",
   "execution_count": 291,
   "id": "0827c8bd-7294-492f-841b-6c3840e1b3c1",
   "metadata": {},
   "outputs": [],
   "source": [
    "jdbc_url = f\"jdbc:postgresql://{db_host}:{db_port}/{db_name}?user={db_user}&password={db_password}\""
   ]
  },
  {
   "cell_type": "code",
   "execution_count": 292,
   "id": "f6517067-5b30-4559-8178-b5c0b73adbed",
   "metadata": {},
   "outputs": [
    {
     "data": {
      "text/plain": [
       "'jdbc:postgresql://localhost:5432/Project1?user=postgres&password=postgres'"
      ]
     },
     "execution_count": 292,
     "metadata": {},
     "output_type": "execute_result"
    }
   ],
   "source": [
    "jdbc_url"
   ]
  },
  {
   "cell_type": "code",
   "execution_count": 293,
   "id": "0e3273fb-18f1-47a1-affd-8da19cd4e59a",
   "metadata": {},
   "outputs": [],
   "source": [
    "facttest = session.read_sql(\n",
    "    \"SELECT * FROM olympics\",\n",
    "    keys=[\"factid\"],\n",
    "    table_name=\"factTable\",\n",
    "    url=jdbc_url,\n",
    ")"
   ]
  },
  {
   "cell_type": "code",
   "execution_count": 294,
   "id": "7efa3dd7-855c-4584-891c-63724cc3f43a",
   "metadata": {},
   "outputs": [
    {
     "data": {
      "text/html": [
       "<div>\n",
       "<style scoped>\n",
       "    .dataframe tbody tr th:only-of-type {\n",
       "        vertical-align: middle;\n",
       "    }\n",
       "\n",
       "    .dataframe tbody tr th {\n",
       "        vertical-align: top;\n",
       "    }\n",
       "\n",
       "    .dataframe thead th {\n",
       "        text-align: right;\n",
       "    }\n",
       "</style>\n",
       "<table border=\"1\" class=\"dataframe\">\n",
       "  <thead>\n",
       "    <tr style=\"text-align: right;\">\n",
       "      <th></th>\n",
       "      <th>year</th>\n",
       "      <th>country</th>\n",
       "      <th>bronze</th>\n",
       "      <th>gold</th>\n",
       "      <th>silver</th>\n",
       "      <th>code</th>\n",
       "      <th>depression</th>\n",
       "      <th>schizophrenia</th>\n",
       "      <th>bipolar</th>\n",
       "      <th>eatingdisorder</th>\n",
       "      <th>anxiety</th>\n",
       "    </tr>\n",
       "    <tr>\n",
       "      <th>factid</th>\n",
       "      <th></th>\n",
       "      <th></th>\n",
       "      <th></th>\n",
       "      <th></th>\n",
       "      <th></th>\n",
       "      <th></th>\n",
       "      <th></th>\n",
       "      <th></th>\n",
       "      <th></th>\n",
       "      <th></th>\n",
       "      <th></th>\n",
       "    </tr>\n",
       "  </thead>\n",
       "  <tbody>\n",
       "    <tr>\n",
       "      <th>4</th>\n",
       "      <td>1992</td>\n",
       "      <td>Austria</td>\n",
       "      <td>8</td>\n",
       "      <td>6</td>\n",
       "      <td>10</td>\n",
       "      <td>AUT</td>\n",
       "      <td>623.6259</td>\n",
       "      <td>174.99193</td>\n",
       "      <td>193.4572</td>\n",
       "      <td>91.35018</td>\n",
       "      <td>551.77155</td>\n",
       "    </tr>\n",
       "    <tr>\n",
       "      <th>16</th>\n",
       "      <td>1992</td>\n",
       "      <td>Finland</td>\n",
       "      <td>5</td>\n",
       "      <td>4</td>\n",
       "      <td>3</td>\n",
       "      <td>FIN</td>\n",
       "      <td>869.3975</td>\n",
       "      <td>167.26642</td>\n",
       "      <td>194.50778</td>\n",
       "      <td>91.90733</td>\n",
       "      <td>384.8344</td>\n",
       "    </tr>\n",
       "    <tr>\n",
       "      <th>24</th>\n",
       "      <td>1992</td>\n",
       "      <td>Israel</td>\n",
       "      <td>1</td>\n",
       "      <td>0</td>\n",
       "      <td>1</td>\n",
       "      <td>ISR</td>\n",
       "      <td>823.34717</td>\n",
       "      <td>193.19022</td>\n",
       "      <td>226.66081</td>\n",
       "      <td>64.53508</td>\n",
       "      <td>356.16626</td>\n",
       "    </tr>\n",
       "    <tr>\n",
       "      <th>32</th>\n",
       "      <td>1992</td>\n",
       "      <td>Malaysia</td>\n",
       "      <td>2</td>\n",
       "      <td>0</td>\n",
       "      <td>0</td>\n",
       "      <td>MYS</td>\n",
       "      <td>526.3468</td>\n",
       "      <td>193.75183</td>\n",
       "      <td>73.24124</td>\n",
       "      <td>24.406479</td>\n",
       "      <td>423.08075</td>\n",
       "    </tr>\n",
       "    <tr>\n",
       "      <th>40</th>\n",
       "      <td>1992</td>\n",
       "      <td>Norway</td>\n",
       "      <td>6</td>\n",
       "      <td>11</td>\n",
       "      <td>10</td>\n",
       "      <td>NOR</td>\n",
       "      <td>508.43967</td>\n",
       "      <td>179.30298</td>\n",
       "      <td>179.03253</td>\n",
       "      <td>89.34628</td>\n",
       "      <td>684.3087</td>\n",
       "    </tr>\n",
       "  </tbody>\n",
       "</table>\n",
       "</div>"
      ],
      "text/plain": [
       "        year   country  bronze  gold  silver code  depression  schizophrenia  \\\n",
       "factid                                                                         \n",
       "4       1992   Austria       8     6      10  AUT    623.6259      174.99193   \n",
       "16      1992   Finland       5     4       3  FIN    869.3975      167.26642   \n",
       "24      1992    Israel       1     0       1  ISR   823.34717      193.19022   \n",
       "32      1992  Malaysia       2     0       0  MYS    526.3468      193.75183   \n",
       "40      1992    Norway       6    11      10  NOR   508.43967      179.30298   \n",
       "\n",
       "          bipolar  eatingdisorder    anxiety  \n",
       "factid                                        \n",
       "4        193.4572        91.35018  551.77155  \n",
       "16      194.50778        91.90733   384.8344  \n",
       "24      226.66081        64.53508  356.16626  \n",
       "32       73.24124       24.406479  423.08075  \n",
       "40      179.03253        89.34628   684.3087  "
      ]
     },
     "execution_count": 294,
     "metadata": {},
     "output_type": "execute_result"
    }
   ],
   "source": [
    "facttest.head()"
   ]
  },
  {
   "cell_type": "code",
   "execution_count": 295,
   "id": "a8bdf743-64f6-480c-8d1c-a8dc047da837",
   "metadata": {},
   "outputs": [],
   "source": [
    "# medals = session.read_sql(\n",
    "#     \"SELECT * FROM medalsnew\",\n",
    "#     keys=[\"id\"],\n",
    "#     table_name=\"Medals\",\n",
    "#     url=jdbc_url)"
   ]
  },
  {
   "cell_type": "code",
   "execution_count": 296,
   "id": "cae93443-5fb4-4579-8960-98883518ab4c",
   "metadata": {},
   "outputs": [],
   "source": [
    "countries = session.read_sql(\n",
    "    \"SELECT * FROM countries\",\n",
    "    keys=[\"country\"],\n",
    "    table_name=\"Countries\",\n",
    "    url=jdbc_url)"
   ]
  },
  {
   "cell_type": "code",
   "execution_count": 226,
   "id": "efc6f584-fb36-4d51-b59b-5e88e5f692bc",
   "metadata": {},
   "outputs": [],
   "source": [
    "illness = session.read_sql(\n",
    "    \"SELECT * FROM mentalillness\",\n",
    "    keys=[\"code\",\"year\"],\n",
    "    table_name=\"Illness\",\n",
    "    url=jdbc_url)"
   ]
  },
  {
   "cell_type": "code",
   "execution_count": 297,
   "id": "0f054f27-207b-422a-885d-76e35834d64e",
   "metadata": {},
   "outputs": [],
   "source": [
    "time = session.read_sql(\n",
    "    \"SELECT * FROM timex\",\n",
    "    keys=[\"year\"],\n",
    "    table_name=\"Time\",\n",
    "    url=jdbc_url)"
   ]
  },
  {
   "cell_type": "code",
   "execution_count": 299,
   "id": "89612d1e-0b70-40ac-807d-40d4381a420a",
   "metadata": {},
   "outputs": [],
   "source": [
    "facttest.join(countries, facttest[\"country\"] == countries[\"country\"])"
   ]
  },
  {
   "cell_type": "code",
   "execution_count": 230,
   "id": "3cb62449-c5b1-4822-aea0-8bc729813214",
   "metadata": {},
   "outputs": [],
   "source": [
    "facttest.join(illness, (facttest[\"year\"] == illness[\"year\"] )& (facttest[\"code\"] == illness[\"code\"]))"
   ]
  },
  {
   "cell_type": "code",
   "execution_count": 300,
   "id": "c24d7969-02e1-4d84-8c24-877e8ef78fd5",
   "metadata": {},
   "outputs": [],
   "source": [
    "facttest.join(time, facttest[\"year\"] == time[\"year\"])"
   ]
  },
  {
   "cell_type": "code",
   "execution_count": 301,
   "id": "42d9d7e5-47fb-4492-ac2e-27aec91890c1",
   "metadata": {},
   "outputs": [
    {
     "data": {
      "text/markdown": [
       "```mermaid\n",
       "erDiagram\n",
       "  \"Countries\" {\n",
       "    _ String PK \"country\"\n",
       "    _ String \"continent\"\n",
       "  }\n",
       "  \"Time\" {\n",
       "    _ int PK \"year\"\n",
       "  }\n",
       "  \"factTable\" {\n",
       "    _ int PK \"factid\"\n",
       "    nullable int \"year\"\n",
       "    _ String \"country\"\n",
       "    nullable int \"bronze\"\n",
       "    nullable int \"gold\"\n",
       "    nullable int \"silver\"\n",
       "    _ String \"code\"\n",
       "    nullable double \"depression\"\n",
       "    nullable double \"schizophrenia\"\n",
       "    nullable double \"bipolar\"\n",
       "    nullable double \"eatingdisorder\"\n",
       "    nullable double \"anxiety\"\n",
       "  }\n",
       "  \"factTable\" }o--o| \"Countries\" : \"`country` == `country`\"\n",
       "  \"factTable\" }o--o| \"Time\" : \"`year` == `year`\"\n",
       "```\n"
      ],
      "text/plain": [
       "erDiagram\n",
       "  \"Countries\" {\n",
       "    _ String PK \"country\"\n",
       "    _ String \"continent\"\n",
       "  }\n",
       "  \"Time\" {\n",
       "    _ int PK \"year\"\n",
       "  }\n",
       "  \"factTable\" {\n",
       "    _ int PK \"factid\"\n",
       "    nullable int \"year\"\n",
       "    _ String \"country\"\n",
       "    nullable int \"bronze\"\n",
       "    nullable int \"gold\"\n",
       "    nullable int \"silver\"\n",
       "    _ String \"code\"\n",
       "    nullable double \"depression\"\n",
       "    nullable double \"schizophrenia\"\n",
       "    nullable double \"bipolar\"\n",
       "    nullable double \"eatingdisorder\"\n",
       "    nullable double \"anxiety\"\n",
       "  }\n",
       "  \"factTable\" }o--o| \"Countries\" : \"`country` == `country`\"\n",
       "  \"factTable\" }o--o| \"Time\" : \"`year` == `year`\""
      ]
     },
     "execution_count": 301,
     "metadata": {},
     "output_type": "execute_result"
    }
   ],
   "source": [
    "session.tables.schema"
   ]
  },
  {
   "cell_type": "code",
   "execution_count": 302,
   "id": "860a487d-8e0e-4637-92f3-ef9d6269b62e",
   "metadata": {},
   "outputs": [],
   "source": [
    "testcube = session.create_cube(facttest)"
   ]
  },
  {
   "cell_type": "code",
   "execution_count": 303,
   "id": "655b83f6-7d9f-48d3-bed5-5d5c3c8c8140",
   "metadata": {},
   "outputs": [],
   "source": [
    "testcube.measures['total.SUM'] = testcube.measures['gold.SUM'] + testcube.measures['silver.SUM'] + testcube.measures['bronze.SUM']"
   ]
  },
  {
   "cell_type": "code",
   "execution_count": 304,
   "id": "56262118-9490-4f59-8642-fd26bbaf1c72",
   "metadata": {},
   "outputs": [
    {
     "data": {
      "application/json": {
       "Dimensions": {
        "Countries": {
         "continent": [
          "continent"
         ]
        },
        "factTable": {
         "code": [
          "code"
         ],
         "country": [
          "country"
         ],
         "factid": [
          "factid"
         ]
        }
       },
       "Measures": {
        "anxiety.MEAN": {
         "formatter": "DOUBLE[#,###.00]"
        },
        "anxiety.SUM": {
         "formatter": "DOUBLE[#,###.00]"
        },
        "bipolar.MEAN": {
         "formatter": "DOUBLE[#,###.00]"
        },
        "bipolar.SUM": {
         "formatter": "DOUBLE[#,###.00]"
        },
        "bronze.MEAN": {
         "formatter": "DOUBLE[#,###.00]"
        },
        "bronze.SUM": {
         "formatter": "INT[#,###]"
        },
        "contributors.COUNT": {
         "formatter": "INT[#,###]"
        },
        "depression.MEAN": {
         "formatter": "DOUBLE[#,###.00]"
        },
        "depression.SUM": {
         "formatter": "DOUBLE[#,###.00]"
        },
        "eatingdisorder.MEAN": {
         "formatter": "DOUBLE[#,###.00]"
        },
        "eatingdisorder.SUM": {
         "formatter": "DOUBLE[#,###.00]"
        },
        "gold.MEAN": {
         "formatter": "DOUBLE[#,###.00]"
        },
        "gold.SUM": {
         "formatter": "INT[#,###]"
        },
        "schizophrenia.MEAN": {
         "formatter": "DOUBLE[#,###.00]"
        },
        "schizophrenia.SUM": {
         "formatter": "DOUBLE[#,###.00]"
        },
        "silver.MEAN": {
         "formatter": "DOUBLE[#,###.00]"
        },
        "silver.SUM": {
         "formatter": "INT[#,###]"
        },
        "total.SUM": {
         "formatter": "INT[#,###]"
        },
        "year.MEAN": {
         "formatter": "DOUBLE[#,###.00]"
        },
        "year.SUM": {
         "formatter": "INT[#,###]"
        }
       }
      },
      "text/html": [
       "<ul>\n",
       "<li>factTable\n",
       "  <ul>\n",
       "  <li>Dimensions\n",
       "    <ul>\n",
       "    <li>Countries\n",
       "      <ul>\n",
       "      <li>continent\n",
       "        <ol>\n",
       "        <li>continent</li>\n",
       "        </ol>      </li>\n",
       "      </ul>\n",
       "    </li>\n",
       "    <li>factTable\n",
       "      <ul>\n",
       "      <li>code\n",
       "        <ol>\n",
       "        <li>code</li>\n",
       "        </ol>      </li>\n",
       "      <li>country\n",
       "        <ol>\n",
       "        <li>country</li>\n",
       "        </ol>      </li>\n",
       "      <li>factid\n",
       "        <ol>\n",
       "        <li>factid</li>\n",
       "        </ol>      </li>\n",
       "      </ul>\n",
       "    </li>\n",
       "    </ul>\n",
       "  </li>\n",
       "  <li>Measures\n",
       "    <ul>\n",
       "    <li>anxiety.MEAN\n",
       "      <ul>\n",
       "      <li>formatter: DOUBLE[#,###.00]</li>\n",
       "      </ul>\n",
       "    </li>\n",
       "    <li>anxiety.SUM\n",
       "      <ul>\n",
       "      <li>formatter: DOUBLE[#,###.00]</li>\n",
       "      </ul>\n",
       "    </li>\n",
       "    <li>bipolar.MEAN\n",
       "      <ul>\n",
       "      <li>formatter: DOUBLE[#,###.00]</li>\n",
       "      </ul>\n",
       "    </li>\n",
       "    <li>bipolar.SUM\n",
       "      <ul>\n",
       "      <li>formatter: DOUBLE[#,###.00]</li>\n",
       "      </ul>\n",
       "    </li>\n",
       "    <li>bronze.MEAN\n",
       "      <ul>\n",
       "      <li>formatter: DOUBLE[#,###.00]</li>\n",
       "      </ul>\n",
       "    </li>\n",
       "    <li>bronze.SUM\n",
       "      <ul>\n",
       "      <li>formatter: INT[#,###]</li>\n",
       "      </ul>\n",
       "    </li>\n",
       "    <li>contributors.COUNT\n",
       "      <ul>\n",
       "      <li>formatter: INT[#,###]</li>\n",
       "      </ul>\n",
       "    </li>\n",
       "    <li>depression.MEAN\n",
       "      <ul>\n",
       "      <li>formatter: DOUBLE[#,###.00]</li>\n",
       "      </ul>\n",
       "    </li>\n",
       "    <li>depression.SUM\n",
       "      <ul>\n",
       "      <li>formatter: DOUBLE[#,###.00]</li>\n",
       "      </ul>\n",
       "    </li>\n",
       "    <li>eatingdisorder.MEAN\n",
       "      <ul>\n",
       "      <li>formatter: DOUBLE[#,###.00]</li>\n",
       "      </ul>\n",
       "    </li>\n",
       "    <li>eatingdisorder.SUM\n",
       "      <ul>\n",
       "      <li>formatter: DOUBLE[#,###.00]</li>\n",
       "      </ul>\n",
       "    </li>\n",
       "    <li>gold.MEAN\n",
       "      <ul>\n",
       "      <li>formatter: DOUBLE[#,###.00]</li>\n",
       "      </ul>\n",
       "    </li>\n",
       "    <li>gold.SUM\n",
       "      <ul>\n",
       "      <li>formatter: INT[#,###]</li>\n",
       "      </ul>\n",
       "    </li>\n",
       "    <li>schizophrenia.MEAN\n",
       "      <ul>\n",
       "      <li>formatter: DOUBLE[#,###.00]</li>\n",
       "      </ul>\n",
       "    </li>\n",
       "    <li>schizophrenia.SUM\n",
       "      <ul>\n",
       "      <li>formatter: DOUBLE[#,###.00]</li>\n",
       "      </ul>\n",
       "    </li>\n",
       "    <li>silver.MEAN\n",
       "      <ul>\n",
       "      <li>formatter: DOUBLE[#,###.00]</li>\n",
       "      </ul>\n",
       "    </li>\n",
       "    <li>silver.SUM\n",
       "      <ul>\n",
       "      <li>formatter: INT[#,###]</li>\n",
       "      </ul>\n",
       "    </li>\n",
       "    <li>total.SUM\n",
       "      <ul>\n",
       "      <li>formatter: INT[#,###]</li>\n",
       "      </ul>\n",
       "    </li>\n",
       "    <li>year.MEAN\n",
       "      <ul>\n",
       "      <li>formatter: DOUBLE[#,###.00]</li>\n",
       "      </ul>\n",
       "    </li>\n",
       "    <li>year.SUM\n",
       "      <ul>\n",
       "      <li>formatter: INT[#,###]</li>\n",
       "      </ul>\n",
       "    </li>\n",
       "    </ul>\n",
       "  </li>\n",
       "  </ul>\n",
       "</li>\n",
       "</ul>\n"
      ],
      "text/plain": [
       "<atoti.cube.Cube at 0x7dcfb428b0a0>"
      ]
     },
     "execution_count": 304,
     "metadata": {
      "application/json": {
       "expanded": false,
       "root": "factTable"
      }
     },
     "output_type": "execute_result"
    }
   ],
   "source": [
    "testcube"
   ]
  },
  {
   "cell_type": "code",
   "execution_count": 305,
   "id": "ad272527-67cd-4785-b77f-f7bb45bef4f8",
   "metadata": {},
   "outputs": [],
   "source": [
    "hierarchies, levels, measures = testcube.hierarchies, testcube.levels, testcube.measures"
   ]
  },
  {
   "cell_type": "code",
   "execution_count": 306,
   "id": "c9d6c08f-9247-46ea-a535-74527fda3c9d",
   "metadata": {},
   "outputs": [
    {
     "name": "stdout",
     "output_type": "stream",
     "text": [
      "[('factTable', 'code', 'code'), ('Countries', 'continent', 'continent'), ('factTable', 'factid', 'factid'), ('factTable', 'country', 'country')]\n"
     ]
    }
   ],
   "source": [
    "print(list(testcube.levels))"
   ]
  },
  {
   "cell_type": "code",
   "execution_count": 307,
   "id": "df93ed09-8f59-4d50-9c1c-0a336cc78995",
   "metadata": {
    "scrolled": true
   },
   "outputs": [
    {
     "data": {
      "application/json": {
       "Countries": {
        "continent": [
         "continent"
        ]
       },
       "factTable": {
        "code": [
         "code"
        ],
        "country": [
         "country"
        ],
        "factid": [
         "factid"
        ]
       }
      },
      "text/html": [
       "<ul>\n",
       "<li>Dimensions\n",
       "  <ul>\n",
       "  <li>Countries\n",
       "    <ul>\n",
       "    <li>continent\n",
       "      <ol>\n",
       "      <li>continent</li>\n",
       "      </ol>    </li>\n",
       "    </ul>\n",
       "  </li>\n",
       "  <li>factTable\n",
       "    <ul>\n",
       "    <li>code\n",
       "      <ol>\n",
       "      <li>code</li>\n",
       "      </ol>    </li>\n",
       "    <li>country\n",
       "      <ol>\n",
       "      <li>country</li>\n",
       "      </ol>    </li>\n",
       "    <li>factid\n",
       "      <ol>\n",
       "      <li>factid</li>\n",
       "      </ol>    </li>\n",
       "    </ul>\n",
       "  </li>\n",
       "  </ul>\n",
       "</li>\n",
       "</ul>\n"
      ],
      "text/plain": [
       "{('factTable', 'code'): <atoti.hierarchy.Hierarchy object at 0x7dcfb431eec0>, ('Countries', 'continent'): <atoti.hierarchy.Hierarchy object at 0x7dcfb431eef0>, ('factTable', 'factid'): <atoti.hierarchy.Hierarchy object at 0x7dcf84498250>, ('factTable', 'country'): <atoti.hierarchy.Hierarchy object at 0x7dcf8449bf70>}"
      ]
     },
     "execution_count": 307,
     "metadata": {
      "application/json": {
       "expanded": true,
       "root": "Dimensions"
      }
     },
     "output_type": "execute_result"
    }
   ],
   "source": [
    "hierarchies"
   ]
  },
  {
   "cell_type": "code",
   "execution_count": 308,
   "id": "a37cce50-f22f-407e-8ec3-0c048a695447",
   "metadata": {},
   "outputs": [
    {
     "data": {
      "application/json": {
       "code (factTable/code/code)": {
        "dimension": "factTable",
        "hierarchy": "code",
        "order": "NaturalOrder",
        "type": "String"
       },
       "continent (Countries/continent/continent)": {
        "dimension": "Countries",
        "hierarchy": "continent",
        "order": "NaturalOrder",
        "type": "String"
       },
       "country (factTable/country/country)": {
        "dimension": "factTable",
        "hierarchy": "country",
        "order": "NaturalOrder",
        "type": "String"
       },
       "factid (factTable/factid/factid)": {
        "dimension": "factTable",
        "hierarchy": "factid",
        "order": "NaturalOrder",
        "type": "int"
       }
      },
      "text/html": [
       "<ul>\n",
       "<li>Levels\n",
       "  <ul>\n",
       "  <li>code (factTable/code/code)\n",
       "    <ul>\n",
       "    <li>dimension: factTable</li>\n",
       "    <li>hierarchy: code</li>\n",
       "    <li>type: String</li>\n",
       "    <li>order: NaturalOrder</li>\n",
       "    </ul>\n",
       "  </li>\n",
       "  <li>continent (Countries/continent/continent)\n",
       "    <ul>\n",
       "    <li>dimension: Countries</li>\n",
       "    <li>hierarchy: continent</li>\n",
       "    <li>type: String</li>\n",
       "    <li>order: NaturalOrder</li>\n",
       "    </ul>\n",
       "  </li>\n",
       "  <li>country (factTable/country/country)\n",
       "    <ul>\n",
       "    <li>dimension: factTable</li>\n",
       "    <li>hierarchy: country</li>\n",
       "    <li>type: String</li>\n",
       "    <li>order: NaturalOrder</li>\n",
       "    </ul>\n",
       "  </li>\n",
       "  <li>factid (factTable/factid/factid)\n",
       "    <ul>\n",
       "    <li>dimension: factTable</li>\n",
       "    <li>hierarchy: factid</li>\n",
       "    <li>type: int</li>\n",
       "    <li>order: NaturalOrder</li>\n",
       "    </ul>\n",
       "  </li>\n",
       "  </ul>\n",
       "</li>\n",
       "</ul>\n"
      ],
      "text/plain": [
       "<atoti.levels.Levels at 0x7dcf94a46230>"
      ]
     },
     "execution_count": 308,
     "metadata": {
      "application/json": {
       "expanded": true,
       "root": "Levels"
      }
     },
     "output_type": "execute_result"
    }
   ],
   "source": [
    "testcube.levels"
   ]
  },
  {
   "cell_type": "code",
   "execution_count": 309,
   "id": "f1fa2d3f-0e13-47e1-96a2-bce0c6d8c481",
   "metadata": {},
   "outputs": [],
   "source": [
    "testcube.hierarchies[\"Time\", \"year\"]= [time[\"year\"]]"
   ]
  },
  {
   "cell_type": "code",
   "execution_count": 311,
   "id": "c947c29a-164f-4d4e-80ad-557f47100ff7",
   "metadata": {},
   "outputs": [
    {
     "data": {
      "text/html": [
       "<div>\n",
       "<style scoped>\n",
       "    .dataframe tbody tr th:only-of-type {\n",
       "        vertical-align: middle;\n",
       "    }\n",
       "\n",
       "    .dataframe tbody tr th {\n",
       "        vertical-align: top;\n",
       "    }\n",
       "\n",
       "    .dataframe thead th {\n",
       "        text-align: right;\n",
       "    }\n",
       "</style>\n",
       "<table border=\"1\" class=\"dataframe\">\n",
       "  <thead>\n",
       "    <tr style=\"text-align: right;\">\n",
       "      <th></th>\n",
       "      <th>total.SUM</th>\n",
       "      <th>depression.SUM</th>\n",
       "    </tr>\n",
       "    <tr>\n",
       "      <th>continent</th>\n",
       "      <th></th>\n",
       "      <th></th>\n",
       "    </tr>\n",
       "  </thead>\n",
       "  <tbody>\n",
       "    <tr>\n",
       "      <th>Africa</th>\n",
       "      <td>257</td>\n",
       "      <td>57,440.43</td>\n",
       "    </tr>\n",
       "    <tr>\n",
       "      <th>Asia</th>\n",
       "      <td>653</td>\n",
       "      <td>69,170.59</td>\n",
       "    </tr>\n",
       "    <tr>\n",
       "      <th>Europe</th>\n",
       "      <td>3,666</td>\n",
       "      <td>188,134.71</td>\n",
       "    </tr>\n",
       "    <tr>\n",
       "      <th>North America</th>\n",
       "      <td>615</td>\n",
       "      <td>37,316.22</td>\n",
       "    </tr>\n",
       "    <tr>\n",
       "      <th>Oceania</th>\n",
       "      <td>434</td>\n",
       "      <td>18,192.94</td>\n",
       "    </tr>\n",
       "    <tr>\n",
       "      <th>South America</th>\n",
       "      <td>194</td>\n",
       "      <td>18,861.15</td>\n",
       "    </tr>\n",
       "  </tbody>\n",
       "</table>\n",
       "</div>"
      ],
      "text/plain": [
       "              total.SUM depression.SUM\n",
       "continent                             \n",
       "Africa              257      57,440.43\n",
       "Asia                653      69,170.59\n",
       "Europe            3,666     188,134.71\n",
       "North America       615      37,316.22\n",
       "Oceania             434      18,192.94\n",
       "South America       194      18,861.15"
      ]
     },
     "execution_count": 311,
     "metadata": {},
     "output_type": "execute_result"
    }
   ],
   "source": [
    "testcube.query(measures[\"total.SUM\"],measures[\"depression.SUM\"], levels=[levels[\"Countries\",'continent','continent']])"
   ]
  },
  {
   "cell_type": "code",
   "execution_count": 286,
   "id": "5cd00b3f-17d0-4082-b09b-fd1234ca8f91",
   "metadata": {},
   "outputs": [
    {
     "data": {
      "text/html": [
       "<div>\n",
       "<style scoped>\n",
       "    .dataframe tbody tr th:only-of-type {\n",
       "        vertical-align: middle;\n",
       "    }\n",
       "\n",
       "    .dataframe tbody tr th {\n",
       "        vertical-align: top;\n",
       "    }\n",
       "\n",
       "    .dataframe thead th {\n",
       "        text-align: right;\n",
       "    }\n",
       "</style>\n",
       "<table border=\"1\" class=\"dataframe\">\n",
       "  <thead>\n",
       "    <tr style=\"text-align: right;\">\n",
       "      <th></th>\n",
       "      <th></th>\n",
       "      <th>total.SUM</th>\n",
       "      <th>depression.SUM</th>\n",
       "    </tr>\n",
       "    <tr>\n",
       "      <th>year</th>\n",
       "      <th>country</th>\n",
       "      <th></th>\n",
       "      <th></th>\n",
       "    </tr>\n",
       "  </thead>\n",
       "  <tbody>\n",
       "    <tr>\n",
       "      <th>1992</th>\n",
       "      <th>Ireland</th>\n",
       "      <td>2</td>\n",
       "      <td>720.62</td>\n",
       "    </tr>\n",
       "    <tr>\n",
       "      <th>1996</th>\n",
       "      <th>Ireland</th>\n",
       "      <td>4</td>\n",
       "      <td>730.01</td>\n",
       "    </tr>\n",
       "    <tr>\n",
       "      <th>2000</th>\n",
       "      <th>Ireland</th>\n",
       "      <td>1</td>\n",
       "      <td>748.26</td>\n",
       "    </tr>\n",
       "    <tr>\n",
       "      <th>2008</th>\n",
       "      <th>Ireland</th>\n",
       "      <td>3</td>\n",
       "      <td>745.59</td>\n",
       "    </tr>\n",
       "    <tr>\n",
       "      <th>2012</th>\n",
       "      <th>Ireland</th>\n",
       "      <td>6</td>\n",
       "      <td>727.25</td>\n",
       "    </tr>\n",
       "    <tr>\n",
       "      <th>2016</th>\n",
       "      <th>Ireland</th>\n",
       "      <td>3</td>\n",
       "      <td>730.80</td>\n",
       "    </tr>\n",
       "  </tbody>\n",
       "</table>\n",
       "</div>"
      ],
      "text/plain": [
       "             total.SUM depression.SUM\n",
       "year country                         \n",
       "1992 Ireland         2         720.62\n",
       "1996 Ireland         4         730.01\n",
       "2000 Ireland         1         748.26\n",
       "2008 Ireland         3         745.59\n",
       "2012 Ireland         6         727.25\n",
       "2016 Ireland         3         730.80"
      ]
     },
     "execution_count": 286,
     "metadata": {},
     "output_type": "execute_result"
    }
   ],
   "source": [
    "testcube.query(measures[\"total.SUM\"],measures[\"depression.SUM\"], levels=[levels[\"Time\",\"year\",\"year\"],levels[\"Countries\",'country','country']],filter=(levels[\"Countries\",'country','country']== \"Ireland\"))"
   ]
  },
  {
   "cell_type": "code",
   "execution_count": 269,
   "id": "f9ed1e24-2f80-4c2e-9172-334675958028",
   "metadata": {
    "atoti": {
     "widget": {
      "mapping": {
       "columns": [
        "ALL_MEASURES"
       ],
       "measures": [
        "[Measures].[depression.SUM]",
        "[Measures].[total.SUM]"
       ],
       "rows": [
        "[Countries].[country].[country]"
       ]
      },
      "query": {
       "mdx": "SELECT NON EMPTY Hierarchize(Descendants({[Countries].[country].[ALL].[AllMember]}, 1, SELF_AND_BEFORE)) ON ROWS, NON EMPTY {[Measures].[depression.SUM], [Measures].[total.SUM]} ON COLUMNS FROM [factTable] CELL PROPERTIES VALUE, FORMATTED_VALUE, BACK_COLOR, FORE_COLOR, FONT_FLAGS",
       "updateMode": "once"
      },
      "serverKey": "default",
      "widgetKey": "pivot-table"
     }
    }
   },
   "outputs": [
    {
     "data": {
      "application/vnd.atoti.widget.v0+json": {
       "sessionId": "1712554305_0PR0C6",
       "sessionLocation": {
        "https": false,
        "port": 9095
       },
       "widgetCreationCode": "session.widget"
      },
      "text/html": [
       "<img height=\"352\" width=\"1473\" src=\"data:image/png;base64,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\" />"
      ],
      "text/plain": [
       "Open the notebook in JupyterLab with the Atoti JupyterLab extension enabled to build this widget."
      ]
     },
     "metadata": {},
     "output_type": "display_data"
    }
   ],
   "source": [
    "session.widget"
   ]
  }
 ],
 "metadata": {
  "kernelspec": {
   "display_name": "Python 3 (ipykernel)",
   "language": "python",
   "name": "python3"
  },
  "language_info": {
   "codemirror_mode": {
    "name": "ipython",
    "version": 3
   },
   "file_extension": ".py",
   "mimetype": "text/x-python",
   "name": "python",
   "nbconvert_exporter": "python",
   "pygments_lexer": "ipython3",
   "version": "3.10.12"
  }
 },
 "nbformat": 4,
 "nbformat_minor": 5
}
