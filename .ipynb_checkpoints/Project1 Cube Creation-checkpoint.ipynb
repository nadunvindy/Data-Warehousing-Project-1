{
 "cells": [
  {
   "cell_type": "code",
   "execution_count": 7,
   "id": "e3250406-7dc5-4889-bfec-fd13700da2ff",
   "metadata": {},
   "outputs": [],
   "source": [
    "import atoti as tt"
   ]
  },
  {
   "cell_type": "code",
   "execution_count": 8,
   "id": "5baab508-0f7f-498d-92d6-82f85cfdfb5a",
   "metadata": {},
   "outputs": [
    {
     "name": "stderr",
     "output_type": "stream",
     "text": [
      "Closing existing \"Unnamed\" session to create the new one.\n"
     ]
    }
   ],
   "source": [
    "session = tt.Session(                            #Creare atoti session\n",
    "    user_content_storage=\".content\",\n",
    "    port=9095,\n",
    "    java_options=[\"-Xms1G\", \"-Xmx10G\"]\n",
    ")"
   ]
  },
  {
   "cell_type": "code",
   "execution_count": 12,
   "id": "42db0455-3217-44f3-8957-eb6e98bbe662",
   "metadata": {},
   "outputs": [],
   "source": [
    "db_name = \"Project1\"\n",
    "db_user = \"postgres\"\n",
    "db_password = \"postgres\"  \n",
    "db_host = \"localhost\"  \n",
    "db_port = \"5432\""
   ]
  },
  {
   "cell_type": "code",
   "execution_count": 13,
   "id": "0827c8bd-7294-492f-841b-6c3840e1b3c1",
   "metadata": {},
   "outputs": [],
   "source": [
    "jdbc_url = f\"jdbc:postgresql://{db_host}:{db_port}/{db_name}?user={db_user}&password={db_password}\" #Create URL"
   ]
  },
  {
   "cell_type": "code",
   "execution_count": 14,
   "id": "f6517067-5b30-4559-8178-b5c0b73adbed",
   "metadata": {},
   "outputs": [
    {
     "data": {
      "text/plain": [
       "'jdbc:postgresql://localhost:5432/Project1?user=postgres&password=postgres'"
      ]
     },
     "execution_count": 14,
     "metadata": {},
     "output_type": "execute_result"
    }
   ],
   "source": [
    "jdbc_url"
   ]
  },
  {
   "cell_type": "code",
   "execution_count": 15,
   "id": "0e3273fb-18f1-47a1-affd-8da19cd4e59a",
   "metadata": {},
   "outputs": [],
   "source": [
    "fact_olympic = session.read_sql(       #Get main fact table\n",
    "    \"SELECT * FROM factolympic\",\n",
    "    keys=[\"year\",\"country\"],\n",
    "    table_name=\"Olympic\",\n",
    "    url=jdbc_url,\n",
    ")"
   ]
  },
  {
   "cell_type": "code",
   "execution_count": 16,
   "id": "cae93443-5fb4-4579-8960-98883518ab4c",
   "metadata": {},
   "outputs": [],
   "source": [
    "dimcountries = session.read_sql(     #Get countries facttable\n",
    "    \"SELECT * FROM dimcountries\",\n",
    "    keys=[\"country\"],\n",
    "    table_name=\"Countries\",\n",
    "    url=jdbc_url)"
   ]
  },
  {
   "cell_type": "code",
   "execution_count": 17,
   "id": "efc6f584-fb36-4d51-b59b-5e88e5f692bc",
   "metadata": {},
   "outputs": [],
   "source": [
    "dimlife = session.read_sql( #Get life expectancy dimension table\n",
    "    \"SELECT * FROM dimlife\",\n",
    "    keys=[\"year\",\"country\"],\n",
    "    table_name=\"Life\",\n",
    "    url=jdbc_url)"
   ]
  },
  {
   "cell_type": "code",
   "execution_count": null,
   "id": "0f054f27-207b-422a-885d-76e35834d64e",
   "metadata": {},
   "outputs": [],
   "source": [
    "dimtime = session.read_sql(  #Get time dimension table\n",
    "    \"SELECT * FROM dimtime\",\n",
    "    keys=[\"year\"],\n",
    "    table_name=\"Time\",\n",
    "    url=jdbc_url)"
   ]
  },
  {
   "cell_type": "code",
   "execution_count": null,
   "id": "89612d1e-0b70-40ac-807d-40d4381a420a",
   "metadata": {},
   "outputs": [],
   "source": [
    "facttest.join(countries, facttest[\"country\"] == countries[\"country\"])"
   ]
  },
  {
   "cell_type": "code",
   "execution_count": null,
   "id": "3cb62449-c5b1-4822-aea0-8bc729813214",
   "metadata": {},
   "outputs": [],
   "source": [
    "facttest.join(dimlife, (facttest[\"year\"] == dimlife[\"year\"] )& (facttest[\"country\"] == dimlife[\"country\"]))"
   ]
  },
  {
   "cell_type": "code",
   "execution_count": null,
   "id": "c24d7969-02e1-4d84-8c24-877e8ef78fd5",
   "metadata": {},
   "outputs": [],
   "source": [
    "facttest.join(time, facttest[\"year\"] == time[\"year\"])"
   ]
  },
  {
   "cell_type": "code",
   "execution_count": null,
   "id": "b8563c3f-7a97-4015-8c95-3558c82b7284",
   "metadata": {},
   "outputs": [],
   "source": [
    "facttest.join(lifeexp, (facttest[\"year\"] == lifeexp[\"year\"] )& (facttest[\"country\"] == lifeexp[\"country\"]))"
   ]
  },
  {
   "cell_type": "code",
   "execution_count": null,
   "id": "42d9d7e5-47fb-4492-ac2e-27aec91890c1",
   "metadata": {},
   "outputs": [],
   "source": [
    "session.tables.schema"
   ]
  },
  {
   "cell_type": "code",
   "execution_count": null,
   "id": "860a487d-8e0e-4637-92f3-ef9d6269b62e",
   "metadata": {},
   "outputs": [],
   "source": [
    "testcube = session.create_cube(facttest)"
   ]
  },
  {
   "cell_type": "code",
   "execution_count": null,
   "id": "56262118-9490-4f59-8642-fd26bbaf1c72",
   "metadata": {
    "scrolled": true
   },
   "outputs": [],
   "source": [
    "testcube"
   ]
  },
  {
   "cell_type": "code",
   "execution_count": null,
   "id": "ad272527-67cd-4785-b77f-f7bb45bef4f8",
   "metadata": {},
   "outputs": [],
   "source": [
    "hierarchies, levels, measures = testcube.hierarchies, testcube.levels, testcube.measures"
   ]
  },
  {
   "cell_type": "code",
   "execution_count": null,
   "id": "c9d6c08f-9247-46ea-a535-74527fda3c9d",
   "metadata": {},
   "outputs": [],
   "source": [
    "measures"
   ]
  },
  {
   "cell_type": "code",
   "execution_count": null,
   "id": "df93ed09-8f59-4d50-9c1c-0a336cc78995",
   "metadata": {
    "scrolled": true
   },
   "outputs": [],
   "source": [
    "list(levels)"
   ]
  },
  {
   "cell_type": "code",
   "execution_count": null,
   "id": "6cbfab1d-52e8-4a00-a222-f25561915a9b",
   "metadata": {},
   "outputs": [],
   "source": [
    "hierarchies[\"Time\",\"time\"] = [time[\"decade\"],time[\"year\"],time[\"season\"]]"
   ]
  },
  {
   "cell_type": "code",
   "execution_count": null,
   "id": "c58044dc-345b-4c83-8525-7325ffe7365d",
   "metadata": {},
   "outputs": [],
   "source": [
    "del hierarchies[\"Life\",\"gdpcap\"]"
   ]
  },
  {
   "cell_type": "code",
   "execution_count": null,
   "id": "a37cce50-f22f-407e-8ec3-0c048a695447",
   "metadata": {},
   "outputs": [],
   "source": [
    "list(testcube.hierarchies)"
   ]
  },
  {
   "cell_type": "code",
   "execution_count": null,
   "id": "c947c29a-164f-4d4e-80ad-557f47100ff7",
   "metadata": {},
   "outputs": [],
   "source": [
    "testcube.query(measures[\"total.SUM\"], levels=[levels[('Countries', 'continent', 'country')],levels[\"Details\",\"details\",\"lifeexpectancy\"]])"
   ]
  },
  {
   "cell_type": "code",
   "execution_count": null,
   "id": "d84b7337-c52a-417b-99e5-5903840ca712",
   "metadata": {},
   "outputs": [],
   "source": []
  }
 ],
 "metadata": {
  "kernelspec": {
   "display_name": "Python 3 (ipykernel)",
   "language": "python",
   "name": "python3"
  },
  "language_info": {
   "codemirror_mode": {
    "name": "ipython",
    "version": 3
   },
   "file_extension": ".py",
   "mimetype": "text/x-python",
   "name": "python",
   "nbconvert_exporter": "python",
   "pygments_lexer": "ipython3",
   "version": "3.10.12"
  }
 },
 "nbformat": 4,
 "nbformat_minor": 5
}
