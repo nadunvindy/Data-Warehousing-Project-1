{
 "cells": [
  {
   "cell_type": "code",
   "execution_count": 65,
   "id": "e3250406-7dc5-4889-bfec-fd13700da2ff",
   "metadata": {},
   "outputs": [],
   "source": [
    "import atoti as tt"
   ]
  },
  {
   "cell_type": "code",
   "execution_count": 101,
   "id": "5baab508-0f7f-498d-92d6-82f85cfdfb5a",
   "metadata": {},
   "outputs": [
    {
     "name": "stderr",
     "output_type": "stream",
     "text": [
      "Closing existing \"Unnamed\" session to create the new one.\n"
     ]
    }
   ],
   "source": [
    "session = tt.Session(\n",
    "    user_content_storage=\".content\",\n",
    "    port=9095,\n",
    "    java_options=[\"-Xms1G\", \"-Xmx10G\"]\n",
    ")"
   ]
  },
  {
   "cell_type": "code",
   "execution_count": 102,
   "id": "42db0455-3217-44f3-8957-eb6e98bbe662",
   "metadata": {},
   "outputs": [],
   "source": [
    "db_name = \"Project1\"\n",
    "db_user = \"postgres\"\n",
    "db_password = \"postgres\"  \n",
    "db_host = \"localhost\"  \n",
    "db_port = \"5432\""
   ]
  },
  {
   "cell_type": "code",
   "execution_count": 103,
   "id": "0827c8bd-7294-492f-841b-6c3840e1b3c1",
   "metadata": {},
   "outputs": [],
   "source": [
    "jdbc_url = f\"jdbc:postgresql://{db_host}:{db_port}/{db_name}?user={db_user}&password={db_password}\""
   ]
  },
  {
   "cell_type": "code",
   "execution_count": 104,
   "id": "f6517067-5b30-4559-8178-b5c0b73adbed",
   "metadata": {},
   "outputs": [
    {
     "data": {
      "text/plain": [
       "'jdbc:postgresql://localhost:5432/Project1?user=postgres&password=postgres'"
      ]
     },
     "execution_count": 104,
     "metadata": {},
     "output_type": "execute_result"
    }
   ],
   "source": [
    "jdbc_url"
   ]
  },
  {
   "cell_type": "code",
   "execution_count": 105,
   "id": "0e3273fb-18f1-47a1-affd-8da19cd4e59a",
   "metadata": {},
   "outputs": [],
   "source": [
    "facttest = session.read_sql(\n",
    "    \"SELECT * FROM olympics\",\n",
    "    keys=[\"factid\"],\n",
    "    table_name=\"factTable\",\n",
    "    url=jdbc_url,\n",
    ")"
   ]
  },
  {
   "cell_type": "code",
   "execution_count": 106,
   "id": "7efa3dd7-855c-4584-891c-63724cc3f43a",
   "metadata": {},
   "outputs": [
    {
     "data": {
      "text/html": [
       "<div>\n",
       "<style scoped>\n",
       "    .dataframe tbody tr th:only-of-type {\n",
       "        vertical-align: middle;\n",
       "    }\n",
       "\n",
       "    .dataframe tbody tr th {\n",
       "        vertical-align: top;\n",
       "    }\n",
       "\n",
       "    .dataframe thead th {\n",
       "        text-align: right;\n",
       "    }\n",
       "</style>\n",
       "<table border=\"1\" class=\"dataframe\">\n",
       "  <thead>\n",
       "    <tr style=\"text-align: right;\">\n",
       "      <th></th>\n",
       "      <th>year</th>\n",
       "      <th>country</th>\n",
       "      <th>bronze</th>\n",
       "      <th>gold</th>\n",
       "      <th>silver</th>\n",
       "      <th>code</th>\n",
       "      <th>depression</th>\n",
       "      <th>schizophrenia</th>\n",
       "      <th>bipolar</th>\n",
       "      <th>eatingdisorder</th>\n",
       "      <th>anxiety</th>\n",
       "    </tr>\n",
       "    <tr>\n",
       "      <th>factid</th>\n",
       "      <th></th>\n",
       "      <th></th>\n",
       "      <th></th>\n",
       "      <th></th>\n",
       "      <th></th>\n",
       "      <th></th>\n",
       "      <th></th>\n",
       "      <th></th>\n",
       "      <th></th>\n",
       "      <th></th>\n",
       "      <th></th>\n",
       "    </tr>\n",
       "  </thead>\n",
       "  <tbody>\n",
       "    <tr>\n",
       "      <th>10</th>\n",
       "      <td>1992</td>\n",
       "      <td>Colombia</td>\n",
       "      <td>1</td>\n",
       "      <td>0</td>\n",
       "      <td>0</td>\n",
       "      <td>COL</td>\n",
       "      <td>409.2101</td>\n",
       "      <td>176.92981</td>\n",
       "      <td>160.54938</td>\n",
       "      <td>39.03201</td>\n",
       "      <td>440.6033</td>\n",
       "    </tr>\n",
       "    <tr>\n",
       "      <th>15</th>\n",
       "      <td>1992</td>\n",
       "      <td>Ethiopia</td>\n",
       "      <td>2</td>\n",
       "      <td>1</td>\n",
       "      <td>0</td>\n",
       "      <td>ETH</td>\n",
       "      <td>879.54535</td>\n",
       "      <td>130.96753</td>\n",
       "      <td>131.26181</td>\n",
       "      <td>13.950861</td>\n",
       "      <td>341.37143</td>\n",
       "    </tr>\n",
       "    <tr>\n",
       "      <th>25</th>\n",
       "      <td>1992</td>\n",
       "      <td>Italy</td>\n",
       "      <td>14</td>\n",
       "      <td>10</td>\n",
       "      <td>11</td>\n",
       "      <td>ITA</td>\n",
       "      <td>676.9239</td>\n",
       "      <td>189.44333</td>\n",
       "      <td>185.89877</td>\n",
       "      <td>111.49093</td>\n",
       "      <td>534.1591</td>\n",
       "    </tr>\n",
       "    <tr>\n",
       "      <th>30</th>\n",
       "      <td>1992</td>\n",
       "      <td>Lithuania</td>\n",
       "      <td>1</td>\n",
       "      <td>1</td>\n",
       "      <td>0</td>\n",
       "      <td>LTU</td>\n",
       "      <td>757.23334</td>\n",
       "      <td>177.75684</td>\n",
       "      <td>112.17934</td>\n",
       "      <td>29.457224</td>\n",
       "      <td>407.19626</td>\n",
       "    </tr>\n",
       "    <tr>\n",
       "      <th>38</th>\n",
       "      <td>1992</td>\n",
       "      <td>New Zealand</td>\n",
       "      <td>5</td>\n",
       "      <td>1</td>\n",
       "      <td>7</td>\n",
       "      <td>NZL</td>\n",
       "      <td>628.83966</td>\n",
       "      <td>247.53746</td>\n",
       "      <td>318.087</td>\n",
       "      <td>116.245964</td>\n",
       "      <td>693.3906</td>\n",
       "    </tr>\n",
       "  </tbody>\n",
       "</table>\n",
       "</div>"
      ],
      "text/plain": [
       "        year      country  bronze  gold  silver code  depression  \\\n",
       "factid                                                             \n",
       "10      1992     Colombia       1     0       0  COL    409.2101   \n",
       "15      1992     Ethiopia       2     1       0  ETH   879.54535   \n",
       "25      1992        Italy      14    10      11  ITA    676.9239   \n",
       "30      1992    Lithuania       1     1       0  LTU   757.23334   \n",
       "38      1992  New Zealand       5     1       7  NZL   628.83966   \n",
       "\n",
       "        schizophrenia    bipolar  eatingdisorder    anxiety  \n",
       "factid                                                       \n",
       "10          176.92981  160.54938        39.03201   440.6033  \n",
       "15          130.96753  131.26181       13.950861  341.37143  \n",
       "25          189.44333  185.89877       111.49093   534.1591  \n",
       "30          177.75684  112.17934       29.457224  407.19626  \n",
       "38          247.53746    318.087      116.245964   693.3906  "
      ]
     },
     "execution_count": 106,
     "metadata": {},
     "output_type": "execute_result"
    }
   ],
   "source": [
    "facttest.head()"
   ]
  },
  {
   "cell_type": "code",
   "execution_count": 107,
   "id": "a8bdf743-64f6-480c-8d1c-a8dc047da837",
   "metadata": {},
   "outputs": [],
   "source": [
    "# medals = session.read_sql(\n",
    "#     \"SELECT * FROM medalsnew\",\n",
    "#     keys=[\"id\"],\n",
    "#     table_name=\"Medals\",\n",
    "#     url=jdbc_url)"
   ]
  },
  {
   "cell_type": "code",
   "execution_count": 108,
   "id": "cae93443-5fb4-4579-8960-98883518ab4c",
   "metadata": {},
   "outputs": [],
   "source": [
    "countries = session.read_sql(\n",
    "    \"SELECT * FROM countries\",\n",
    "    keys=[\"country\"],\n",
    "    table_name=\"Countries\",\n",
    "    url=jdbc_url)"
   ]
  },
  {
   "cell_type": "code",
   "execution_count": 109,
   "id": "efc6f584-fb36-4d51-b59b-5e88e5f692bc",
   "metadata": {},
   "outputs": [],
   "source": [
    "# illness = session.read_sql(\n",
    "#     \"SELECT * FROM mentalillness\",\n",
    "#     keys=[\"code\",\"year\"],\n",
    "#     table_name=\"Illness\",\n",
    "#     url=jdbc_url)"
   ]
  },
  {
   "cell_type": "code",
   "execution_count": 110,
   "id": "0f054f27-207b-422a-885d-76e35834d64e",
   "metadata": {},
   "outputs": [],
   "source": [
    "time = session.read_sql(\n",
    "    \"SELECT * FROM time\",\n",
    "    keys=[\"name\",\"year\"],\n",
    "    table_name=\"Oypmic\",\n",
    "    url=jdbc_url)"
   ]
  },
  {
   "cell_type": "code",
   "execution_count": 111,
   "id": "07e8d622-ae25-428c-a123-459689e98870",
   "metadata": {},
   "outputs": [
    {
     "data": {
      "text/html": [
       "<div>\n",
       "<style scoped>\n",
       "    .dataframe tbody tr th:only-of-type {\n",
       "        vertical-align: middle;\n",
       "    }\n",
       "\n",
       "    .dataframe tbody tr th {\n",
       "        vertical-align: top;\n",
       "    }\n",
       "\n",
       "    .dataframe thead th {\n",
       "        text-align: right;\n",
       "    }\n",
       "</style>\n",
       "<table border=\"1\" class=\"dataframe\">\n",
       "  <thead>\n",
       "    <tr style=\"text-align: right;\">\n",
       "      <th></th>\n",
       "      <th></th>\n",
       "    </tr>\n",
       "    <tr>\n",
       "      <th>name</th>\n",
       "      <th>year</th>\n",
       "    </tr>\n",
       "  </thead>\n",
       "  <tbody>\n",
       "    <tr>\n",
       "      <th>Beijing 2022</th>\n",
       "      <th>2022</th>\n",
       "    </tr>\n",
       "    <tr>\n",
       "      <th>Albertville 1992</th>\n",
       "      <th>1992</th>\n",
       "    </tr>\n",
       "    <tr>\n",
       "      <th>Seoul 1988</th>\n",
       "      <th>1988</th>\n",
       "    </tr>\n",
       "    <tr>\n",
       "      <th>Innsbruck 1976</th>\n",
       "      <th>1976</th>\n",
       "    </tr>\n",
       "    <tr>\n",
       "      <th>Paris 1924</th>\n",
       "      <th>1924</th>\n",
       "    </tr>\n",
       "  </tbody>\n",
       "</table>\n",
       "</div>"
      ],
      "text/plain": [
       "Empty DataFrame\n",
       "Columns: []\n",
       "Index: [(Beijing 2022, 2022), (Albertville 1992, 1992), (Seoul 1988, 1988), (Innsbruck 1976, 1976), (Paris 1924, 1924)]"
      ]
     },
     "execution_count": 111,
     "metadata": {},
     "output_type": "execute_result"
    }
   ],
   "source": [
    "time.head()"
   ]
  },
  {
   "cell_type": "code",
   "execution_count": 112,
   "id": "89612d1e-0b70-40ac-807d-40d4381a420a",
   "metadata": {},
   "outputs": [],
   "source": [
    "facttest.join(countries, facttest[\"country\"] == countries[\"country\"])"
   ]
  },
  {
   "cell_type": "code",
   "execution_count": 76,
   "id": "3cb62449-c5b1-4822-aea0-8bc729813214",
   "metadata": {},
   "outputs": [],
   "source": [
    "facttest.join(medals, facttest[\"country\"] == medals[\"country\"])"
   ]
  },
  {
   "cell_type": "code",
   "execution_count": 113,
   "id": "c24d7969-02e1-4d84-8c24-877e8ef78fd5",
   "metadata": {},
   "outputs": [],
   "source": [
    "facttest.join(time, (facttest[\"year\"] == time[\"year\"]))"
   ]
  },
  {
   "cell_type": "code",
   "execution_count": 114,
   "id": "42d9d7e5-47fb-4492-ac2e-27aec91890c1",
   "metadata": {},
   "outputs": [
    {
     "data": {
      "text/markdown": [
       "```mermaid\n",
       "erDiagram\n",
       "  \"Countries\" {\n",
       "    _ String PK \"country\"\n",
       "    _ String \"continent\"\n",
       "  }\n",
       "  \"Illness\" {\n",
       "    _ String \"country\"\n",
       "    _ String PK \"code\"\n",
       "    _ int PK \"year\"\n",
       "    nullable double \"depression\"\n",
       "    nullable double \"schizophrenia\"\n",
       "    nullable double \"bipolar\"\n",
       "    nullable double \"eatingdisorder\"\n",
       "    nullable double \"anxiety\"\n",
       "  }\n",
       "  \"factTable\" {\n",
       "    _ int PK \"factid\"\n",
       "    nullable int \"year\"\n",
       "    _ String \"country\"\n",
       "    nullable int \"bronze\"\n",
       "    nullable int \"gold\"\n",
       "    nullable int \"silver\"\n",
       "    _ String \"code\"\n",
       "    nullable double \"depression\"\n",
       "    nullable double \"schizophrenia\"\n",
       "    nullable double \"bipolar\"\n",
       "    nullable double \"eatingdisorder\"\n",
       "    nullable double \"anxiety\"\n",
       "  }\n",
       "  \"Oypmic\" {\n",
       "    _ String PK \"name\"\n",
       "    _ int PK \"year\"\n",
       "  }\n",
       "  \"Medals\" {\n",
       "    nullable int \"year\"\n",
       "    _ String \"medal\"\n",
       "    _ String \"country\"\n",
       "    _ String \"code\"\n",
       "    _ int PK \"id\"\n",
       "  }\n",
       "  \"factTable\" }o--o| \"Countries\" : \"`country` == `country`\"\n",
       "  \"factTable\" }o..o{ \"Oypmic\" : \"`year` == `year`\"\n",
       "```\n"
      ],
      "text/plain": [
       "erDiagram\n",
       "  \"Countries\" {\n",
       "    _ String PK \"country\"\n",
       "    _ String \"continent\"\n",
       "  }\n",
       "  \"Illness\" {\n",
       "    _ String \"country\"\n",
       "    _ String PK \"code\"\n",
       "    _ int PK \"year\"\n",
       "    nullable double \"depression\"\n",
       "    nullable double \"schizophrenia\"\n",
       "    nullable double \"bipolar\"\n",
       "    nullable double \"eatingdisorder\"\n",
       "    nullable double \"anxiety\"\n",
       "  }\n",
       "  \"factTable\" {\n",
       "    _ int PK \"factid\"\n",
       "    nullable int \"year\"\n",
       "    _ String \"country\"\n",
       "    nullable int \"bronze\"\n",
       "    nullable int \"gold\"\n",
       "    nullable int \"silver\"\n",
       "    _ String \"code\"\n",
       "    nullable double \"depression\"\n",
       "    nullable double \"schizophrenia\"\n",
       "    nullable double \"bipolar\"\n",
       "    nullable double \"eatingdisorder\"\n",
       "    nullable double \"anxiety\"\n",
       "  }\n",
       "  \"Oypmic\" {\n",
       "    _ String PK \"name\"\n",
       "    _ int PK \"year\"\n",
       "  }\n",
       "  \"Medals\" {\n",
       "    nullable int \"year\"\n",
       "    _ String \"medal\"\n",
       "    _ String \"country\"\n",
       "    _ String \"code\"\n",
       "    _ int PK \"id\"\n",
       "  }\n",
       "  \"factTable\" }o--o| \"Countries\" : \"`country` == `country`\"\n",
       "  \"factTable\" }o..o{ \"Oypmic\" : \"`year` == `year`\""
      ]
     },
     "execution_count": 114,
     "metadata": {},
     "output_type": "execute_result"
    }
   ],
   "source": [
    "session.tables.schema"
   ]
  },
  {
   "cell_type": "code",
   "execution_count": 99,
   "id": "860a487d-8e0e-4637-92f3-ef9d6269b62e",
   "metadata": {},
   "outputs": [
    {
     "ename": "Py4JJavaError",
     "evalue": "An error occurred while calling o1511.refresh.\n: com.activeviam.fwk.ActiveViamRuntimeException: No level found for field year\n\tat io.atoti.pivot.impl.HierarchiesManager.getCopperStore(HierarchiesManager.java:724)\n\tat io.atoti.pivot.impl.HierarchiesManager.lambda$createCopperJoinHierarchies$21(HierarchiesManager.java:622)\n\tat io.atoti.pivot.impl.CopperJoinHierarchy.doPublish(CopperJoinHierarchy.java:140)\n\tat io.atoti.pivot.measure.util.ACopperHierarchyDefinition.publish(ACopperHierarchyDefinition.java:18)\n\tat io.atoti.pivot.impl.HierarchiesManager.lambda$publishCopper$27(HierarchiesManager.java:680)\n\tat java.base/java.lang.Iterable.forEach(Unknown Source)\n\tat io.atoti.pivot.impl.HierarchiesManager.publishCopper(HierarchiesManager.java:680)\n\tat io.atoti.pivot.impl.CubeImpl.lambda$createActivePivotDescription$14(CubeImpl.java:684)\n\tat com.activeviam.activepivot.core.impl.private_.structure.PivotSchemaUpdater.addCalculationsToDataCube(PivotSchemaUpdater.java:244)\n\tat com.activeviam.activepivot.core.impl.private_.structure.PivotSchemaUpdater.addCalculations(PivotSchemaUpdater.java:226)\n\tat com.activeviam.activepivot.core.impl.private_.structure.PivotSchemaUpdater.addPivot(PivotSchemaUpdater.java:321)\n\tat java.base/java.util.Collections$SingletonList.forEach(Unknown Source)\n\tat com.activeviam.activepivot.core.impl.private_.structure.PivotSchemaUpdater.<init>(PivotSchemaUpdater.java:108)\n\tat com.activeviam.activepivot.core.impl.private_.structure.WritableActivePivotManagerStructure.addSchema(WritableActivePivotManagerStructure.java:212)\n\tat java.base/java.lang.Iterable.forEach(Unknown Source)\n\tat com.activeviam.activepivot.core.impl.internal.structure.ActivePivotManagerStructureUtil.synchronizeDatabaseAndManager(ActivePivotManagerStructureUtil.java:65)\n\tat io.atoti.impl.SimpleManager.lambda$commitStructuralManagerTransactionOrRebuildManager$3(SimpleManager.java:524)\n\tat com.qfs.store.transaction.impl.DatastoreStructuralSchemaTransaction.updateSchema(DatastoreStructuralSchemaTransaction.java:92)\n\tat com.qfs.store.transaction.impl.DatastoreStructuralSchemaTransaction.updateSchema(DatastoreStructuralSchemaTransaction.java:35)\n\tat io.atoti.impl.ManagerAndDatabaseEditor.lambda$updateDatabase$1(ManagerAndDatabaseEditor.java:86)\n\tat io.atoti.impl.ManagerAndDatabaseEditor.onStructuralTransaction(ManagerAndDatabaseEditor.java:93)\n\tat io.atoti.impl.ManagerAndDatabaseEditor.updateDatabase(ManagerAndDatabaseEditor.java:84)\n\tat io.atoti.impl.SimpleManager.commitStructuralManagerTransactionOrRebuildManager(SimpleManager.java:521)\n\tat io.atoti.impl.SimpleManager.applyChanges(SimpleManager.java:450)\n\tat io.atoti.api.impl.BaseApi.refresh(BaseApi.java:56)\n\tat java.base/jdk.internal.reflect.NativeMethodAccessorImpl.invoke0(Native Method)\n\tat java.base/jdk.internal.reflect.NativeMethodAccessorImpl.invoke(Unknown Source)\n\tat java.base/jdk.internal.reflect.DelegatingMethodAccessorImpl.invoke(Unknown Source)\n\tat java.base/java.lang.reflect.Method.invoke(Unknown Source)\n\tat py4j.reflection.MethodInvoker.invoke(MethodInvoker.java:244)\n\tat py4j.reflection.ReflectionEngine.invoke(ReflectionEngine.java:357)\n\tat py4j.Gateway.invoke(Gateway.java:282)\n\tat py4j.commands.AbstractCommand.invokeMethod(AbstractCommand.java:132)\n\tat py4j.commands.CallCommand.execute(CallCommand.java:79)\n\tat py4j.ClientServerConnection.waitForCommands(ClientServerConnection.java:182)\n\tat py4j.ClientServerConnection.run(ClientServerConnection.java:106)\n\tat java.base/java.lang.Thread.run(Unknown Source)\n",
     "output_type": "error",
     "traceback": [
      "\u001b[0;31m---------------------------------------------------------------------------\u001b[0m",
      "\u001b[0;31mPy4JJavaError\u001b[0m                             Traceback (most recent call last)",
      "Cell \u001b[0;32mIn[99], line 1\u001b[0m\n\u001b[0;32m----> 1\u001b[0m testcube \u001b[38;5;241m=\u001b[39m \u001b[43msession\u001b[49m\u001b[38;5;241;43m.\u001b[39;49m\u001b[43mcreate_cube\u001b[49m\u001b[43m(\u001b[49m\u001b[43mfacttest\u001b[49m\u001b[43m)\u001b[49m\n",
      "File \u001b[0;32m~/.local/lib/python3.10/site-packages/atoti/_telemetry/track_calls.py:68\u001b[0m, in \u001b[0;36mcreate_decorator.<locals>.decorator.<locals>.wrapper\u001b[0;34m(*args, **kwargs)\u001b[0m\n\u001b[1;32m     65\u001b[0m call_time \u001b[38;5;241m=\u001b[39m perf_counter()\n\u001b[1;32m     67\u001b[0m \u001b[38;5;28;01mtry\u001b[39;00m:\n\u001b[0;32m---> 68\u001b[0m     \u001b[38;5;28;01mreturn\u001b[39;00m \u001b[43mfunction\u001b[49m\u001b[43m(\u001b[49m\u001b[38;5;241;43m*\u001b[39;49m\u001b[43margs\u001b[49m\u001b[43m,\u001b[49m\u001b[43m \u001b[49m\u001b[38;5;241;43m*\u001b[39;49m\u001b[38;5;241;43m*\u001b[39;49m\u001b[43mkwargs\u001b[49m\u001b[43m)\u001b[49m\n\u001b[1;32m     69\u001b[0m \u001b[38;5;28;01mexcept\u001b[39;00m \u001b[38;5;167;01mException\u001b[39;00m \u001b[38;5;28;01mas\u001b[39;00m error:\n\u001b[1;32m     70\u001b[0m     \u001b[38;5;28;01mwith\u001b[39;00m suppress(  \u001b[38;5;66;03m# Do nothing to let the previous error be the one presented to the user.\u001b[39;00m\n\u001b[1;32m     71\u001b[0m         \u001b[38;5;167;01mException\u001b[39;00m\n\u001b[1;32m     72\u001b[0m     ):\n",
      "File \u001b[0;32m~/.local/lib/python3.10/site-packages/pydantic/validate_call_decorator.py:58\u001b[0m, in \u001b[0;36mvalidate_call.<locals>.validate.<locals>.wrapper_function\u001b[0;34m(*args, **kwargs)\u001b[0m\n\u001b[1;32m     56\u001b[0m \u001b[38;5;129m@functools\u001b[39m\u001b[38;5;241m.\u001b[39mwraps(function)\n\u001b[1;32m     57\u001b[0m \u001b[38;5;28;01mdef\u001b[39;00m \u001b[38;5;21mwrapper_function\u001b[39m(\u001b[38;5;241m*\u001b[39margs, \u001b[38;5;241m*\u001b[39m\u001b[38;5;241m*\u001b[39mkwargs):\n\u001b[0;32m---> 58\u001b[0m     \u001b[38;5;28;01mreturn\u001b[39;00m \u001b[43mvalidate_call_wrapper\u001b[49m\u001b[43m(\u001b[49m\u001b[38;5;241;43m*\u001b[39;49m\u001b[43margs\u001b[49m\u001b[43m,\u001b[49m\u001b[43m \u001b[49m\u001b[38;5;241;43m*\u001b[39;49m\u001b[38;5;241;43m*\u001b[39;49m\u001b[43mkwargs\u001b[49m\u001b[43m)\u001b[49m\n",
      "File \u001b[0;32m~/.local/lib/python3.10/site-packages/pydantic/_internal/_validate_call.py:81\u001b[0m, in \u001b[0;36mValidateCallWrapper.__call__\u001b[0;34m(self, *args, **kwargs)\u001b[0m\n\u001b[1;32m     80\u001b[0m \u001b[38;5;28;01mdef\u001b[39;00m \u001b[38;5;21m__call__\u001b[39m(\u001b[38;5;28mself\u001b[39m, \u001b[38;5;241m*\u001b[39margs: Any, \u001b[38;5;241m*\u001b[39m\u001b[38;5;241m*\u001b[39mkwargs: Any) \u001b[38;5;241m-\u001b[39m\u001b[38;5;241m>\u001b[39m Any:\n\u001b[0;32m---> 81\u001b[0m     res \u001b[38;5;241m=\u001b[39m \u001b[38;5;28;43mself\u001b[39;49m\u001b[38;5;241;43m.\u001b[39;49m\u001b[43m__pydantic_validator__\u001b[49m\u001b[38;5;241;43m.\u001b[39;49m\u001b[43mvalidate_python\u001b[49m\u001b[43m(\u001b[49m\u001b[43mpydantic_core\u001b[49m\u001b[38;5;241;43m.\u001b[39;49m\u001b[43mArgsKwargs\u001b[49m\u001b[43m(\u001b[49m\u001b[43margs\u001b[49m\u001b[43m,\u001b[49m\u001b[43m \u001b[49m\u001b[43mkwargs\u001b[49m\u001b[43m)\u001b[49m\u001b[43m)\u001b[49m\n\u001b[1;32m     82\u001b[0m     \u001b[38;5;28;01mif\u001b[39;00m \u001b[38;5;28mself\u001b[39m\u001b[38;5;241m.\u001b[39m__return_pydantic_validator__:\n\u001b[1;32m     83\u001b[0m         \u001b[38;5;28;01mreturn\u001b[39;00m \u001b[38;5;28mself\u001b[39m\u001b[38;5;241m.\u001b[39m__return_pydantic_validator__(res)\n",
      "File \u001b[0;32m~/.local/lib/python3.10/site-packages/atoti/session.py:1196\u001b[0m, in \u001b[0;36mSession.create_cube\u001b[0;34m(self, base_table, name, mode, filter)\u001b[0m\n\u001b[1;32m   1188\u001b[0m     name \u001b[38;5;241m=\u001b[39m base_table\u001b[38;5;241m.\u001b[39mname\n\u001b[1;32m   1190\u001b[0m \u001b[38;5;28mself\u001b[39m\u001b[38;5;241m.\u001b[39m_java_api\u001b[38;5;241m.\u001b[39mcreate_cube_from_table(\n\u001b[1;32m   1191\u001b[0m     name,\n\u001b[1;32m   1192\u001b[0m     table_identifier\u001b[38;5;241m=\u001b[39mbase_table\u001b[38;5;241m.\u001b[39m_identifier,\n\u001b[1;32m   1193\u001b[0m     mode\u001b[38;5;241m=\u001b[39mmode\u001b[38;5;241m.\u001b[39mupper(),\n\u001b[1;32m   1194\u001b[0m     \u001b[38;5;28mfilter\u001b[39m\u001b[38;5;241m=\u001b[39m\u001b[38;5;28mfilter\u001b[39m,\n\u001b[1;32m   1195\u001b[0m )\n\u001b[0;32m-> 1196\u001b[0m \u001b[38;5;28;43mself\u001b[39;49m\u001b[38;5;241;43m.\u001b[39;49m\u001b[43m_java_api\u001b[49m\u001b[38;5;241;43m.\u001b[39;49m\u001b[43mrefresh\u001b[49m\u001b[43m(\u001b[49m\u001b[43m)\u001b[49m\n\u001b[1;32m   1197\u001b[0m Cube(\n\u001b[1;32m   1198\u001b[0m     name,\n\u001b[1;32m   1199\u001b[0m     base_table\u001b[38;5;241m=\u001b[39mbase_table,\n\u001b[0;32m   (...)\u001b[0m\n\u001b[1;32m   1208\u001b[0m     session_name\u001b[38;5;241m=\u001b[39m\u001b[38;5;28mself\u001b[39m\u001b[38;5;241m.\u001b[39mname,\n\u001b[1;32m   1209\u001b[0m )\n\u001b[1;32m   1211\u001b[0m \u001b[38;5;28;01mreturn\u001b[39;00m \u001b[38;5;28mself\u001b[39m\u001b[38;5;241m.\u001b[39mcubes[name]\n",
      "File \u001b[0;32m~/.local/lib/python3.10/site-packages/atoti/_java_api.py:261\u001b[0m, in \u001b[0;36mJavaApi.refresh\u001b[0;34m(self)\u001b[0m\n\u001b[1;32m    260\u001b[0m \u001b[38;5;28;01mdef\u001b[39;00m \u001b[38;5;21mrefresh\u001b[39m(\u001b[38;5;28mself\u001b[39m) \u001b[38;5;241m-\u001b[39m\u001b[38;5;241m>\u001b[39m \u001b[38;5;28;01mNone\u001b[39;00m:\n\u001b[0;32m--> 261\u001b[0m     \u001b[38;5;28;43mself\u001b[39;49m\u001b[38;5;241;43m.\u001b[39;49m\u001b[43mjava_api\u001b[49m\u001b[38;5;241;43m.\u001b[39;49m\u001b[43mrefresh\u001b[49m\u001b[43m(\u001b[49m\u001b[43m)\u001b[49m\n\u001b[1;32m    262\u001b[0m     _warn_new_errors(\u001b[38;5;28mself\u001b[39m\u001b[38;5;241m.\u001b[39mget_new_load_errors())\n",
      "File \u001b[0;32m~/.local/lib/python3.10/site-packages/py4j/java_gateway.py:1322\u001b[0m, in \u001b[0;36mJavaMember.__call__\u001b[0;34m(self, *args)\u001b[0m\n\u001b[1;32m   1316\u001b[0m command \u001b[38;5;241m=\u001b[39m proto\u001b[38;5;241m.\u001b[39mCALL_COMMAND_NAME \u001b[38;5;241m+\u001b[39m\\\n\u001b[1;32m   1317\u001b[0m     \u001b[38;5;28mself\u001b[39m\u001b[38;5;241m.\u001b[39mcommand_header \u001b[38;5;241m+\u001b[39m\\\n\u001b[1;32m   1318\u001b[0m     args_command \u001b[38;5;241m+\u001b[39m\\\n\u001b[1;32m   1319\u001b[0m     proto\u001b[38;5;241m.\u001b[39mEND_COMMAND_PART\n\u001b[1;32m   1321\u001b[0m answer \u001b[38;5;241m=\u001b[39m \u001b[38;5;28mself\u001b[39m\u001b[38;5;241m.\u001b[39mgateway_client\u001b[38;5;241m.\u001b[39msend_command(command)\n\u001b[0;32m-> 1322\u001b[0m return_value \u001b[38;5;241m=\u001b[39m \u001b[43mget_return_value\u001b[49m\u001b[43m(\u001b[49m\n\u001b[1;32m   1323\u001b[0m \u001b[43m    \u001b[49m\u001b[43manswer\u001b[49m\u001b[43m,\u001b[49m\u001b[43m \u001b[49m\u001b[38;5;28;43mself\u001b[39;49m\u001b[38;5;241;43m.\u001b[39;49m\u001b[43mgateway_client\u001b[49m\u001b[43m,\u001b[49m\u001b[43m \u001b[49m\u001b[38;5;28;43mself\u001b[39;49m\u001b[38;5;241;43m.\u001b[39;49m\u001b[43mtarget_id\u001b[49m\u001b[43m,\u001b[49m\u001b[43m \u001b[49m\u001b[38;5;28;43mself\u001b[39;49m\u001b[38;5;241;43m.\u001b[39;49m\u001b[43mname\u001b[49m\u001b[43m)\u001b[49m\n\u001b[1;32m   1325\u001b[0m \u001b[38;5;28;01mfor\u001b[39;00m temp_arg \u001b[38;5;129;01min\u001b[39;00m temp_args:\n\u001b[1;32m   1326\u001b[0m     \u001b[38;5;28;01mif\u001b[39;00m \u001b[38;5;28mhasattr\u001b[39m(temp_arg, \u001b[38;5;124m\"\u001b[39m\u001b[38;5;124m_detach\u001b[39m\u001b[38;5;124m\"\u001b[39m):\n",
      "File \u001b[0;32m~/.local/lib/python3.10/site-packages/py4j/protocol.py:326\u001b[0m, in \u001b[0;36mget_return_value\u001b[0;34m(answer, gateway_client, target_id, name)\u001b[0m\n\u001b[1;32m    324\u001b[0m value \u001b[38;5;241m=\u001b[39m OUTPUT_CONVERTER[\u001b[38;5;28mtype\u001b[39m](answer[\u001b[38;5;241m2\u001b[39m:], gateway_client)\n\u001b[1;32m    325\u001b[0m \u001b[38;5;28;01mif\u001b[39;00m answer[\u001b[38;5;241m1\u001b[39m] \u001b[38;5;241m==\u001b[39m REFERENCE_TYPE:\n\u001b[0;32m--> 326\u001b[0m     \u001b[38;5;28;01mraise\u001b[39;00m Py4JJavaError(\n\u001b[1;32m    327\u001b[0m         \u001b[38;5;124m\"\u001b[39m\u001b[38;5;124mAn error occurred while calling \u001b[39m\u001b[38;5;132;01m{0}\u001b[39;00m\u001b[38;5;132;01m{1}\u001b[39;00m\u001b[38;5;132;01m{2}\u001b[39;00m\u001b[38;5;124m.\u001b[39m\u001b[38;5;130;01m\\n\u001b[39;00m\u001b[38;5;124m\"\u001b[39m\u001b[38;5;241m.\u001b[39m\n\u001b[1;32m    328\u001b[0m         \u001b[38;5;28mformat\u001b[39m(target_id, \u001b[38;5;124m\"\u001b[39m\u001b[38;5;124m.\u001b[39m\u001b[38;5;124m\"\u001b[39m, name), value)\n\u001b[1;32m    329\u001b[0m \u001b[38;5;28;01melse\u001b[39;00m:\n\u001b[1;32m    330\u001b[0m     \u001b[38;5;28;01mraise\u001b[39;00m Py4JError(\n\u001b[1;32m    331\u001b[0m         \u001b[38;5;124m\"\u001b[39m\u001b[38;5;124mAn error occurred while calling \u001b[39m\u001b[38;5;132;01m{0}\u001b[39;00m\u001b[38;5;132;01m{1}\u001b[39;00m\u001b[38;5;132;01m{2}\u001b[39;00m\u001b[38;5;124m. Trace:\u001b[39m\u001b[38;5;130;01m\\n\u001b[39;00m\u001b[38;5;132;01m{3}\u001b[39;00m\u001b[38;5;130;01m\\n\u001b[39;00m\u001b[38;5;124m\"\u001b[39m\u001b[38;5;241m.\u001b[39m\n\u001b[1;32m    332\u001b[0m         \u001b[38;5;28mformat\u001b[39m(target_id, \u001b[38;5;124m\"\u001b[39m\u001b[38;5;124m.\u001b[39m\u001b[38;5;124m\"\u001b[39m, name, value))\n",
      "\u001b[0;31mPy4JJavaError\u001b[0m: An error occurred while calling o1511.refresh.\n: com.activeviam.fwk.ActiveViamRuntimeException: No level found for field year\n\tat io.atoti.pivot.impl.HierarchiesManager.getCopperStore(HierarchiesManager.java:724)\n\tat io.atoti.pivot.impl.HierarchiesManager.lambda$createCopperJoinHierarchies$21(HierarchiesManager.java:622)\n\tat io.atoti.pivot.impl.CopperJoinHierarchy.doPublish(CopperJoinHierarchy.java:140)\n\tat io.atoti.pivot.measure.util.ACopperHierarchyDefinition.publish(ACopperHierarchyDefinition.java:18)\n\tat io.atoti.pivot.impl.HierarchiesManager.lambda$publishCopper$27(HierarchiesManager.java:680)\n\tat java.base/java.lang.Iterable.forEach(Unknown Source)\n\tat io.atoti.pivot.impl.HierarchiesManager.publishCopper(HierarchiesManager.java:680)\n\tat io.atoti.pivot.impl.CubeImpl.lambda$createActivePivotDescription$14(CubeImpl.java:684)\n\tat com.activeviam.activepivot.core.impl.private_.structure.PivotSchemaUpdater.addCalculationsToDataCube(PivotSchemaUpdater.java:244)\n\tat com.activeviam.activepivot.core.impl.private_.structure.PivotSchemaUpdater.addCalculations(PivotSchemaUpdater.java:226)\n\tat com.activeviam.activepivot.core.impl.private_.structure.PivotSchemaUpdater.addPivot(PivotSchemaUpdater.java:321)\n\tat java.base/java.util.Collections$SingletonList.forEach(Unknown Source)\n\tat com.activeviam.activepivot.core.impl.private_.structure.PivotSchemaUpdater.<init>(PivotSchemaUpdater.java:108)\n\tat com.activeviam.activepivot.core.impl.private_.structure.WritableActivePivotManagerStructure.addSchema(WritableActivePivotManagerStructure.java:212)\n\tat java.base/java.lang.Iterable.forEach(Unknown Source)\n\tat com.activeviam.activepivot.core.impl.internal.structure.ActivePivotManagerStructureUtil.synchronizeDatabaseAndManager(ActivePivotManagerStructureUtil.java:65)\n\tat io.atoti.impl.SimpleManager.lambda$commitStructuralManagerTransactionOrRebuildManager$3(SimpleManager.java:524)\n\tat com.qfs.store.transaction.impl.DatastoreStructuralSchemaTransaction.updateSchema(DatastoreStructuralSchemaTransaction.java:92)\n\tat com.qfs.store.transaction.impl.DatastoreStructuralSchemaTransaction.updateSchema(DatastoreStructuralSchemaTransaction.java:35)\n\tat io.atoti.impl.ManagerAndDatabaseEditor.lambda$updateDatabase$1(ManagerAndDatabaseEditor.java:86)\n\tat io.atoti.impl.ManagerAndDatabaseEditor.onStructuralTransaction(ManagerAndDatabaseEditor.java:93)\n\tat io.atoti.impl.ManagerAndDatabaseEditor.updateDatabase(ManagerAndDatabaseEditor.java:84)\n\tat io.atoti.impl.SimpleManager.commitStructuralManagerTransactionOrRebuildManager(SimpleManager.java:521)\n\tat io.atoti.impl.SimpleManager.applyChanges(SimpleManager.java:450)\n\tat io.atoti.api.impl.BaseApi.refresh(BaseApi.java:56)\n\tat java.base/jdk.internal.reflect.NativeMethodAccessorImpl.invoke0(Native Method)\n\tat java.base/jdk.internal.reflect.NativeMethodAccessorImpl.invoke(Unknown Source)\n\tat java.base/jdk.internal.reflect.DelegatingMethodAccessorImpl.invoke(Unknown Source)\n\tat java.base/java.lang.reflect.Method.invoke(Unknown Source)\n\tat py4j.reflection.MethodInvoker.invoke(MethodInvoker.java:244)\n\tat py4j.reflection.ReflectionEngine.invoke(ReflectionEngine.java:357)\n\tat py4j.Gateway.invoke(Gateway.java:282)\n\tat py4j.commands.AbstractCommand.invokeMethod(AbstractCommand.java:132)\n\tat py4j.commands.CallCommand.execute(CallCommand.java:79)\n\tat py4j.ClientServerConnection.waitForCommands(ClientServerConnection.java:182)\n\tat py4j.ClientServerConnection.run(ClientServerConnection.java:106)\n\tat java.base/java.lang.Thread.run(Unknown Source)\n"
     ]
    }
   ],
   "source": [
    "testcube = session.create_cube(facttest)"
   ]
  },
  {
   "cell_type": "code",
   "execution_count": 80,
   "id": "655b83f6-7d9f-48d3-bed5-5d5c3c8c8140",
   "metadata": {},
   "outputs": [],
   "source": [
    "testcube.measures['total.SUM'] = testcube.measures['gold.SUM'] + testcube.measures['silver.SUM'] + testcube.measures['bronze.SUM']"
   ]
  },
  {
   "cell_type": "code",
   "execution_count": 81,
   "id": "56262118-9490-4f59-8642-fd26bbaf1c72",
   "metadata": {},
   "outputs": [
    {
     "data": {
      "application/json": {
       "Dimensions": {
        "Countries": {
         "continent": [
          "continent"
         ]
        },
        "Illness": {
         "country": [
          "country"
         ]
        },
        "Medals": {
         "code": [
          "code"
         ],
         "id": [
          "id"
         ],
         "medal": [
          "medal"
         ]
        },
        "factTable": {
         "code": [
          "code"
         ],
         "country": [
          "country"
         ],
         "factid": [
          "factid"
         ]
        }
       },
       "Measures": {
        "anxiety.MEAN": {
         "formatter": "DOUBLE[#,###.00]"
        },
        "anxiety.SUM": {
         "formatter": "DOUBLE[#,###.00]"
        },
        "bipolar.MEAN": {
         "formatter": "DOUBLE[#,###.00]"
        },
        "bipolar.SUM": {
         "formatter": "DOUBLE[#,###.00]"
        },
        "bronze.MEAN": {
         "formatter": "DOUBLE[#,###.00]"
        },
        "bronze.SUM": {
         "formatter": "INT[#,###]"
        },
        "contributors.COUNT": {
         "formatter": "INT[#,###]"
        },
        "depression.MEAN": {
         "formatter": "DOUBLE[#,###.00]"
        },
        "depression.SUM": {
         "formatter": "DOUBLE[#,###.00]"
        },
        "eatingdisorder.MEAN": {
         "formatter": "DOUBLE[#,###.00]"
        },
        "eatingdisorder.SUM": {
         "formatter": "DOUBLE[#,###.00]"
        },
        "gold.MEAN": {
         "formatter": "DOUBLE[#,###.00]"
        },
        "gold.SUM": {
         "formatter": "INT[#,###]"
        },
        "schizophrenia.MEAN": {
         "formatter": "DOUBLE[#,###.00]"
        },
        "schizophrenia.SUM": {
         "formatter": "DOUBLE[#,###.00]"
        },
        "silver.MEAN": {
         "formatter": "DOUBLE[#,###.00]"
        },
        "silver.SUM": {
         "formatter": "INT[#,###]"
        },
        "total.SUM": {
         "formatter": "INT[#,###]"
        },
        "year.MEAN": {
         "formatter": "DOUBLE[#,###.00]"
        },
        "year.SUM": {
         "formatter": "INT[#,###]"
        }
       }
      },
      "text/html": [
       "<ul>\n",
       "<li>factTable\n",
       "  <ul>\n",
       "  <li>Dimensions\n",
       "    <ul>\n",
       "    <li>Countries\n",
       "      <ul>\n",
       "      <li>continent\n",
       "        <ol>\n",
       "        <li>continent</li>\n",
       "        </ol>      </li>\n",
       "      </ul>\n",
       "    </li>\n",
       "    <li>Illness\n",
       "      <ul>\n",
       "      <li>country\n",
       "        <ol>\n",
       "        <li>country</li>\n",
       "        </ol>      </li>\n",
       "      </ul>\n",
       "    </li>\n",
       "    <li>Medals\n",
       "      <ul>\n",
       "      <li>code\n",
       "        <ol>\n",
       "        <li>code</li>\n",
       "        </ol>      </li>\n",
       "      <li>id\n",
       "        <ol>\n",
       "        <li>id</li>\n",
       "        </ol>      </li>\n",
       "      <li>medal\n",
       "        <ol>\n",
       "        <li>medal</li>\n",
       "        </ol>      </li>\n",
       "      </ul>\n",
       "    </li>\n",
       "    <li>factTable\n",
       "      <ul>\n",
       "      <li>code\n",
       "        <ol>\n",
       "        <li>code</li>\n",
       "        </ol>      </li>\n",
       "      <li>country\n",
       "        <ol>\n",
       "        <li>country</li>\n",
       "        </ol>      </li>\n",
       "      <li>factid\n",
       "        <ol>\n",
       "        <li>factid</li>\n",
       "        </ol>      </li>\n",
       "      </ul>\n",
       "    </li>\n",
       "    </ul>\n",
       "  </li>\n",
       "  <li>Measures\n",
       "    <ul>\n",
       "    <li>anxiety.MEAN\n",
       "      <ul>\n",
       "      <li>formatter: DOUBLE[#,###.00]</li>\n",
       "      </ul>\n",
       "    </li>\n",
       "    <li>anxiety.SUM\n",
       "      <ul>\n",
       "      <li>formatter: DOUBLE[#,###.00]</li>\n",
       "      </ul>\n",
       "    </li>\n",
       "    <li>bipolar.MEAN\n",
       "      <ul>\n",
       "      <li>formatter: DOUBLE[#,###.00]</li>\n",
       "      </ul>\n",
       "    </li>\n",
       "    <li>bipolar.SUM\n",
       "      <ul>\n",
       "      <li>formatter: DOUBLE[#,###.00]</li>\n",
       "      </ul>\n",
       "    </li>\n",
       "    <li>bronze.MEAN\n",
       "      <ul>\n",
       "      <li>formatter: DOUBLE[#,###.00]</li>\n",
       "      </ul>\n",
       "    </li>\n",
       "    <li>bronze.SUM\n",
       "      <ul>\n",
       "      <li>formatter: INT[#,###]</li>\n",
       "      </ul>\n",
       "    </li>\n",
       "    <li>contributors.COUNT\n",
       "      <ul>\n",
       "      <li>formatter: INT[#,###]</li>\n",
       "      </ul>\n",
       "    </li>\n",
       "    <li>depression.MEAN\n",
       "      <ul>\n",
       "      <li>formatter: DOUBLE[#,###.00]</li>\n",
       "      </ul>\n",
       "    </li>\n",
       "    <li>depression.SUM\n",
       "      <ul>\n",
       "      <li>formatter: DOUBLE[#,###.00]</li>\n",
       "      </ul>\n",
       "    </li>\n",
       "    <li>eatingdisorder.MEAN\n",
       "      <ul>\n",
       "      <li>formatter: DOUBLE[#,###.00]</li>\n",
       "      </ul>\n",
       "    </li>\n",
       "    <li>eatingdisorder.SUM\n",
       "      <ul>\n",
       "      <li>formatter: DOUBLE[#,###.00]</li>\n",
       "      </ul>\n",
       "    </li>\n",
       "    <li>gold.MEAN\n",
       "      <ul>\n",
       "      <li>formatter: DOUBLE[#,###.00]</li>\n",
       "      </ul>\n",
       "    </li>\n",
       "    <li>gold.SUM\n",
       "      <ul>\n",
       "      <li>formatter: INT[#,###]</li>\n",
       "      </ul>\n",
       "    </li>\n",
       "    <li>schizophrenia.MEAN\n",
       "      <ul>\n",
       "      <li>formatter: DOUBLE[#,###.00]</li>\n",
       "      </ul>\n",
       "    </li>\n",
       "    <li>schizophrenia.SUM\n",
       "      <ul>\n",
       "      <li>formatter: DOUBLE[#,###.00]</li>\n",
       "      </ul>\n",
       "    </li>\n",
       "    <li>silver.MEAN\n",
       "      <ul>\n",
       "      <li>formatter: DOUBLE[#,###.00]</li>\n",
       "      </ul>\n",
       "    </li>\n",
       "    <li>silver.SUM\n",
       "      <ul>\n",
       "      <li>formatter: INT[#,###]</li>\n",
       "      </ul>\n",
       "    </li>\n",
       "    <li>total.SUM\n",
       "      <ul>\n",
       "      <li>formatter: INT[#,###]</li>\n",
       "      </ul>\n",
       "    </li>\n",
       "    <li>year.MEAN\n",
       "      <ul>\n",
       "      <li>formatter: DOUBLE[#,###.00]</li>\n",
       "      </ul>\n",
       "    </li>\n",
       "    <li>year.SUM\n",
       "      <ul>\n",
       "      <li>formatter: INT[#,###]</li>\n",
       "      </ul>\n",
       "    </li>\n",
       "    </ul>\n",
       "  </li>\n",
       "  </ul>\n",
       "</li>\n",
       "</ul>\n"
      ],
      "text/plain": [
       "<atoti.cube.Cube at 0x7dcf95ea2a40>"
      ]
     },
     "execution_count": 81,
     "metadata": {
      "application/json": {
       "expanded": false,
       "root": "factTable"
      }
     },
     "output_type": "execute_result"
    }
   ],
   "source": [
    "testcube"
   ]
  },
  {
   "cell_type": "code",
   "execution_count": 86,
   "id": "ad272527-67cd-4785-b77f-f7bb45bef4f8",
   "metadata": {},
   "outputs": [],
   "source": [
    "hierarchies, levels, measures = testcube.hierarchies, testcube.levels, testcube.measures"
   ]
  },
  {
   "cell_type": "code",
   "execution_count": 87,
   "id": "c9d6c08f-9247-46ea-a535-74527fda3c9d",
   "metadata": {},
   "outputs": [
    {
     "name": "stdout",
     "output_type": "stream",
     "text": [
      "[('factTable', 'code', 'code'), ('Medals', 'code', 'code'), ('Countries', 'continent', 'continent'), ('factTable', 'year', 'year'), ('Medals', 'id', 'id'), ('Medals', 'medal', 'medal'), ('Illness', 'country', 'country'), ('factTable', 'factid', 'factid'), ('factTable', 'country', 'country')]\n"
     ]
    }
   ],
   "source": [
    "print(list(testcube.levels))"
   ]
  },
  {
   "cell_type": "code",
   "execution_count": 88,
   "id": "df93ed09-8f59-4d50-9c1c-0a336cc78995",
   "metadata": {
    "scrolled": true
   },
   "outputs": [
    {
     "data": {
      "application/json": {
       "Countries": {
        "continent": [
         "continent"
        ]
       },
       "Illness": {
        "country": [
         "country"
        ]
       },
       "Medals": {
        "code": [
         "code"
        ],
        "id": [
         "id"
        ],
        "medal": [
         "medal"
        ]
       },
       "factTable": {
        "code": [
         "code"
        ],
        "country": [
         "country"
        ],
        "factid": [
         "factid"
        ],
        "year": [
         "year"
        ]
       }
      },
      "text/html": [
       "<ul>\n",
       "<li>Dimensions\n",
       "  <ul>\n",
       "  <li>Countries\n",
       "    <ul>\n",
       "    <li>continent\n",
       "      <ol>\n",
       "      <li>continent</li>\n",
       "      </ol>    </li>\n",
       "    </ul>\n",
       "  </li>\n",
       "  <li>Illness\n",
       "    <ul>\n",
       "    <li>country\n",
       "      <ol>\n",
       "      <li>country</li>\n",
       "      </ol>    </li>\n",
       "    </ul>\n",
       "  </li>\n",
       "  <li>Medals\n",
       "    <ul>\n",
       "    <li>code\n",
       "      <ol>\n",
       "      <li>code</li>\n",
       "      </ol>    </li>\n",
       "    <li>id\n",
       "      <ol>\n",
       "      <li>id</li>\n",
       "      </ol>    </li>\n",
       "    <li>medal\n",
       "      <ol>\n",
       "      <li>medal</li>\n",
       "      </ol>    </li>\n",
       "    </ul>\n",
       "  </li>\n",
       "  <li>factTable\n",
       "    <ul>\n",
       "    <li>code\n",
       "      <ol>\n",
       "      <li>code</li>\n",
       "      </ol>    </li>\n",
       "    <li>country\n",
       "      <ol>\n",
       "      <li>country</li>\n",
       "      </ol>    </li>\n",
       "    <li>factid\n",
       "      <ol>\n",
       "      <li>factid</li>\n",
       "      </ol>    </li>\n",
       "    <li>year\n",
       "      <ol>\n",
       "      <li>year</li>\n",
       "      </ol>    </li>\n",
       "    </ul>\n",
       "  </li>\n",
       "  </ul>\n",
       "</li>\n",
       "</ul>\n"
      ],
      "text/plain": [
       "{('factTable', 'code'): <atoti.hierarchy.Hierarchy object at 0x7dcf9553dbd0>, ('Medals', 'code'): <atoti.hierarchy.Hierarchy object at 0x7dcf9553d780>, ('Countries', 'continent'): <atoti.hierarchy.Hierarchy object at 0x7dcf9553d5a0>, ('factTable', 'year'): <atoti.hierarchy.Hierarchy object at 0x7dcf9553d4e0>, ('Medals', 'id'): <atoti.hierarchy.Hierarchy object at 0x7dcf9553e2c0>, ('Medals', 'medal'): <atoti.hierarchy.Hierarchy object at 0x7dcf9553e0b0>, ('Illness', 'country'): <atoti.hierarchy.Hierarchy object at 0x7dcf9553cfa0>, ('factTable', 'factid'): <atoti.hierarchy.Hierarchy object at 0x7dcf9553c9d0>, ('factTable', 'country'): <atoti.hierarchy.Hierarchy object at 0x7dcf9553c8e0>}"
      ]
     },
     "execution_count": 88,
     "metadata": {
      "application/json": {
       "expanded": true,
       "root": "Dimensions"
      }
     },
     "output_type": "execute_result"
    }
   ],
   "source": [
    "hierarchies"
   ]
  },
  {
   "cell_type": "code",
   "execution_count": 53,
   "id": "a37cce50-f22f-407e-8ec3-0c048a695447",
   "metadata": {},
   "outputs": [
    {
     "data": {
      "application/json": {
       "code (Medals/code/code)": {
        "dimension": "Medals",
        "hierarchy": "code",
        "order": "NaturalOrder",
        "type": "String"
       },
       "code (factTable/code/code)": {
        "dimension": "factTable",
        "hierarchy": "code",
        "order": "NaturalOrder",
        "type": "String"
       },
       "continent (Countries/continent/continent)": {
        "dimension": "Countries",
        "hierarchy": "continent",
        "order": "NaturalOrder",
        "type": "String"
       },
       "country (Illness/country/country)": {
        "dimension": "Illness",
        "hierarchy": "country",
        "order": "NaturalOrder",
        "type": "String"
       },
       "country (factTable/country/country)": {
        "dimension": "factTable",
        "hierarchy": "country",
        "order": "NaturalOrder",
        "type": "String"
       },
       "factid (factTable/factid/factid)": {
        "dimension": "factTable",
        "hierarchy": "factid",
        "order": "NaturalOrder",
        "type": "int"
       },
       "id (Medals/id/id)": {
        "dimension": "Medals",
        "hierarchy": "id",
        "order": "NaturalOrder",
        "type": "int"
       },
       "medal (Medals/medal/medal)": {
        "dimension": "Medals",
        "hierarchy": "medal",
        "order": "NaturalOrder",
        "type": "String"
       },
       "year (factTable/year/year)": {
        "dimension": "factTable",
        "hierarchy": "year",
        "order": "NaturalOrder",
        "type": "int"
       }
      },
      "text/html": [
       "<ul>\n",
       "<li>Levels\n",
       "  <ul>\n",
       "  <li>code (Medals/code/code)\n",
       "    <ul>\n",
       "    <li>dimension: Medals</li>\n",
       "    <li>hierarchy: code</li>\n",
       "    <li>type: String</li>\n",
       "    <li>order: NaturalOrder</li>\n",
       "    </ul>\n",
       "  </li>\n",
       "  <li>code (factTable/code/code)\n",
       "    <ul>\n",
       "    <li>dimension: factTable</li>\n",
       "    <li>hierarchy: code</li>\n",
       "    <li>type: String</li>\n",
       "    <li>order: NaturalOrder</li>\n",
       "    </ul>\n",
       "  </li>\n",
       "  <li>continent (Countries/continent/continent)\n",
       "    <ul>\n",
       "    <li>dimension: Countries</li>\n",
       "    <li>hierarchy: continent</li>\n",
       "    <li>type: String</li>\n",
       "    <li>order: NaturalOrder</li>\n",
       "    </ul>\n",
       "  </li>\n",
       "  <li>country (Illness/country/country)\n",
       "    <ul>\n",
       "    <li>dimension: Illness</li>\n",
       "    <li>hierarchy: country</li>\n",
       "    <li>type: String</li>\n",
       "    <li>order: NaturalOrder</li>\n",
       "    </ul>\n",
       "  </li>\n",
       "  <li>country (factTable/country/country)\n",
       "    <ul>\n",
       "    <li>dimension: factTable</li>\n",
       "    <li>hierarchy: country</li>\n",
       "    <li>type: String</li>\n",
       "    <li>order: NaturalOrder</li>\n",
       "    </ul>\n",
       "  </li>\n",
       "  <li>factid (factTable/factid/factid)\n",
       "    <ul>\n",
       "    <li>dimension: factTable</li>\n",
       "    <li>hierarchy: factid</li>\n",
       "    <li>type: int</li>\n",
       "    <li>order: NaturalOrder</li>\n",
       "    </ul>\n",
       "  </li>\n",
       "  <li>id (Medals/id/id)\n",
       "    <ul>\n",
       "    <li>dimension: Medals</li>\n",
       "    <li>hierarchy: id</li>\n",
       "    <li>type: int</li>\n",
       "    <li>order: NaturalOrder</li>\n",
       "    </ul>\n",
       "  </li>\n",
       "  <li>medal (Medals/medal/medal)\n",
       "    <ul>\n",
       "    <li>dimension: Medals</li>\n",
       "    <li>hierarchy: medal</li>\n",
       "    <li>type: String</li>\n",
       "    <li>order: NaturalOrder</li>\n",
       "    </ul>\n",
       "  </li>\n",
       "  <li>year (factTable/year/year)\n",
       "    <ul>\n",
       "    <li>dimension: factTable</li>\n",
       "    <li>hierarchy: year</li>\n",
       "    <li>type: int</li>\n",
       "    <li>order: NaturalOrder</li>\n",
       "    </ul>\n",
       "  </li>\n",
       "  </ul>\n",
       "</li>\n",
       "</ul>\n"
      ],
      "text/plain": [
       "<atoti.levels.Levels at 0x7dcfbc36e020>"
      ]
     },
     "execution_count": 53,
     "metadata": {
      "application/json": {
       "expanded": true,
       "root": "Levels"
      }
     },
     "output_type": "execute_result"
    }
   ],
   "source": [
    "testcube.levels"
   ]
  },
  {
   "cell_type": "code",
   "execution_count": 84,
   "id": "f1fa2d3f-0e13-47e1-96a2-bce0c6d8c481",
   "metadata": {},
   "outputs": [],
   "source": [
    "testcube.hierarchies[\"factTable\", \"year\"]= [medals[\"year\"]]"
   ]
  },
  {
   "cell_type": "code",
   "execution_count": 92,
   "id": "c947c29a-164f-4d4e-80ad-557f47100ff7",
   "metadata": {},
   "outputs": [
    {
     "data": {
      "text/html": [
       "<div>\n",
       "<style scoped>\n",
       "    .dataframe tbody tr th:only-of-type {\n",
       "        vertical-align: middle;\n",
       "    }\n",
       "\n",
       "    .dataframe tbody tr th {\n",
       "        vertical-align: top;\n",
       "    }\n",
       "\n",
       "    .dataframe thead th {\n",
       "        text-align: right;\n",
       "    }\n",
       "</style>\n",
       "<table border=\"1\" class=\"dataframe\">\n",
       "  <thead>\n",
       "    <tr style=\"text-align: right;\">\n",
       "      <th></th>\n",
       "      <th>gold.SUM</th>\n",
       "      <th>silver.SUM</th>\n",
       "      <th>bronze.SUM</th>\n",
       "      <th>depression.SUM</th>\n",
       "      <th>anxiety.SUM</th>\n",
       "    </tr>\n",
       "    <tr>\n",
       "      <th>country</th>\n",
       "      <th></th>\n",
       "      <th></th>\n",
       "      <th></th>\n",
       "      <th></th>\n",
       "      <th></th>\n",
       "    </tr>\n",
       "  </thead>\n",
       "  <tbody>\n",
       "    <tr>\n",
       "      <th>Algeria</th>\n",
       "      <td>5</td>\n",
       "      <td>4</td>\n",
       "      <td>6</td>\n",
       "      <td>4422.37734</td>\n",
       "      <td>2691.86844</td>\n",
       "    </tr>\n",
       "    <tr>\n",
       "      <th>Argentina</th>\n",
       "      <td>10</td>\n",
       "      <td>6</td>\n",
       "      <td>20</td>\n",
       "      <td>3154.68588</td>\n",
       "      <td>3372.37907</td>\n",
       "    </tr>\n",
       "    <tr>\n",
       "      <th>Armenia</th>\n",
       "      <td>2</td>\n",
       "      <td>6</td>\n",
       "      <td>6</td>\n",
       "      <td>2349.97071</td>\n",
       "      <td>1506.93361</td>\n",
       "    </tr>\n",
       "    <tr>\n",
       "      <th>Australia</th>\n",
       "      <td>99</td>\n",
       "      <td>119</td>\n",
       "      <td>129</td>\n",
       "      <td>11764.54423</td>\n",
       "      <td>7345.31544</td>\n",
       "    </tr>\n",
       "    <tr>\n",
       "      <th>Austria</th>\n",
       "      <td>44</td>\n",
       "      <td>55</td>\n",
       "      <td>62</td>\n",
       "      <td>7262.1224</td>\n",
       "      <td>7280.06709</td>\n",
       "    </tr>\n",
       "    <tr>\n",
       "      <th>Azerbaijan</th>\n",
       "      <td>7</td>\n",
       "      <td>11</td>\n",
       "      <td>25</td>\n",
       "      <td>2593.7585</td>\n",
       "      <td>1459.05511</td>\n",
       "    </tr>\n",
       "    <tr>\n",
       "      <th>Bahamas</th>\n",
       "      <td>5</td>\n",
       "      <td>2</td>\n",
       "      <td>5</td>\n",
       "      <td>3614.60047</td>\n",
       "      <td>2860.2325</td>\n",
       "    </tr>\n",
       "    <tr>\n",
       "      <th>Bahrain</th>\n",
       "      <td>2</td>\n",
       "      <td>1</td>\n",
       "      <td>0</td>\n",
       "      <td>1660.5003</td>\n",
       "      <td>942.14567</td>\n",
       "    </tr>\n",
       "    <tr>\n",
       "      <th>Barbados</th>\n",
       "      <td>0</td>\n",
       "      <td>0</td>\n",
       "      <td>1</td>\n",
       "      <td>532.7569</td>\n",
       "      <td>406.81967</td>\n",
       "    </tr>\n",
       "    <tr>\n",
       "      <th>Belarus</th>\n",
       "      <td>22</td>\n",
       "      <td>34</td>\n",
       "      <td>48</td>\n",
       "      <td>9125.38374</td>\n",
       "      <td>4359.92159</td>\n",
       "    </tr>\n",
       "    <tr>\n",
       "      <th>Belgium</th>\n",
       "      <td>7</td>\n",
       "      <td>10</td>\n",
       "      <td>15</td>\n",
       "      <td>5344.68869</td>\n",
       "      <td>4302.81998</td>\n",
       "    </tr>\n",
       "    <tr>\n",
       "      <th>Botswana</th>\n",
       "      <td>0</td>\n",
       "      <td>1</td>\n",
       "      <td>0</td>\n",
       "      <td>722.1253</td>\n",
       "      <td>334.43582</td>\n",
       "    </tr>\n",
       "    <tr>\n",
       "      <th>Brazil</th>\n",
       "      <td>29</td>\n",
       "      <td>36</td>\n",
       "      <td>50</td>\n",
       "      <td>5270.0514</td>\n",
       "      <td>4942.70134</td>\n",
       "    </tr>\n",
       "    <tr>\n",
       "      <th>Bulgaria</th>\n",
       "      <td>15</td>\n",
       "      <td>27</td>\n",
       "      <td>32</td>\n",
       "      <td>4633.84506</td>\n",
       "      <td>3237.37266</td>\n",
       "    </tr>\n",
       "    <tr>\n",
       "      <th>Burundi</th>\n",
       "      <td>1</td>\n",
       "      <td>1</td>\n",
       "      <td>0</td>\n",
       "      <td>1777.4609</td>\n",
       "      <td>679.47953</td>\n",
       "    </tr>\n",
       "    <tr>\n",
       "      <th>Cameroon</th>\n",
       "      <td>3</td>\n",
       "      <td>0</td>\n",
       "      <td>1</td>\n",
       "      <td>3206.06817</td>\n",
       "      <td>1212.30199</td>\n",
       "    </tr>\n",
       "    <tr>\n",
       "      <th>Canada</th>\n",
       "      <td>96</td>\n",
       "      <td>103</td>\n",
       "      <td>114</td>\n",
       "      <td>7842.62604</td>\n",
       "      <td>5367.59667</td>\n",
       "    </tr>\n",
       "    <tr>\n",
       "      <th>Chile</th>\n",
       "      <td>3</td>\n",
       "      <td>1</td>\n",
       "      <td>2</td>\n",
       "      <td>2252.34594</td>\n",
       "      <td>1578.07295</td>\n",
       "    </tr>\n",
       "    <tr>\n",
       "      <th>Colombia</th>\n",
       "      <td>5</td>\n",
       "      <td>7</td>\n",
       "      <td>12</td>\n",
       "      <td>2431.48714</td>\n",
       "      <td>2675.92896</td>\n",
       "    </tr>\n",
       "  </tbody>\n",
       "</table>\n",
       "</div>"
      ],
      "text/plain": [
       "            gold.SUM  silver.SUM  bronze.SUM  depression.SUM  anxiety.SUM\n",
       "country                                                                  \n",
       "Algeria            5           4           6      4422.37734   2691.86844\n",
       "Argentina         10           6          20      3154.68588   3372.37907\n",
       "Armenia            2           6           6      2349.97071   1506.93361\n",
       "Australia         99         119         129     11764.54423   7345.31544\n",
       "Austria           44          55          62       7262.1224   7280.06709\n",
       "Azerbaijan         7          11          25       2593.7585   1459.05511\n",
       "Bahamas            5           2           5      3614.60047    2860.2325\n",
       "Bahrain            2           1           0       1660.5003    942.14567\n",
       "Barbados           0           0           1        532.7569    406.81967\n",
       "Belarus           22          34          48      9125.38374   4359.92159\n",
       "Belgium            7          10          15      5344.68869   4302.81998\n",
       "Botswana           0           1           0        722.1253    334.43582\n",
       "Brazil            29          36          50       5270.0514   4942.70134\n",
       "Bulgaria          15          27          32      4633.84506   3237.37266\n",
       "Burundi            1           1           0       1777.4609    679.47953\n",
       "Cameroon           3           0           1      3206.06817   1212.30199\n",
       "Canada            96         103         114      7842.62604   5367.59667\n",
       "Chile              3           1           2      2252.34594   1578.07295\n",
       "Colombia           5           7          12      2431.48714   2675.92896"
      ]
     },
     "execution_count": 92,
     "metadata": {},
     "output_type": "execute_result"
    }
   ],
   "source": [
    "testcube.query(measures[\"gold.SUM\"],measures[\"silver.SUM\"],measures[\"bronze.SUM\"],measures[\"depression.SUM\"],measures[\"anxiety.SUM\"], levels=[levels[\"factTable\",'country','country']])[1:20]"
   ]
  },
  {
   "cell_type": "code",
   "execution_count": 93,
   "id": "ed50c72b-507e-4cf3-b3cf-b20c422ad40b",
   "metadata": {
    "atoti": {
     "widget": {
      "mapping": {
       "horizontalSubplots": [],
       "secondaryValues": [],
       "splitBy": [
        "ALL_MEASURES"
       ],
       "values": [
        "[Measures].[gold.SUM]"
       ],
       "verticalSubplots": [],
       "xAxis": [
        "[Countries].[continent].[continent]"
       ]
      },
      "query": {
       "mdx": "SELECT NON EMPTY Hierarchize(Descendants({[Countries].[continent].[ALL].[AllMember]}, 1, SELF_AND_BEFORE)) ON ROWS, NON EMPTY {[Measures].[gold.SUM]} ON COLUMNS FROM [factTable] CELL PROPERTIES VALUE, FORMATTED_VALUE, BACK_COLOR, FORE_COLOR, FONT_FLAGS",
       "updateMode": "once"
      },
      "serverKey": "default",
      "widgetKey": "plotly-line-chart"
     }
    }
   },
   "outputs": [
    {
     "data": {
      "application/vnd.atoti.widget.v0+json": {
       "sessionId": "1712546460_HVYVSJ",
       "sessionLocation": {
        "https": false,
        "port": 9095
       },
       "widgetCreationCode": "session.widget"
      },
      "text/html": [
       "<img height=\"352\" width=\"1473\" src=\"data:image/png;base64,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\" />"
      ],
      "text/plain": [
       "Open the notebook in JupyterLab with the Atoti JupyterLab extension enabled to build this widget."
      ]
     },
     "metadata": {},
     "output_type": "display_data"
    }
   ],
   "source": [
    " session.widget\n"
   ]
  },
  {
   "cell_type": "code",
   "execution_count": 94,
   "id": "1a1c03e2-10d6-4e6b-925b-d68c62c33dc0",
   "metadata": {
    "atoti": {
     "widget": {
      "mapping": {
       "horizontalSubplots": [],
       "secondaryValues": [],
       "splitBy": [
        "ALL_MEASURES"
       ],
       "values": [
        "[Measures].[anxiety.SUM]",
        "[Measures].[depression.SUM]",
        "[Measures].[eatingdisorder.SUM]",
        "[Measures].[schizophrenia.SUM]"
       ],
       "verticalSubplots": [],
       "xAxis": [
        "[Countries].[continent].[continent]"
       ]
      },
      "query": {
       "mdx": "SELECT NON EMPTY Hierarchize(Descendants({[Countries].[continent].[ALL].[AllMember]}, 1, SELF_AND_BEFORE)) ON ROWS, NON EMPTY {[Measures].[anxiety.SUM], [Measures].[depression.SUM], [Measures].[eatingdisorder.SUM], [Measures].[schizophrenia.SUM]} ON COLUMNS FROM [factTable] CELL PROPERTIES VALUE, FORMATTED_VALUE, BACK_COLOR, FORE_COLOR, FONT_FLAGS",
       "updateMode": "once"
      },
      "serverKey": "default",
      "widgetKey": "plotly-line-chart"
     }
    }
   },
   "outputs": [
    {
     "data": {
      "application/vnd.atoti.widget.v0+json": {
       "sessionId": "1712546460_HVYVSJ",
       "sessionLocation": {
        "https": false,
        "port": 9095
       },
       "widgetCreationCode": "session.widget"
      },
      "text/html": [
       "<img height=\"352\" width=\"1473\" src=\"data:image/png;base64,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\" />"
      ],
      "text/plain": [
       "Open the notebook in JupyterLab with the Atoti JupyterLab extension enabled to build this widget."
      ]
     },
     "metadata": {},
     "output_type": "display_data"
    }
   ],
   "source": [
    "session.widget"
   ]
  }
 ],
 "metadata": {
  "kernelspec": {
   "display_name": "Python 3 (ipykernel)",
   "language": "python",
   "name": "python3"
  },
  "language_info": {
   "codemirror_mode": {
    "name": "ipython",
    "version": 3
   },
   "file_extension": ".py",
   "mimetype": "text/x-python",
   "name": "python",
   "nbconvert_exporter": "python",
   "pygments_lexer": "ipython3",
   "version": "3.10.12"
  }
 },
 "nbformat": 4,
 "nbformat_minor": 5
}
