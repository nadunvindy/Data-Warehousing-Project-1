{
 "cells": [
  {
   "cell_type": "code",
   "execution_count": 1,
   "id": "e3250406-7dc5-4889-bfec-fd13700da2ff",
   "metadata": {},
   "outputs": [
    {
     "name": "stdout",
     "output_type": "stream",
     "text": [
      "Welcome to Atoti 0.8.10!\n",
      "\n",
      "By using this community edition, you agree with the license available at https://docs.atoti.io/latest/eula.html.\n",
      "Browse the official documentation at https://docs.atoti.io.\n",
      "Join the community at https://www.atoti.io/register.\n",
      "\n",
      "Atoti collects telemetry data, which is used to help understand how to improve the product.\n",
      "If you don't wish to send usage data, you can request a trial license at https://www.atoti.io/evaluation-license-request.\n",
      "\n",
      "You can hide this message by setting the `ATOTI_HIDE_EULA_MESSAGE` environment variable to True.\n"
     ]
    }
   ],
   "source": [
    "import atoti as tt"
   ]
  },
  {
   "cell_type": "code",
   "execution_count": 2,
   "id": "5baab508-0f7f-498d-92d6-82f85cfdfb5a",
   "metadata": {},
   "outputs": [],
   "source": [
    "session = tt.Session(\n",
    "    user_content_storage=\".content\",\n",
    "    port=9092,\n",
    "    java_options=[\"-Xms1G\", \"-Xmx10G\"]\n",
    ")"
   ]
  },
  {
   "cell_type": "code",
   "execution_count": 4,
   "id": "42db0455-3217-44f3-8957-eb6e98bbe662",
   "metadata": {},
   "outputs": [],
   "source": [
    "db_name = \"Project1\"\n",
    "db_user = \"postgres\"\n",
    "db_password = \"postgres\"  \n",
    "db_host = \"localhost\"  \n",
    "db_port = \"5432\""
   ]
  },
  {
   "cell_type": "code",
   "execution_count": 5,
   "id": "0827c8bd-7294-492f-841b-6c3840e1b3c1",
   "metadata": {},
   "outputs": [],
   "source": [
    "jdbc_url = f\"jdbc:postgresql://{db_host}:{db_port}/{db_name}?user={db_user}&password={db_password}\""
   ]
  },
  {
   "cell_type": "code",
   "execution_count": 6,
   "id": "f6517067-5b30-4559-8178-b5c0b73adbed",
   "metadata": {},
   "outputs": [
    {
     "data": {
      "text/plain": [
       "'jdbc:postgresql://localhost:5432/Project1?user=postgres&password=postgres'"
      ]
     },
     "execution_count": 6,
     "metadata": {},
     "output_type": "execute_result"
    }
   ],
   "source": [
    "jdbc_url"
   ]
  },
  {
   "cell_type": "code",
   "execution_count": 7,
   "id": "0e3273fb-18f1-47a1-affd-8da19cd4e59a",
   "metadata": {},
   "outputs": [],
   "source": [
    "facttest = session.read_sql(\n",
    "    \"SELECT * FROM facttest\",\n",
    "    keys=[\"id\"],\n",
    "    table_name=\"factTable\",\n",
    "    url=jdbc_url,\n",
    ")"
   ]
  },
  {
   "cell_type": "code",
   "execution_count": 12,
   "id": "7efa3dd7-855c-4584-891c-63724cc3f43a",
   "metadata": {},
   "outputs": [
    {
     "data": {
      "text/html": [
       "<div>\n",
       "<style scoped>\n",
       "    .dataframe tbody tr th:only-of-type {\n",
       "        vertical-align: middle;\n",
       "    }\n",
       "\n",
       "    .dataframe tbody tr th {\n",
       "        vertical-align: top;\n",
       "    }\n",
       "\n",
       "    .dataframe thead th {\n",
       "        text-align: right;\n",
       "    }\n",
       "</style>\n",
       "<table border=\"1\" class=\"dataframe\">\n",
       "  <thead>\n",
       "    <tr style=\"text-align: right;\">\n",
       "      <th></th>\n",
       "      <th>year</th>\n",
       "      <th>medal</th>\n",
       "      <th>country</th>\n",
       "      <th>code</th>\n",
       "      <th>depression</th>\n",
       "      <th>schizophrenia</th>\n",
       "      <th>bipolar</th>\n",
       "      <th>eatingdisorder</th>\n",
       "      <th>anxiety</th>\n",
       "      <th>continent</th>\n",
       "    </tr>\n",
       "    <tr>\n",
       "      <th>id</th>\n",
       "      <th></th>\n",
       "      <th></th>\n",
       "      <th></th>\n",
       "      <th></th>\n",
       "      <th></th>\n",
       "      <th></th>\n",
       "      <th></th>\n",
       "      <th></th>\n",
       "      <th></th>\n",
       "      <th></th>\n",
       "    </tr>\n",
       "  </thead>\n",
       "  <tbody>\n",
       "    <tr>\n",
       "      <th>1601</th>\n",
       "      <td>2018</td>\n",
       "      <td>GOLD</td>\n",
       "      <td>Norway</td>\n",
       "      <td>NOR</td>\n",
       "      <td>560.3382</td>\n",
       "      <td>180.55357</td>\n",
       "      <td>178.1118</td>\n",
       "      <td>100.93096</td>\n",
       "      <td>644.2381</td>\n",
       "      <td>Europe</td>\n",
       "    </tr>\n",
       "    <tr>\n",
       "      <th>1709</th>\n",
       "      <td>2018</td>\n",
       "      <td>BRONZE</td>\n",
       "      <td>Norway</td>\n",
       "      <td>NOR</td>\n",
       "      <td>560.3382</td>\n",
       "      <td>180.55357</td>\n",
       "      <td>178.1118</td>\n",
       "      <td>100.93096</td>\n",
       "      <td>644.2381</td>\n",
       "      <td>Europe</td>\n",
       "    </tr>\n",
       "    <tr>\n",
       "      <th>1829</th>\n",
       "      <td>2018</td>\n",
       "      <td>GOLD</td>\n",
       "      <td>Norway</td>\n",
       "      <td>NOR</td>\n",
       "      <td>560.3382</td>\n",
       "      <td>180.55357</td>\n",
       "      <td>178.1118</td>\n",
       "      <td>100.93096</td>\n",
       "      <td>644.2381</td>\n",
       "      <td>Europe</td>\n",
       "    </tr>\n",
       "    <tr>\n",
       "      <th>1838</th>\n",
       "      <td>2018</td>\n",
       "      <td>GOLD</td>\n",
       "      <td>Norway</td>\n",
       "      <td>NOR</td>\n",
       "      <td>560.3382</td>\n",
       "      <td>180.55357</td>\n",
       "      <td>178.1118</td>\n",
       "      <td>100.93096</td>\n",
       "      <td>644.2381</td>\n",
       "      <td>Europe</td>\n",
       "    </tr>\n",
       "    <tr>\n",
       "      <th>1855</th>\n",
       "      <td>2018</td>\n",
       "      <td>BRONZE</td>\n",
       "      <td>Norway</td>\n",
       "      <td>NOR</td>\n",
       "      <td>560.3382</td>\n",
       "      <td>180.55357</td>\n",
       "      <td>178.1118</td>\n",
       "      <td>100.93096</td>\n",
       "      <td>644.2381</td>\n",
       "      <td>Europe</td>\n",
       "    </tr>\n",
       "  </tbody>\n",
       "</table>\n",
       "</div>"
      ],
      "text/plain": [
       "      year   medal country code  depression  schizophrenia   bipolar  \\\n",
       "id                                                                     \n",
       "1601  2018    GOLD  Norway  NOR    560.3382      180.55357  178.1118   \n",
       "1709  2018  BRONZE  Norway  NOR    560.3382      180.55357  178.1118   \n",
       "1829  2018    GOLD  Norway  NOR    560.3382      180.55357  178.1118   \n",
       "1838  2018    GOLD  Norway  NOR    560.3382      180.55357  178.1118   \n",
       "1855  2018  BRONZE  Norway  NOR    560.3382      180.55357  178.1118   \n",
       "\n",
       "      eatingdisorder   anxiety continent  \n",
       "id                                        \n",
       "1601       100.93096  644.2381    Europe  \n",
       "1709       100.93096  644.2381    Europe  \n",
       "1829       100.93096  644.2381    Europe  \n",
       "1838       100.93096  644.2381    Europe  \n",
       "1855       100.93096  644.2381    Europe  "
      ]
     },
     "execution_count": 12,
     "metadata": {},
     "output_type": "execute_result"
    }
   ],
   "source": [
    "facttest.head()"
   ]
  },
  {
   "cell_type": "code",
   "execution_count": 9,
   "id": "a8bdf743-64f6-480c-8d1c-a8dc047da837",
   "metadata": {},
   "outputs": [],
   "source": [
    "medals = session.read_sql(\n",
    "    \"SELECT * FROM medalsnew\",\n",
    "    keys=[\"id\"],\n",
    "    table_name=\"Medals\",\n",
    "    url=jdbc_url)"
   ]
  },
  {
   "cell_type": "code",
   "execution_count": 10,
   "id": "cae93443-5fb4-4579-8960-98883518ab4c",
   "metadata": {},
   "outputs": [],
   "source": [
    "countries = session.read_sql(\n",
    "    \"SELECT * FROM countries\",\n",
    "    keys=[\"country\"],\n",
    "    table_name=\"Countries\",\n",
    "    url=jdbc_url)"
   ]
  },
  {
   "cell_type": "code",
   "execution_count": 11,
   "id": "efc6f584-fb36-4d51-b59b-5e88e5f692bc",
   "metadata": {},
   "outputs": [],
   "source": [
    "illness = session.read_sql(\n",
    "    \"SELECT * FROM mentalillness\",\n",
    "    keys=[\"code\",\"year\"],\n",
    "    table_name=\"Illness\",\n",
    "    url=jdbc_url)"
   ]
  },
  {
   "cell_type": "code",
   "execution_count": 14,
   "id": "89612d1e-0b70-40ac-807d-40d4381a420a",
   "metadata": {},
   "outputs": [],
   "source": [
    "facttest.join(countries, facttest[\"country\"] == countries[\"country\"])"
   ]
  },
  {
   "cell_type": "code",
   "execution_count": 15,
   "id": "3cb62449-c5b1-4822-aea0-8bc729813214",
   "metadata": {},
   "outputs": [],
   "source": [
    "facttest.join(medals, facttest[\"id\"] == medals[\"id\"])"
   ]
  },
  {
   "cell_type": "code",
   "execution_count": 19,
   "id": "c24d7969-02e1-4d84-8c24-877e8ef78fd5",
   "metadata": {},
   "outputs": [],
   "source": [
    "facttest.join(illness, (facttest[\"code\"] == illness[\"code\"]) & (facttest[\"year\"] == illness[\"year\"]))"
   ]
  },
  {
   "cell_type": "code",
   "execution_count": 20,
   "id": "42d9d7e5-47fb-4492-ac2e-27aec91890c1",
   "metadata": {},
   "outputs": [
    {
     "data": {
      "text/markdown": [
       "```mermaid\n",
       "erDiagram\n",
       "  \"Countries\" {\n",
       "    _ String PK \"country\"\n",
       "    _ String \"continent\"\n",
       "  }\n",
       "  \"Illness\" {\n",
       "    _ String \"country\"\n",
       "    _ String PK \"code\"\n",
       "    _ int PK \"year\"\n",
       "    nullable double \"depression\"\n",
       "    nullable double \"schizophrenia\"\n",
       "    nullable double \"bipolar\"\n",
       "    nullable double \"eatingdisorder\"\n",
       "    nullable double \"anxiety\"\n",
       "  }\n",
       "  \"factTable\" {\n",
       "    nullable int \"year\"\n",
       "    _ String \"medal\"\n",
       "    _ String \"country\"\n",
       "    _ String \"code\"\n",
       "    _ int PK \"id\"\n",
       "    nullable double \"depression\"\n",
       "    nullable double \"schizophrenia\"\n",
       "    nullable double \"bipolar\"\n",
       "    nullable double \"eatingdisorder\"\n",
       "    nullable double \"anxiety\"\n",
       "    _ String \"continent\"\n",
       "  }\n",
       "  \"Medals\" {\n",
       "    nullable int \"year\"\n",
       "    _ String \"medal\"\n",
       "    _ String \"country\"\n",
       "    _ String \"code\"\n",
       "    _ int PK \"id\"\n",
       "  }\n",
       "  \"factTable\" }o--o| \"Medals\" : \"`id` == `id`\"\n",
       "  \"factTable\" }o--o| \"Illness\" : \"(`year` == `year`) & (`code` == `code`)\"\n",
       "  \"factTable\" }o--o| \"Countries\" : \"`country` == `country`\"\n",
       "```\n"
      ],
      "text/plain": [
       "erDiagram\n",
       "  \"Countries\" {\n",
       "    _ String PK \"country\"\n",
       "    _ String \"continent\"\n",
       "  }\n",
       "  \"Illness\" {\n",
       "    _ String \"country\"\n",
       "    _ String PK \"code\"\n",
       "    _ int PK \"year\"\n",
       "    nullable double \"depression\"\n",
       "    nullable double \"schizophrenia\"\n",
       "    nullable double \"bipolar\"\n",
       "    nullable double \"eatingdisorder\"\n",
       "    nullable double \"anxiety\"\n",
       "  }\n",
       "  \"factTable\" {\n",
       "    nullable int \"year\"\n",
       "    _ String \"medal\"\n",
       "    _ String \"country\"\n",
       "    _ String \"code\"\n",
       "    _ int PK \"id\"\n",
       "    nullable double \"depression\"\n",
       "    nullable double \"schizophrenia\"\n",
       "    nullable double \"bipolar\"\n",
       "    nullable double \"eatingdisorder\"\n",
       "    nullable double \"anxiety\"\n",
       "    _ String \"continent\"\n",
       "  }\n",
       "  \"Medals\" {\n",
       "    nullable int \"year\"\n",
       "    _ String \"medal\"\n",
       "    _ String \"country\"\n",
       "    _ String \"code\"\n",
       "    _ int PK \"id\"\n",
       "  }\n",
       "  \"factTable\" }o--o| \"Medals\" : \"`id` == `id`\"\n",
       "  \"factTable\" }o--o| \"Illness\" : \"(`year` == `year`) & (`code` == `code`)\"\n",
       "  \"factTable\" }o--o| \"Countries\" : \"`country` == `country`\""
      ]
     },
     "execution_count": 20,
     "metadata": {},
     "output_type": "execute_result"
    }
   ],
   "source": [
    "session.tables.schema"
   ]
  },
  {
   "cell_type": "code",
   "execution_count": 21,
   "id": "860a487d-8e0e-4637-92f3-ef9d6269b62e",
   "metadata": {},
   "outputs": [],
   "source": [
    "testcube = session.create_cube(facttest)"
   ]
  },
  {
   "cell_type": "code",
   "execution_count": 22,
   "id": "56262118-9490-4f59-8642-fd26bbaf1c72",
   "metadata": {},
   "outputs": [
    {
     "data": {
      "application/json": {
       "Dimensions": {
        "Countries": {
         "continent": [
          "continent"
         ]
        },
        "Illness": {
         "country": [
          "country"
         ]
        },
        "Medals": {
         "code": [
          "code"
         ],
         "country": [
          "country"
         ],
         "medal": [
          "medal"
         ]
        },
        "factTable": {
         "code": [
          "code"
         ],
         "continent": [
          "continent"
         ],
         "country": [
          "country"
         ],
         "id": [
          "id"
         ],
         "medal": [
          "medal"
         ]
        }
       },
       "Measures": {
        "anxiety.MEAN": {
         "formatter": "DOUBLE[#,###.00]"
        },
        "anxiety.SUM": {
         "formatter": "DOUBLE[#,###.00]"
        },
        "bipolar.MEAN": {
         "formatter": "DOUBLE[#,###.00]"
        },
        "bipolar.SUM": {
         "formatter": "DOUBLE[#,###.00]"
        },
        "contributors.COUNT": {
         "formatter": "INT[#,###]"
        },
        "depression.MEAN": {
         "formatter": "DOUBLE[#,###.00]"
        },
        "depression.SUM": {
         "formatter": "DOUBLE[#,###.00]"
        },
        "eatingdisorder.MEAN": {
         "formatter": "DOUBLE[#,###.00]"
        },
        "eatingdisorder.SUM": {
         "formatter": "DOUBLE[#,###.00]"
        },
        "schizophrenia.MEAN": {
         "formatter": "DOUBLE[#,###.00]"
        },
        "schizophrenia.SUM": {
         "formatter": "DOUBLE[#,###.00]"
        },
        "year.MEAN": {
         "formatter": "DOUBLE[#,###.00]"
        },
        "year.SUM": {
         "formatter": "INT[#,###]"
        }
       }
      },
      "text/html": [
       "<ul>\n",
       "<li>factTable\n",
       "  <ul>\n",
       "  <li>Dimensions\n",
       "    <ul>\n",
       "    <li>Countries\n",
       "      <ul>\n",
       "      <li>continent\n",
       "        <ol>\n",
       "        <li>continent</li>\n",
       "        </ol>      </li>\n",
       "      </ul>\n",
       "    </li>\n",
       "    <li>Illness\n",
       "      <ul>\n",
       "      <li>country\n",
       "        <ol>\n",
       "        <li>country</li>\n",
       "        </ol>      </li>\n",
       "      </ul>\n",
       "    </li>\n",
       "    <li>Medals\n",
       "      <ul>\n",
       "      <li>code\n",
       "        <ol>\n",
       "        <li>code</li>\n",
       "        </ol>      </li>\n",
       "      <li>country\n",
       "        <ol>\n",
       "        <li>country</li>\n",
       "        </ol>      </li>\n",
       "      <li>medal\n",
       "        <ol>\n",
       "        <li>medal</li>\n",
       "        </ol>      </li>\n",
       "      </ul>\n",
       "    </li>\n",
       "    <li>factTable\n",
       "      <ul>\n",
       "      <li>code\n",
       "        <ol>\n",
       "        <li>code</li>\n",
       "        </ol>      </li>\n",
       "      <li>continent\n",
       "        <ol>\n",
       "        <li>continent</li>\n",
       "        </ol>      </li>\n",
       "      <li>country\n",
       "        <ol>\n",
       "        <li>country</li>\n",
       "        </ol>      </li>\n",
       "      <li>id\n",
       "        <ol>\n",
       "        <li>id</li>\n",
       "        </ol>      </li>\n",
       "      <li>medal\n",
       "        <ol>\n",
       "        <li>medal</li>\n",
       "        </ol>      </li>\n",
       "      </ul>\n",
       "    </li>\n",
       "    </ul>\n",
       "  </li>\n",
       "  <li>Measures\n",
       "    <ul>\n",
       "    <li>anxiety.MEAN\n",
       "      <ul>\n",
       "      <li>formatter: DOUBLE[#,###.00]</li>\n",
       "      </ul>\n",
       "    </li>\n",
       "    <li>anxiety.SUM\n",
       "      <ul>\n",
       "      <li>formatter: DOUBLE[#,###.00]</li>\n",
       "      </ul>\n",
       "    </li>\n",
       "    <li>bipolar.MEAN\n",
       "      <ul>\n",
       "      <li>formatter: DOUBLE[#,###.00]</li>\n",
       "      </ul>\n",
       "    </li>\n",
       "    <li>bipolar.SUM\n",
       "      <ul>\n",
       "      <li>formatter: DOUBLE[#,###.00]</li>\n",
       "      </ul>\n",
       "    </li>\n",
       "    <li>contributors.COUNT\n",
       "      <ul>\n",
       "      <li>formatter: INT[#,###]</li>\n",
       "      </ul>\n",
       "    </li>\n",
       "    <li>depression.MEAN\n",
       "      <ul>\n",
       "      <li>formatter: DOUBLE[#,###.00]</li>\n",
       "      </ul>\n",
       "    </li>\n",
       "    <li>depression.SUM\n",
       "      <ul>\n",
       "      <li>formatter: DOUBLE[#,###.00]</li>\n",
       "      </ul>\n",
       "    </li>\n",
       "    <li>eatingdisorder.MEAN\n",
       "      <ul>\n",
       "      <li>formatter: DOUBLE[#,###.00]</li>\n",
       "      </ul>\n",
       "    </li>\n",
       "    <li>eatingdisorder.SUM\n",
       "      <ul>\n",
       "      <li>formatter: DOUBLE[#,###.00]</li>\n",
       "      </ul>\n",
       "    </li>\n",
       "    <li>schizophrenia.MEAN\n",
       "      <ul>\n",
       "      <li>formatter: DOUBLE[#,###.00]</li>\n",
       "      </ul>\n",
       "    </li>\n",
       "    <li>schizophrenia.SUM\n",
       "      <ul>\n",
       "      <li>formatter: DOUBLE[#,###.00]</li>\n",
       "      </ul>\n",
       "    </li>\n",
       "    <li>year.MEAN\n",
       "      <ul>\n",
       "      <li>formatter: DOUBLE[#,###.00]</li>\n",
       "      </ul>\n",
       "    </li>\n",
       "    <li>year.SUM\n",
       "      <ul>\n",
       "      <li>formatter: INT[#,###]</li>\n",
       "      </ul>\n",
       "    </li>\n",
       "    </ul>\n",
       "  </li>\n",
       "  </ul>\n",
       "</li>\n",
       "</ul>\n"
      ],
      "text/plain": [
       "<atoti.cube.Cube at 0x741daa66cfa0>"
      ]
     },
     "execution_count": 22,
     "metadata": {
      "application/json": {
       "expanded": false,
       "root": "factTable"
      }
     },
     "output_type": "execute_result"
    }
   ],
   "source": [
    "testcube"
   ]
  }
 ],
 "metadata": {
  "kernelspec": {
   "display_name": "Python 3 (ipykernel)",
   "language": "python",
   "name": "python3"
  },
  "language_info": {
   "codemirror_mode": {
    "name": "ipython",
    "version": 3
   },
   "file_extension": ".py",
   "mimetype": "text/x-python",
   "name": "python",
   "nbconvert_exporter": "python",
   "pygments_lexer": "ipython3",
   "version": "3.10.12"
  }
 },
 "nbformat": 4,
 "nbformat_minor": 5
}
