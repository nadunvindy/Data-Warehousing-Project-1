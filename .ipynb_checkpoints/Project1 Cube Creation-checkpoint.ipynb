{
 "cells": [
  {
   "cell_type": "code",
   "execution_count": 83,
   "id": "e3250406-7dc5-4889-bfec-fd13700da2ff",
   "metadata": {},
   "outputs": [],
   "source": [
    "import atoti as tt"
   ]
  },
  {
   "cell_type": "code",
   "execution_count": 84,
   "id": "5baab508-0f7f-498d-92d6-82f85cfdfb5a",
   "metadata": {},
   "outputs": [
    {
     "name": "stderr",
     "output_type": "stream",
     "text": [
      "Closing existing \"Unnamed\" session to create the new one.\n"
     ]
    }
   ],
   "source": [
    "session = tt.Session(\n",
    "    user_content_storage=\".content\",\n",
    "    port=9095,\n",
    "    java_options=[\"-Xms1G\", \"-Xmx10G\"]\n",
    ")"
   ]
  },
  {
   "cell_type": "code",
   "execution_count": 85,
   "id": "42db0455-3217-44f3-8957-eb6e98bbe662",
   "metadata": {},
   "outputs": [],
   "source": [
    "db_name = \"Olympic\"\n",
    "db_user = \"postgres\"\n",
    "db_password = \"postgres\"  \n",
    "db_host = \"localhost\"  \n",
    "db_port = \"5432\""
   ]
  },
  {
   "cell_type": "code",
   "execution_count": 86,
   "id": "0827c8bd-7294-492f-841b-6c3840e1b3c1",
   "metadata": {},
   "outputs": [],
   "source": [
    "jdbc_url = f\"jdbc:postgresql://{db_host}:{db_port}/{db_name}?user={db_user}&password={db_password}\""
   ]
  },
  {
   "cell_type": "code",
   "execution_count": 87,
   "id": "f6517067-5b30-4559-8178-b5c0b73adbed",
   "metadata": {},
   "outputs": [
    {
     "data": {
      "text/plain": [
       "'jdbc:postgresql://localhost:5432/Olympic?user=postgres&password=postgres'"
      ]
     },
     "execution_count": 87,
     "metadata": {},
     "output_type": "execute_result"
    }
   ],
   "source": [
    "jdbc_url"
   ]
  },
  {
   "cell_type": "code",
   "execution_count": 88,
   "id": "0e3273fb-18f1-47a1-affd-8da19cd4e59a",
   "metadata": {},
   "outputs": [],
   "source": [
    "facttest = session.read_sql(\n",
    "    \"SELECT * FROM factolympic\",\n",
    "    keys=[\"year\",\"country\"],\n",
    "    table_name=\"factTable\",\n",
    "    url=jdbc_url,\n",
    ")"
   ]
  },
  {
   "cell_type": "code",
   "execution_count": 89,
   "id": "7efa3dd7-855c-4584-891c-63724cc3f43a",
   "metadata": {},
   "outputs": [
    {
     "data": {
      "text/html": [
       "<div>\n",
       "<style scoped>\n",
       "    .dataframe tbody tr th:only-of-type {\n",
       "        vertical-align: middle;\n",
       "    }\n",
       "\n",
       "    .dataframe tbody tr th {\n",
       "        vertical-align: top;\n",
       "    }\n",
       "\n",
       "    .dataframe thead th {\n",
       "        text-align: right;\n",
       "    }\n",
       "</style>\n",
       "<table border=\"1\" class=\"dataframe\">\n",
       "  <thead>\n",
       "    <tr style=\"text-align: right;\">\n",
       "      <th></th>\n",
       "      <th></th>\n",
       "      <th>bronze</th>\n",
       "      <th>silver</th>\n",
       "      <th>gold</th>\n",
       "      <th>total</th>\n",
       "      <th>depression</th>\n",
       "      <th>schizophrenia</th>\n",
       "      <th>bipolar</th>\n",
       "      <th>eatingdisorder</th>\n",
       "      <th>anxiety</th>\n",
       "    </tr>\n",
       "    <tr>\n",
       "      <th>year</th>\n",
       "      <th>country</th>\n",
       "      <th></th>\n",
       "      <th></th>\n",
       "      <th></th>\n",
       "      <th></th>\n",
       "      <th></th>\n",
       "      <th></th>\n",
       "      <th></th>\n",
       "      <th></th>\n",
       "      <th></th>\n",
       "    </tr>\n",
       "  </thead>\n",
       "  <tbody>\n",
       "    <tr>\n",
       "      <th rowspan=\"5\" valign=\"top\">2018</th>\n",
       "      <th>India</th>\n",
       "      <td>0</td>\n",
       "      <td>0</td>\n",
       "      <td>0</td>\n",
       "      <td>0</td>\n",
       "      <td>620.723</td>\n",
       "      <td>181.51364</td>\n",
       "      <td>75.22718</td>\n",
       "      <td>27.108828</td>\n",
       "      <td>284.22504</td>\n",
       "    </tr>\n",
       "    <tr>\n",
       "      <th>Sudan</th>\n",
       "      <td>0</td>\n",
       "      <td>0</td>\n",
       "      <td>0</td>\n",
       "      <td>0</td>\n",
       "      <td>792.8465</td>\n",
       "      <td>148.83505</td>\n",
       "      <td>158.05788</td>\n",
       "      <td>30.836714</td>\n",
       "      <td>452.7564</td>\n",
       "    </tr>\n",
       "    <tr>\n",
       "      <th>Argentina</th>\n",
       "      <td>0</td>\n",
       "      <td>0</td>\n",
       "      <td>0</td>\n",
       "      <td>0</td>\n",
       "      <td>431.2117</td>\n",
       "      <td>200.21394</td>\n",
       "      <td>225.24124</td>\n",
       "      <td>70.935486</td>\n",
       "      <td>477.84738</td>\n",
       "    </tr>\n",
       "    <tr>\n",
       "      <th>Uzbekistan</th>\n",
       "      <td>0</td>\n",
       "      <td>0</td>\n",
       "      <td>0</td>\n",
       "      <td>0</td>\n",
       "      <td>531.72595</td>\n",
       "      <td>174.32558</td>\n",
       "      <td>110.93172</td>\n",
       "      <td>24.560846</td>\n",
       "      <td>193.70276</td>\n",
       "    </tr>\n",
       "    <tr>\n",
       "      <th>Cambodia</th>\n",
       "      <td>0</td>\n",
       "      <td>0</td>\n",
       "      <td>0</td>\n",
       "      <td>0</td>\n",
       "      <td>458.37277</td>\n",
       "      <td>175.13536</td>\n",
       "      <td>68.43283</td>\n",
       "      <td>17.900887</td>\n",
       "      <td>435.54626</td>\n",
       "    </tr>\n",
       "  </tbody>\n",
       "</table>\n",
       "</div>"
      ],
      "text/plain": [
       "                 bronze  silver  gold  total  depression  schizophrenia  \\\n",
       "year country                                                              \n",
       "2018 India            0       0     0      0     620.723      181.51364   \n",
       "     Sudan            0       0     0      0    792.8465      148.83505   \n",
       "     Argentina        0       0     0      0    431.2117      200.21394   \n",
       "     Uzbekistan       0       0     0      0   531.72595      174.32558   \n",
       "     Cambodia         0       0     0      0   458.37277      175.13536   \n",
       "\n",
       "                   bipolar  eatingdisorder    anxiety  \n",
       "year country                                           \n",
       "2018 India        75.22718       27.108828  284.22504  \n",
       "     Sudan       158.05788       30.836714   452.7564  \n",
       "     Argentina   225.24124       70.935486  477.84738  \n",
       "     Uzbekistan  110.93172       24.560846  193.70276  \n",
       "     Cambodia     68.43283       17.900887  435.54626  "
      ]
     },
     "execution_count": 89,
     "metadata": {},
     "output_type": "execute_result"
    }
   ],
   "source": [
    "facttest.head()"
   ]
  },
  {
   "cell_type": "code",
   "execution_count": 45,
   "id": "a8bdf743-64f6-480c-8d1c-a8dc047da837",
   "metadata": {},
   "outputs": [],
   "source": [
    "# medals = session.read_sql(\n",
    "#     \"SELECT * FROM medalsnew\",\n",
    "#     keys=[\"id\"],\n",
    "#     table_name=\"Medals\",\n",
    "#     url=jdbc_url)"
   ]
  },
  {
   "cell_type": "code",
   "execution_count": 90,
   "id": "cae93443-5fb4-4579-8960-98883518ab4c",
   "metadata": {},
   "outputs": [],
   "source": [
    "countries = session.read_sql(\n",
    "    \"SELECT * FROM countries\",\n",
    "    keys=[\"country\"],\n",
    "    table_name=\"Countries\",\n",
    "    url=jdbc_url)"
   ]
  },
  {
   "cell_type": "code",
   "execution_count": 47,
   "id": "efc6f584-fb36-4d51-b59b-5e88e5f692bc",
   "metadata": {},
   "outputs": [],
   "source": [
    "economic = session.read_sql(\n",
    "    \"SELECT * FROM economic\",\n",
    "    keys=[\"country\"],\n",
    "    table_name=\"Economic\",\n",
    "    url=jdbc_url)"
   ]
  },
  {
   "cell_type": "code",
   "execution_count": 91,
   "id": "0f054f27-207b-422a-885d-76e35834d64e",
   "metadata": {},
   "outputs": [],
   "source": [
    "time = session.read_sql(\n",
    "    \"SELECT * FROM time\",\n",
    "    keys=[\"year\"],\n",
    "    table_name=\"Time\",\n",
    "    url=jdbc_url)"
   ]
  },
  {
   "cell_type": "code",
   "execution_count": 49,
   "id": "9bbdbf36-c2e6-4c03-89a7-e7f57b28ba8d",
   "metadata": {},
   "outputs": [],
   "source": [
    "lifeexp = session.read_sql(\n",
    "    \"SELECT * FROM lifeexp\",\n",
    "    keys=[\"year\",\"country\"],\n",
    "    table_name=\"LifeExp\",\n",
    "    url=jdbc_url)"
   ]
  },
  {
   "cell_type": "code",
   "execution_count": 92,
   "id": "89612d1e-0b70-40ac-807d-40d4381a420a",
   "metadata": {},
   "outputs": [],
   "source": [
    "facttest.join(countries, facttest[\"country\"] == countries[\"country\"])"
   ]
  },
  {
   "cell_type": "code",
   "execution_count": 93,
   "id": "3cb62449-c5b1-4822-aea0-8bc729813214",
   "metadata": {},
   "outputs": [
    {
     "ename": "Py4JJavaError",
     "evalue": "An error occurred while calling o193.createJoin.\n: java.lang.NullPointerException: Cannot invoke \"io.atoti.loading.impl.Store.getKeyFields()\" because the return value of \"io.atoti.DataManager.getStore(String)\" is null\n\tat io.atoti.loading.impl.Store.join(Store.java:215)\n\tat io.atoti.loading.impl.Store.join(Store.java:200)\n\tat io.atoti.api.impl.OutsideTransactionDataApiImpl.createJoin(OutsideTransactionDataApiImpl.java:190)\n\tat java.base/jdk.internal.reflect.NativeMethodAccessorImpl.invoke0(Native Method)\n\tat java.base/jdk.internal.reflect.NativeMethodAccessorImpl.invoke(Unknown Source)\n\tat java.base/jdk.internal.reflect.DelegatingMethodAccessorImpl.invoke(Unknown Source)\n\tat java.base/java.lang.reflect.Method.invoke(Unknown Source)\n\tat py4j.reflection.MethodInvoker.invoke(MethodInvoker.java:244)\n\tat py4j.reflection.ReflectionEngine.invoke(ReflectionEngine.java:357)\n\tat py4j.Gateway.invoke(Gateway.java:282)\n\tat py4j.commands.AbstractCommand.invokeMethod(AbstractCommand.java:132)\n\tat py4j.commands.CallCommand.execute(CallCommand.java:79)\n\tat py4j.ClientServerConnection.waitForCommands(ClientServerConnection.java:182)\n\tat py4j.ClientServerConnection.run(ClientServerConnection.java:106)\n\tat java.base/java.lang.Thread.run(Unknown Source)\n",
     "output_type": "error",
     "traceback": [
      "\u001b[0;31m---------------------------------------------------------------------------\u001b[0m",
      "\u001b[0;31mPy4JJavaError\u001b[0m                             Traceback (most recent call last)",
      "Cell \u001b[0;32mIn[93], line 1\u001b[0m\n\u001b[0;32m----> 1\u001b[0m \u001b[43mfacttest\u001b[49m\u001b[38;5;241;43m.\u001b[39;49m\u001b[43mjoin\u001b[49m\u001b[43m(\u001b[49m\u001b[43meconomic\u001b[49m\u001b[43m,\u001b[49m\u001b[43m \u001b[49m\u001b[43mfacttest\u001b[49m\u001b[43m[\u001b[49m\u001b[38;5;124;43m\"\u001b[39;49m\u001b[38;5;124;43myear\u001b[39;49m\u001b[38;5;124;43m\"\u001b[39;49m\u001b[43m]\u001b[49m\u001b[43m \u001b[49m\u001b[38;5;241;43m==\u001b[39;49m\u001b[43m \u001b[49m\u001b[43meconomic\u001b[49m\u001b[43m[\u001b[49m\u001b[38;5;124;43m\"\u001b[39;49m\u001b[38;5;124;43myear\u001b[39;49m\u001b[38;5;124;43m\"\u001b[39;49m\u001b[43m]\u001b[49m\u001b[43m)\u001b[49m\n",
      "File \u001b[0;32m~/.local/lib/python3.10/site-packages/atoti/_telemetry/track_calls.py:68\u001b[0m, in \u001b[0;36mcreate_decorator.<locals>.decorator.<locals>.wrapper\u001b[0;34m(*args, **kwargs)\u001b[0m\n\u001b[1;32m     65\u001b[0m call_time \u001b[38;5;241m=\u001b[39m perf_counter()\n\u001b[1;32m     67\u001b[0m \u001b[38;5;28;01mtry\u001b[39;00m:\n\u001b[0;32m---> 68\u001b[0m     \u001b[38;5;28;01mreturn\u001b[39;00m \u001b[43mfunction\u001b[49m\u001b[43m(\u001b[49m\u001b[38;5;241;43m*\u001b[39;49m\u001b[43margs\u001b[49m\u001b[43m,\u001b[49m\u001b[43m \u001b[49m\u001b[38;5;241;43m*\u001b[39;49m\u001b[38;5;241;43m*\u001b[39;49m\u001b[43mkwargs\u001b[49m\u001b[43m)\u001b[49m\n\u001b[1;32m     69\u001b[0m \u001b[38;5;28;01mexcept\u001b[39;00m \u001b[38;5;167;01mException\u001b[39;00m \u001b[38;5;28;01mas\u001b[39;00m error:\n\u001b[1;32m     70\u001b[0m     \u001b[38;5;28;01mwith\u001b[39;00m suppress(  \u001b[38;5;66;03m# Do nothing to let the previous error be the one presented to the user.\u001b[39;00m\n\u001b[1;32m     71\u001b[0m         \u001b[38;5;167;01mException\u001b[39;00m\n\u001b[1;32m     72\u001b[0m     ):\n",
      "File \u001b[0;32m~/.local/lib/python3.10/site-packages/pydantic/validate_call_decorator.py:58\u001b[0m, in \u001b[0;36mvalidate_call.<locals>.validate.<locals>.wrapper_function\u001b[0;34m(*args, **kwargs)\u001b[0m\n\u001b[1;32m     56\u001b[0m \u001b[38;5;129m@functools\u001b[39m\u001b[38;5;241m.\u001b[39mwraps(function)\n\u001b[1;32m     57\u001b[0m \u001b[38;5;28;01mdef\u001b[39;00m \u001b[38;5;21mwrapper_function\u001b[39m(\u001b[38;5;241m*\u001b[39margs, \u001b[38;5;241m*\u001b[39m\u001b[38;5;241m*\u001b[39mkwargs):\n\u001b[0;32m---> 58\u001b[0m     \u001b[38;5;28;01mreturn\u001b[39;00m \u001b[43mvalidate_call_wrapper\u001b[49m\u001b[43m(\u001b[49m\u001b[38;5;241;43m*\u001b[39;49m\u001b[43margs\u001b[49m\u001b[43m,\u001b[49m\u001b[43m \u001b[49m\u001b[38;5;241;43m*\u001b[39;49m\u001b[38;5;241;43m*\u001b[39;49m\u001b[43mkwargs\u001b[49m\u001b[43m)\u001b[49m\n",
      "File \u001b[0;32m~/.local/lib/python3.10/site-packages/pydantic/_internal/_validate_call.py:81\u001b[0m, in \u001b[0;36mValidateCallWrapper.__call__\u001b[0;34m(self, *args, **kwargs)\u001b[0m\n\u001b[1;32m     80\u001b[0m \u001b[38;5;28;01mdef\u001b[39;00m \u001b[38;5;21m__call__\u001b[39m(\u001b[38;5;28mself\u001b[39m, \u001b[38;5;241m*\u001b[39margs: Any, \u001b[38;5;241m*\u001b[39m\u001b[38;5;241m*\u001b[39mkwargs: Any) \u001b[38;5;241m-\u001b[39m\u001b[38;5;241m>\u001b[39m Any:\n\u001b[0;32m---> 81\u001b[0m     res \u001b[38;5;241m=\u001b[39m \u001b[38;5;28;43mself\u001b[39;49m\u001b[38;5;241;43m.\u001b[39;49m\u001b[43m__pydantic_validator__\u001b[49m\u001b[38;5;241;43m.\u001b[39;49m\u001b[43mvalidate_python\u001b[49m\u001b[43m(\u001b[49m\u001b[43mpydantic_core\u001b[49m\u001b[38;5;241;43m.\u001b[39;49m\u001b[43mArgsKwargs\u001b[49m\u001b[43m(\u001b[49m\u001b[43margs\u001b[49m\u001b[43m,\u001b[49m\u001b[43m \u001b[49m\u001b[43mkwargs\u001b[49m\u001b[43m)\u001b[49m\u001b[43m)\u001b[49m\n\u001b[1;32m     82\u001b[0m     \u001b[38;5;28;01mif\u001b[39;00m \u001b[38;5;28mself\u001b[39m\u001b[38;5;241m.\u001b[39m__return_pydantic_validator__:\n\u001b[1;32m     83\u001b[0m         \u001b[38;5;28;01mreturn\u001b[39;00m \u001b[38;5;28mself\u001b[39m\u001b[38;5;241m.\u001b[39m__return_pydantic_validator__(res)\n",
      "File \u001b[0;32m~/.local/lib/python3.10/site-packages/atoti/table.py:259\u001b[0m, in \u001b[0;36mTable.join\u001b[0;34m(self, target, mapping, target_optionality)\u001b[0m\n\u001b[1;32m    247\u001b[0m     check_column_condition_table(\n\u001b[1;32m    248\u001b[0m         mapping,\n\u001b[1;32m    249\u001b[0m         attribute_name\u001b[38;5;241m=\u001b[39m\u001b[38;5;124m\"\u001b[39m\u001b[38;5;124mtarget\u001b[39m\u001b[38;5;124m\"\u001b[39m,\n\u001b[1;32m    250\u001b[0m         expected_table_identifier\u001b[38;5;241m=\u001b[39mtarget\u001b[38;5;241m.\u001b[39m_identifier,\n\u001b[1;32m    251\u001b[0m     )\n\u001b[1;32m    252\u001b[0m     normalized_mapping \u001b[38;5;241m=\u001b[39m {\n\u001b[1;32m    253\u001b[0m         source_identifier\u001b[38;5;241m.\u001b[39mcolumn_name: target_identifier\u001b[38;5;241m.\u001b[39mcolumn_name\n\u001b[1;32m    254\u001b[0m         \u001b[38;5;28;01mfor\u001b[39;00m source_identifier, target_identifier \u001b[38;5;129;01min\u001b[39;00m condition_to_dict(\n\u001b[1;32m    255\u001b[0m             mapping\n\u001b[1;32m    256\u001b[0m         )\u001b[38;5;241m.\u001b[39mitems()\n\u001b[1;32m    257\u001b[0m     }\n\u001b[0;32m--> 259\u001b[0m \u001b[38;5;28;43mself\u001b[39;49m\u001b[38;5;241;43m.\u001b[39;49m\u001b[43m_java_api\u001b[49m\u001b[38;5;241;43m.\u001b[39;49m\u001b[43mcreate_join\u001b[49m\u001b[43m(\u001b[49m\n\u001b[1;32m    260\u001b[0m \u001b[43m    \u001b[49m\u001b[38;5;28;43mself\u001b[39;49m\u001b[38;5;241;43m.\u001b[39;49m\u001b[43m_identifier\u001b[49m\u001b[43m,\u001b[49m\n\u001b[1;32m    261\u001b[0m \u001b[43m    \u001b[49m\u001b[43mtarget\u001b[49m\u001b[38;5;241;43m.\u001b[39;49m\u001b[43m_identifier\u001b[49m\u001b[43m,\u001b[49m\n\u001b[1;32m    262\u001b[0m \u001b[43m    \u001b[49m\u001b[43mmapping\u001b[49m\u001b[38;5;241;43m=\u001b[39;49m\u001b[43mnormalized_mapping\u001b[49m\u001b[43m,\u001b[49m\n\u001b[1;32m    263\u001b[0m \u001b[43m    \u001b[49m\u001b[43mtarget_optionality\u001b[49m\u001b[38;5;241;43m=\u001b[39;49m\u001b[43mtarget_optionality\u001b[49m\u001b[43m,\u001b[49m\n\u001b[1;32m    264\u001b[0m \u001b[43m\u001b[49m\u001b[43m)\u001b[49m\n",
      "File \u001b[0;32m~/.local/lib/python3.10/site-packages/atoti/_java_api.py:1005\u001b[0m, in \u001b[0;36mJavaApi.create_join\u001b[0;34m(self, source_table_identifier, target_table_identifier, mapping, target_optionality)\u001b[0m\n\u001b[1;32m   1000\u001b[0m \u001b[38;5;250m\u001b[39m\u001b[38;5;124;03m\"\"\"Define a join between two tables.\"\"\"\u001b[39;00m\n\u001b[1;32m   1001\u001b[0m java_mapping \u001b[38;5;241m=\u001b[39m (\n\u001b[1;32m   1002\u001b[0m     to_java_map(mapping, gateway\u001b[38;5;241m=\u001b[39m\u001b[38;5;28mself\u001b[39m\u001b[38;5;241m.\u001b[39mgateway) \u001b[38;5;28;01mif\u001b[39;00m mapping \u001b[38;5;129;01mis\u001b[39;00m \u001b[38;5;129;01mnot\u001b[39;00m \u001b[38;5;28;01mNone\u001b[39;00m \u001b[38;5;28;01melse\u001b[39;00m \u001b[38;5;28;01mNone\u001b[39;00m\n\u001b[1;32m   1003\u001b[0m )\n\u001b[0;32m-> 1005\u001b[0m \u001b[38;5;28;43mself\u001b[39;49m\u001b[38;5;241;43m.\u001b[39;49m\u001b[43m_outside_transaction_api\u001b[49m\u001b[43m(\u001b[49m\u001b[43m)\u001b[49m\u001b[38;5;241;43m.\u001b[39;49m\u001b[43mcreateJoin\u001b[49m\u001b[43m(\u001b[49m\n\u001b[1;32m   1006\u001b[0m \u001b[43m    \u001b[49m\u001b[43msource_table_identifier\u001b[49m\u001b[38;5;241;43m.\u001b[39;49m\u001b[43mtable_name\u001b[49m\u001b[43m,\u001b[49m\n\u001b[1;32m   1007\u001b[0m \u001b[43m    \u001b[49m\u001b[43mtarget_table_identifier\u001b[49m\u001b[38;5;241;43m.\u001b[39;49m\u001b[43mtable_name\u001b[49m\u001b[43m,\u001b[49m\n\u001b[1;32m   1008\u001b[0m \u001b[43m    \u001b[49m\u001b[43mjava_mapping\u001b[49m\u001b[43m,\u001b[49m\n\u001b[1;32m   1009\u001b[0m \u001b[43m    \u001b[49m\u001b[38;5;28;43mself\u001b[39;49m\u001b[38;5;241;43m.\u001b[39;49m\u001b[43mjvm\u001b[49m\u001b[38;5;241;43m.\u001b[39;49m\u001b[43mcom\u001b[49m\u001b[38;5;241;43m.\u001b[39;49m\u001b[43mactiveviam\u001b[49m\u001b[38;5;241;43m.\u001b[39;49m\u001b[43mdatabase\u001b[49m\u001b[38;5;241;43m.\u001b[39;49m\u001b[43mapi\u001b[49m\u001b[38;5;241;43m.\u001b[39;49m\u001b[43mschema\u001b[49m\u001b[38;5;241;43m.\u001b[39;49m\u001b[43mRelationshipOptionality\u001b[49m\u001b[38;5;241;43m.\u001b[39;49m\u001b[43mvalueOf\u001b[49m\u001b[43m(\u001b[49m\n\u001b[1;32m   1010\u001b[0m \u001b[43m        \u001b[49m\u001b[43mtarget_optionality\u001b[49m\u001b[38;5;241;43m.\u001b[39;49m\u001b[43mupper\u001b[49m\u001b[43m(\u001b[49m\u001b[43m)\u001b[49m\n\u001b[1;32m   1011\u001b[0m \u001b[43m    \u001b[49m\u001b[43m)\u001b[49m\u001b[43m,\u001b[49m\n\u001b[1;32m   1012\u001b[0m \u001b[43m\u001b[49m\u001b[43m)\u001b[49m\n\u001b[1;32m   1014\u001b[0m \u001b[38;5;28mself\u001b[39m\u001b[38;5;241m.\u001b[39mrefresh()\n",
      "File \u001b[0;32m~/.local/lib/python3.10/site-packages/py4j/java_gateway.py:1322\u001b[0m, in \u001b[0;36mJavaMember.__call__\u001b[0;34m(self, *args)\u001b[0m\n\u001b[1;32m   1316\u001b[0m command \u001b[38;5;241m=\u001b[39m proto\u001b[38;5;241m.\u001b[39mCALL_COMMAND_NAME \u001b[38;5;241m+\u001b[39m\\\n\u001b[1;32m   1317\u001b[0m     \u001b[38;5;28mself\u001b[39m\u001b[38;5;241m.\u001b[39mcommand_header \u001b[38;5;241m+\u001b[39m\\\n\u001b[1;32m   1318\u001b[0m     args_command \u001b[38;5;241m+\u001b[39m\\\n\u001b[1;32m   1319\u001b[0m     proto\u001b[38;5;241m.\u001b[39mEND_COMMAND_PART\n\u001b[1;32m   1321\u001b[0m answer \u001b[38;5;241m=\u001b[39m \u001b[38;5;28mself\u001b[39m\u001b[38;5;241m.\u001b[39mgateway_client\u001b[38;5;241m.\u001b[39msend_command(command)\n\u001b[0;32m-> 1322\u001b[0m return_value \u001b[38;5;241m=\u001b[39m \u001b[43mget_return_value\u001b[49m\u001b[43m(\u001b[49m\n\u001b[1;32m   1323\u001b[0m \u001b[43m    \u001b[49m\u001b[43manswer\u001b[49m\u001b[43m,\u001b[49m\u001b[43m \u001b[49m\u001b[38;5;28;43mself\u001b[39;49m\u001b[38;5;241;43m.\u001b[39;49m\u001b[43mgateway_client\u001b[49m\u001b[43m,\u001b[49m\u001b[43m \u001b[49m\u001b[38;5;28;43mself\u001b[39;49m\u001b[38;5;241;43m.\u001b[39;49m\u001b[43mtarget_id\u001b[49m\u001b[43m,\u001b[49m\u001b[43m \u001b[49m\u001b[38;5;28;43mself\u001b[39;49m\u001b[38;5;241;43m.\u001b[39;49m\u001b[43mname\u001b[49m\u001b[43m)\u001b[49m\n\u001b[1;32m   1325\u001b[0m \u001b[38;5;28;01mfor\u001b[39;00m temp_arg \u001b[38;5;129;01min\u001b[39;00m temp_args:\n\u001b[1;32m   1326\u001b[0m     \u001b[38;5;28;01mif\u001b[39;00m \u001b[38;5;28mhasattr\u001b[39m(temp_arg, \u001b[38;5;124m\"\u001b[39m\u001b[38;5;124m_detach\u001b[39m\u001b[38;5;124m\"\u001b[39m):\n",
      "File \u001b[0;32m~/.local/lib/python3.10/site-packages/py4j/protocol.py:326\u001b[0m, in \u001b[0;36mget_return_value\u001b[0;34m(answer, gateway_client, target_id, name)\u001b[0m\n\u001b[1;32m    324\u001b[0m value \u001b[38;5;241m=\u001b[39m OUTPUT_CONVERTER[\u001b[38;5;28mtype\u001b[39m](answer[\u001b[38;5;241m2\u001b[39m:], gateway_client)\n\u001b[1;32m    325\u001b[0m \u001b[38;5;28;01mif\u001b[39;00m answer[\u001b[38;5;241m1\u001b[39m] \u001b[38;5;241m==\u001b[39m REFERENCE_TYPE:\n\u001b[0;32m--> 326\u001b[0m     \u001b[38;5;28;01mraise\u001b[39;00m Py4JJavaError(\n\u001b[1;32m    327\u001b[0m         \u001b[38;5;124m\"\u001b[39m\u001b[38;5;124mAn error occurred while calling \u001b[39m\u001b[38;5;132;01m{0}\u001b[39;00m\u001b[38;5;132;01m{1}\u001b[39;00m\u001b[38;5;132;01m{2}\u001b[39;00m\u001b[38;5;124m.\u001b[39m\u001b[38;5;130;01m\\n\u001b[39;00m\u001b[38;5;124m\"\u001b[39m\u001b[38;5;241m.\u001b[39m\n\u001b[1;32m    328\u001b[0m         \u001b[38;5;28mformat\u001b[39m(target_id, \u001b[38;5;124m\"\u001b[39m\u001b[38;5;124m.\u001b[39m\u001b[38;5;124m\"\u001b[39m, name), value)\n\u001b[1;32m    329\u001b[0m \u001b[38;5;28;01melse\u001b[39;00m:\n\u001b[1;32m    330\u001b[0m     \u001b[38;5;28;01mraise\u001b[39;00m Py4JError(\n\u001b[1;32m    331\u001b[0m         \u001b[38;5;124m\"\u001b[39m\u001b[38;5;124mAn error occurred while calling \u001b[39m\u001b[38;5;132;01m{0}\u001b[39;00m\u001b[38;5;132;01m{1}\u001b[39;00m\u001b[38;5;132;01m{2}\u001b[39;00m\u001b[38;5;124m. Trace:\u001b[39m\u001b[38;5;130;01m\\n\u001b[39;00m\u001b[38;5;132;01m{3}\u001b[39;00m\u001b[38;5;130;01m\\n\u001b[39;00m\u001b[38;5;124m\"\u001b[39m\u001b[38;5;241m.\u001b[39m\n\u001b[1;32m    332\u001b[0m         \u001b[38;5;28mformat\u001b[39m(target_id, \u001b[38;5;124m\"\u001b[39m\u001b[38;5;124m.\u001b[39m\u001b[38;5;124m\"\u001b[39m, name, value))\n",
      "\u001b[0;31mPy4JJavaError\u001b[0m: An error occurred while calling o193.createJoin.\n: java.lang.NullPointerException: Cannot invoke \"io.atoti.loading.impl.Store.getKeyFields()\" because the return value of \"io.atoti.DataManager.getStore(String)\" is null\n\tat io.atoti.loading.impl.Store.join(Store.java:215)\n\tat io.atoti.loading.impl.Store.join(Store.java:200)\n\tat io.atoti.api.impl.OutsideTransactionDataApiImpl.createJoin(OutsideTransactionDataApiImpl.java:190)\n\tat java.base/jdk.internal.reflect.NativeMethodAccessorImpl.invoke0(Native Method)\n\tat java.base/jdk.internal.reflect.NativeMethodAccessorImpl.invoke(Unknown Source)\n\tat java.base/jdk.internal.reflect.DelegatingMethodAccessorImpl.invoke(Unknown Source)\n\tat java.base/java.lang.reflect.Method.invoke(Unknown Source)\n\tat py4j.reflection.MethodInvoker.invoke(MethodInvoker.java:244)\n\tat py4j.reflection.ReflectionEngine.invoke(ReflectionEngine.java:357)\n\tat py4j.Gateway.invoke(Gateway.java:282)\n\tat py4j.commands.AbstractCommand.invokeMethod(AbstractCommand.java:132)\n\tat py4j.commands.CallCommand.execute(CallCommand.java:79)\n\tat py4j.ClientServerConnection.waitForCommands(ClientServerConnection.java:182)\n\tat py4j.ClientServerConnection.run(ClientServerConnection.java:106)\n\tat java.base/java.lang.Thread.run(Unknown Source)\n"
     ]
    }
   ],
   "source": [
    "facttest.join(economic, facttest[\"year\"] == economic[\"year\"])"
   ]
  },
  {
   "cell_type": "code",
   "execution_count": 94,
   "id": "c24d7969-02e1-4d84-8c24-877e8ef78fd5",
   "metadata": {},
   "outputs": [],
   "source": [
    "facttest.join(time, facttest[\"year\"] == time[\"year\"])"
   ]
  },
  {
   "cell_type": "code",
   "execution_count": 95,
   "id": "b8563c3f-7a97-4015-8c95-3558c82b7284",
   "metadata": {},
   "outputs": [
    {
     "ename": "Py4JJavaError",
     "evalue": "An error occurred while calling o208.createJoin.\n: java.lang.NullPointerException: Cannot invoke \"io.atoti.loading.impl.Store.getKeyFields()\" because the return value of \"io.atoti.DataManager.getStore(String)\" is null\n\tat io.atoti.loading.impl.Store.join(Store.java:215)\n\tat io.atoti.loading.impl.Store.join(Store.java:200)\n\tat io.atoti.api.impl.OutsideTransactionDataApiImpl.createJoin(OutsideTransactionDataApiImpl.java:190)\n\tat java.base/jdk.internal.reflect.NativeMethodAccessorImpl.invoke0(Native Method)\n\tat java.base/jdk.internal.reflect.NativeMethodAccessorImpl.invoke(Unknown Source)\n\tat java.base/jdk.internal.reflect.DelegatingMethodAccessorImpl.invoke(Unknown Source)\n\tat java.base/java.lang.reflect.Method.invoke(Unknown Source)\n\tat py4j.reflection.MethodInvoker.invoke(MethodInvoker.java:244)\n\tat py4j.reflection.ReflectionEngine.invoke(ReflectionEngine.java:357)\n\tat py4j.Gateway.invoke(Gateway.java:282)\n\tat py4j.commands.AbstractCommand.invokeMethod(AbstractCommand.java:132)\n\tat py4j.commands.CallCommand.execute(CallCommand.java:79)\n\tat py4j.ClientServerConnection.waitForCommands(ClientServerConnection.java:182)\n\tat py4j.ClientServerConnection.run(ClientServerConnection.java:106)\n\tat java.base/java.lang.Thread.run(Unknown Source)\n",
     "output_type": "error",
     "traceback": [
      "\u001b[0;31m---------------------------------------------------------------------------\u001b[0m",
      "\u001b[0;31mPy4JJavaError\u001b[0m                             Traceback (most recent call last)",
      "Cell \u001b[0;32mIn[95], line 1\u001b[0m\n\u001b[0;32m----> 1\u001b[0m \u001b[43mfacttest\u001b[49m\u001b[38;5;241;43m.\u001b[39;49m\u001b[43mjoin\u001b[49m\u001b[43m(\u001b[49m\u001b[43mlifeexp\u001b[49m\u001b[43m,\u001b[49m\u001b[43m \u001b[49m\u001b[43m(\u001b[49m\u001b[43mfacttest\u001b[49m\u001b[43m[\u001b[49m\u001b[38;5;124;43m\"\u001b[39;49m\u001b[38;5;124;43myear\u001b[39;49m\u001b[38;5;124;43m\"\u001b[39;49m\u001b[43m]\u001b[49m\u001b[43m \u001b[49m\u001b[38;5;241;43m==\u001b[39;49m\u001b[43m \u001b[49m\u001b[43mlifeexp\u001b[49m\u001b[43m[\u001b[49m\u001b[38;5;124;43m\"\u001b[39;49m\u001b[38;5;124;43myear\u001b[39;49m\u001b[38;5;124;43m\"\u001b[39;49m\u001b[43m]\u001b[49m\u001b[43m \u001b[49m\u001b[43m)\u001b[49m\u001b[38;5;241;43m&\u001b[39;49m\u001b[43m \u001b[49m\u001b[43m(\u001b[49m\u001b[43mfacttest\u001b[49m\u001b[43m[\u001b[49m\u001b[38;5;124;43m\"\u001b[39;49m\u001b[38;5;124;43mcountry\u001b[39;49m\u001b[38;5;124;43m\"\u001b[39;49m\u001b[43m]\u001b[49m\u001b[43m \u001b[49m\u001b[38;5;241;43m==\u001b[39;49m\u001b[43m \u001b[49m\u001b[43mlifeexp\u001b[49m\u001b[43m[\u001b[49m\u001b[38;5;124;43m\"\u001b[39;49m\u001b[38;5;124;43mcountry\u001b[39;49m\u001b[38;5;124;43m\"\u001b[39;49m\u001b[43m]\u001b[49m\u001b[43m)\u001b[49m\u001b[43m)\u001b[49m\n",
      "File \u001b[0;32m~/.local/lib/python3.10/site-packages/atoti/_telemetry/track_calls.py:68\u001b[0m, in \u001b[0;36mcreate_decorator.<locals>.decorator.<locals>.wrapper\u001b[0;34m(*args, **kwargs)\u001b[0m\n\u001b[1;32m     65\u001b[0m call_time \u001b[38;5;241m=\u001b[39m perf_counter()\n\u001b[1;32m     67\u001b[0m \u001b[38;5;28;01mtry\u001b[39;00m:\n\u001b[0;32m---> 68\u001b[0m     \u001b[38;5;28;01mreturn\u001b[39;00m \u001b[43mfunction\u001b[49m\u001b[43m(\u001b[49m\u001b[38;5;241;43m*\u001b[39;49m\u001b[43margs\u001b[49m\u001b[43m,\u001b[49m\u001b[43m \u001b[49m\u001b[38;5;241;43m*\u001b[39;49m\u001b[38;5;241;43m*\u001b[39;49m\u001b[43mkwargs\u001b[49m\u001b[43m)\u001b[49m\n\u001b[1;32m     69\u001b[0m \u001b[38;5;28;01mexcept\u001b[39;00m \u001b[38;5;167;01mException\u001b[39;00m \u001b[38;5;28;01mas\u001b[39;00m error:\n\u001b[1;32m     70\u001b[0m     \u001b[38;5;28;01mwith\u001b[39;00m suppress(  \u001b[38;5;66;03m# Do nothing to let the previous error be the one presented to the user.\u001b[39;00m\n\u001b[1;32m     71\u001b[0m         \u001b[38;5;167;01mException\u001b[39;00m\n\u001b[1;32m     72\u001b[0m     ):\n",
      "File \u001b[0;32m~/.local/lib/python3.10/site-packages/pydantic/validate_call_decorator.py:58\u001b[0m, in \u001b[0;36mvalidate_call.<locals>.validate.<locals>.wrapper_function\u001b[0;34m(*args, **kwargs)\u001b[0m\n\u001b[1;32m     56\u001b[0m \u001b[38;5;129m@functools\u001b[39m\u001b[38;5;241m.\u001b[39mwraps(function)\n\u001b[1;32m     57\u001b[0m \u001b[38;5;28;01mdef\u001b[39;00m \u001b[38;5;21mwrapper_function\u001b[39m(\u001b[38;5;241m*\u001b[39margs, \u001b[38;5;241m*\u001b[39m\u001b[38;5;241m*\u001b[39mkwargs):\n\u001b[0;32m---> 58\u001b[0m     \u001b[38;5;28;01mreturn\u001b[39;00m \u001b[43mvalidate_call_wrapper\u001b[49m\u001b[43m(\u001b[49m\u001b[38;5;241;43m*\u001b[39;49m\u001b[43margs\u001b[49m\u001b[43m,\u001b[49m\u001b[43m \u001b[49m\u001b[38;5;241;43m*\u001b[39;49m\u001b[38;5;241;43m*\u001b[39;49m\u001b[43mkwargs\u001b[49m\u001b[43m)\u001b[49m\n",
      "File \u001b[0;32m~/.local/lib/python3.10/site-packages/pydantic/_internal/_validate_call.py:81\u001b[0m, in \u001b[0;36mValidateCallWrapper.__call__\u001b[0;34m(self, *args, **kwargs)\u001b[0m\n\u001b[1;32m     80\u001b[0m \u001b[38;5;28;01mdef\u001b[39;00m \u001b[38;5;21m__call__\u001b[39m(\u001b[38;5;28mself\u001b[39m, \u001b[38;5;241m*\u001b[39margs: Any, \u001b[38;5;241m*\u001b[39m\u001b[38;5;241m*\u001b[39mkwargs: Any) \u001b[38;5;241m-\u001b[39m\u001b[38;5;241m>\u001b[39m Any:\n\u001b[0;32m---> 81\u001b[0m     res \u001b[38;5;241m=\u001b[39m \u001b[38;5;28;43mself\u001b[39;49m\u001b[38;5;241;43m.\u001b[39;49m\u001b[43m__pydantic_validator__\u001b[49m\u001b[38;5;241;43m.\u001b[39;49m\u001b[43mvalidate_python\u001b[49m\u001b[43m(\u001b[49m\u001b[43mpydantic_core\u001b[49m\u001b[38;5;241;43m.\u001b[39;49m\u001b[43mArgsKwargs\u001b[49m\u001b[43m(\u001b[49m\u001b[43margs\u001b[49m\u001b[43m,\u001b[49m\u001b[43m \u001b[49m\u001b[43mkwargs\u001b[49m\u001b[43m)\u001b[49m\u001b[43m)\u001b[49m\n\u001b[1;32m     82\u001b[0m     \u001b[38;5;28;01mif\u001b[39;00m \u001b[38;5;28mself\u001b[39m\u001b[38;5;241m.\u001b[39m__return_pydantic_validator__:\n\u001b[1;32m     83\u001b[0m         \u001b[38;5;28;01mreturn\u001b[39;00m \u001b[38;5;28mself\u001b[39m\u001b[38;5;241m.\u001b[39m__return_pydantic_validator__(res)\n",
      "File \u001b[0;32m~/.local/lib/python3.10/site-packages/atoti/table.py:259\u001b[0m, in \u001b[0;36mTable.join\u001b[0;34m(self, target, mapping, target_optionality)\u001b[0m\n\u001b[1;32m    247\u001b[0m     check_column_condition_table(\n\u001b[1;32m    248\u001b[0m         mapping,\n\u001b[1;32m    249\u001b[0m         attribute_name\u001b[38;5;241m=\u001b[39m\u001b[38;5;124m\"\u001b[39m\u001b[38;5;124mtarget\u001b[39m\u001b[38;5;124m\"\u001b[39m,\n\u001b[1;32m    250\u001b[0m         expected_table_identifier\u001b[38;5;241m=\u001b[39mtarget\u001b[38;5;241m.\u001b[39m_identifier,\n\u001b[1;32m    251\u001b[0m     )\n\u001b[1;32m    252\u001b[0m     normalized_mapping \u001b[38;5;241m=\u001b[39m {\n\u001b[1;32m    253\u001b[0m         source_identifier\u001b[38;5;241m.\u001b[39mcolumn_name: target_identifier\u001b[38;5;241m.\u001b[39mcolumn_name\n\u001b[1;32m    254\u001b[0m         \u001b[38;5;28;01mfor\u001b[39;00m source_identifier, target_identifier \u001b[38;5;129;01min\u001b[39;00m condition_to_dict(\n\u001b[1;32m    255\u001b[0m             mapping\n\u001b[1;32m    256\u001b[0m         )\u001b[38;5;241m.\u001b[39mitems()\n\u001b[1;32m    257\u001b[0m     }\n\u001b[0;32m--> 259\u001b[0m \u001b[38;5;28;43mself\u001b[39;49m\u001b[38;5;241;43m.\u001b[39;49m\u001b[43m_java_api\u001b[49m\u001b[38;5;241;43m.\u001b[39;49m\u001b[43mcreate_join\u001b[49m\u001b[43m(\u001b[49m\n\u001b[1;32m    260\u001b[0m \u001b[43m    \u001b[49m\u001b[38;5;28;43mself\u001b[39;49m\u001b[38;5;241;43m.\u001b[39;49m\u001b[43m_identifier\u001b[49m\u001b[43m,\u001b[49m\n\u001b[1;32m    261\u001b[0m \u001b[43m    \u001b[49m\u001b[43mtarget\u001b[49m\u001b[38;5;241;43m.\u001b[39;49m\u001b[43m_identifier\u001b[49m\u001b[43m,\u001b[49m\n\u001b[1;32m    262\u001b[0m \u001b[43m    \u001b[49m\u001b[43mmapping\u001b[49m\u001b[38;5;241;43m=\u001b[39;49m\u001b[43mnormalized_mapping\u001b[49m\u001b[43m,\u001b[49m\n\u001b[1;32m    263\u001b[0m \u001b[43m    \u001b[49m\u001b[43mtarget_optionality\u001b[49m\u001b[38;5;241;43m=\u001b[39;49m\u001b[43mtarget_optionality\u001b[49m\u001b[43m,\u001b[49m\n\u001b[1;32m    264\u001b[0m \u001b[43m\u001b[49m\u001b[43m)\u001b[49m\n",
      "File \u001b[0;32m~/.local/lib/python3.10/site-packages/atoti/_java_api.py:1005\u001b[0m, in \u001b[0;36mJavaApi.create_join\u001b[0;34m(self, source_table_identifier, target_table_identifier, mapping, target_optionality)\u001b[0m\n\u001b[1;32m   1000\u001b[0m \u001b[38;5;250m\u001b[39m\u001b[38;5;124;03m\"\"\"Define a join between two tables.\"\"\"\u001b[39;00m\n\u001b[1;32m   1001\u001b[0m java_mapping \u001b[38;5;241m=\u001b[39m (\n\u001b[1;32m   1002\u001b[0m     to_java_map(mapping, gateway\u001b[38;5;241m=\u001b[39m\u001b[38;5;28mself\u001b[39m\u001b[38;5;241m.\u001b[39mgateway) \u001b[38;5;28;01mif\u001b[39;00m mapping \u001b[38;5;129;01mis\u001b[39;00m \u001b[38;5;129;01mnot\u001b[39;00m \u001b[38;5;28;01mNone\u001b[39;00m \u001b[38;5;28;01melse\u001b[39;00m \u001b[38;5;28;01mNone\u001b[39;00m\n\u001b[1;32m   1003\u001b[0m )\n\u001b[0;32m-> 1005\u001b[0m \u001b[38;5;28;43mself\u001b[39;49m\u001b[38;5;241;43m.\u001b[39;49m\u001b[43m_outside_transaction_api\u001b[49m\u001b[43m(\u001b[49m\u001b[43m)\u001b[49m\u001b[38;5;241;43m.\u001b[39;49m\u001b[43mcreateJoin\u001b[49m\u001b[43m(\u001b[49m\n\u001b[1;32m   1006\u001b[0m \u001b[43m    \u001b[49m\u001b[43msource_table_identifier\u001b[49m\u001b[38;5;241;43m.\u001b[39;49m\u001b[43mtable_name\u001b[49m\u001b[43m,\u001b[49m\n\u001b[1;32m   1007\u001b[0m \u001b[43m    \u001b[49m\u001b[43mtarget_table_identifier\u001b[49m\u001b[38;5;241;43m.\u001b[39;49m\u001b[43mtable_name\u001b[49m\u001b[43m,\u001b[49m\n\u001b[1;32m   1008\u001b[0m \u001b[43m    \u001b[49m\u001b[43mjava_mapping\u001b[49m\u001b[43m,\u001b[49m\n\u001b[1;32m   1009\u001b[0m \u001b[43m    \u001b[49m\u001b[38;5;28;43mself\u001b[39;49m\u001b[38;5;241;43m.\u001b[39;49m\u001b[43mjvm\u001b[49m\u001b[38;5;241;43m.\u001b[39;49m\u001b[43mcom\u001b[49m\u001b[38;5;241;43m.\u001b[39;49m\u001b[43mactiveviam\u001b[49m\u001b[38;5;241;43m.\u001b[39;49m\u001b[43mdatabase\u001b[49m\u001b[38;5;241;43m.\u001b[39;49m\u001b[43mapi\u001b[49m\u001b[38;5;241;43m.\u001b[39;49m\u001b[43mschema\u001b[49m\u001b[38;5;241;43m.\u001b[39;49m\u001b[43mRelationshipOptionality\u001b[49m\u001b[38;5;241;43m.\u001b[39;49m\u001b[43mvalueOf\u001b[49m\u001b[43m(\u001b[49m\n\u001b[1;32m   1010\u001b[0m \u001b[43m        \u001b[49m\u001b[43mtarget_optionality\u001b[49m\u001b[38;5;241;43m.\u001b[39;49m\u001b[43mupper\u001b[49m\u001b[43m(\u001b[49m\u001b[43m)\u001b[49m\n\u001b[1;32m   1011\u001b[0m \u001b[43m    \u001b[49m\u001b[43m)\u001b[49m\u001b[43m,\u001b[49m\n\u001b[1;32m   1012\u001b[0m \u001b[43m\u001b[49m\u001b[43m)\u001b[49m\n\u001b[1;32m   1014\u001b[0m \u001b[38;5;28mself\u001b[39m\u001b[38;5;241m.\u001b[39mrefresh()\n",
      "File \u001b[0;32m~/.local/lib/python3.10/site-packages/py4j/java_gateway.py:1322\u001b[0m, in \u001b[0;36mJavaMember.__call__\u001b[0;34m(self, *args)\u001b[0m\n\u001b[1;32m   1316\u001b[0m command \u001b[38;5;241m=\u001b[39m proto\u001b[38;5;241m.\u001b[39mCALL_COMMAND_NAME \u001b[38;5;241m+\u001b[39m\\\n\u001b[1;32m   1317\u001b[0m     \u001b[38;5;28mself\u001b[39m\u001b[38;5;241m.\u001b[39mcommand_header \u001b[38;5;241m+\u001b[39m\\\n\u001b[1;32m   1318\u001b[0m     args_command \u001b[38;5;241m+\u001b[39m\\\n\u001b[1;32m   1319\u001b[0m     proto\u001b[38;5;241m.\u001b[39mEND_COMMAND_PART\n\u001b[1;32m   1321\u001b[0m answer \u001b[38;5;241m=\u001b[39m \u001b[38;5;28mself\u001b[39m\u001b[38;5;241m.\u001b[39mgateway_client\u001b[38;5;241m.\u001b[39msend_command(command)\n\u001b[0;32m-> 1322\u001b[0m return_value \u001b[38;5;241m=\u001b[39m \u001b[43mget_return_value\u001b[49m\u001b[43m(\u001b[49m\n\u001b[1;32m   1323\u001b[0m \u001b[43m    \u001b[49m\u001b[43manswer\u001b[49m\u001b[43m,\u001b[49m\u001b[43m \u001b[49m\u001b[38;5;28;43mself\u001b[39;49m\u001b[38;5;241;43m.\u001b[39;49m\u001b[43mgateway_client\u001b[49m\u001b[43m,\u001b[49m\u001b[43m \u001b[49m\u001b[38;5;28;43mself\u001b[39;49m\u001b[38;5;241;43m.\u001b[39;49m\u001b[43mtarget_id\u001b[49m\u001b[43m,\u001b[49m\u001b[43m \u001b[49m\u001b[38;5;28;43mself\u001b[39;49m\u001b[38;5;241;43m.\u001b[39;49m\u001b[43mname\u001b[49m\u001b[43m)\u001b[49m\n\u001b[1;32m   1325\u001b[0m \u001b[38;5;28;01mfor\u001b[39;00m temp_arg \u001b[38;5;129;01min\u001b[39;00m temp_args:\n\u001b[1;32m   1326\u001b[0m     \u001b[38;5;28;01mif\u001b[39;00m \u001b[38;5;28mhasattr\u001b[39m(temp_arg, \u001b[38;5;124m\"\u001b[39m\u001b[38;5;124m_detach\u001b[39m\u001b[38;5;124m\"\u001b[39m):\n",
      "File \u001b[0;32m~/.local/lib/python3.10/site-packages/py4j/protocol.py:326\u001b[0m, in \u001b[0;36mget_return_value\u001b[0;34m(answer, gateway_client, target_id, name)\u001b[0m\n\u001b[1;32m    324\u001b[0m value \u001b[38;5;241m=\u001b[39m OUTPUT_CONVERTER[\u001b[38;5;28mtype\u001b[39m](answer[\u001b[38;5;241m2\u001b[39m:], gateway_client)\n\u001b[1;32m    325\u001b[0m \u001b[38;5;28;01mif\u001b[39;00m answer[\u001b[38;5;241m1\u001b[39m] \u001b[38;5;241m==\u001b[39m REFERENCE_TYPE:\n\u001b[0;32m--> 326\u001b[0m     \u001b[38;5;28;01mraise\u001b[39;00m Py4JJavaError(\n\u001b[1;32m    327\u001b[0m         \u001b[38;5;124m\"\u001b[39m\u001b[38;5;124mAn error occurred while calling \u001b[39m\u001b[38;5;132;01m{0}\u001b[39;00m\u001b[38;5;132;01m{1}\u001b[39;00m\u001b[38;5;132;01m{2}\u001b[39;00m\u001b[38;5;124m.\u001b[39m\u001b[38;5;130;01m\\n\u001b[39;00m\u001b[38;5;124m\"\u001b[39m\u001b[38;5;241m.\u001b[39m\n\u001b[1;32m    328\u001b[0m         \u001b[38;5;28mformat\u001b[39m(target_id, \u001b[38;5;124m\"\u001b[39m\u001b[38;5;124m.\u001b[39m\u001b[38;5;124m\"\u001b[39m, name), value)\n\u001b[1;32m    329\u001b[0m \u001b[38;5;28;01melse\u001b[39;00m:\n\u001b[1;32m    330\u001b[0m     \u001b[38;5;28;01mraise\u001b[39;00m Py4JError(\n\u001b[1;32m    331\u001b[0m         \u001b[38;5;124m\"\u001b[39m\u001b[38;5;124mAn error occurred while calling \u001b[39m\u001b[38;5;132;01m{0}\u001b[39;00m\u001b[38;5;132;01m{1}\u001b[39;00m\u001b[38;5;132;01m{2}\u001b[39;00m\u001b[38;5;124m. Trace:\u001b[39m\u001b[38;5;130;01m\\n\u001b[39;00m\u001b[38;5;132;01m{3}\u001b[39;00m\u001b[38;5;130;01m\\n\u001b[39;00m\u001b[38;5;124m\"\u001b[39m\u001b[38;5;241m.\u001b[39m\n\u001b[1;32m    332\u001b[0m         \u001b[38;5;28mformat\u001b[39m(target_id, \u001b[38;5;124m\"\u001b[39m\u001b[38;5;124m.\u001b[39m\u001b[38;5;124m\"\u001b[39m, name, value))\n",
      "\u001b[0;31mPy4JJavaError\u001b[0m: An error occurred while calling o208.createJoin.\n: java.lang.NullPointerException: Cannot invoke \"io.atoti.loading.impl.Store.getKeyFields()\" because the return value of \"io.atoti.DataManager.getStore(String)\" is null\n\tat io.atoti.loading.impl.Store.join(Store.java:215)\n\tat io.atoti.loading.impl.Store.join(Store.java:200)\n\tat io.atoti.api.impl.OutsideTransactionDataApiImpl.createJoin(OutsideTransactionDataApiImpl.java:190)\n\tat java.base/jdk.internal.reflect.NativeMethodAccessorImpl.invoke0(Native Method)\n\tat java.base/jdk.internal.reflect.NativeMethodAccessorImpl.invoke(Unknown Source)\n\tat java.base/jdk.internal.reflect.DelegatingMethodAccessorImpl.invoke(Unknown Source)\n\tat java.base/java.lang.reflect.Method.invoke(Unknown Source)\n\tat py4j.reflection.MethodInvoker.invoke(MethodInvoker.java:244)\n\tat py4j.reflection.ReflectionEngine.invoke(ReflectionEngine.java:357)\n\tat py4j.Gateway.invoke(Gateway.java:282)\n\tat py4j.commands.AbstractCommand.invokeMethod(AbstractCommand.java:132)\n\tat py4j.commands.CallCommand.execute(CallCommand.java:79)\n\tat py4j.ClientServerConnection.waitForCommands(ClientServerConnection.java:182)\n\tat py4j.ClientServerConnection.run(ClientServerConnection.java:106)\n\tat java.base/java.lang.Thread.run(Unknown Source)\n"
     ]
    }
   ],
   "source": [
    "facttest.join(lifeexp, (facttest[\"year\"] == lifeexp[\"year\"] )& (facttest[\"country\"] == lifeexp[\"country\"]))"
   ]
  },
  {
   "cell_type": "code",
   "execution_count": 96,
   "id": "42d9d7e5-47fb-4492-ac2e-27aec91890c1",
   "metadata": {},
   "outputs": [
    {
     "data": {
      "text/markdown": [
       "```mermaid\n",
       "erDiagram\n",
       "  \"Countries\" {\n",
       "    _ String PK \"country\"\n",
       "    _ String \"continent\"\n",
       "  }\n",
       "  \"Time\" {\n",
       "    _ int PK \"year\"\n",
       "  }\n",
       "  \"factTable\" {\n",
       "    _ int PK \"year\"\n",
       "    _ String PK \"country\"\n",
       "    nullable int \"bronze\"\n",
       "    nullable int \"silver\"\n",
       "    nullable int \"gold\"\n",
       "    nullable int \"total\"\n",
       "    nullable double \"depression\"\n",
       "    nullable double \"schizophrenia\"\n",
       "    nullable double \"bipolar\"\n",
       "    nullable double \"eatingdisorder\"\n",
       "    nullable double \"anxiety\"\n",
       "  }\n",
       "  \"factTable\" }o--o| \"Countries\" : \"`country` == `country`\"\n",
       "  \"factTable\" }o--o| \"Time\" : \"`year` == `year`\"\n",
       "```\n"
      ],
      "text/plain": [
       "erDiagram\n",
       "  \"Countries\" {\n",
       "    _ String PK \"country\"\n",
       "    _ String \"continent\"\n",
       "  }\n",
       "  \"Time\" {\n",
       "    _ int PK \"year\"\n",
       "  }\n",
       "  \"factTable\" {\n",
       "    _ int PK \"year\"\n",
       "    _ String PK \"country\"\n",
       "    nullable int \"bronze\"\n",
       "    nullable int \"silver\"\n",
       "    nullable int \"gold\"\n",
       "    nullable int \"total\"\n",
       "    nullable double \"depression\"\n",
       "    nullable double \"schizophrenia\"\n",
       "    nullable double \"bipolar\"\n",
       "    nullable double \"eatingdisorder\"\n",
       "    nullable double \"anxiety\"\n",
       "  }\n",
       "  \"factTable\" }o--o| \"Countries\" : \"`country` == `country`\"\n",
       "  \"factTable\" }o--o| \"Time\" : \"`year` == `year`\""
      ]
     },
     "execution_count": 96,
     "metadata": {},
     "output_type": "execute_result"
    }
   ],
   "source": [
    "session.tables.schema"
   ]
  },
  {
   "cell_type": "code",
   "execution_count": 97,
   "id": "860a487d-8e0e-4637-92f3-ef9d6269b62e",
   "metadata": {},
   "outputs": [],
   "source": [
    "testcube = session.create_cube(facttest)"
   ]
  },
  {
   "cell_type": "code",
   "execution_count": 121,
   "id": "56262118-9490-4f59-8642-fd26bbaf1c72",
   "metadata": {
    "scrolled": true
   },
   "outputs": [
    {
     "data": {
      "application/json": {
       "Dimensions": {
        "Countries": {
         "continent": [
          "continent"
         ],
         "country": [
          "country"
         ]
        },
        "TCountries": {
         "country": [
          "country"
         ]
        },
        "Time": {
         "year": [
          "year"
         ]
        },
        "factTable": {
         "country": [
          "country"
         ],
         "year": [
          "year"
         ]
        }
       },
       "Measures": {
        "anxiety.MEAN": {
         "formatter": "DOUBLE[#,###.00]"
        },
        "anxiety.SUM": {
         "formatter": "DOUBLE[#,###.00]"
        },
        "bipolar.MEAN": {
         "formatter": "DOUBLE[#,###.00]"
        },
        "bipolar.SUM": {
         "formatter": "DOUBLE[#,###.00]"
        },
        "bronze.MEAN": {
         "formatter": "DOUBLE[#,###.00]"
        },
        "bronze.SUM": {
         "formatter": "INT[#,###]"
        },
        "contributors.COUNT": {
         "formatter": "INT[#,###]"
        },
        "depression.MEAN": {
         "formatter": "DOUBLE[#,###.00]"
        },
        "depression.SUM": {
         "formatter": "DOUBLE[#,###.00]"
        },
        "eatingdisorder.MEAN": {
         "formatter": "DOUBLE[#,###.00]"
        },
        "eatingdisorder.SUM": {
         "formatter": "DOUBLE[#,###.00]"
        },
        "gold.MEAN": {
         "formatter": "DOUBLE[#,###.00]"
        },
        "gold.SUM": {
         "formatter": "INT[#,###]"
        },
        "schizophrenia.MEAN": {
         "formatter": "DOUBLE[#,###.00]"
        },
        "schizophrenia.SUM": {
         "formatter": "DOUBLE[#,###.00]"
        },
        "silver.MEAN": {
         "formatter": "DOUBLE[#,###.00]"
        },
        "silver.SUM": {
         "formatter": "INT[#,###]"
        },
        "total.MEAN": {
         "formatter": "DOUBLE[#,###.00]"
        },
        "total.SUM": {
         "formatter": "INT[#,###]"
        }
       }
      },
      "text/html": [
       "<ul>\n",
       "<li>factTable\n",
       "  <ul>\n",
       "  <li>Dimensions\n",
       "    <ul>\n",
       "    <li>Countries\n",
       "      <ul>\n",
       "      <li>continent\n",
       "        <ol>\n",
       "        <li>continent</li>\n",
       "        </ol>      </li>\n",
       "      <li>country\n",
       "        <ol>\n",
       "        <li>country</li>\n",
       "        </ol>      </li>\n",
       "      </ul>\n",
       "    </li>\n",
       "    <li>TCountries\n",
       "      <ul>\n",
       "      <li>country\n",
       "        <ol>\n",
       "        <li>country</li>\n",
       "        </ol>      </li>\n",
       "      </ul>\n",
       "    </li>\n",
       "    <li>Time\n",
       "      <ul>\n",
       "      <li>year\n",
       "        <ol>\n",
       "        <li>year</li>\n",
       "        </ol>      </li>\n",
       "      </ul>\n",
       "    </li>\n",
       "    <li>factTable\n",
       "      <ul>\n",
       "      <li>country\n",
       "        <ol>\n",
       "        <li>country</li>\n",
       "        </ol>      </li>\n",
       "      <li>year\n",
       "        <ol>\n",
       "        <li>year</li>\n",
       "        </ol>      </li>\n",
       "      </ul>\n",
       "    </li>\n",
       "    </ul>\n",
       "  </li>\n",
       "  <li>Measures\n",
       "    <ul>\n",
       "    <li>anxiety.MEAN\n",
       "      <ul>\n",
       "      <li>formatter: DOUBLE[#,###.00]</li>\n",
       "      </ul>\n",
       "    </li>\n",
       "    <li>anxiety.SUM\n",
       "      <ul>\n",
       "      <li>formatter: DOUBLE[#,###.00]</li>\n",
       "      </ul>\n",
       "    </li>\n",
       "    <li>bipolar.MEAN\n",
       "      <ul>\n",
       "      <li>formatter: DOUBLE[#,###.00]</li>\n",
       "      </ul>\n",
       "    </li>\n",
       "    <li>bipolar.SUM\n",
       "      <ul>\n",
       "      <li>formatter: DOUBLE[#,###.00]</li>\n",
       "      </ul>\n",
       "    </li>\n",
       "    <li>bronze.MEAN\n",
       "      <ul>\n",
       "      <li>formatter: DOUBLE[#,###.00]</li>\n",
       "      </ul>\n",
       "    </li>\n",
       "    <li>bronze.SUM\n",
       "      <ul>\n",
       "      <li>formatter: INT[#,###]</li>\n",
       "      </ul>\n",
       "    </li>\n",
       "    <li>contributors.COUNT\n",
       "      <ul>\n",
       "      <li>formatter: INT[#,###]</li>\n",
       "      </ul>\n",
       "    </li>\n",
       "    <li>depression.MEAN\n",
       "      <ul>\n",
       "      <li>formatter: DOUBLE[#,###.00]</li>\n",
       "      </ul>\n",
       "    </li>\n",
       "    <li>depression.SUM\n",
       "      <ul>\n",
       "      <li>formatter: DOUBLE[#,###.00]</li>\n",
       "      </ul>\n",
       "    </li>\n",
       "    <li>eatingdisorder.MEAN\n",
       "      <ul>\n",
       "      <li>formatter: DOUBLE[#,###.00]</li>\n",
       "      </ul>\n",
       "    </li>\n",
       "    <li>eatingdisorder.SUM\n",
       "      <ul>\n",
       "      <li>formatter: DOUBLE[#,###.00]</li>\n",
       "      </ul>\n",
       "    </li>\n",
       "    <li>gold.MEAN\n",
       "      <ul>\n",
       "      <li>formatter: DOUBLE[#,###.00]</li>\n",
       "      </ul>\n",
       "    </li>\n",
       "    <li>gold.SUM\n",
       "      <ul>\n",
       "      <li>formatter: INT[#,###]</li>\n",
       "      </ul>\n",
       "    </li>\n",
       "    <li>schizophrenia.MEAN\n",
       "      <ul>\n",
       "      <li>formatter: DOUBLE[#,###.00]</li>\n",
       "      </ul>\n",
       "    </li>\n",
       "    <li>schizophrenia.SUM\n",
       "      <ul>\n",
       "      <li>formatter: DOUBLE[#,###.00]</li>\n",
       "      </ul>\n",
       "    </li>\n",
       "    <li>silver.MEAN\n",
       "      <ul>\n",
       "      <li>formatter: DOUBLE[#,###.00]</li>\n",
       "      </ul>\n",
       "    </li>\n",
       "    <li>silver.SUM\n",
       "      <ul>\n",
       "      <li>formatter: INT[#,###]</li>\n",
       "      </ul>\n",
       "    </li>\n",
       "    <li>total.MEAN\n",
       "      <ul>\n",
       "      <li>formatter: DOUBLE[#,###.00]</li>\n",
       "      </ul>\n",
       "    </li>\n",
       "    <li>total.SUM\n",
       "      <ul>\n",
       "      <li>formatter: INT[#,###]</li>\n",
       "      </ul>\n",
       "    </li>\n",
       "    </ul>\n",
       "  </li>\n",
       "  </ul>\n",
       "</li>\n",
       "</ul>\n"
      ],
      "text/plain": [
       "<atoti.cube.Cube at 0x7bfef3b520e0>"
      ]
     },
     "execution_count": 121,
     "metadata": {
      "application/json": {
       "expanded": false,
       "root": "factTable"
      }
     },
     "output_type": "execute_result"
    }
   ],
   "source": [
    "testcube"
   ]
  },
  {
   "cell_type": "code",
   "execution_count": 99,
   "id": "ad272527-67cd-4785-b77f-f7bb45bef4f8",
   "metadata": {},
   "outputs": [],
   "source": [
    "hierarchies, levels, measures = testcube.hierarchies, testcube.levels, testcube.measures"
   ]
  },
  {
   "cell_type": "code",
   "execution_count": 100,
   "id": "c9d6c08f-9247-46ea-a535-74527fda3c9d",
   "metadata": {},
   "outputs": [
    {
     "name": "stdout",
     "output_type": "stream",
     "text": [
      "[('Countries', 'continent', 'continent'), ('factTable', 'year', 'year'), ('factTable', 'country', 'country')]\n"
     ]
    }
   ],
   "source": [
    "print(list(testcube.levels))"
   ]
  },
  {
   "cell_type": "code",
   "execution_count": 126,
   "id": "df93ed09-8f59-4d50-9c1c-0a336cc78995",
   "metadata": {
    "scrolled": true
   },
   "outputs": [
    {
     "data": {
      "application/json": {
       "Countries": {
        "continent": [
         "continent"
        ],
        "country": [
         "country"
        ]
       },
       "Time": {
        "year": [
         "year"
        ]
       }
      },
      "text/html": [
       "<ul>\n",
       "<li>Dimensions\n",
       "  <ul>\n",
       "  <li>Countries\n",
       "    <ul>\n",
       "    <li>continent\n",
       "      <ol>\n",
       "      <li>continent</li>\n",
       "      </ol>    </li>\n",
       "    <li>country\n",
       "      <ol>\n",
       "      <li>country</li>\n",
       "      </ol>    </li>\n",
       "    </ul>\n",
       "  </li>\n",
       "  <li>Time\n",
       "    <ul>\n",
       "    <li>year\n",
       "      <ol>\n",
       "      <li>year</li>\n",
       "      </ol>    </li>\n",
       "    </ul>\n",
       "  </li>\n",
       "  </ul>\n",
       "</li>\n",
       "</ul>\n"
      ],
      "text/plain": [
       "{('Time', 'year'): <atoti.hierarchy.Hierarchy object at 0x7bfef29df580>, ('Countries', 'continent'): <atoti.hierarchy.Hierarchy object at 0x7bfef29df640>, ('Countries', 'country'): <atoti.hierarchy.Hierarchy object at 0x7bfef29df910>}"
      ]
     },
     "execution_count": 126,
     "metadata": {
      "application/json": {
       "expanded": true,
       "root": "Dimensions"
      }
     },
     "output_type": "execute_result"
    }
   ],
   "source": [
    "hierarchies"
   ]
  },
  {
   "cell_type": "code",
   "execution_count": 125,
   "id": "6cbfab1d-52e8-4a00-a222-f25561915a9b",
   "metadata": {},
   "outputs": [],
   "source": [
    "del hierarchies[('factTable', 'year')]"
   ]
  },
  {
   "cell_type": "code",
   "execution_count": 102,
   "id": "a37cce50-f22f-407e-8ec3-0c048a695447",
   "metadata": {},
   "outputs": [
    {
     "data": {
      "application/json": {
       "continent (Countries/continent/continent)": {
        "dimension": "Countries",
        "hierarchy": "continent",
        "order": "NaturalOrder",
        "type": "String"
       },
       "country (factTable/country/country)": {
        "dimension": "factTable",
        "hierarchy": "country",
        "order": "NaturalOrder",
        "type": "String"
       },
       "year (factTable/year/year)": {
        "dimension": "factTable",
        "hierarchy": "year",
        "order": "NaturalOrder",
        "type": "int"
       }
      },
      "text/html": [
       "<ul>\n",
       "<li>Levels\n",
       "  <ul>\n",
       "  <li>continent (Countries/continent/continent)\n",
       "    <ul>\n",
       "    <li>dimension: Countries</li>\n",
       "    <li>hierarchy: continent</li>\n",
       "    <li>type: String</li>\n",
       "    <li>order: NaturalOrder</li>\n",
       "    </ul>\n",
       "  </li>\n",
       "  <li>country (factTable/country/country)\n",
       "    <ul>\n",
       "    <li>dimension: factTable</li>\n",
       "    <li>hierarchy: country</li>\n",
       "    <li>type: String</li>\n",
       "    <li>order: NaturalOrder</li>\n",
       "    </ul>\n",
       "  </li>\n",
       "  <li>year (factTable/year/year)\n",
       "    <ul>\n",
       "    <li>dimension: factTable</li>\n",
       "    <li>hierarchy: year</li>\n",
       "    <li>type: int</li>\n",
       "    <li>order: NaturalOrder</li>\n",
       "    </ul>\n",
       "  </li>\n",
       "  </ul>\n",
       "</li>\n",
       "</ul>\n"
      ],
      "text/plain": [
       "<atoti.levels.Levels at 0x7bfef3b95c00>"
      ]
     },
     "execution_count": 102,
     "metadata": {
      "application/json": {
       "expanded": true,
       "root": "Levels"
      }
     },
     "output_type": "execute_result"
    }
   ],
   "source": [
    "testcube.levels"
   ]
  },
  {
   "cell_type": "code",
   "execution_count": 118,
   "id": "f1fa2d3f-0e13-47e1-96a2-bce0c6d8c481",
   "metadata": {},
   "outputs": [],
   "source": [
    "testcube.hierarchies[\"Countries\",\"country\"]= [countries[\"country\"]]"
   ]
  },
  {
   "cell_type": "code",
   "execution_count": 133,
   "id": "c947c29a-164f-4d4e-80ad-557f47100ff7",
   "metadata": {},
   "outputs": [
    {
     "data": {
      "text/html": [
       "<div>\n",
       "<style scoped>\n",
       "    .dataframe tbody tr th:only-of-type {\n",
       "        vertical-align: middle;\n",
       "    }\n",
       "\n",
       "    .dataframe tbody tr th {\n",
       "        vertical-align: top;\n",
       "    }\n",
       "\n",
       "    .dataframe thead th {\n",
       "        text-align: right;\n",
       "    }\n",
       "</style>\n",
       "<table border=\"1\" class=\"dataframe\">\n",
       "  <thead>\n",
       "    <tr style=\"text-align: right;\">\n",
       "      <th></th>\n",
       "      <th>bronze.SUM</th>\n",
       "      <th>silver.SUM</th>\n",
       "      <th>gold.SUM</th>\n",
       "      <th>depression.MEAN</th>\n",
       "    </tr>\n",
       "    <tr>\n",
       "      <th>country</th>\n",
       "      <th></th>\n",
       "      <th></th>\n",
       "      <th></th>\n",
       "      <th></th>\n",
       "    </tr>\n",
       "  </thead>\n",
       "  <tbody>\n",
       "    <tr>\n",
       "      <th>Sri Lanka</th>\n",
       "      <td>0</td>\n",
       "      <td>1</td>\n",
       "      <td>0</td>\n",
       "      <td>474.28</td>\n",
       "    </tr>\n",
       "  </tbody>\n",
       "</table>\n",
       "</div>"
      ],
      "text/plain": [
       "          bronze.SUM silver.SUM gold.SUM depression.MEAN\n",
       "country                                                 \n",
       "Sri Lanka          0          1        0          474.28"
      ]
     },
     "execution_count": 133,
     "metadata": {},
     "output_type": "execute_result"
    }
   ],
   "source": [
    "testcube.query(measures[\"bronze.SUM\"],measures[\"silver.SUM\"],measures[\"gold.SUM\"],measures[\"depression.MEAN\"], levels=[levels['Countries', 'country', 'country']],filter=levels['Countries','country','country'] == \"Sri Lanka\")"
   ]
  },
  {
   "cell_type": "code",
   "execution_count": 135,
   "id": "5cd00b3f-17d0-4082-b09b-fd1234ca8f91",
   "metadata": {},
   "outputs": [
    {
     "data": {
      "text/html": [
       "<div>\n",
       "<style scoped>\n",
       "    .dataframe tbody tr th:only-of-type {\n",
       "        vertical-align: middle;\n",
       "    }\n",
       "\n",
       "    .dataframe tbody tr th {\n",
       "        vertical-align: top;\n",
       "    }\n",
       "\n",
       "    .dataframe thead th {\n",
       "        text-align: right;\n",
       "    }\n",
       "</style>\n",
       "<table border=\"1\" class=\"dataframe\">\n",
       "  <thead>\n",
       "    <tr style=\"text-align: right;\">\n",
       "      <th></th>\n",
       "      <th>total.SUM</th>\n",
       "      <th>depression.SUM</th>\n",
       "    </tr>\n",
       "    <tr>\n",
       "      <th>country</th>\n",
       "      <th></th>\n",
       "      <th></th>\n",
       "    </tr>\n",
       "  </thead>\n",
       "  <tbody>\n",
       "    <tr>\n",
       "      <th>Afghanistan</th>\n",
       "      <td>2</td>\n",
       "      <td>12,476.47</td>\n",
       "    </tr>\n",
       "    <tr>\n",
       "      <th>Albania</th>\n",
       "      <td>0</td>\n",
       "      <td>5,340.79</td>\n",
       "    </tr>\n",
       "    <tr>\n",
       "      <th>Algeria</th>\n",
       "      <td>15</td>\n",
       "      <td>10,308.49</td>\n",
       "    </tr>\n",
       "    <tr>\n",
       "      <th>American Samoa</th>\n",
       "      <td>0</td>\n",
       "      <td>5,474.03</td>\n",
       "    </tr>\n",
       "    <tr>\n",
       "      <th>Andorra</th>\n",
       "      <td>0</td>\n",
       "      <td>8,704.38</td>\n",
       "    </tr>\n",
       "    <tr>\n",
       "      <th>...</th>\n",
       "      <td>...</td>\n",
       "      <td>...</td>\n",
       "    </tr>\n",
       "    <tr>\n",
       "      <th>Venezuela</th>\n",
       "      <td>7</td>\n",
       "      <td>7,929.14</td>\n",
       "    </tr>\n",
       "    <tr>\n",
       "      <th>Vietnam</th>\n",
       "      <td>4</td>\n",
       "      <td>5,217.00</td>\n",
       "    </tr>\n",
       "    <tr>\n",
       "      <th>Yemen</th>\n",
       "      <td>0</td>\n",
       "      <td>12,501.08</td>\n",
       "    </tr>\n",
       "    <tr>\n",
       "      <th>Zambia</th>\n",
       "      <td>1</td>\n",
       "      <td>9,802.79</td>\n",
       "    </tr>\n",
       "    <tr>\n",
       "      <th>Zimbabwe</th>\n",
       "      <td>7</td>\n",
       "      <td>7,470.03</td>\n",
       "    </tr>\n",
       "  </tbody>\n",
       "</table>\n",
       "<p>198 rows × 2 columns</p>\n",
       "</div>"
      ],
      "text/plain": [
       "               total.SUM depression.SUM\n",
       "country                                \n",
       "Afghanistan            2      12,476.47\n",
       "Albania                0       5,340.79\n",
       "Algeria               15      10,308.49\n",
       "American Samoa         0       5,474.03\n",
       "Andorra                0       8,704.38\n",
       "...                  ...            ...\n",
       "Venezuela              7       7,929.14\n",
       "Vietnam                4       5,217.00\n",
       "Yemen                  0      12,501.08\n",
       "Zambia                 1       9,802.79\n",
       "Zimbabwe               7       7,470.03\n",
       "\n",
       "[198 rows x 2 columns]"
      ]
     },
     "execution_count": 135,
     "metadata": {},
     "output_type": "execute_result"
    }
   ],
   "source": [
    "testcube.query(measures[\"total.SUM\"],measures[\"depression.SUM\"], levels = [levels[\"Countries\",'country','country']])"
   ]
  },
  {
   "cell_type": "code",
   "execution_count": 25,
   "id": "e6b093a7-9f0c-4e3c-9fff-cfae7cf8ae65",
   "metadata": {
    "atoti": {
     "widget": {
      "mapping": {
       "columns": [
        "ALL_MEASURES"
       ],
       "measures": [
        "[Measures].[gold.SUM]"
       ],
       "rows": [
        "[Countries].[continent].[continent]"
       ]
      },
      "query": {
       "mdx": "SELECT NON EMPTY Hierarchize(Descendants({[Countries].[continent].[ALL].[AllMember]}, 1, SELF_AND_BEFORE)) ON ROWS, NON EMPTY {[Measures].[gold.SUM]} ON COLUMNS FROM [factTable] CELL PROPERTIES VALUE, FORMATTED_VALUE, BACK_COLOR, FORE_COLOR, FONT_FLAGS",
       "updateMode": "once"
      },
      "serverKey": "default",
      "switchedTo": "plotly-line-chart",
      "widgetKey": "pivot-table"
     }
    }
   },
   "outputs": [
    {
     "data": {
      "application/vnd.atoti.widget.v0+json": {
       "sessionId": "1712736477_FM5PMM",
       "sessionLocation": {
        "https": false,
        "port": 9095
       },
       "widgetCreationCode": "session.widget"
      },
      "text/html": [
       "<img height=\"352\" width=\"1473\" src=\"data:image/png;base64,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\" />"
      ],
      "text/plain": [
       "Open the notebook in JupyterLab with the Atoti JupyterLab extension enabled to build this widget."
      ]
     },
     "metadata": {},
     "output_type": "display_data"
    }
   ],
   "source": [
    "session.widget"
   ]
  },
  {
   "cell_type": "code",
   "execution_count": 26,
   "id": "6d9067cb-7887-48fc-9ce4-607d84c218a9",
   "metadata": {
    "atoti": {
     "widget": {
      "mapping": {
       "columns": [
        "ALL_MEASURES"
       ],
       "measures": [
        "[Measures].[depression.SUM]",
        "[Measures].[anxiety.SUM]"
       ],
       "rows": [
        "[Countries].[continent].[continent]"
       ]
      },
      "query": {
       "mdx": "SELECT NON EMPTY Hierarchize(Descendants({[Countries].[continent].[ALL].[AllMember]}, 1, SELF_AND_BEFORE)) ON ROWS, NON EMPTY {[Measures].[depression.SUM], [Measures].[anxiety.SUM]} ON COLUMNS FROM [factTable] CELL PROPERTIES VALUE, FORMATTED_VALUE, BACK_COLOR, FORE_COLOR, FONT_FLAGS",
       "updateMode": "once"
      },
      "serverKey": "default",
      "switchedTo": "plotly-line-chart",
      "widgetKey": "pivot-table"
     }
    }
   },
   "outputs": [
    {
     "data": {
      "application/vnd.atoti.widget.v0+json": {
       "sessionId": "1712736477_FM5PMM",
       "sessionLocation": {
        "https": false,
        "port": 9095
       },
       "widgetCreationCode": "session.widget"
      },
      "text/html": [
       "<img height=\"352\" width=\"1473\" src=\"data:image/png;base64,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\" />"
      ],
      "text/plain": [
       "Open the notebook in JupyterLab with the Atoti JupyterLab extension enabled to build this widget."
      ]
     },
     "metadata": {},
     "output_type": "display_data"
    }
   ],
   "source": [
    "session.widget"
   ]
  },
  {
   "cell_type": "code",
   "execution_count": null,
   "id": "1abcaa36-0b97-4d8a-a7ac-a955c257743c",
   "metadata": {},
   "outputs": [],
   "source": []
  }
 ],
 "metadata": {
  "kernelspec": {
   "display_name": "Python 3 (ipykernel)",
   "language": "python",
   "name": "python3"
  },
  "language_info": {
   "codemirror_mode": {
    "name": "ipython",
    "version": 3
   },
   "file_extension": ".py",
   "mimetype": "text/x-python",
   "name": "python",
   "nbconvert_exporter": "python",
   "pygments_lexer": "ipython3",
   "version": "3.10.12"
  }
 },
 "nbformat": 4,
 "nbformat_minor": 5
}
