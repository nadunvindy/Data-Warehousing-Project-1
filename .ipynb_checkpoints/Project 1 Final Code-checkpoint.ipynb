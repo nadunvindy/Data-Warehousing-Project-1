{
 "cells": [
  {
   "cell_type": "code",
   "execution_count": 1,
   "id": "fb79fff6-2467-4014-a5bf-30ab8b7079ec",
   "metadata": {},
   "outputs": [],
   "source": [
    "import psycopg2 #import the PostgreSQL adapter\n",
    "import pandas as pd #Used for data analysis and manipilation\n",
    "from sqlalchemy import create_engine #function to vreat a database engine\n",
    "import numpy as np #For array manipulation\n",
    "from psycopg2 import OperationalError\n",
    "import re #python string library"
   ]
  },
  {
   "cell_type": "code",
   "execution_count": 2,
   "id": "f2281292-86d5-4cef-a654-29f7eea69a69",
   "metadata": {},
   "outputs": [],
   "source": [
    "def create_connection(db_name, db_user, db_password, db_host, db_port): #Python function to create a connection to PostgreSQL server. (Reused from Data Warehousing Lab3)\n",
    "    connection = None\n",
    "    try:\n",
    "        connection = psycopg2.connect(\n",
    "            database=db_name,\n",
    "            user=db_user,\n",
    "            password=db_password,\n",
    "            host=db_host,\n",
    "            port=db_port,\n",
    "        )\n",
    "        print(\"Connection to PostgreSQL DB successful\")\n",
    "    except OperationalError as e:\n",
    "        print(f\"The error '{e}' occurred\")\n",
    "    return connection\n"
   ]
  },
  {
   "cell_type": "code",
   "execution_count": 3,
   "id": "716234aa-d4c6-4421-8a94-976ffffaf4a6",
   "metadata": {},
   "outputs": [],
   "source": [
    "db_name = \"Olympic\"  #database parameters\n",
    "db_user = \"postgres\"\n",
    "db_password = \"postgres\"  \n",
    "db_host = \"localhost\"  \n",
    "db_port = \"5432\"\n",
    "db_server = \"dw_2024\""
   ]
  },
  {
   "cell_type": "code",
   "execution_count": 4,
   "id": "b6b13cc7-3162-4c9e-b1e6-2187080ac70b",
   "metadata": {},
   "outputs": [
    {
     "name": "stdout",
     "output_type": "stream",
     "text": [
      "Connection to PostgreSQL DB successful\n"
     ]
    }
   ],
   "source": [
    "connection = create_connection(db_name, db_user, db_password, db_host, db_port)  #Create connection to the PostgreSQL server function"
   ]
  },
  {
   "cell_type": "code",
   "execution_count": 5,
   "id": "3dd471ef-4b00-4fb5-b857-f646b2e0f2f8",
   "metadata": {},
   "outputs": [],
   "source": [
    "cursor = connection.cursor() #Cursor allow python code to execute PostgreSQL command in a database session"
   ]
  },
  {
   "cell_type": "code",
   "execution_count": 6,
   "id": "6f66d749-e82e-4fea-abb4-865f01702058",
   "metadata": {},
   "outputs": [],
   "source": [
    "connection_string = f\"postgresql+psycopg2://{db_user}:{db_password}@{db_host}:{db_port}/{db_name}\" #connection string to the database\n",
    "engine = create_engine(connection_string) #Create engine for the database"
   ]
  },
  {
   "cell_type": "code",
   "execution_count": 112,
   "id": "020ef148-e91d-4698-8e7e-a5686d5f3d43",
   "metadata": {},
   "outputs": [],
   "source": [
    "countries_df = pd.read_csv(\"./list-of-countries_areas-by-continent-2024.csv\", header=None)"
   ]
  },
  {
   "cell_type": "code",
   "execution_count": 113,
   "id": "24df73ca-45b8-4037-b15c-1698b546f1e1",
   "metadata": {},
   "outputs": [],
   "source": [
    "countries_df.columns = [\"country\", \"continent\"]"
   ]
  },
  {
   "cell_type": "code",
   "execution_count": 114,
   "id": "3be2490b-8b13-4d1b-a74b-3bc8af649ce6",
   "metadata": {},
   "outputs": [],
   "source": [
    "hosts_df = pd.read_csv(\"./olympic_hosts.csv\", header=0)"
   ]
  },
  {
   "cell_type": "code",
   "execution_count": 115,
   "id": "32cdf73b-89ad-4b4e-9f87-09ee80392b7c",
   "metadata": {},
   "outputs": [],
   "source": [
    "hosts_df.columns = [\"hostid\", \"enddate\", \"startdate\",\"location\",\"name\",\"season\",\"year\"]"
   ]
  },
  {
   "cell_type": "code",
   "execution_count": 116,
   "id": "2961ddc6-144b-456f-a020-c3d6916ef733",
   "metadata": {},
   "outputs": [],
   "source": [
    "lifeexp_df = pd.read_csv(\"./life-expectancy.csv\", header=0)"
   ]
  },
  {
   "cell_type": "code",
   "execution_count": 117,
   "id": "5e1f7d19-4685-41eb-8d0a-4cf2f4d01cc3",
   "metadata": {},
   "outputs": [],
   "source": [
    "lifeexp_df.columns= [\"country\",\"code\",\"year\",\"lifeexpectancy\"]"
   ]
  },
  {
   "cell_type": "code",
   "execution_count": 118,
   "id": "ab08178d-32db-4974-b695-46d083d2538b",
   "metadata": {},
   "outputs": [],
   "source": [
    "medals_df = pd.read_csv(\"./olympic_medals.csv\", header=0)"
   ]
  },
  {
   "cell_type": "code",
   "execution_count": 119,
   "id": "3cc152e7-a335-4f42-93ff-994da15853b3",
   "metadata": {},
   "outputs": [],
   "source": [
    "medals_df.columns = [\"discipline\",\"year\",\"event\",\"gender\",\"medal\",\"participanttype\",\"participanttitle\",\"url\",\"name\",\"country\",\"code\",\"code3\"]"
   ]
  },
  {
   "cell_type": "code",
   "execution_count": 120,
   "id": "f630f91f-f72c-49cd-8b58-ab3ec82da825",
   "metadata": {},
   "outputs": [],
   "source": [
    "mental_df = pd.read_csv(\"./mental-illness.csv\",header=0)"
   ]
  },
  {
   "cell_type": "code",
   "execution_count": 121,
   "id": "21d4cec6-a34f-4465-8b10-2e29739cbe38",
   "metadata": {},
   "outputs": [],
   "source": [
    "mental_df.columns = [\"country\",\"code\",\"year\",\"depression\",\"schizophrenia\",\"bipolar\",\"eatingdisorder\",\"anxiety\"]"
   ]
  },
  {
   "cell_type": "code",
   "execution_count": 122,
   "id": "2d0e49a1-ceb7-4dae-8e62-bed6e9a0d927",
   "metadata": {},
   "outputs": [],
   "source": [
    "economic_df = pd.read_csv(\"./Economic data.csv\",header=0)"
   ]
  },
  {
   "cell_type": "code",
   "execution_count": 123,
   "id": "d195a29d-da08-4c2e-9e6a-916dff34869d",
   "metadata": {},
   "outputs": [],
   "source": [
    "economic_df.columns = [\"year\", \"yearcode\", \"country\", \"code\", \"poverty\", \"gdpcap\", \"gdpgrowth\", \"intsrv\",\"mort\", \"hlthexp\", \"govhlthcap\", \"prvhlthcap\", \"exthlthcap\"]"
   ]
  },
  {
   "cell_type": "code",
   "execution_count": 124,
   "id": "3b49a835-2b6e-4395-9f9a-b6ac115024f8",
   "metadata": {},
   "outputs": [],
   "source": [
    "population_df = pd.read_csv(\"./Global Population.csv\",header=0,encoding='ISO-8859-1')"
   ]
  },
  {
   "cell_type": "code",
   "execution_count": 125,
   "id": "711a2441-edf2-46ea-8c6f-a1ab86f65ca8",
   "metadata": {},
   "outputs": [],
   "source": [
    "#Data Cleaning"
   ]
  },
  {
   "cell_type": "code",
   "execution_count": 126,
   "id": "54d1af5a-1c50-48d4-9317-9b3744ac9957",
   "metadata": {},
   "outputs": [],
   "source": [
    "hosts_df['enddate'] = pd.to_datetime(hosts_df['enddate'], format='%Y-%m-%dT%H:%M:%SZ') #Convert the start times to datetime format\n",
    "hosts_df['startdate'] = pd.to_datetime(hosts_df['startdate'], format='%Y-%m-%dT%H:%M:%SZ') #Convert the end times to datetime format"
   ]
  },
  {
   "cell_type": "code",
   "execution_count": 127,
   "id": "bd8589bc-4aba-4362-9042-cc8c3e817cb8",
   "metadata": {},
   "outputs": [],
   "source": [
    "lifeexp_df = lifeexp_df.dropna() #lifeexpectancy has continents with na country codes which will not be required so they are dropped from the dataframe"
   ]
  },
  {
   "cell_type": "code",
   "execution_count": 23,
   "id": "c0e0f380-387c-45ae-b2dc-1fd889baf195",
   "metadata": {},
   "outputs": [],
   "source": [
    "medals_df=medals_df.dropna() #mental illness dataframe has rows with no counntry codes that are regions and continents which will be dropped from the dataframe"
   ]
  },
  {
   "cell_type": "code",
   "execution_count": 128,
   "id": "d21d27dd-7dd3-4dd0-a0bc-c2cdc8139141",
   "metadata": {},
   "outputs": [],
   "source": [
    "economic_df['poverty'] = economic_df['poverty'].replace('..', np.nan) #In each column in the economy data frame there are strings \"..\" for values with no data which will be replace with NaN \n",
    "economic_df['gdpcap'] = economic_df['gdpcap'].replace('..', np.nan)\n",
    "economic_df['gdpgrowth'] = economic_df['gdpgrowth'].replace('..', np.nan)\n",
    "economic_df['intsrv'] = economic_df['intsrv'].replace('..', np.nan)\n",
    "economic_df['mort'] = economic_df['mort'].replace('..', np.nan)\n",
    "economic_df['hlthexp'] = economic_df['hlthexp'].replace('..', np.nan)\n",
    "economic_df['govhlthcap'] = economic_df['govhlthcap'].replace('..', np.nan)\n",
    "economic_df['prvhlthcap'] = economic_df['prvhlthcap'].replace('..', np.nan)\n",
    "economic_df['exthlthcap'] = economic_df['exthlthcap'].replace('..', np.nan)"
   ]
  },
  {
   "cell_type": "code",
   "execution_count": 129,
   "id": "303a0561-fae1-4f1c-8df0-6019912a7d9f",
   "metadata": {},
   "outputs": [],
   "source": [
    "economic_df=economic_df[0:-5] # Last five rows are invalid rows containing info about the data and spaces in the csv file"
   ]
  },
  {
   "cell_type": "code",
   "execution_count": 130,
   "id": "14f271d1-be32-479b-a676-e9d1e4f2283c",
   "metadata": {},
   "outputs": [],
   "source": [
    "population_df = pd.melt(population_df, id_vars=[\"Population (Millions of people)\"], var_name=\"Year\", value_name=\"Population\")"
   ]
  },
  {
   "cell_type": "code",
   "execution_count": 131,
   "id": "8e39a279-8676-4b80-8c0e-1faa95a3f433",
   "metadata": {},
   "outputs": [],
   "source": [
    "population_df['Population'] = population_df['Population'].replace('no data', np.nan)"
   ]
  },
  {
   "cell_type": "code",
   "execution_count": 132,
   "id": "c7d2b610-8a24-4597-a5fc-564118307988",
   "metadata": {},
   "outputs": [],
   "source": [
    "population_df.columns = [\"country\",\"year\",\"population\"]"
   ]
  },
  {
   "cell_type": "code",
   "execution_count": 133,
   "id": "f6a40647-fddf-4035-a12d-0e583ff4d44f",
   "metadata": {},
   "outputs": [],
   "source": [
    "def extract_year(value):\n",
    "    year_pattern = r'\\b(18|19|20)\\d{2}\\b'\n",
    "    match = re.search(year_pattern, value)\n",
    "    if match:\n",
    "        return int(match.group(0))  # Convert the matched year to an integer\n",
    "    else:\n",
    "        return None \n",
    "        \n",
    "medals_df['year'] = medals_df['year'].apply(extract_year)  #To obtain the year from the title event."
   ]
  },
  {
   "cell_type": "code",
   "execution_count": 134,
   "id": "6b6cdc58-db7d-499c-81c7-603ce81944ba",
   "metadata": {},
   "outputs": [],
   "source": [
    "medals_df = medals_df.drop(columns=[\"code\"]) #To drop the coutnry code with only two characters as standard and other tables follow the three letter structure"
   ]
  },
  {
   "cell_type": "code",
   "execution_count": 135,
   "id": "6d2b3c42-a04a-4a0c-93c0-7dcc98edb4c2",
   "metadata": {},
   "outputs": [],
   "source": [
    "medals_df = medals_df.rename(columns={\"code3\":\"code\"}) #Rename column to code"
   ]
  },
  {
   "cell_type": "code",
   "execution_count": null,
   "id": "7dd377bb-8c85-4cdb-b9bf-81cd7673a487",
   "metadata": {},
   "outputs": [],
   "source": [
    "#Create SQL tables in the PostgreSQL database and upload the data from the dataframes to the tables"
   ]
  },
  {
   "cell_type": "code",
   "execution_count": 38,
   "id": "98118b9a-da61-436b-9f00-a360d69705a5",
   "metadata": {},
   "outputs": [],
   "source": [
    "cursor.execute(\"CREATE TABLE countries (country VARCHAR(255) NOT NULL PRIMARY KEY, continent VARCHAR(255) NOT NULL);\")"
   ]
  },
  {
   "cell_type": "code",
   "execution_count": 39,
   "id": "c3068dbc-4170-49c9-b6bf-ba32d8476b1f",
   "metadata": {},
   "outputs": [],
   "source": [
    "connection.commit()"
   ]
  },
  {
   "cell_type": "code",
   "execution_count": 40,
   "id": "ebfe1641-a5a7-482d-8bc5-af62cd0cd9fc",
   "metadata": {},
   "outputs": [
    {
     "data": {
      "text/plain": [
       "235"
      ]
     },
     "execution_count": 40,
     "metadata": {},
     "output_type": "execute_result"
    }
   ],
   "source": [
    "countries_df.to_sql(\"countries\", con=engine, if_exists=\"append\", index=False)"
   ]
  },
  {
   "cell_type": "code",
   "execution_count": 42,
   "id": "83720cbc-8e96-4dfc-8361-9f01412acd69",
   "metadata": {},
   "outputs": [],
   "source": [
    "cursor.execute(\"CREATE TABLE economic (year INT NOT NULL, yearcode VARCHAR(255) NOT NULL, country VARCHAR(255) NOT NULL, code VARCHAR(3) NOT NULL,poverty FLOAT,gdpcap FLOAT,gdpgrowth FLOAT,intsrv FLOAT, mort FLOAT, hlthexp FLOAT, govhlthcap FLOAT, prvhlthcap FLOAT, exthlthcap FLOAT);\")"
   ]
  },
  {
   "cell_type": "code",
   "execution_count": 43,
   "id": "2cc58aee-92e6-4d71-b9e6-fcd5e9a80eaa",
   "metadata": {},
   "outputs": [],
   "source": [
    "connection.commit()"
   ]
  },
  {
   "cell_type": "code",
   "execution_count": 44,
   "id": "337e1e28-1f57-4778-9bf4-aa34f9062270",
   "metadata": {},
   "outputs": [
    {
     "data": {
      "text/plain": [
       "200"
      ]
     },
     "execution_count": 44,
     "metadata": {},
     "output_type": "execute_result"
    }
   ],
   "source": [
    "economic_df.to_sql(\"economic\", con=engine, if_exists=\"append\", index=False)"
   ]
  },
  {
   "cell_type": "code",
   "execution_count": 54,
   "id": "1ba61b73-e06a-4b62-ae4a-48ef78c6bca5",
   "metadata": {},
   "outputs": [],
   "source": [
    "cursor.execute(\"CREATE TABLE population (country VARCHAR(255), year INT NOT NULL, population FLOAT);\")"
   ]
  },
  {
   "cell_type": "code",
   "execution_count": 55,
   "id": "b94bb6bd-e99e-4d66-bde2-e9e60f20c64c",
   "metadata": {},
   "outputs": [],
   "source": [
    "connection.commit()"
   ]
  },
  {
   "cell_type": "code",
   "execution_count": 56,
   "id": "e8e801b8-ea96-4b36-b164-c43e3fa3fe70",
   "metadata": {},
   "outputs": [
    {
     "data": {
      "text/plain": [
       "318"
      ]
     },
     "execution_count": 56,
     "metadata": {},
     "output_type": "execute_result"
    }
   ],
   "source": [
    "population_df.to_sql(\"population\", con=engine, if_exists=\"append\", index=False)"
   ]
  },
  {
   "cell_type": "code",
   "execution_count": 89,
   "id": "d81c67e5-6022-4714-9e9e-3d5186c80bf3",
   "metadata": {},
   "outputs": [],
   "source": [
    "cursor.execute(\"ROLLBACK\")"
   ]
  },
  {
   "cell_type": "code",
   "execution_count": 66,
   "id": "ffaa5d58-92c0-4806-92d1-ac6ada2f0e56",
   "metadata": {},
   "outputs": [],
   "source": [
    "cursor.execute(\"CREATE TABLE lifeexp  (country VARCHAR(255) NOT NULL, code VARCHAR(255) NOT NULL, year INT NOT NULL, lifeexpectancy FLOAT);\")"
   ]
  },
  {
   "cell_type": "code",
   "execution_count": 67,
   "id": "bf27d608-dc17-4870-b379-d1d7ff8344eb",
   "metadata": {},
   "outputs": [],
   "source": [
    "connection.commit()"
   ]
  },
  {
   "cell_type": "code",
   "execution_count": 68,
   "id": "dcce5777-28d2-45b3-b6a4-887044777bfc",
   "metadata": {},
   "outputs": [
    {
     "data": {
      "text/plain": [
       "61"
      ]
     },
     "execution_count": 68,
     "metadata": {},
     "output_type": "execute_result"
    }
   ],
   "source": [
    "lifeexp_df.to_sql(\"lifeexp\", con=engine, if_exists=\"append\", index=False)"
   ]
  },
  {
   "cell_type": "code",
   "execution_count": 76,
   "id": "3e9fda1d-df8a-4a67-bfdd-4691d2346d96",
   "metadata": {},
   "outputs": [],
   "source": [
    "cursor.execute(\"CREATE TABLE millness  (country VARCHAR(255) NOT NULL, code VARCHAR(255), year INT NOT NULL, depression FLOAT, schizophrenia FLOAT, bipolar FLOAT, eatingdisorder FLOAT, anxiety FLOAT);\")"
   ]
  },
  {
   "cell_type": "code",
   "execution_count": 77,
   "id": "5faf13b4-a6e5-431e-b200-ff0666931a72",
   "metadata": {},
   "outputs": [],
   "source": [
    "connection.commit()"
   ]
  },
  {
   "cell_type": "code",
   "execution_count": 78,
   "id": "ce5deb52-eeaa-4dc0-8fab-da1f7ca99221",
   "metadata": {},
   "outputs": [
    {
     "data": {
      "text/plain": [
       "840"
      ]
     },
     "execution_count": 78,
     "metadata": {},
     "output_type": "execute_result"
    }
   ],
   "source": [
    "mental_df.to_sql(\"millness\", con=engine, if_exists=\"append\", index=False)"
   ]
  },
  {
   "cell_type": "code",
   "execution_count": 81,
   "id": "68ed9e22-8b6d-4a21-9a7f-ae43b3fc0753",
   "metadata": {},
   "outputs": [],
   "source": [
    "cursor.execute(\"CREATE TABLE hosts  (hostid VARCHAR(255) NOT NULL PRIMARY KEY, enddate TIMESTAMP WITH TIME ZONE, startdate TIMESTAMP WITH TIME ZONE, location VARCHAR(255), name\t VARCHAR(255), season VARCHAR(255), year INT);\")"
   ]
  },
  {
   "cell_type": "code",
   "execution_count": 82,
   "id": "c5bf836e-b016-4364-a7b2-499547c475a1",
   "metadata": {},
   "outputs": [],
   "source": [
    "connection.commit()"
   ]
  },
  {
   "cell_type": "code",
   "execution_count": 83,
   "id": "482e5504-33d7-4207-a53e-e273848b4238",
   "metadata": {},
   "outputs": [
    {
     "data": {
      "text/plain": [
       "53"
      ]
     },
     "execution_count": 83,
     "metadata": {},
     "output_type": "execute_result"
    }
   ],
   "source": [
    "hosts_df.to_sql(\"hosts\", con=engine, if_exists=\"append\", index=False)"
   ]
  },
  {
   "cell_type": "code",
   "execution_count": 94,
   "id": "0031a127-1917-43ee-9fb2-e53e72490918",
   "metadata": {},
   "outputs": [],
   "source": [
    "cursor.execute(\"CREATE TABLE medals (discipline VARCHAR(255), year INT NOT NULL, event VARCHAR(255), gender VARCHAR(255), medal VARCHAR(255), participanttype VARCHAR(255),participanttitle VARCHAR(255), url VARCHAR(255),name VARCHAR(255), country VARCHAR(255), code VARCHAR(255));\")"
   ]
  },
  {
   "cell_type": "code",
   "execution_count": 96,
   "id": "3e07a858-f56b-436e-80e5-0cbe9a0470d0",
   "metadata": {},
   "outputs": [],
   "source": [
    "connection.commit()"
   ]
  },
  {
   "cell_type": "code",
   "execution_count": 97,
   "id": "ace80de7-a1f6-4e6f-920a-883159ca6599",
   "metadata": {},
   "outputs": [
    {
     "data": {
      "text/plain": [
       "667"
      ]
     },
     "execution_count": 97,
     "metadata": {},
     "output_type": "execute_result"
    }
   ],
   "source": [
    "medals_df.to_sql(\"medals\",con=engine,if_exists=\"append\", index=False)"
   ]
  },
  {
   "cell_type": "code",
   "execution_count": 98,
   "id": "161c43c3-0371-48ff-b840-884bba80b936",
   "metadata": {},
   "outputs": [],
   "source": [
    "#Creating the facttable and dimension tables"
   ]
  },
  {
   "cell_type": "code",
   "execution_count": 100,
   "id": "587eb919-f375-4021-a256-35043b3c9529",
   "metadata": {},
   "outputs": [],
   "source": [
    "#For the facttable my columns are factid,country,year,sum of bronze for that year, sum of silver for that year, sum of gold for that year, mental health statistics"
   ]
  },
  {
   "cell_type": "code",
   "execution_count": 261,
   "id": "b883c526-c701-47a5-b713-ce387281855e",
   "metadata": {},
   "outputs": [],
   "source": [
    "medal_sums = medals_df.groupby(['year', 'country', 'medal']).size().unstack(fill_value=0)"
   ]
  },
  {
   "cell_type": "code",
   "execution_count": 262,
   "id": "d5dd0165-e2d3-4494-847d-5b05f3ee00c4",
   "metadata": {},
   "outputs": [],
   "source": [
    "medal_sums = medal_sums.reset_index()"
   ]
  },
  {
   "cell_type": "code",
   "execution_count": 263,
   "id": "fbed05e0-545a-4e9e-af01-11bcc4a13c37",
   "metadata": {},
   "outputs": [],
   "source": [
    "years = hosts_df.drop_duplicates()"
   ]
  },
  {
   "cell_type": "code",
   "execution_count": 264,
   "id": "2141ca17-2b75-4374-a483-4ef5421df731",
   "metadata": {},
   "outputs": [],
   "source": [
    "years = hosts_df[\"year\"]"
   ]
  },
  {
   "cell_type": "code",
   "execution_count": 265,
   "id": "598e6356-86d7-4eb1-9d78-1d287f8be1f3",
   "metadata": {},
   "outputs": [],
   "source": [
    "year = pd.DataFrame(data = hosts_df[\"year\"],columns=[\"year\"])"
   ]
  },
  {
   "cell_type": "code",
   "execution_count": 266,
   "id": "4af91427-117f-4b97-8b83-fe0793aca742",
   "metadata": {},
   "outputs": [],
   "source": [
    "year = year.drop_duplicates()"
   ]
  },
  {
   "cell_type": "code",
   "execution_count": 267,
   "id": "02b80002-16eb-483d-9470-306ba0118d52",
   "metadata": {},
   "outputs": [
    {
     "data": {
      "text/html": [
       "<div>\n",
       "<style scoped>\n",
       "    .dataframe tbody tr th:only-of-type {\n",
       "        vertical-align: middle;\n",
       "    }\n",
       "\n",
       "    .dataframe tbody tr th {\n",
       "        vertical-align: top;\n",
       "    }\n",
       "\n",
       "    .dataframe thead th {\n",
       "        text-align: right;\n",
       "    }\n",
       "</style>\n",
       "<table border=\"1\" class=\"dataframe\">\n",
       "  <thead>\n",
       "    <tr style=\"text-align: right;\">\n",
       "      <th></th>\n",
       "      <th>year</th>\n",
       "    </tr>\n",
       "  </thead>\n",
       "  <tbody>\n",
       "    <tr>\n",
       "      <th>0</th>\n",
       "      <td>2022</td>\n",
       "    </tr>\n",
       "    <tr>\n",
       "      <th>1</th>\n",
       "      <td>2020</td>\n",
       "    </tr>\n",
       "    <tr>\n",
       "      <th>2</th>\n",
       "      <td>2018</td>\n",
       "    </tr>\n",
       "    <tr>\n",
       "      <th>3</th>\n",
       "      <td>2016</td>\n",
       "    </tr>\n",
       "    <tr>\n",
       "      <th>4</th>\n",
       "      <td>2014</td>\n",
       "    </tr>\n",
       "    <tr>\n",
       "      <th>5</th>\n",
       "      <td>2012</td>\n",
       "    </tr>\n",
       "    <tr>\n",
       "      <th>6</th>\n",
       "      <td>2010</td>\n",
       "    </tr>\n",
       "    <tr>\n",
       "      <th>7</th>\n",
       "      <td>2008</td>\n",
       "    </tr>\n",
       "    <tr>\n",
       "      <th>8</th>\n",
       "      <td>2006</td>\n",
       "    </tr>\n",
       "    <tr>\n",
       "      <th>9</th>\n",
       "      <td>2004</td>\n",
       "    </tr>\n",
       "    <tr>\n",
       "      <th>10</th>\n",
       "      <td>2002</td>\n",
       "    </tr>\n",
       "    <tr>\n",
       "      <th>11</th>\n",
       "      <td>2000</td>\n",
       "    </tr>\n",
       "    <tr>\n",
       "      <th>12</th>\n",
       "      <td>1998</td>\n",
       "    </tr>\n",
       "    <tr>\n",
       "      <th>13</th>\n",
       "      <td>1996</td>\n",
       "    </tr>\n",
       "    <tr>\n",
       "      <th>14</th>\n",
       "      <td>1994</td>\n",
       "    </tr>\n",
       "    <tr>\n",
       "      <th>15</th>\n",
       "      <td>1992</td>\n",
       "    </tr>\n",
       "    <tr>\n",
       "      <th>17</th>\n",
       "      <td>1988</td>\n",
       "    </tr>\n",
       "    <tr>\n",
       "      <th>19</th>\n",
       "      <td>1984</td>\n",
       "    </tr>\n",
       "    <tr>\n",
       "      <th>21</th>\n",
       "      <td>1980</td>\n",
       "    </tr>\n",
       "    <tr>\n",
       "      <th>23</th>\n",
       "      <td>1976</td>\n",
       "    </tr>\n",
       "    <tr>\n",
       "      <th>25</th>\n",
       "      <td>1972</td>\n",
       "    </tr>\n",
       "    <tr>\n",
       "      <th>27</th>\n",
       "      <td>1968</td>\n",
       "    </tr>\n",
       "    <tr>\n",
       "      <th>29</th>\n",
       "      <td>1964</td>\n",
       "    </tr>\n",
       "    <tr>\n",
       "      <th>31</th>\n",
       "      <td>1960</td>\n",
       "    </tr>\n",
       "    <tr>\n",
       "      <th>33</th>\n",
       "      <td>1956</td>\n",
       "    </tr>\n",
       "    <tr>\n",
       "      <th>35</th>\n",
       "      <td>1952</td>\n",
       "    </tr>\n",
       "    <tr>\n",
       "      <th>37</th>\n",
       "      <td>1948</td>\n",
       "    </tr>\n",
       "    <tr>\n",
       "      <th>39</th>\n",
       "      <td>1936</td>\n",
       "    </tr>\n",
       "    <tr>\n",
       "      <th>41</th>\n",
       "      <td>1932</td>\n",
       "    </tr>\n",
       "    <tr>\n",
       "      <th>43</th>\n",
       "      <td>1928</td>\n",
       "    </tr>\n",
       "    <tr>\n",
       "      <th>45</th>\n",
       "      <td>1924</td>\n",
       "    </tr>\n",
       "    <tr>\n",
       "      <th>47</th>\n",
       "      <td>1920</td>\n",
       "    </tr>\n",
       "    <tr>\n",
       "      <th>48</th>\n",
       "      <td>1912</td>\n",
       "    </tr>\n",
       "    <tr>\n",
       "      <th>49</th>\n",
       "      <td>1908</td>\n",
       "    </tr>\n",
       "    <tr>\n",
       "      <th>50</th>\n",
       "      <td>1904</td>\n",
       "    </tr>\n",
       "    <tr>\n",
       "      <th>51</th>\n",
       "      <td>1900</td>\n",
       "    </tr>\n",
       "    <tr>\n",
       "      <th>52</th>\n",
       "      <td>1896</td>\n",
       "    </tr>\n",
       "  </tbody>\n",
       "</table>\n",
       "</div>"
      ],
      "text/plain": [
       "    year\n",
       "0   2022\n",
       "1   2020\n",
       "2   2018\n",
       "3   2016\n",
       "4   2014\n",
       "5   2012\n",
       "6   2010\n",
       "7   2008\n",
       "8   2006\n",
       "9   2004\n",
       "10  2002\n",
       "11  2000\n",
       "12  1998\n",
       "13  1996\n",
       "14  1994\n",
       "15  1992\n",
       "17  1988\n",
       "19  1984\n",
       "21  1980\n",
       "23  1976\n",
       "25  1972\n",
       "27  1968\n",
       "29  1964\n",
       "31  1960\n",
       "33  1956\n",
       "35  1952\n",
       "37  1948\n",
       "39  1936\n",
       "41  1932\n",
       "43  1928\n",
       "45  1924\n",
       "47  1920\n",
       "48  1912\n",
       "49  1908\n",
       "50  1904\n",
       "51  1900\n",
       "52  1896"
      ]
     },
     "execution_count": 267,
     "metadata": {},
     "output_type": "execute_result"
    }
   ],
   "source": [
    "year"
   ]
  },
  {
   "cell_type": "code",
   "execution_count": 272,
   "id": "36eea0b7-7741-4e07-a48f-2779a9219b2a",
   "metadata": {},
   "outputs": [],
   "source": [
    "medal_sums.columns = [\"medal\",\"year\",\"bronze\",\"gold\",\"silver\"]"
   ]
  },
  {
   "cell_type": "code",
   "execution_count": 279,
   "id": "ff12696a-fdc0-4fe5-bc26-e33304f06558",
   "metadata": {},
   "outputs": [],
   "source": [
    "all_years_countries = pd.MultiIndex.from_product([year[\"year\"], countries_df['country']], names=['year', 'country']).to_frame(index=False)"
   ]
  },
  {
   "cell_type": "code",
   "execution_count": 280,
   "id": "1509b438-f4ba-4216-82f1-8ec885720ff1",
   "metadata": {},
   "outputs": [
    {
     "data": {
      "text/html": [
       "<div>\n",
       "<style scoped>\n",
       "    .dataframe tbody tr th:only-of-type {\n",
       "        vertical-align: middle;\n",
       "    }\n",
       "\n",
       "    .dataframe tbody tr th {\n",
       "        vertical-align: top;\n",
       "    }\n",
       "\n",
       "    .dataframe thead th {\n",
       "        text-align: right;\n",
       "    }\n",
       "</style>\n",
       "<table border=\"1\" class=\"dataframe\">\n",
       "  <thead>\n",
       "    <tr style=\"text-align: right;\">\n",
       "      <th></th>\n",
       "      <th>year</th>\n",
       "      <th>country</th>\n",
       "    </tr>\n",
       "  </thead>\n",
       "  <tbody>\n",
       "    <tr>\n",
       "      <th>0</th>\n",
       "      <td>2022</td>\n",
       "      <td>country</td>\n",
       "    </tr>\n",
       "    <tr>\n",
       "      <th>1</th>\n",
       "      <td>2022</td>\n",
       "      <td>India</td>\n",
       "    </tr>\n",
       "    <tr>\n",
       "      <th>2</th>\n",
       "      <td>2022</td>\n",
       "      <td>China</td>\n",
       "    </tr>\n",
       "    <tr>\n",
       "      <th>3</th>\n",
       "      <td>2022</td>\n",
       "      <td>United States</td>\n",
       "    </tr>\n",
       "    <tr>\n",
       "      <th>4</th>\n",
       "      <td>2022</td>\n",
       "      <td>Indonesia</td>\n",
       "    </tr>\n",
       "    <tr>\n",
       "      <th>...</th>\n",
       "      <td>...</td>\n",
       "      <td>...</td>\n",
       "    </tr>\n",
       "    <tr>\n",
       "      <th>8690</th>\n",
       "      <td>1896</td>\n",
       "      <td>Montserrat</td>\n",
       "    </tr>\n",
       "    <tr>\n",
       "      <th>8691</th>\n",
       "      <td>1896</td>\n",
       "      <td>Falkland Islands</td>\n",
       "    </tr>\n",
       "    <tr>\n",
       "      <th>8692</th>\n",
       "      <td>1896</td>\n",
       "      <td>Niue</td>\n",
       "    </tr>\n",
       "    <tr>\n",
       "      <th>8693</th>\n",
       "      <td>1896</td>\n",
       "      <td>Tokelau</td>\n",
       "    </tr>\n",
       "    <tr>\n",
       "      <th>8694</th>\n",
       "      <td>1896</td>\n",
       "      <td>Vatican City</td>\n",
       "    </tr>\n",
       "  </tbody>\n",
       "</table>\n",
       "<p>8695 rows × 2 columns</p>\n",
       "</div>"
      ],
      "text/plain": [
       "      year           country\n",
       "0     2022           country\n",
       "1     2022             India\n",
       "2     2022             China\n",
       "3     2022     United States\n",
       "4     2022         Indonesia\n",
       "...    ...               ...\n",
       "8690  1896        Montserrat\n",
       "8691  1896  Falkland Islands\n",
       "8692  1896              Niue\n",
       "8693  1896           Tokelau\n",
       "8694  1896      Vatican City\n",
       "\n",
       "[8695 rows x 2 columns]"
      ]
     },
     "execution_count": 280,
     "metadata": {},
     "output_type": "execute_result"
    }
   ],
   "source": [
    "all_years_countries"
   ]
  },
  {
   "cell_type": "code",
   "execution_count": 281,
   "id": "97a8edfc-bb32-4ed6-bcaa-b00b6a17bb24",
   "metadata": {},
   "outputs": [
    {
     "data": {
      "text/html": [
       "<div>\n",
       "<style scoped>\n",
       "    .dataframe tbody tr th:only-of-type {\n",
       "        vertical-align: middle;\n",
       "    }\n",
       "\n",
       "    .dataframe tbody tr th {\n",
       "        vertical-align: top;\n",
       "    }\n",
       "\n",
       "    .dataframe thead th {\n",
       "        text-align: right;\n",
       "    }\n",
       "</style>\n",
       "<table border=\"1\" class=\"dataframe\">\n",
       "  <thead>\n",
       "    <tr style=\"text-align: right;\">\n",
       "      <th></th>\n",
       "      <th>medal</th>\n",
       "      <th>year</th>\n",
       "      <th>bronze</th>\n",
       "      <th>gold</th>\n",
       "      <th>silver</th>\n",
       "    </tr>\n",
       "  </thead>\n",
       "  <tbody>\n",
       "    <tr>\n",
       "      <th>0</th>\n",
       "      <td>1896</td>\n",
       "      <td>Australia</td>\n",
       "      <td>0</td>\n",
       "      <td>2</td>\n",
       "      <td>0</td>\n",
       "    </tr>\n",
       "    <tr>\n",
       "      <th>1</th>\n",
       "      <td>1896</td>\n",
       "      <td>Austria</td>\n",
       "      <td>2</td>\n",
       "      <td>2</td>\n",
       "      <td>1</td>\n",
       "    </tr>\n",
       "    <tr>\n",
       "      <th>2</th>\n",
       "      <td>1896</td>\n",
       "      <td>Denmark</td>\n",
       "      <td>3</td>\n",
       "      <td>1</td>\n",
       "      <td>2</td>\n",
       "    </tr>\n",
       "    <tr>\n",
       "      <th>3</th>\n",
       "      <td>1896</td>\n",
       "      <td>France</td>\n",
       "      <td>2</td>\n",
       "      <td>5</td>\n",
       "      <td>4</td>\n",
       "    </tr>\n",
       "    <tr>\n",
       "      <th>4</th>\n",
       "      <td>1896</td>\n",
       "      <td>Germany</td>\n",
       "      <td>2</td>\n",
       "      <td>6</td>\n",
       "      <td>5</td>\n",
       "    </tr>\n",
       "    <tr>\n",
       "      <th>...</th>\n",
       "      <td>...</td>\n",
       "      <td>...</td>\n",
       "      <td>...</td>\n",
       "      <td>...</td>\n",
       "      <td>...</td>\n",
       "    </tr>\n",
       "    <tr>\n",
       "      <th>1561</th>\n",
       "      <td>2022</td>\n",
       "      <td>Spain</td>\n",
       "      <td>0</td>\n",
       "      <td>0</td>\n",
       "      <td>1</td>\n",
       "    </tr>\n",
       "    <tr>\n",
       "      <th>1562</th>\n",
       "      <td>2022</td>\n",
       "      <td>Sweden</td>\n",
       "      <td>6</td>\n",
       "      <td>8</td>\n",
       "      <td>6</td>\n",
       "    </tr>\n",
       "    <tr>\n",
       "      <th>1563</th>\n",
       "      <td>2022</td>\n",
       "      <td>Switzerland</td>\n",
       "      <td>5</td>\n",
       "      <td>7</td>\n",
       "      <td>2</td>\n",
       "    </tr>\n",
       "    <tr>\n",
       "      <th>1564</th>\n",
       "      <td>2022</td>\n",
       "      <td>Ukraine</td>\n",
       "      <td>0</td>\n",
       "      <td>0</td>\n",
       "      <td>1</td>\n",
       "    </tr>\n",
       "    <tr>\n",
       "      <th>1565</th>\n",
       "      <td>2022</td>\n",
       "      <td>United States of America</td>\n",
       "      <td>9</td>\n",
       "      <td>9</td>\n",
       "      <td>10</td>\n",
       "    </tr>\n",
       "  </tbody>\n",
       "</table>\n",
       "<p>1566 rows × 5 columns</p>\n",
       "</div>"
      ],
      "text/plain": [
       "      medal                      year  bronze  gold  silver\n",
       "0      1896                 Australia       0     2       0\n",
       "1      1896                   Austria       2     2       1\n",
       "2      1896                   Denmark       3     1       2\n",
       "3      1896                    France       2     5       4\n",
       "4      1896                   Germany       2     6       5\n",
       "...     ...                       ...     ...   ...     ...\n",
       "1561   2022                     Spain       0     0       1\n",
       "1562   2022                    Sweden       6     8       6\n",
       "1563   2022               Switzerland       5     7       2\n",
       "1564   2022                   Ukraine       0     0       1\n",
       "1565   2022  United States of America       9     9      10\n",
       "\n",
       "[1566 rows x 5 columns]"
      ]
     },
     "execution_count": 281,
     "metadata": {},
     "output_type": "execute_result"
    }
   ],
   "source": [
    "medal_sums"
   ]
  },
  {
   "cell_type": "code",
   "execution_count": null,
   "id": "c5722314-3faa-4537-a9a6-a7cf4c0bff00",
   "metadata": {},
   "outputs": [],
   "source": []
  }
 ],
 "metadata": {
  "kernelspec": {
   "display_name": "Python 3 (ipykernel)",
   "language": "python",
   "name": "python3"
  },
  "language_info": {
   "codemirror_mode": {
    "name": "ipython",
    "version": 3
   },
   "file_extension": ".py",
   "mimetype": "text/x-python",
   "name": "python",
   "nbconvert_exporter": "python",
   "pygments_lexer": "ipython3",
   "version": "3.10.12"
  }
 },
 "nbformat": 4,
 "nbformat_minor": 5
}
