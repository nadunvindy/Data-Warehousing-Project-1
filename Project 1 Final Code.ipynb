{
 "cells": [
  {
   "cell_type": "code",
   "execution_count": 1,
   "id": "fb79fff6-2467-4014-a5bf-30ab8b7079ec",
   "metadata": {},
   "outputs": [],
   "source": [
    "import psycopg2 #import the PostgreSQL adapter\n",
    "import pandas as pd #Used for data analysis and manipilation\n",
    "from sqlalchemy import create_engine #function to vreat a database engine\n",
    "import numpy as np #For array manipulation\n",
    "from psycopg2 import OperationalError\n",
    "import re #python string library"
   ]
  },
  {
   "cell_type": "code",
   "execution_count": 2,
   "id": "f2281292-86d5-4cef-a654-29f7eea69a69",
   "metadata": {},
   "outputs": [],
   "source": [
    "def create_connection(db_name, db_user, db_password, db_host, db_port): #Python function to create a connection to PostgreSQL server. (Reused from Data Warehousing Lab3)\n",
    "    connection = None\n",
    "    try:\n",
    "        connection = psycopg2.connect(\n",
    "            database=db_name,\n",
    "            user=db_user,\n",
    "            password=db_password,\n",
    "            host=db_host,\n",
    "            port=db_port,\n",
    "        )\n",
    "        print(\"Connection to PostgreSQL DB successful\")\n",
    "    except OperationalError as e:\n",
    "        print(f\"The error '{e}' occurred\")\n",
    "    return connection\n"
   ]
  },
  {
   "cell_type": "code",
   "execution_count": 3,
   "id": "716234aa-d4c6-4421-8a94-976ffffaf4a6",
   "metadata": {},
   "outputs": [],
   "source": [
    "db_name = \"Project1\"  #database parameters\n",
    "db_user = \"postgres\"\n",
    "db_password = \"postgres\"  \n",
    "db_host = \"localhost\"  \n",
    "db_port = \"5432\"\n",
    "db_server = \"dw_2024\""
   ]
  },
  {
   "cell_type": "code",
   "execution_count": 4,
   "id": "b6b13cc7-3162-4c9e-b1e6-2187080ac70b",
   "metadata": {},
   "outputs": [
    {
     "name": "stdout",
     "output_type": "stream",
     "text": [
      "Connection to PostgreSQL DB successful\n"
     ]
    }
   ],
   "source": [
    "connection = create_connection(db_name, db_user, db_password, db_host, db_port)  #Create connection to the PostgreSQL server function"
   ]
  },
  {
   "cell_type": "code",
   "execution_count": 5,
   "id": "3dd471ef-4b00-4fb5-b857-f646b2e0f2f8",
   "metadata": {},
   "outputs": [],
   "source": [
    "cursor = connection.cursor() #Cursor allow python code to execute PostgreSQL command in a database session"
   ]
  },
  {
   "cell_type": "code",
   "execution_count": 6,
   "id": "6f66d749-e82e-4fea-abb4-865f01702058",
   "metadata": {},
   "outputs": [],
   "source": [
    "connection_string = f\"postgresql+psycopg2://{db_user}:{db_password}@{db_host}:{db_port}/{db_name}\" #connection string to the database\n",
    "engine = create_engine(connection_string) #Create engine for the database"
   ]
  },
  {
   "cell_type": "code",
   "execution_count": 7,
   "id": "020ef148-e91d-4698-8e7e-a5686d5f3d43",
   "metadata": {},
   "outputs": [],
   "source": [
    "countries_df = pd.read_csv(\"./list-of-countries_areas-by-continent-2024.csv\", header=None)"
   ]
  },
  {
   "cell_type": "code",
   "execution_count": 8,
   "id": "24df73ca-45b8-4037-b15c-1698b546f1e1",
   "metadata": {},
   "outputs": [],
   "source": [
    "countries_df.columns = [\"country\", \"continent\"]"
   ]
  },
  {
   "cell_type": "code",
   "execution_count": 9,
   "id": "3be2490b-8b13-4d1b-a74b-3bc8af649ce6",
   "metadata": {},
   "outputs": [],
   "source": [
    "hosts_df = pd.read_csv(\"./olympic_hosts.csv\", header=0)"
   ]
  },
  {
   "cell_type": "code",
   "execution_count": 10,
   "id": "32cdf73b-89ad-4b4e-9f87-09ee80392b7c",
   "metadata": {},
   "outputs": [],
   "source": [
    "hosts_df.columns = [\"hostid\", \"enddate\", \"startdate\",\"location\",\"name\",\"season\",\"year\"]"
   ]
  },
  {
   "cell_type": "code",
   "execution_count": 11,
   "id": "2961ddc6-144b-456f-a020-c3d6916ef733",
   "metadata": {},
   "outputs": [],
   "source": [
    "lifeexp_df = pd.read_csv(\"./life-expectancy.csv\", header=0)"
   ]
  },
  {
   "cell_type": "code",
   "execution_count": 12,
   "id": "5e1f7d19-4685-41eb-8d0a-4cf2f4d01cc3",
   "metadata": {},
   "outputs": [],
   "source": [
    "lifeexp_df.columns= [\"country\",\"code\",\"year\",\"lifeexpectancy\"]"
   ]
  },
  {
   "cell_type": "code",
   "execution_count": 13,
   "id": "ab08178d-32db-4974-b695-46d083d2538b",
   "metadata": {},
   "outputs": [],
   "source": [
    "medals_df = pd.read_csv(\"./olympic_medals.csv\", header=0)"
   ]
  },
  {
   "cell_type": "code",
   "execution_count": 14,
   "id": "3cc152e7-a335-4f42-93ff-994da15853b3",
   "metadata": {},
   "outputs": [],
   "source": [
    "medals_df.columns = [\"discipline\",\"year\",\"event\",\"gender\",\"medal\",\"participanttype\",\"participanttitle\",\"url\",\"name\",\"country\",\"code\",\"code3\"]"
   ]
  },
  {
   "cell_type": "code",
   "execution_count": 15,
   "id": "f630f91f-f72c-49cd-8b58-ab3ec82da825",
   "metadata": {},
   "outputs": [],
   "source": [
    "mental_df = pd.read_csv(\"./mental-illness.csv\",header=0)"
   ]
  },
  {
   "cell_type": "code",
   "execution_count": 16,
   "id": "21d4cec6-a34f-4465-8b10-2e29739cbe38",
   "metadata": {},
   "outputs": [],
   "source": [
    "mental_df.columns = [\"country\",\"code\",\"year\",\"depression\",\"schizophrenia\",\"bipolar\",\"eatingdisorder\",\"anxiety\"]"
   ]
  },
  {
   "cell_type": "code",
   "execution_count": 17,
   "id": "2d0e49a1-ceb7-4dae-8e62-bed6e9a0d927",
   "metadata": {},
   "outputs": [],
   "source": [
    "economic_df = pd.read_csv(\"./Economic data.csv\",header=0)"
   ]
  },
  {
   "cell_type": "code",
   "execution_count": 18,
   "id": "d195a29d-da08-4c2e-9e6a-916dff34869d",
   "metadata": {},
   "outputs": [],
   "source": [
    "economic_df.columns = [\"year\", \"yearcode\", \"country\", \"code\", \"poverty\", \"gdpcap\", \"gdpgrowth\", \"intsrv\",\"mort\", \"hlthexp\", \"govhlthcap\", \"prvhlthcap\", \"exthlthcap\"]"
   ]
  },
  {
   "cell_type": "code",
   "execution_count": 19,
   "id": "3b49a835-2b6e-4395-9f9a-b6ac115024f8",
   "metadata": {},
   "outputs": [],
   "source": [
    "population_df = pd.read_csv(\"./Global Population.csv\",header=0,encoding='ISO-8859-1')"
   ]
  },
  {
   "cell_type": "code",
   "execution_count": 20,
   "id": "711a2441-edf2-46ea-8c6f-a1ab86f65ca8",
   "metadata": {},
   "outputs": [],
   "source": [
    "#Data Cleaning"
   ]
  },
  {
   "cell_type": "code",
   "execution_count": 21,
   "id": "54d1af5a-1c50-48d4-9317-9b3744ac9957",
   "metadata": {},
   "outputs": [],
   "source": [
    "hosts_df['enddate'] = pd.to_datetime(hosts_df['enddate'], format='%Y-%m-%dT%H:%M:%SZ') #Convert the start times to datetime format\n",
    "hosts_df['startdate'] = pd.to_datetime(hosts_df['startdate'], format='%Y-%m-%dT%H:%M:%SZ') #Convert the end times to datetime format"
   ]
  },
  {
   "cell_type": "code",
   "execution_count": 22,
   "id": "bd8589bc-4aba-4362-9042-cc8c3e817cb8",
   "metadata": {},
   "outputs": [],
   "source": [
    "lifeexp_df = lifeexp_df.dropna() #lifeexpectancy has continents with na country codes which will not be required so they are dropped from the dataframe"
   ]
  },
  {
   "cell_type": "code",
   "execution_count": 23,
   "id": "c0e0f380-387c-45ae-b2dc-1fd889baf195",
   "metadata": {},
   "outputs": [],
   "source": [
    "medals_df=medals_df.dropna() #mental illness dataframe has rows with no counntry codes that are regions and continents which will be dropped from the dataframe"
   ]
  },
  {
   "cell_type": "code",
   "execution_count": 24,
   "id": "d21d27dd-7dd3-4dd0-a0bc-c2cdc8139141",
   "metadata": {},
   "outputs": [],
   "source": [
    "economic_df['poverty'] = economic_df['poverty'].replace('..', np.nan) #In each column in the economy data frame there are strings \"..\" for values with no data which will be replace with NaN \n",
    "economic_df['gdpcap'] = economic_df['gdpcap'].replace('..', np.nan)\n",
    "economic_df['gdpgrowth'] = economic_df['gdpgrowth'].replace('..', np.nan)\n",
    "economic_df['intsrv'] = economic_df['intsrv'].replace('..', np.nan)\n",
    "economic_df['mort'] = economic_df['mort'].replace('..', np.nan)\n",
    "economic_df['hlthexp'] = economic_df['hlthexp'].replace('..', np.nan)\n",
    "economic_df['govhlthcap'] = economic_df['govhlthcap'].replace('..', np.nan)\n",
    "economic_df['prvhlthcap'] = economic_df['prvhlthcap'].replace('..', np.nan)\n",
    "economic_df['exthlthcap'] = economic_df['exthlthcap'].replace('..', np.nan)"
   ]
  },
  {
   "cell_type": "code",
   "execution_count": 25,
   "id": "303a0561-fae1-4f1c-8df0-6019912a7d9f",
   "metadata": {},
   "outputs": [],
   "source": [
    "economic_df=economic_df[0:-5] # Last five rows are invalid rows containing info about the data and spaces in the csv file"
   ]
  },
  {
   "cell_type": "code",
   "execution_count": 26,
   "id": "3095b629-4ed8-4519-9b48-df0264503c43",
   "metadata": {},
   "outputs": [],
   "source": [
    "economic_df[\"year\"] = economic_df[\"year\"].astype(int) #Convert year to int"
   ]
  },
  {
   "cell_type": "code",
   "execution_count": 27,
   "id": "14f271d1-be32-479b-a676-e9d1e4f2283c",
   "metadata": {},
   "outputs": [],
   "source": [
    "population_df = pd.melt(population_df, id_vars=[\"Population (Millions of people)\"], var_name=\"Year\", value_name=\"Population\")"
   ]
  },
  {
   "cell_type": "code",
   "execution_count": 28,
   "id": "8e39a279-8676-4b80-8c0e-1faa95a3f433",
   "metadata": {},
   "outputs": [],
   "source": [
    "population_df['Population'] = population_df['Population'].replace('no data', np.nan)"
   ]
  },
  {
   "cell_type": "code",
   "execution_count": 29,
   "id": "c7d2b610-8a24-4597-a5fc-564118307988",
   "metadata": {},
   "outputs": [],
   "source": [
    "population_df.columns = [\"country\",\"year\",\"population\"]"
   ]
  },
  {
   "cell_type": "code",
   "execution_count": 30,
   "id": "f6a40647-fddf-4035-a12d-0e583ff4d44f",
   "metadata": {},
   "outputs": [],
   "source": [
    "def extract_year(value):\n",
    "    year_pattern = r'\\b(18|19|20)\\d{2}\\b'\n",
    "    match = re.search(year_pattern, value)\n",
    "    if match:\n",
    "        return int(match.group(0))  # Convert the matched year to an integer\n",
    "    else:\n",
    "        return None \n",
    "        \n",
    "medals_df['year'] = medals_df['year'].apply(extract_year)  #To obtain the year from the title event."
   ]
  },
  {
   "cell_type": "code",
   "execution_count": 31,
   "id": "6b6cdc58-db7d-499c-81c7-603ce81944ba",
   "metadata": {},
   "outputs": [],
   "source": [
    "medals_df = medals_df.drop(columns=[\"code\"]) #To drop the coutnry code with only two characters as standard and other tables follow the three letter structure"
   ]
  },
  {
   "cell_type": "code",
   "execution_count": 32,
   "id": "6d2b3c42-a04a-4a0c-93c0-7dcc98edb4c2",
   "metadata": {},
   "outputs": [],
   "source": [
    "medals_df = medals_df.rename(columns={\"code3\":\"code\"}) #Rename column to code"
   ]
  },
  {
   "cell_type": "code",
   "execution_count": 33,
   "id": "bf9e2c1a-a7ac-40d2-ac8d-d4771d503450",
   "metadata": {},
   "outputs": [],
   "source": [
    "olympic_countries = set(medals_df['country'].unique()) #To find countries that have similar names.\n",
    "list_countries = set(countries_df['country'].unique())"
   ]
  },
  {
   "cell_type": "code",
   "execution_count": 34,
   "id": "b7990aae-efc1-48f6-8e5d-b909bc399707",
   "metadata": {},
   "outputs": [],
   "source": [
    "name_mapping = {\n",
    "    \"Great Britain\": \"United Kingdom\",\n",
    "    \"United States of America\": \"United States\",\n",
    "    \"People's Republic of China\": \"China\",\n",
    "    \"Republic of Korea\": \"South Korea\",\n",
    "    \"Democratic People's Republic of Korea\": \"North Korea\",\n",
    "    \"Russian Federation\": \"Russia\",\n",
    "    \"Republic of Moldova\": \"Moldova\",\n",
    "    \"Islamic Republic of Iran\": \"Iran\",\n",
    "    \"Syrian Arab Republic\": \"Syria\",\n",
    "    \"United Republic of Tanzania\": \"Tanzania\",\n",
    "    \"Hong Kong, China\": \"Hong Kong\",\n",
    "    \"Virgin Islands, US\": \"United States Virgin Islands\",\n",
    "    \"Côte d'Ivoire\": \"Ivory Coast\",\n",
    "    # Special cases handled individually\n",
    "    \"Chinese Taipei\": \"Taiwan\",  # Taiwan is often referred to as Chinese Taipei in international sports\n",
    "    \"Kosovo\": \"Kosovo\",  # May not be in some lists due to political recognition issues\n",
    "}"
   ]
  },
  {
   "cell_type": "code",
   "execution_count": 35,
   "id": "9efec5b1-0cce-433e-b3a5-44177dd3fddd",
   "metadata": {},
   "outputs": [],
   "source": [
    "medals_df['country'] = medals_df['country'].map(name_mapping).fillna(medals_df['country']) #Change the name of countries so that it is the same in both countries"
   ]
  },
  {
   "cell_type": "code",
   "execution_count": 36,
   "id": "c5a26b0e-40b3-41c0-8bdf-5d8fea3986e2",
   "metadata": {},
   "outputs": [],
   "source": [
    "entities_to_remove = [\n",
    "    'ROC',\n",
    "    'Olympic Athletes from Russia',\n",
    "    'Independent Olympic Athletes',\n",
    "    'Serbia and Montenegro',\n",
    "    'Unified Team',\n",
    "    'Czechoslovakia',\n",
    "    'Federal Republic of Germany',\n",
    "    'Soviet Union',\n",
    "    'German Democratic Republic (Germany)',\n",
    "    'Yugoslavia',\n",
    "    'Netherlands Antilles',\n",
    "    'West Indies Federation',\n",
    "    'United Arab Republic',\n",
    "    'Australasia',\n",
    "    'Bohemia',\n",
    "    'MIX'\n",
    "]"
   ]
  },
  {
   "cell_type": "code",
   "execution_count": 37,
   "id": "15dbc532-9700-44ab-935a-8d02a8dc8fe6",
   "metadata": {},
   "outputs": [],
   "source": [
    "medals_df = medals_df[~medals_df['country'].isin(entities_to_remove)] #Remove non countries"
   ]
  },
  {
   "cell_type": "code",
   "execution_count": 38,
   "id": "7dd377bb-8c85-4cdb-b9bf-81cd7673a487",
   "metadata": {},
   "outputs": [],
   "source": [
    "#Create SQL tables in the PostgreSQL database and upload the data from the dataframes to the tables"
   ]
  },
  {
   "cell_type": "code",
   "execution_count": 39,
   "id": "98118b9a-da61-436b-9f00-a360d69705a5",
   "metadata": {},
   "outputs": [],
   "source": [
    "cursor.execute(\"CREATE TABLE dimcountries (country VARCHAR(255) NOT NULL PRIMARY KEY, continent VARCHAR(255) NOT NULL);\")"
   ]
  },
  {
   "cell_type": "code",
   "execution_count": 40,
   "id": "c3068dbc-4170-49c9-b6bf-ba32d8476b1f",
   "metadata": {},
   "outputs": [],
   "source": [
    "connection.commit()"
   ]
  },
  {
   "cell_type": "code",
   "execution_count": 41,
   "id": "ebfe1641-a5a7-482d-8bc5-af62cd0cd9fc",
   "metadata": {},
   "outputs": [
    {
     "data": {
      "text/plain": [
       "235"
      ]
     },
     "execution_count": 41,
     "metadata": {},
     "output_type": "execute_result"
    }
   ],
   "source": [
    "countries_df.to_sql(\"dimcountries\", con=engine, if_exists=\"append\", index=False)"
   ]
  },
  {
   "cell_type": "code",
   "execution_count": 42,
   "id": "83720cbc-8e96-4dfc-8361-9f01412acd69",
   "metadata": {},
   "outputs": [],
   "source": [
    "cursor.execute(\"CREATE TABLE economic (year INT NOT NULL, yearcode VARCHAR(255) NOT NULL, country VARCHAR(255) NOT NULL, code VARCHAR(3) NOT NULL,poverty FLOAT,gdpcap FLOAT,gdpgrowth FLOAT,intsrv FLOAT, mort FLOAT, hlthexp FLOAT, govhlthcap FLOAT, prvhlthcap FLOAT, exthlthcap FLOAT);\")"
   ]
  },
  {
   "cell_type": "code",
   "execution_count": 43,
   "id": "2cc58aee-92e6-4d71-b9e6-fcd5e9a80eaa",
   "metadata": {},
   "outputs": [],
   "source": [
    "connection.commit()"
   ]
  },
  {
   "cell_type": "code",
   "execution_count": 44,
   "id": "337e1e28-1f57-4778-9bf4-aa34f9062270",
   "metadata": {},
   "outputs": [
    {
     "data": {
      "text/plain": [
       "200"
      ]
     },
     "execution_count": 44,
     "metadata": {},
     "output_type": "execute_result"
    }
   ],
   "source": [
    "economic_df.to_sql(\"economic\", con=engine, if_exists=\"append\", index=False)"
   ]
  },
  {
   "cell_type": "code",
   "execution_count": 45,
   "id": "1ba61b73-e06a-4b62-ae4a-48ef78c6bca5",
   "metadata": {},
   "outputs": [],
   "source": [
    "cursor.execute(\"CREATE TABLE population (country VARCHAR(255), year INT NOT NULL, population FLOAT);\")"
   ]
  },
  {
   "cell_type": "code",
   "execution_count": 46,
   "id": "b94bb6bd-e99e-4d66-bde2-e9e60f20c64c",
   "metadata": {},
   "outputs": [],
   "source": [
    "connection.commit()"
   ]
  },
  {
   "cell_type": "code",
   "execution_count": 47,
   "id": "e8e801b8-ea96-4b36-b164-c43e3fa3fe70",
   "metadata": {},
   "outputs": [
    {
     "data": {
      "text/plain": [
       "319"
      ]
     },
     "execution_count": 47,
     "metadata": {},
     "output_type": "execute_result"
    }
   ],
   "source": [
    "population_df.to_sql(\"population\", con=engine, if_exists=\"append\", index=False)"
   ]
  },
  {
   "cell_type": "code",
   "execution_count": 48,
   "id": "d81c67e5-6022-4714-9e9e-3d5186c80bf3",
   "metadata": {},
   "outputs": [],
   "source": [
    "cursor.execute(\"ROLLBACK\")"
   ]
  },
  {
   "cell_type": "code",
   "execution_count": 49,
   "id": "ffaa5d58-92c0-4806-92d1-ac6ada2f0e56",
   "metadata": {},
   "outputs": [],
   "source": [
    "cursor.execute(\"CREATE TABLE lifeexp  (country VARCHAR(255) NOT NULL, code VARCHAR(255) NOT NULL, year INT NOT NULL, lifeexpectancy FLOAT);\")"
   ]
  },
  {
   "cell_type": "code",
   "execution_count": 50,
   "id": "bf27d608-dc17-4870-b379-d1d7ff8344eb",
   "metadata": {},
   "outputs": [],
   "source": [
    "connection.commit()"
   ]
  },
  {
   "cell_type": "code",
   "execution_count": 51,
   "id": "dcce5777-28d2-45b3-b6a4-887044777bfc",
   "metadata": {},
   "outputs": [
    {
     "data": {
      "text/plain": [
       "61"
      ]
     },
     "execution_count": 51,
     "metadata": {},
     "output_type": "execute_result"
    }
   ],
   "source": [
    "lifeexp_df.to_sql(\"lifeexp\", con=engine, if_exists=\"append\", index=False)"
   ]
  },
  {
   "cell_type": "code",
   "execution_count": 52,
   "id": "3e9fda1d-df8a-4a67-bfdd-4691d2346d96",
   "metadata": {},
   "outputs": [],
   "source": [
    "cursor.execute(\"CREATE TABLE millness  (country VARCHAR(255) NOT NULL, code VARCHAR(255), year INT NOT NULL, depression FLOAT, schizophrenia FLOAT, bipolar FLOAT, eatingdisorder FLOAT, anxiety FLOAT);\")"
   ]
  },
  {
   "cell_type": "code",
   "execution_count": 53,
   "id": "5faf13b4-a6e5-431e-b200-ff0666931a72",
   "metadata": {},
   "outputs": [],
   "source": [
    "connection.commit()"
   ]
  },
  {
   "cell_type": "code",
   "execution_count": 54,
   "id": "ce5deb52-eeaa-4dc0-8fab-da1f7ca99221",
   "metadata": {},
   "outputs": [
    {
     "data": {
      "text/plain": [
       "840"
      ]
     },
     "execution_count": 54,
     "metadata": {},
     "output_type": "execute_result"
    }
   ],
   "source": [
    "mental_df.to_sql(\"millness\", con=engine, if_exists=\"append\", index=False)"
   ]
  },
  {
   "cell_type": "code",
   "execution_count": 55,
   "id": "68ed9e22-8b6d-4a21-9a7f-ae43b3fc0753",
   "metadata": {},
   "outputs": [],
   "source": [
    "cursor.execute(\"CREATE TABLE hosts  (hostid VARCHAR(255) NOT NULL PRIMARY KEY, enddate TIMESTAMP WITH TIME ZONE, startdate TIMESTAMP WITH TIME ZONE, location VARCHAR(255), name\t VARCHAR(255), season VARCHAR(255), year INT);\")"
   ]
  },
  {
   "cell_type": "code",
   "execution_count": 56,
   "id": "c5bf836e-b016-4364-a7b2-499547c475a1",
   "metadata": {},
   "outputs": [],
   "source": [
    "connection.commit()"
   ]
  },
  {
   "cell_type": "code",
   "execution_count": 57,
   "id": "482e5504-33d7-4207-a53e-e273848b4238",
   "metadata": {},
   "outputs": [
    {
     "data": {
      "text/plain": [
       "53"
      ]
     },
     "execution_count": 57,
     "metadata": {},
     "output_type": "execute_result"
    }
   ],
   "source": [
    "hosts_df.to_sql(\"hosts\", con=engine, if_exists=\"append\", index=False)"
   ]
  },
  {
   "cell_type": "code",
   "execution_count": 58,
   "id": "0031a127-1917-43ee-9fb2-e53e72490918",
   "metadata": {},
   "outputs": [],
   "source": [
    "cursor.execute(\"CREATE TABLE medals (discipline VARCHAR(255), year INT NOT NULL, event VARCHAR(255), gender VARCHAR(255), medal VARCHAR(255), participanttype VARCHAR(255),participanttitle VARCHAR(255), url VARCHAR(255),name VARCHAR(255), country VARCHAR(255), code VARCHAR(255));\")"
   ]
  },
  {
   "cell_type": "code",
   "execution_count": 59,
   "id": "3e07a858-f56b-436e-80e5-0cbe9a0470d0",
   "metadata": {},
   "outputs": [],
   "source": [
    "connection.commit()"
   ]
  },
  {
   "cell_type": "code",
   "execution_count": 60,
   "id": "ace80de7-a1f6-4e6f-920a-883159ca6599",
   "metadata": {},
   "outputs": [
    {
     "data": {
      "text/plain": [
       "465"
      ]
     },
     "execution_count": 60,
     "metadata": {},
     "output_type": "execute_result"
    }
   ],
   "source": [
    "medals_df.to_sql(\"medals\",con=engine,if_exists=\"append\", index=False)"
   ]
  },
  {
   "cell_type": "code",
   "execution_count": 61,
   "id": "161c43c3-0371-48ff-b840-884bba80b936",
   "metadata": {},
   "outputs": [],
   "source": [
    "#Creating the facttable and dimension tables"
   ]
  },
  {
   "cell_type": "code",
   "execution_count": 62,
   "id": "587eb919-f375-4021-a256-35043b3c9529",
   "metadata": {},
   "outputs": [],
   "source": [
    "#For the facttable my columns are factid,country,year,sum of bronze for that year, sum of silver for that year, sum of gold for that year, mental health statistics"
   ]
  },
  {
   "cell_type": "code",
   "execution_count": 63,
   "id": "b883c526-c701-47a5-b713-ce387281855e",
   "metadata": {},
   "outputs": [],
   "source": [
    "medal_sums = medals_df.groupby(['year', 'country', 'medal']).size().unstack(fill_value=0).reset_index() #Group the table by type of medals"
   ]
  },
  {
   "cell_type": "code",
   "execution_count": 64,
   "id": "18093a2e-3779-42a4-b74f-7d044238ec1b",
   "metadata": {},
   "outputs": [],
   "source": [
    "medal_sums[\"total\"] = medal_sums[\"BRONZE\"] +  medal_sums[\"GOLD\"] +  medal_sums[\"SILVER\"] #Add total column for medals"
   ]
  },
  {
   "cell_type": "code",
   "execution_count": 65,
   "id": "4d1ab728-c7f8-4e91-88ad-65195c9c0cbc",
   "metadata": {},
   "outputs": [],
   "source": [
    "medal_sums.columns = [\"year\",\"country\",\"bronze\",\"gold\",\"silver\",\"total\"]"
   ]
  },
  {
   "cell_type": "code",
   "execution_count": 66,
   "id": "fbed05e0-545a-4e9e-af01-11bcc4a13c37",
   "metadata": {},
   "outputs": [],
   "source": [
    "years = hosts_df.drop_duplicates()  #To grab all the years the olympics were held"
   ]
  },
  {
   "cell_type": "code",
   "execution_count": 67,
   "id": "2141ca17-2b75-4374-a483-4ef5421df731",
   "metadata": {},
   "outputs": [],
   "source": [
    "years = hosts_df[\"year\"]"
   ]
  },
  {
   "cell_type": "code",
   "execution_count": 68,
   "id": "598e6356-86d7-4eb1-9d78-1d287f8be1f3",
   "metadata": {},
   "outputs": [],
   "source": [
    "year = pd.DataFrame(data = hosts_df[\"year\"],columns=[\"year\"])"
   ]
  },
  {
   "cell_type": "code",
   "execution_count": 69,
   "id": "4af91427-117f-4b97-8b83-fe0793aca742",
   "metadata": {},
   "outputs": [],
   "source": [
    "year = year.drop_duplicates()"
   ]
  },
  {
   "cell_type": "code",
   "execution_count": 71,
   "id": "ff12696a-fdc0-4fe5-bc26-e33304f06558",
   "metadata": {},
   "outputs": [],
   "source": [
    "all_years_countries = pd.MultiIndex.from_product([year[\"year\"], countries_df['country'].drop_duplicates()], names=['year', 'country']).to_frame(index=False) #Create a comnonation of all countires and olympic years."
   ]
  },
  {
   "cell_type": "code",
   "execution_count": 72,
   "id": "b67bafcb-8e87-4e16-974c-82f62b7dfd6e",
   "metadata": {},
   "outputs": [],
   "source": [
    "medal_sums = pd.merge(all_years_countries, medal_sums, on=['year', 'country'], how='inner') #Merge table with medals group table"
   ]
  },
  {
   "cell_type": "code",
   "execution_count": 73,
   "id": "62ab18ee-1dd0-46cf-a92a-1edd08e1e24c",
   "metadata": {},
   "outputs": [],
   "source": [
    "medal_sums = medal_sums.fillna(0)"
   ]
  },
  {
   "cell_type": "code",
   "execution_count": 74,
   "id": "fa3239a8-2bb1-4652-a6f4-02232cb92dc6",
   "metadata": {},
   "outputs": [],
   "source": [
    "medal_sums[\"bronze\"] = medal_sums[\"bronze\"].astype(int)"
   ]
  },
  {
   "cell_type": "code",
   "execution_count": 75,
   "id": "a1aa70dc-65b3-4ca7-b7d1-e8b3c222acb8",
   "metadata": {},
   "outputs": [],
   "source": [
    "medal_sums[\"gold\"] = medal_sums[\"gold\"].astype(int)"
   ]
  },
  {
   "cell_type": "code",
   "execution_count": 76,
   "id": "a33ce284-b3bf-44aa-b660-adc547eb5710",
   "metadata": {},
   "outputs": [],
   "source": [
    "medal_sums[\"silver\"] = medal_sums[\"silver\"].astype(int)"
   ]
  },
  {
   "cell_type": "code",
   "execution_count": 77,
   "id": "030a9f4b-6c72-414f-b3bc-505f12b36787",
   "metadata": {},
   "outputs": [],
   "source": [
    "medal_sums[\"total\"] = medal_sums[\"total\"].astype(int)"
   ]
  },
  {
   "cell_type": "code",
   "execution_count": 79,
   "id": "094479cb-8ce8-464d-a7af-5042c66fc987",
   "metadata": {},
   "outputs": [],
   "source": [
    "facttable = pd.merge(medal_sums, mental_df.drop('code',axis=1 ), on=['year', 'country'], how='inner') #Merge table with mental_illness table"
   ]
  },
  {
   "cell_type": "code",
   "execution_count": 80,
   "id": "d89a7b57-595d-4145-98e2-99d904335e34",
   "metadata": {},
   "outputs": [],
   "source": [
    "facttable = facttable.drop_duplicates()"
   ]
  },
  {
   "cell_type": "code",
   "execution_count": 81,
   "id": "02a6ae3e-1af1-4758-895a-747fc8eb7891",
   "metadata": {},
   "outputs": [],
   "source": [
    "cursor.execute(\"CREATE TABLE factolympic ( year INT, country VARCHAR(255), bronze INT,silver INT, gold INT,total INT,depression FLOAT, schizophrenia FLOAT, bipolar FLOAT, eatingdisorder FLOAT,anxiety FLOAT, PRIMARY KEY(year,country) );\")"
   ]
  },
  {
   "cell_type": "code",
   "execution_count": 82,
   "id": "b5cfea9a-1cdb-4f63-9ce4-27e9bc510fb5",
   "metadata": {},
   "outputs": [],
   "source": [
    "connection.commit()"
   ]
  },
  {
   "cell_type": "code",
   "execution_count": 83,
   "id": "25f2c979-a3e4-44f0-b9f2-c81b5ae07237",
   "metadata": {},
   "outputs": [
    {
     "data": {
      "text/plain": [
       "266"
      ]
     },
     "execution_count": 83,
     "metadata": {},
     "output_type": "execute_result"
    }
   ],
   "source": [
    "facttable.to_sql(\"factolympic\", con=engine, if_exists=\"append\", index=False)"
   ]
  },
  {
   "cell_type": "code",
   "execution_count": 84,
   "id": "83c32d73-30e5-41b8-9888-641a2c7a54b1",
   "metadata": {},
   "outputs": [],
   "source": [
    "year['demidecade'] = year['year'].apply(lambda x: f\"{x // 10 * 10} - {(x // 10 * 10) + 9}\")"
   ]
  },
  {
   "cell_type": "code",
   "execution_count": 85,
   "id": "af26393c-5ddc-479d-b6a5-3496076a7b1e",
   "metadata": {},
   "outputs": [],
   "source": [
    "year.columns = [\"year\",\"decade\"]"
   ]
  },
  {
   "cell_type": "code",
   "execution_count": 86,
   "id": "7ccc44fd-c1c4-4a0a-9421-7b167d1e9130",
   "metadata": {},
   "outputs": [],
   "source": [
    "olympictype = hosts_df.set_index('year')['season'].to_dict()"
   ]
  },
  {
   "cell_type": "code",
   "execution_count": 87,
   "id": "687c0a06-d1f4-4df8-bf03-4873fd1a1cce",
   "metadata": {},
   "outputs": [],
   "source": [
    "year['season'] = year['year'].map(olympictype) #Add season and column to the olympic years table\""
   ]
  },
  {
   "cell_type": "code",
   "execution_count": 88,
   "id": "30296f60-0021-447f-a64f-a3fac6f2ad0a",
   "metadata": {},
   "outputs": [],
   "source": [
    "cursor.execute(\"CREATE TABLE dimtime (year INT PRIMARY KEY, decade VARCHAR(255), season VARCHAR(255));\")"
   ]
  },
  {
   "cell_type": "code",
   "execution_count": 89,
   "id": "f556ea8a-bcd0-4ecd-a673-f9f3f3b14db1",
   "metadata": {},
   "outputs": [],
   "source": [
    "connection.commit()"
   ]
  },
  {
   "cell_type": "code",
   "execution_count": 90,
   "id": "1aa0c596-54a8-40f4-9def-698ba074120c",
   "metadata": {},
   "outputs": [
    {
     "data": {
      "text/plain": [
       "37"
      ]
     },
     "execution_count": 90,
     "metadata": {},
     "output_type": "execute_result"
    }
   ],
   "source": [
    "year.to_sql(\"dimtime\",con=engine,if_exists=\"append\",index=False)"
   ]
  },
  {
   "cell_type": "code",
   "execution_count": 91,
   "id": "8f002f7e-baea-4ae2-9088-a888746099c0",
   "metadata": {},
   "outputs": [],
   "source": [
    "lifeexp_df['lifeexpectancy'] = pd.qcut(lifeexp_df['lifeexpectancy'], 3, labels=['Low','Medium', 'High']) #Categorize the lifexepectancy according to deviation"
   ]
  },
  {
   "cell_type": "code",
   "execution_count": 124,
   "id": "5f839992-1f3b-4804-b34c-d76ceb75b66e",
   "metadata": {},
   "outputs": [],
   "source": [
    "exp_dim = pd.merge(all_years_countries,lifeexp_df, on=['year', 'country'], how='inner') #Merge tables"
   ]
  },
  {
   "cell_type": "code",
   "execution_count": 126,
   "id": "f08c8bde-9873-4dfe-9545-bbb95333ca68",
   "metadata": {},
   "outputs": [],
   "source": [
    "exp_dim = pd.merge(exp_dim,population_df, on=['year', 'country'], how='inner')"
   ]
  },
  {
   "cell_type": "code",
   "execution_count": 128,
   "id": "5b0c423d-ae0b-4c21-99bf-4e7029d3195c",
   "metadata": {},
   "outputs": [],
   "source": [
    "exp_dim = exp_dim.drop(columns = ['code'])"
   ]
  },
  {
   "cell_type": "code",
   "execution_count": 131,
   "id": "61def9f1-8612-4b07-9cce-e49336237f46",
   "metadata": {},
   "outputs": [],
   "source": [
    "exp_dim['population'] = pd.to_numeric(exp_dim['population'])"
   ]
  },
  {
   "cell_type": "code",
   "execution_count": 133,
   "id": "d555286f-b7b2-4750-b4cc-d322783c7476",
   "metadata": {},
   "outputs": [],
   "source": [
    "exp_dim['population'] = pd.qcut(exp_dim['population'], 3, labels=['Low','Medium', 'High'])"
   ]
  },
  {
   "cell_type": "code",
   "execution_count": 135,
   "id": "3620aaa3-3b08-42ee-9f60-e3952916feac",
   "metadata": {},
   "outputs": [],
   "source": [
    "cursor.execute(\"CREATE TABLE dimlife (year INT, country VARCHAR(255), lifeexpectancy VARCHAR(255),population VARCHAR (255), PRIMARY KEY (year,country) );\")"
   ]
  },
  {
   "cell_type": "code",
   "execution_count": 136,
   "id": "40612435-31d1-460a-a6a1-248bc2553962",
   "metadata": {},
   "outputs": [],
   "source": [
    "connection.commit()"
   ]
  },
  {
   "cell_type": "code",
   "execution_count": 137,
   "id": "1566fd1c-8035-4c4e-8830-e27e0e71176f",
   "metadata": {},
   "outputs": [
    {
     "data": {
      "text/plain": [
       "78"
      ]
     },
     "execution_count": 137,
     "metadata": {},
     "output_type": "execute_result"
    }
   ],
   "source": [
    "exp_dim.to_sql(\"dimlife\", con=engine, if_exists=\"append\", index=False)"
   ]
  },
  {
   "cell_type": "code",
   "execution_count": 101,
   "id": "9843f34c-771e-41fb-96a3-09eff2fbe1b8",
   "metadata": {},
   "outputs": [],
   "source": [
    "cursor.execute(\"ALTER TABLE FactOlympic ADD CONSTRAINT fk_fact_population FOREIGN KEY (year) REFERENCES dimtime(year);\")"
   ]
  },
  {
   "cell_type": "code",
   "execution_count": 102,
   "id": "5a0f5e63-ea76-48e1-a21d-cf2e2e61c9d5",
   "metadata": {},
   "outputs": [],
   "source": [
    "cursor.execute(\"ALTER TABLE factolympic ADD CONSTRAINT fk_fact_country FOREIGN KEY (country) REFERENCES dimcountries(country);\")"
   ]
  },
  {
   "cell_type": "code",
   "execution_count": 139,
   "id": "1b04f0a4-d81b-43e0-b8d7-a3a3a5e586c5",
   "metadata": {},
   "outputs": [
    {
     "data": {
      "text/html": [
       "<div>\n",
       "<style scoped>\n",
       "    .dataframe tbody tr th:only-of-type {\n",
       "        vertical-align: middle;\n",
       "    }\n",
       "\n",
       "    .dataframe tbody tr th {\n",
       "        vertical-align: top;\n",
       "    }\n",
       "\n",
       "    .dataframe thead th {\n",
       "        text-align: right;\n",
       "    }\n",
       "</style>\n",
       "<table border=\"1\" class=\"dataframe\">\n",
       "  <thead>\n",
       "    <tr style=\"text-align: right;\">\n",
       "      <th></th>\n",
       "      <th>year</th>\n",
       "      <th>country</th>\n",
       "      <th>lifeexpectancy</th>\n",
       "      <th>population</th>\n",
       "    </tr>\n",
       "  </thead>\n",
       "  <tbody>\n",
       "    <tr>\n",
       "      <th>0</th>\n",
       "      <td>2020</td>\n",
       "      <td>India</td>\n",
       "      <td>High</td>\n",
       "      <td>High</td>\n",
       "    </tr>\n",
       "    <tr>\n",
       "      <th>1</th>\n",
       "      <td>2020</td>\n",
       "      <td>United States</td>\n",
       "      <td>High</td>\n",
       "      <td>High</td>\n",
       "    </tr>\n",
       "    <tr>\n",
       "      <th>2</th>\n",
       "      <td>2020</td>\n",
       "      <td>Indonesia</td>\n",
       "      <td>Medium</td>\n",
       "      <td>High</td>\n",
       "    </tr>\n",
       "    <tr>\n",
       "      <th>3</th>\n",
       "      <td>2020</td>\n",
       "      <td>Pakistan</td>\n",
       "      <td>Medium</td>\n",
       "      <td>High</td>\n",
       "    </tr>\n",
       "    <tr>\n",
       "      <th>4</th>\n",
       "      <td>2020</td>\n",
       "      <td>Nigeria</td>\n",
       "      <td>Low</td>\n",
       "      <td>High</td>\n",
       "    </tr>\n",
       "    <tr>\n",
       "      <th>...</th>\n",
       "      <td>...</td>\n",
       "      <td>...</td>\n",
       "      <td>...</td>\n",
       "      <td>...</td>\n",
       "    </tr>\n",
       "    <tr>\n",
       "      <th>3073</th>\n",
       "      <td>1980</td>\n",
       "      <td>Marshall Islands</td>\n",
       "      <td>Medium</td>\n",
       "      <td>NaN</td>\n",
       "    </tr>\n",
       "    <tr>\n",
       "      <th>3074</th>\n",
       "      <td>1980</td>\n",
       "      <td>San Marino</td>\n",
       "      <td>High</td>\n",
       "      <td>NaN</td>\n",
       "    </tr>\n",
       "    <tr>\n",
       "      <th>3075</th>\n",
       "      <td>1980</td>\n",
       "      <td>Palau</td>\n",
       "      <td>Medium</td>\n",
       "      <td>NaN</td>\n",
       "    </tr>\n",
       "    <tr>\n",
       "      <th>3076</th>\n",
       "      <td>1980</td>\n",
       "      <td>Nauru</td>\n",
       "      <td>Medium</td>\n",
       "      <td>NaN</td>\n",
       "    </tr>\n",
       "    <tr>\n",
       "      <th>3077</th>\n",
       "      <td>1980</td>\n",
       "      <td>Tuvalu</td>\n",
       "      <td>Medium</td>\n",
       "      <td>NaN</td>\n",
       "    </tr>\n",
       "  </tbody>\n",
       "</table>\n",
       "<p>3078 rows × 4 columns</p>\n",
       "</div>"
      ],
      "text/plain": [
       "      year           country lifeexpectancy population\n",
       "0     2020             India           High       High\n",
       "1     2020     United States           High       High\n",
       "2     2020         Indonesia         Medium       High\n",
       "3     2020          Pakistan         Medium       High\n",
       "4     2020           Nigeria            Low       High\n",
       "...    ...               ...            ...        ...\n",
       "3073  1980  Marshall Islands         Medium        NaN\n",
       "3074  1980        San Marino           High        NaN\n",
       "3075  1980             Palau         Medium        NaN\n",
       "3076  1980             Nauru         Medium        NaN\n",
       "3077  1980            Tuvalu         Medium        NaN\n",
       "\n",
       "[3078 rows x 4 columns]"
      ]
     },
     "execution_count": 139,
     "metadata": {},
     "output_type": "execute_result"
    }
   ],
   "source": [
    "exp_dim"
   ]
  }
 ],
 "metadata": {
  "kernelspec": {
   "display_name": "Python 3 (ipykernel)",
   "language": "python",
   "name": "python3"
  },
  "language_info": {
   "codemirror_mode": {
    "name": "ipython",
    "version": 3
   },
   "file_extension": ".py",
   "mimetype": "text/x-python",
   "name": "python",
   "nbconvert_exporter": "python",
   "pygments_lexer": "ipython3",
   "version": "3.10.12"
  }
 },
 "nbformat": 4,
 "nbformat_minor": 5
}
